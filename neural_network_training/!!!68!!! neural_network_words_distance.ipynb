{
  "nbformat": 4,
  "nbformat_minor": 0,
  "metadata": {
    "colab": {
      "name": "!!!65%!!!   words_distance.ipynb",
      "provenance": [],
      "collapsed_sections": []
    },
    "kernelspec": {
      "name": "python3",
      "display_name": "Python 3"
    },
    "accelerator": "GPU"
  },
  "cells": [
    {
      "cell_type": "code",
      "metadata": {
        "id": "ut9la1_umJnt",
        "colab_type": "code",
        "outputId": "a019a901-bb0f-46e6-9d10-9a624929053d",
        "colab": {
          "base_uri": "https://localhost:8080/",
          "height": 100
        }
      },
      "source": [
        "from __future__ import absolute_import, division, print_function, unicode_literals\n",
        "\n",
        "# TensorFlow и tf.keras\n",
        "import tensorflow as tf\n",
        "import torch\n",
        "from tensorflow import keras\n",
        "#import keras\n",
        "# Вспомогательные библиотеки\n",
        "import numpy as np\n",
        "import matplotlib.pyplot as plt\n",
        "import pandas as pd\n",
        "import cv2\n",
        "\n",
        "from keras.models import Model\n",
        "from keras.layers import Input, Dense, Concatenate, Flatten, BatchNormalization\n",
        "from keras.layers import Dense, GlobalAveragePooling2D, Dropout, UpSampling2D, Conv2D, MaxPooling2D, Activation\n",
        "\n",
        "print(tf.__version__)"
      ],
      "execution_count": 1,
      "outputs": [
        {
          "output_type": "display_data",
          "data": {
            "text/html": [
              "<p style=\"color: red;\">\n",
              "The default version of TensorFlow in Colab will soon switch to TensorFlow 2.x.<br>\n",
              "We recommend you <a href=\"https://www.tensorflow.org/guide/migrate\" target=\"_blank\">upgrade</a> now \n",
              "or ensure your notebook will continue to use TensorFlow 1.x via the <code>%tensorflow_version 1.x</code> magic:\n",
              "<a href=\"https://colab.research.google.com/notebooks/tensorflow_version.ipynb\" target=\"_blank\">more info</a>.</p>\n"
            ],
            "text/plain": [
              "<IPython.core.display.HTML object>"
            ]
          },
          "metadata": {
            "tags": []
          }
        },
        {
          "output_type": "stream",
          "text": [
            "1.15.0\n"
          ],
          "name": "stdout"
        },
        {
          "output_type": "stream",
          "text": [
            "Using TensorFlow backend.\n"
          ],
          "name": "stderr"
        }
      ]
    },
    {
      "cell_type": "code",
      "metadata": {
        "id": "8a_eg6H5qI5M",
        "colab_type": "code",
        "outputId": "7dab2749-9b83-435c-dc85-02e168b5a0de",
        "colab": {
          "base_uri": "https://localhost:8080/",
          "height": 1000
        }
      },
      "source": [
        "!unzip train_words_distance.zip #images"
      ],
      "execution_count": 2,
      "outputs": [
        {
          "output_type": "stream",
          "text": [
            "Archive:  train_words_distance.zip\n",
            "  inflating: train_words_distance/1.jpg  \n",
            "  inflating: train_words_distance/10.jpg  \n",
            "  inflating: train_words_distance/100.jpg  \n",
            "  inflating: train_words_distance/101.jpg  \n",
            "  inflating: train_words_distance/102.jpg  \n",
            "  inflating: train_words_distance/103.jpg  \n",
            "  inflating: train_words_distance/104.jpg  \n",
            "  inflating: train_words_distance/105.jpg  \n",
            "  inflating: train_words_distance/106.jpg  \n",
            "  inflating: train_words_distance/107.jpg  \n",
            "  inflating: train_words_distance/108.jpg  \n",
            "  inflating: train_words_distance/109.jpg  \n",
            "  inflating: train_words_distance/11.jpg  \n",
            "  inflating: train_words_distance/110.jpg  \n",
            "  inflating: train_words_distance/111.jpg  \n",
            "  inflating: train_words_distance/112.jpg  \n",
            "  inflating: train_words_distance/113.jpg  \n",
            "  inflating: train_words_distance/114.jpg  \n",
            "  inflating: train_words_distance/115.jpg  \n",
            "  inflating: train_words_distance/116.jpg  \n",
            "  inflating: train_words_distance/117.jpg  \n",
            "  inflating: train_words_distance/118.jpg  \n",
            "  inflating: train_words_distance/119.jpg  \n",
            "  inflating: train_words_distance/12.jpg  \n",
            "  inflating: train_words_distance/120.jpg  \n",
            "  inflating: train_words_distance/121.jpg  \n",
            "  inflating: train_words_distance/122.jpg  \n",
            "  inflating: train_words_distance/123.jpg  \n",
            "  inflating: train_words_distance/124.jpg  \n",
            "  inflating: train_words_distance/125.jpg  \n",
            "  inflating: train_words_distance/126.jpg  \n",
            "  inflating: train_words_distance/127.jpg  \n",
            "  inflating: train_words_distance/128.jpg  \n",
            "  inflating: train_words_distance/129.jpg  \n",
            "  inflating: train_words_distance/13.jpg  \n",
            "  inflating: train_words_distance/130.jpg  \n",
            "  inflating: train_words_distance/131.jpg  \n",
            "  inflating: train_words_distance/132.jpg  \n",
            "  inflating: train_words_distance/133.jpg  \n",
            "  inflating: train_words_distance/134.jpg  \n",
            "  inflating: train_words_distance/135.jpg  \n",
            "  inflating: train_words_distance/136.jpg  \n",
            "  inflating: train_words_distance/137.jpg  \n",
            "  inflating: train_words_distance/138.jpg  \n",
            "  inflating: train_words_distance/139.jpg  \n",
            "  inflating: train_words_distance/14.jpg  \n",
            "  inflating: train_words_distance/140.jpg  \n",
            "  inflating: train_words_distance/141.jpg  \n",
            "  inflating: train_words_distance/142.jpg  \n",
            "  inflating: train_words_distance/143.jpg  \n",
            "  inflating: train_words_distance/144.jpg  \n",
            "  inflating: train_words_distance/145.jpg  \n",
            "  inflating: train_words_distance/146.jpg  \n",
            "  inflating: train_words_distance/147.jpg  \n",
            "  inflating: train_words_distance/148.jpg  \n",
            "  inflating: train_words_distance/149.jpg  \n",
            "  inflating: train_words_distance/15.jpg  \n",
            "  inflating: train_words_distance/150.jpg  \n",
            "  inflating: train_words_distance/151.jpg  \n",
            "  inflating: train_words_distance/152.jpg  \n",
            "  inflating: train_words_distance/153.jpg  \n",
            "  inflating: train_words_distance/154.jpg  \n",
            "  inflating: train_words_distance/155.jpg  \n",
            "  inflating: train_words_distance/156.jpg  \n",
            "  inflating: train_words_distance/157.jpg  \n",
            "  inflating: train_words_distance/158.jpg  \n",
            "  inflating: train_words_distance/159.jpg  \n",
            "  inflating: train_words_distance/16.jpg  \n",
            "  inflating: train_words_distance/160.jpg  \n",
            "  inflating: train_words_distance/161.jpg  \n",
            "  inflating: train_words_distance/162.jpg  \n",
            "  inflating: train_words_distance/163.jpg  \n",
            "  inflating: train_words_distance/164.jpg  \n",
            "  inflating: train_words_distance/165.jpg  \n",
            "  inflating: train_words_distance/166.jpg  \n",
            "  inflating: train_words_distance/167.jpg  \n",
            "  inflating: train_words_distance/168.jpg  \n",
            "  inflating: train_words_distance/169.jpg  \n",
            "  inflating: train_words_distance/17.jpg  \n",
            "  inflating: train_words_distance/170.jpg  \n",
            "  inflating: train_words_distance/171.jpg  \n",
            "  inflating: train_words_distance/172.jpg  \n",
            "  inflating: train_words_distance/173.jpg  \n",
            "  inflating: train_words_distance/174.jpg  \n",
            "  inflating: train_words_distance/175.jpg  \n",
            "  inflating: train_words_distance/176.jpg  \n",
            "  inflating: train_words_distance/177.jpg  \n",
            "  inflating: train_words_distance/178.jpg  \n",
            "  inflating: train_words_distance/179.jpg  \n",
            "  inflating: train_words_distance/18.jpg  \n",
            "  inflating: train_words_distance/180.jpg  \n",
            "  inflating: train_words_distance/181.jpg  \n",
            "  inflating: train_words_distance/182.jpg  \n",
            "  inflating: train_words_distance/183.jpg  \n",
            "  inflating: train_words_distance/184.jpg  \n",
            "  inflating: train_words_distance/185.jpg  \n",
            "  inflating: train_words_distance/186.jpg  \n",
            "  inflating: train_words_distance/187.jpg  \n",
            "  inflating: train_words_distance/188.jpg  \n",
            "  inflating: train_words_distance/189.jpg  \n",
            "  inflating: train_words_distance/19.jpg  \n",
            "  inflating: train_words_distance/190.jpg  \n",
            "  inflating: train_words_distance/191.jpg  \n",
            "  inflating: train_words_distance/192.jpg  \n",
            "  inflating: train_words_distance/193.jpg  \n",
            "  inflating: train_words_distance/194.jpg  \n",
            "  inflating: train_words_distance/195.jpg  \n",
            "  inflating: train_words_distance/196.jpg  \n",
            "  inflating: train_words_distance/197.jpg  \n",
            "  inflating: train_words_distance/198.jpg  \n",
            "  inflating: train_words_distance/199.jpg  \n",
            "  inflating: train_words_distance/2.jpg  \n",
            "  inflating: train_words_distance/20.jpg  \n",
            "  inflating: train_words_distance/200.jpg  \n",
            "  inflating: train_words_distance/201.jpg  \n",
            "  inflating: train_words_distance/202.jpg  \n",
            "  inflating: train_words_distance/203.jpg  \n",
            "  inflating: train_words_distance/204.jpg  \n",
            "  inflating: train_words_distance/205.jpg  \n",
            "  inflating: train_words_distance/206.jpg  \n",
            "  inflating: train_words_distance/207.jpg  \n",
            "  inflating: train_words_distance/208.jpg  \n",
            "  inflating: train_words_distance/209.jpg  \n",
            "  inflating: train_words_distance/21.jpg  \n",
            "  inflating: train_words_distance/210.jpg  \n",
            "  inflating: train_words_distance/211.jpg  \n",
            "  inflating: train_words_distance/212.jpg  \n",
            "  inflating: train_words_distance/213.jpg  \n",
            "  inflating: train_words_distance/214.jpg  \n",
            "  inflating: train_words_distance/215.jpg  \n",
            "  inflating: train_words_distance/216.jpg  \n",
            "  inflating: train_words_distance/217.jpg  \n",
            "  inflating: train_words_distance/218.jpg  \n",
            "  inflating: train_words_distance/219.jpg  \n",
            "  inflating: train_words_distance/22.jpg  \n",
            "  inflating: train_words_distance/220.jpg  \n",
            "  inflating: train_words_distance/221.jpg  \n",
            "  inflating: train_words_distance/222.jpg  \n",
            "  inflating: train_words_distance/223.jpg  \n",
            "  inflating: train_words_distance/224.jpg  \n",
            "  inflating: train_words_distance/225.jpg  \n",
            "  inflating: train_words_distance/226.jpg  \n",
            "  inflating: train_words_distance/227.jpg  \n",
            "  inflating: train_words_distance/228.jpg  \n",
            "  inflating: train_words_distance/229.jpg  \n",
            "  inflating: train_words_distance/23.jpg  \n",
            "  inflating: train_words_distance/230.jpg  \n",
            "  inflating: train_words_distance/231.jpg  \n",
            "  inflating: train_words_distance/232.jpg  \n",
            "  inflating: train_words_distance/233.jpg  \n",
            "  inflating: train_words_distance/234.jpg  \n",
            "  inflating: train_words_distance/235.jpg  \n",
            "  inflating: train_words_distance/236.jpg  \n",
            "  inflating: train_words_distance/237.jpg  \n",
            "  inflating: train_words_distance/238.jpg  \n",
            "  inflating: train_words_distance/239.jpg  \n",
            "  inflating: train_words_distance/24.jpg  \n",
            "  inflating: train_words_distance/240.jpg  \n",
            "  inflating: train_words_distance/241.jpg  \n",
            "  inflating: train_words_distance/242.jpg  \n",
            "  inflating: train_words_distance/243.jpg  \n",
            "  inflating: train_words_distance/244.jpg  \n",
            "  inflating: train_words_distance/245.jpg  \n",
            "  inflating: train_words_distance/246.jpg  \n",
            "  inflating: train_words_distance/247.jpg  \n",
            "  inflating: train_words_distance/248.jpg  \n",
            "  inflating: train_words_distance/249.jpg  \n",
            "  inflating: train_words_distance/25.jpg  \n",
            "  inflating: train_words_distance/250.jpg  \n",
            "  inflating: train_words_distance/251.jpg  \n",
            "  inflating: train_words_distance/252.jpg  \n",
            "  inflating: train_words_distance/253.jpg  \n",
            "  inflating: train_words_distance/254.jpg  \n",
            "  inflating: train_words_distance/255.jpg  \n",
            "  inflating: train_words_distance/256.jpg  \n",
            "  inflating: train_words_distance/257.jpg  \n",
            "  inflating: train_words_distance/258.jpg  \n",
            "  inflating: train_words_distance/259.jpg  \n",
            "  inflating: train_words_distance/26.jpg  \n",
            "  inflating: train_words_distance/260.jpg  \n",
            "  inflating: train_words_distance/261.jpg  \n",
            "  inflating: train_words_distance/262.jpg  \n",
            "  inflating: train_words_distance/263.jpg  \n",
            "  inflating: train_words_distance/264.jpg  \n",
            "  inflating: train_words_distance/265.jpg  \n",
            "  inflating: train_words_distance/266.jpg  \n",
            "  inflating: train_words_distance/267.jpg  \n",
            "  inflating: train_words_distance/268.jpg  \n",
            "  inflating: train_words_distance/269.jpg  \n",
            "  inflating: train_words_distance/27.jpg  \n",
            "  inflating: train_words_distance/270.jpg  \n",
            "  inflating: train_words_distance/271.jpg  \n",
            "  inflating: train_words_distance/272.jpg  \n",
            "  inflating: train_words_distance/273.jpg  \n",
            "  inflating: train_words_distance/274.jpg  \n",
            "  inflating: train_words_distance/275.jpg  \n",
            "  inflating: train_words_distance/276.jpg  \n",
            "  inflating: train_words_distance/277.jpg  \n",
            "  inflating: train_words_distance/278.jpg  \n",
            "  inflating: train_words_distance/279.jpg  \n",
            "  inflating: train_words_distance/28.jpg  \n",
            "  inflating: train_words_distance/280.jpg  \n",
            "  inflating: train_words_distance/281.jpg  \n",
            "  inflating: train_words_distance/282.jpg  \n",
            "  inflating: train_words_distance/283.jpg  \n",
            "  inflating: train_words_distance/284.jpg  \n",
            "  inflating: train_words_distance/285.jpg  \n",
            "  inflating: train_words_distance/286.jpg  \n",
            "  inflating: train_words_distance/287.jpg  \n",
            "  inflating: train_words_distance/288.jpg  \n",
            "  inflating: train_words_distance/289.jpg  \n",
            "  inflating: train_words_distance/29.jpg  \n",
            "  inflating: train_words_distance/290.jpg  \n",
            "  inflating: train_words_distance/291.jpg  \n",
            "  inflating: train_words_distance/292.jpg  \n",
            "  inflating: train_words_distance/293.jpg  \n",
            "  inflating: train_words_distance/294.jpg  \n",
            "  inflating: train_words_distance/295.jpg  \n",
            "  inflating: train_words_distance/296.jpg  \n",
            "  inflating: train_words_distance/297.jpg  \n",
            "  inflating: train_words_distance/298.jpg  \n",
            "  inflating: train_words_distance/299.jpg  \n",
            "  inflating: train_words_distance/3.jpg  \n",
            "  inflating: train_words_distance/30.jpg  \n",
            "  inflating: train_words_distance/300.jpg  \n",
            "  inflating: train_words_distance/301.jpg  \n",
            "  inflating: train_words_distance/302.jpg  \n",
            "  inflating: train_words_distance/303.jpg  \n",
            "  inflating: train_words_distance/304.jpg  \n",
            "  inflating: train_words_distance/305.jpg  \n",
            "  inflating: train_words_distance/306.jpg  \n",
            "  inflating: train_words_distance/307.jpg  \n",
            "  inflating: train_words_distance/308.jpg  \n",
            "  inflating: train_words_distance/309.jpg  \n",
            "  inflating: train_words_distance/31.jpg  \n",
            "  inflating: train_words_distance/310.jpg  \n",
            "  inflating: train_words_distance/311.jpg  \n",
            "  inflating: train_words_distance/312.jpg  \n",
            "  inflating: train_words_distance/313.jpg  \n",
            "  inflating: train_words_distance/314.jpg  \n",
            "  inflating: train_words_distance/315.jpg  \n",
            "  inflating: train_words_distance/316.jpg  \n",
            "  inflating: train_words_distance/317.jpg  \n",
            "  inflating: train_words_distance/318.jpg  \n",
            "  inflating: train_words_distance/319.jpg  \n",
            "  inflating: train_words_distance/32.jpg  \n",
            "  inflating: train_words_distance/320.jpg  \n",
            "  inflating: train_words_distance/321.jpg  \n",
            "  inflating: train_words_distance/322.jpg  \n",
            "  inflating: train_words_distance/323.jpg  \n",
            "  inflating: train_words_distance/324.jpg  \n",
            "  inflating: train_words_distance/325.jpg  \n",
            "  inflating: train_words_distance/326.jpg  \n",
            "  inflating: train_words_distance/327.jpg  \n",
            "  inflating: train_words_distance/328.jpg  \n",
            "  inflating: train_words_distance/329.jpg  \n",
            "  inflating: train_words_distance/33.jpg  \n",
            "  inflating: train_words_distance/330.jpg  \n",
            "  inflating: train_words_distance/331.jpg  \n",
            "  inflating: train_words_distance/332.jpg  \n",
            "  inflating: train_words_distance/333.jpg  \n",
            "  inflating: train_words_distance/334.jpg  \n",
            "  inflating: train_words_distance/335.jpg  \n",
            "  inflating: train_words_distance/336.jpg  \n",
            "  inflating: train_words_distance/337.jpg  \n",
            "  inflating: train_words_distance/338.jpg  \n",
            "  inflating: train_words_distance/339.jpg  \n",
            "  inflating: train_words_distance/34.jpg  \n",
            "  inflating: train_words_distance/340.jpg  \n",
            "  inflating: train_words_distance/341.jpg  \n",
            "  inflating: train_words_distance/342.jpg  \n",
            "  inflating: train_words_distance/343.jpg  \n",
            "  inflating: train_words_distance/344.jpg  \n",
            "  inflating: train_words_distance/345.jpg  \n",
            "  inflating: train_words_distance/346.jpg  \n",
            "  inflating: train_words_distance/347.jpg  \n",
            "  inflating: train_words_distance/348.jpg  \n",
            "  inflating: train_words_distance/349.jpg  \n",
            "  inflating: train_words_distance/35.jpg  \n",
            "  inflating: train_words_distance/350.jpg  \n",
            "  inflating: train_words_distance/351.jpg  \n",
            "  inflating: train_words_distance/352.jpg  \n",
            "  inflating: train_words_distance/353.jpg  \n",
            "  inflating: train_words_distance/354.jpg  \n",
            "  inflating: train_words_distance/355.jpg  \n",
            "  inflating: train_words_distance/356.jpg  \n",
            "  inflating: train_words_distance/357.jpg  \n",
            "  inflating: train_words_distance/358.jpg  \n",
            "  inflating: train_words_distance/359.jpg  \n",
            "  inflating: train_words_distance/36.jpg  \n",
            "  inflating: train_words_distance/360.jpg  \n",
            "  inflating: train_words_distance/361.jpg  \n",
            "  inflating: train_words_distance/362.jpg  \n",
            "  inflating: train_words_distance/363.jpg  \n",
            "  inflating: train_words_distance/364.jpg  \n",
            "  inflating: train_words_distance/365.jpg  \n",
            "  inflating: train_words_distance/366.jpg  \n",
            "  inflating: train_words_distance/367.jpg  \n",
            "  inflating: train_words_distance/368.jpg  \n",
            "  inflating: train_words_distance/369.jpg  \n",
            "  inflating: train_words_distance/37.jpg  \n",
            "  inflating: train_words_distance/370.jpg  \n",
            "  inflating: train_words_distance/371.jpg  \n",
            "  inflating: train_words_distance/372.jpg  \n",
            "  inflating: train_words_distance/373.jpg  \n",
            "  inflating: train_words_distance/374.jpg  \n",
            "  inflating: train_words_distance/375.jpg  \n",
            "  inflating: train_words_distance/376.jpg  \n",
            "  inflating: train_words_distance/377.jpg  \n",
            "  inflating: train_words_distance/378.jpg  \n",
            "  inflating: train_words_distance/379.jpg  \n",
            "  inflating: train_words_distance/38.jpg  \n",
            "  inflating: train_words_distance/380.jpg  \n",
            "  inflating: train_words_distance/381.jpg  \n",
            "  inflating: train_words_distance/382.jpg  \n",
            "  inflating: train_words_distance/383.jpg  \n",
            "  inflating: train_words_distance/384.jpg  \n",
            "  inflating: train_words_distance/385.jpg  \n",
            "  inflating: train_words_distance/386.jpg  \n",
            "  inflating: train_words_distance/387.jpg  \n",
            "  inflating: train_words_distance/388.jpg  \n",
            "  inflating: train_words_distance/389.jpg  \n",
            "  inflating: train_words_distance/39.jpg  \n",
            "  inflating: train_words_distance/390.jpg  \n",
            "  inflating: train_words_distance/391.jpg  \n",
            "  inflating: train_words_distance/392.jpg  \n",
            "  inflating: train_words_distance/393.jpg  \n",
            "  inflating: train_words_distance/394.jpg  \n",
            "  inflating: train_words_distance/395.jpg  \n",
            "  inflating: train_words_distance/396.jpg  \n",
            "  inflating: train_words_distance/397.jpg  \n",
            "  inflating: train_words_distance/398.jpg  \n",
            "  inflating: train_words_distance/399.jpg  \n",
            "  inflating: train_words_distance/4.jpg  \n",
            "  inflating: train_words_distance/40.jpg  \n",
            "  inflating: train_words_distance/400.jpg  \n",
            "  inflating: train_words_distance/401.jpg  \n",
            "  inflating: train_words_distance/402.jpg  \n",
            "  inflating: train_words_distance/403.jpg  \n",
            "  inflating: train_words_distance/404.jpg  \n",
            "  inflating: train_words_distance/405.jpg  \n",
            "  inflating: train_words_distance/406.jpg  \n",
            "  inflating: train_words_distance/407.jpg  \n",
            "  inflating: train_words_distance/408.jpg  \n",
            "  inflating: train_words_distance/409.jpg  \n",
            "  inflating: train_words_distance/41.jpg  \n",
            "  inflating: train_words_distance/410.jpg  \n",
            "  inflating: train_words_distance/411.jpg  \n",
            "  inflating: train_words_distance/412.jpg  \n",
            "  inflating: train_words_distance/413.jpg  \n",
            "  inflating: train_words_distance/414.jpg  \n",
            "  inflating: train_words_distance/415.jpg  \n",
            "  inflating: train_words_distance/416.jpg  \n",
            "  inflating: train_words_distance/417.jpg  \n",
            "  inflating: train_words_distance/418.jpg  \n",
            "  inflating: train_words_distance/419.jpg  \n",
            "  inflating: train_words_distance/42.jpg  \n",
            "  inflating: train_words_distance/420.jpg  \n",
            "  inflating: train_words_distance/421.jpg  \n",
            "  inflating: train_words_distance/422.jpg  \n",
            "  inflating: train_words_distance/423.jpg  \n",
            "  inflating: train_words_distance/424.jpg  \n",
            "  inflating: train_words_distance/425.jpg  \n",
            "  inflating: train_words_distance/426.jpg  \n",
            "  inflating: train_words_distance/427.jpg  \n",
            "  inflating: train_words_distance/428.jpg  \n",
            "  inflating: train_words_distance/429.jpg  \n",
            "  inflating: train_words_distance/43.jpg  \n",
            "  inflating: train_words_distance/430.jpg  \n",
            "  inflating: train_words_distance/431.jpg  \n",
            "  inflating: train_words_distance/432.jpg  \n",
            "  inflating: train_words_distance/433.jpg  \n",
            "  inflating: train_words_distance/434.jpg  \n",
            "  inflating: train_words_distance/435.jpg  \n",
            "  inflating: train_words_distance/436.jpg  \n",
            "  inflating: train_words_distance/437.jpg  \n",
            "  inflating: train_words_distance/438.jpg  \n",
            "  inflating: train_words_distance/439.jpg  \n",
            "  inflating: train_words_distance/44.jpg  \n",
            "  inflating: train_words_distance/440.jpg  \n",
            "  inflating: train_words_distance/441.jpg  \n",
            "  inflating: train_words_distance/442.jpg  \n",
            "  inflating: train_words_distance/443.jpg  \n",
            "  inflating: train_words_distance/444.jpg  \n",
            "  inflating: train_words_distance/445.jpg  \n",
            "  inflating: train_words_distance/446.jpg  \n",
            "  inflating: train_words_distance/447.jpg  \n",
            "  inflating: train_words_distance/448.jpg  \n",
            "  inflating: train_words_distance/449.jpg  \n",
            "  inflating: train_words_distance/45.jpg  \n",
            "  inflating: train_words_distance/450.jpg  \n",
            "  inflating: train_words_distance/451.jpg  \n",
            "  inflating: train_words_distance/452.jpg  \n",
            "  inflating: train_words_distance/453.jpg  \n",
            "  inflating: train_words_distance/454.jpg  \n",
            "  inflating: train_words_distance/455.jpg  \n",
            "  inflating: train_words_distance/456.jpg  \n",
            "  inflating: train_words_distance/457.jpg  \n",
            "  inflating: train_words_distance/458.jpg  \n",
            "  inflating: train_words_distance/459.jpg  \n",
            "  inflating: train_words_distance/46.jpg  \n",
            "  inflating: train_words_distance/460.jpg  \n",
            "  inflating: train_words_distance/461.jpg  \n",
            "  inflating: train_words_distance/462.jpg  \n",
            "  inflating: train_words_distance/463.jpg  \n",
            "  inflating: train_words_distance/464.jpg  \n",
            "  inflating: train_words_distance/465.jpg  \n",
            "  inflating: train_words_distance/466.jpg  \n",
            "  inflating: train_words_distance/467.jpg  \n",
            "  inflating: train_words_distance/468.jpg  \n",
            "  inflating: train_words_distance/469.jpg  \n",
            "  inflating: train_words_distance/47.jpg  \n",
            "  inflating: train_words_distance/470.jpg  \n",
            "  inflating: train_words_distance/471.jpg  \n",
            "  inflating: train_words_distance/472.jpg  \n",
            "  inflating: train_words_distance/473.jpg  \n",
            "  inflating: train_words_distance/474.jpg  \n",
            "  inflating: train_words_distance/475.jpg  \n",
            "  inflating: train_words_distance/476.jpg  \n",
            "  inflating: train_words_distance/477.jpg  \n",
            "  inflating: train_words_distance/478.jpg  \n",
            "  inflating: train_words_distance/479.jpg  \n",
            "  inflating: train_words_distance/48.jpg  \n",
            "  inflating: train_words_distance/480.jpg  \n",
            "  inflating: train_words_distance/481.jpg  \n",
            "  inflating: train_words_distance/482.jpg  \n",
            "  inflating: train_words_distance/483.jpg  \n",
            "  inflating: train_words_distance/484.jpg  \n",
            "  inflating: train_words_distance/485.jpg  \n",
            "  inflating: train_words_distance/486.jpg  \n",
            "  inflating: train_words_distance/487.jpg  \n",
            "  inflating: train_words_distance/488.jpg  \n",
            "  inflating: train_words_distance/489.jpg  \n",
            "  inflating: train_words_distance/49.jpg  \n",
            "  inflating: train_words_distance/490.jpg  \n",
            "  inflating: train_words_distance/491.jpg  \n",
            "  inflating: train_words_distance/492.jpg  \n",
            "  inflating: train_words_distance/493.jpg  \n",
            "  inflating: train_words_distance/494.jpg  \n",
            "  inflating: train_words_distance/495.jpg  \n",
            "  inflating: train_words_distance/496.jpg  \n",
            "  inflating: train_words_distance/497.jpg  \n",
            "  inflating: train_words_distance/498.jpg  \n",
            "  inflating: train_words_distance/499.jpg  \n",
            "  inflating: train_words_distance/5.jpg  \n",
            "  inflating: train_words_distance/50.jpg  \n",
            "  inflating: train_words_distance/500.jpg  \n",
            "  inflating: train_words_distance/501.jpg  \n",
            "  inflating: train_words_distance/502.jpg  \n",
            "  inflating: train_words_distance/503.jpg  \n",
            "  inflating: train_words_distance/504.jpg  \n",
            "  inflating: train_words_distance/505.jpg  \n",
            "  inflating: train_words_distance/506.jpg  \n",
            "  inflating: train_words_distance/507.jpg  \n",
            "  inflating: train_words_distance/508.jpg  \n",
            "  inflating: train_words_distance/509.jpg  \n",
            "  inflating: train_words_distance/51.jpg  \n",
            "  inflating: train_words_distance/510.jpg  \n",
            "  inflating: train_words_distance/511.jpg  \n",
            "  inflating: train_words_distance/512.jpg  \n",
            "  inflating: train_words_distance/513.jpg  \n",
            "  inflating: train_words_distance/514.jpg  \n",
            "  inflating: train_words_distance/515.jpg  \n",
            "  inflating: train_words_distance/516.jpg  \n",
            "  inflating: train_words_distance/517.jpg  \n",
            "  inflating: train_words_distance/518.jpg  \n",
            "  inflating: train_words_distance/519.jpg  \n",
            "  inflating: train_words_distance/52.jpg  \n",
            "  inflating: train_words_distance/520.jpg  \n",
            "  inflating: train_words_distance/521.jpg  \n",
            "  inflating: train_words_distance/522.jpg  \n",
            "  inflating: train_words_distance/523.jpg  \n",
            "  inflating: train_words_distance/524.jpg  \n",
            "  inflating: train_words_distance/525.jpg  \n",
            "  inflating: train_words_distance/526.jpg  \n",
            "  inflating: train_words_distance/527.jpg  \n",
            "  inflating: train_words_distance/528.jpg  \n",
            "  inflating: train_words_distance/529.jpg  \n",
            "  inflating: train_words_distance/53.jpg  \n",
            "  inflating: train_words_distance/530.jpg  \n",
            "  inflating: train_words_distance/531.jpg  \n",
            "  inflating: train_words_distance/532.jpg  \n",
            "  inflating: train_words_distance/533.jpg  \n",
            "  inflating: train_words_distance/534.jpg  \n",
            "  inflating: train_words_distance/535.jpg  \n",
            "  inflating: train_words_distance/536.jpg  \n",
            "  inflating: train_words_distance/537.jpg  \n",
            "  inflating: train_words_distance/538.jpg  \n",
            "  inflating: train_words_distance/539.jpg  \n",
            "  inflating: train_words_distance/54.jpg  \n",
            "  inflating: train_words_distance/540.jpg  \n",
            "  inflating: train_words_distance/541.jpg  \n",
            "  inflating: train_words_distance/542.jpg  \n",
            "  inflating: train_words_distance/543.jpg  \n",
            "  inflating: train_words_distance/544.jpg  \n",
            "  inflating: train_words_distance/545.jpg  \n",
            "  inflating: train_words_distance/546.jpg  \n",
            "  inflating: train_words_distance/547.jpg  \n",
            "  inflating: train_words_distance/548.jpg  \n",
            "  inflating: train_words_distance/549.jpg  \n",
            "  inflating: train_words_distance/55.jpg  \n",
            "  inflating: train_words_distance/550.jpg  \n",
            "  inflating: train_words_distance/551.jpg  \n",
            "  inflating: train_words_distance/552.jpg  \n",
            "  inflating: train_words_distance/553.jpg  \n",
            "  inflating: train_words_distance/554.jpg  \n",
            "  inflating: train_words_distance/555.jpg  \n",
            "  inflating: train_words_distance/556.jpg  \n",
            "  inflating: train_words_distance/557.jpg  \n",
            "  inflating: train_words_distance/558.jpg  \n",
            "  inflating: train_words_distance/559.jpg  \n",
            "  inflating: train_words_distance/56.jpg  \n",
            "  inflating: train_words_distance/560.jpg  \n",
            "  inflating: train_words_distance/561.jpg  \n",
            "  inflating: train_words_distance/562.jpg  \n",
            "  inflating: train_words_distance/563.jpg  \n",
            "  inflating: train_words_distance/564.jpg  \n",
            "  inflating: train_words_distance/565.jpg  \n",
            "  inflating: train_words_distance/566.jpg  \n",
            "  inflating: train_words_distance/567.jpg  \n",
            "  inflating: train_words_distance/568.jpg  \n",
            "  inflating: train_words_distance/569.jpg  \n",
            "  inflating: train_words_distance/57.jpg  \n",
            "  inflating: train_words_distance/570.jpg  \n",
            "  inflating: train_words_distance/571.jpg  \n",
            "  inflating: train_words_distance/572.jpg  \n",
            "  inflating: train_words_distance/573.jpg  \n",
            "  inflating: train_words_distance/574.jpg  \n",
            "  inflating: train_words_distance/575.jpg  \n",
            "  inflating: train_words_distance/576.jpg  \n",
            "  inflating: train_words_distance/577.jpg  \n",
            "  inflating: train_words_distance/578.jpg  \n",
            "  inflating: train_words_distance/579.jpg  \n",
            "  inflating: train_words_distance/58.jpg  \n",
            "  inflating: train_words_distance/580.jpg  \n",
            "  inflating: train_words_distance/581.jpg  \n",
            "  inflating: train_words_distance/582.jpg  \n",
            "  inflating: train_words_distance/583.jpg  \n",
            "  inflating: train_words_distance/584.jpg  \n",
            "  inflating: train_words_distance/585.jpg  \n",
            "  inflating: train_words_distance/586.jpg  \n",
            "  inflating: train_words_distance/587.jpg  \n",
            "  inflating: train_words_distance/588.jpg  \n",
            "  inflating: train_words_distance/589.jpg  \n",
            "  inflating: train_words_distance/59.jpg  \n",
            "  inflating: train_words_distance/590.jpg  \n",
            "  inflating: train_words_distance/591.jpg  \n",
            "  inflating: train_words_distance/592.jpg  \n",
            "  inflating: train_words_distance/593.jpg  \n",
            "  inflating: train_words_distance/594.jpg  \n",
            "  inflating: train_words_distance/595.jpg  \n",
            "  inflating: train_words_distance/596.jpg  \n",
            "  inflating: train_words_distance/597.jpg  \n",
            "  inflating: train_words_distance/598.jpg  \n",
            "  inflating: train_words_distance/599.jpg  \n",
            "  inflating: train_words_distance/6.jpg  \n",
            "  inflating: train_words_distance/60.jpg  \n",
            "  inflating: train_words_distance/600.jpg  \n",
            "  inflating: train_words_distance/601.jpg  \n",
            "  inflating: train_words_distance/602.jpg  \n",
            "  inflating: train_words_distance/603.jpg  \n",
            "  inflating: train_words_distance/604.jpg  \n",
            "  inflating: train_words_distance/605.jpg  \n",
            "  inflating: train_words_distance/606.jpg  \n",
            "  inflating: train_words_distance/607.jpg  \n",
            "  inflating: train_words_distance/608.jpg  \n",
            "  inflating: train_words_distance/609.jpg  \n",
            "  inflating: train_words_distance/61.jpg  \n",
            "  inflating: train_words_distance/610.jpg  \n",
            "  inflating: train_words_distance/611.jpg  \n",
            "  inflating: train_words_distance/612.jpg  \n",
            "  inflating: train_words_distance/613.jpg  \n",
            "  inflating: train_words_distance/614.jpg  \n",
            "  inflating: train_words_distance/615.jpg  \n",
            "  inflating: train_words_distance/616.jpg  \n",
            "  inflating: train_words_distance/617.jpg  \n",
            "  inflating: train_words_distance/618.jpg  \n",
            "  inflating: train_words_distance/619.jpg  \n",
            "  inflating: train_words_distance/62.jpg  \n",
            "  inflating: train_words_distance/620.jpg  \n",
            "  inflating: train_words_distance/621.jpg  \n",
            "  inflating: train_words_distance/622.jpg  \n",
            "  inflating: train_words_distance/623.jpg  \n",
            "  inflating: train_words_distance/624.jpg  \n",
            "  inflating: train_words_distance/625.jpg  \n",
            "  inflating: train_words_distance/626.jpg  \n",
            "  inflating: train_words_distance/627.jpg  \n",
            "  inflating: train_words_distance/628.jpg  \n",
            "  inflating: train_words_distance/629.jpg  \n",
            "  inflating: train_words_distance/63.jpg  \n",
            "  inflating: train_words_distance/630.jpg  \n",
            "  inflating: train_words_distance/631.jpg  \n",
            "  inflating: train_words_distance/632.jpg  \n",
            "  inflating: train_words_distance/633.jpg  \n",
            "  inflating: train_words_distance/634.jpg  \n",
            "  inflating: train_words_distance/635.jpg  \n",
            "  inflating: train_words_distance/636.jpg  \n",
            "  inflating: train_words_distance/637.jpg  \n",
            "  inflating: train_words_distance/638.jpg  \n",
            "  inflating: train_words_distance/639.jpg  \n",
            "  inflating: train_words_distance/64.jpg  \n",
            "  inflating: train_words_distance/640.jpg  \n",
            "  inflating: train_words_distance/641.jpg  \n",
            "  inflating: train_words_distance/642.jpg  \n",
            "  inflating: train_words_distance/643.jpg  \n",
            "  inflating: train_words_distance/644.jpg  \n",
            "  inflating: train_words_distance/645.jpg  \n",
            "  inflating: train_words_distance/646.jpg  \n",
            "  inflating: train_words_distance/647.jpg  \n",
            "  inflating: train_words_distance/648.jpg  \n",
            "  inflating: train_words_distance/649.jpg  \n",
            "  inflating: train_words_distance/65.jpg  \n",
            "  inflating: train_words_distance/650.jpg  \n",
            "  inflating: train_words_distance/651.jpg  \n",
            "  inflating: train_words_distance/652.jpg  \n",
            "  inflating: train_words_distance/653.jpg  \n",
            "  inflating: train_words_distance/654.jpg  \n",
            "  inflating: train_words_distance/655.jpg  \n",
            "  inflating: train_words_distance/656.jpg  \n",
            "  inflating: train_words_distance/657.jpg  \n",
            "  inflating: train_words_distance/658.jpg  \n",
            "  inflating: train_words_distance/659.jpg  \n",
            "  inflating: train_words_distance/66.jpg  \n",
            "  inflating: train_words_distance/660.jpg  \n",
            "  inflating: train_words_distance/661.jpg  \n",
            "  inflating: train_words_distance/662.jpg  \n",
            "  inflating: train_words_distance/663.jpg  \n",
            "  inflating: train_words_distance/664.jpg  \n",
            "  inflating: train_words_distance/665.jpg  \n",
            "  inflating: train_words_distance/666.jpg  \n",
            "  inflating: train_words_distance/667.jpg  \n",
            "  inflating: train_words_distance/668.jpg  \n",
            "  inflating: train_words_distance/669.jpg  \n",
            "  inflating: train_words_distance/67.jpg  \n",
            "  inflating: train_words_distance/670.jpg  \n",
            "  inflating: train_words_distance/671.jpg  \n",
            "  inflating: train_words_distance/672.jpg  \n",
            "  inflating: train_words_distance/673.jpg  \n",
            "  inflating: train_words_distance/674.jpg  \n",
            "  inflating: train_words_distance/675.jpg  \n",
            "  inflating: train_words_distance/676.jpg  \n",
            "  inflating: train_words_distance/677.jpg  \n",
            "  inflating: train_words_distance/678.jpg  \n",
            "  inflating: train_words_distance/679.jpg  \n",
            "  inflating: train_words_distance/68.jpg  \n",
            "  inflating: train_words_distance/680.jpg  \n",
            "  inflating: train_words_distance/681.jpg  \n",
            "  inflating: train_words_distance/682.jpg  \n",
            "  inflating: train_words_distance/683.jpg  \n",
            "  inflating: train_words_distance/684.jpg  \n",
            "  inflating: train_words_distance/685.jpg  \n",
            "  inflating: train_words_distance/686.jpg  \n",
            "  inflating: train_words_distance/687.jpg  \n",
            "  inflating: train_words_distance/688.jpg  \n",
            "  inflating: train_words_distance/689.jpg  \n",
            "  inflating: train_words_distance/69.jpg  \n",
            "  inflating: train_words_distance/690.jpg  \n",
            "  inflating: train_words_distance/691.jpg  \n",
            "  inflating: train_words_distance/692.jpg  \n",
            "  inflating: train_words_distance/693.jpg  \n",
            "  inflating: train_words_distance/694.jpg  \n",
            "  inflating: train_words_distance/695.jpg  \n",
            "  inflating: train_words_distance/696.jpg  \n",
            "  inflating: train_words_distance/697.jpg  \n",
            "  inflating: train_words_distance/698.jpg  \n",
            "  inflating: train_words_distance/699.jpg  \n",
            "  inflating: train_words_distance/7.jpg  \n",
            "  inflating: train_words_distance/70.jpg  \n",
            "  inflating: train_words_distance/700.jpg  \n",
            "  inflating: train_words_distance/701.jpg  \n",
            "  inflating: train_words_distance/702.jpg  \n",
            "  inflating: train_words_distance/703.jpg  \n",
            "  inflating: train_words_distance/704.jpg  \n",
            "  inflating: train_words_distance/705.jpg  \n",
            "  inflating: train_words_distance/706.jpg  \n",
            "  inflating: train_words_distance/707.jpg  \n",
            "  inflating: train_words_distance/708.jpg  \n",
            "  inflating: train_words_distance/709.jpg  \n",
            "  inflating: train_words_distance/71.jpg  \n",
            "  inflating: train_words_distance/710.jpg  \n",
            "  inflating: train_words_distance/711.jpg  \n",
            "  inflating: train_words_distance/712.jpg  \n",
            "  inflating: train_words_distance/713.jpg  \n",
            "  inflating: train_words_distance/714.jpg  \n",
            "  inflating: train_words_distance/715.jpg  \n",
            "  inflating: train_words_distance/716.jpg  \n",
            "  inflating: train_words_distance/717.jpg  \n",
            "  inflating: train_words_distance/718.jpg  \n",
            "  inflating: train_words_distance/719.jpg  \n",
            "  inflating: train_words_distance/72.jpg  \n",
            "  inflating: train_words_distance/720.jpg  \n",
            "  inflating: train_words_distance/721.jpg  \n",
            "  inflating: train_words_distance/722.jpg  \n",
            "  inflating: train_words_distance/723.jpg  \n",
            "  inflating: train_words_distance/724.jpg  \n",
            "  inflating: train_words_distance/725.jpg  \n",
            "  inflating: train_words_distance/726.jpg  \n",
            "  inflating: train_words_distance/727.jpg  \n",
            "  inflating: train_words_distance/728.jpg  \n",
            "  inflating: train_words_distance/729.jpg  \n",
            "  inflating: train_words_distance/73.jpg  \n",
            "  inflating: train_words_distance/730.jpg  \n",
            "  inflating: train_words_distance/731.jpg  \n",
            "  inflating: train_words_distance/732.jpg  \n",
            "  inflating: train_words_distance/733.jpg  \n",
            "  inflating: train_words_distance/734.jpg  \n",
            "  inflating: train_words_distance/735.jpg  \n",
            "  inflating: train_words_distance/736.jpg  \n",
            "  inflating: train_words_distance/737.jpg  \n",
            "  inflating: train_words_distance/738.jpg  \n",
            "  inflating: train_words_distance/739.jpg  \n",
            "  inflating: train_words_distance/74.jpg  \n",
            "  inflating: train_words_distance/740.jpg  \n",
            "  inflating: train_words_distance/741.jpg  \n",
            "  inflating: train_words_distance/742.jpg  \n",
            "  inflating: train_words_distance/743.jpg  \n",
            "  inflating: train_words_distance/744.jpg  \n",
            "  inflating: train_words_distance/745.jpg  \n",
            "  inflating: train_words_distance/746.jpg  \n",
            "  inflating: train_words_distance/747.jpg  \n",
            "  inflating: train_words_distance/748.jpg  \n",
            "  inflating: train_words_distance/749.jpg  \n",
            "  inflating: train_words_distance/75.jpg  \n",
            "  inflating: train_words_distance/750.jpg  \n",
            "  inflating: train_words_distance/751.jpg  \n",
            "  inflating: train_words_distance/752.jpg  \n",
            "  inflating: train_words_distance/753.jpg  \n",
            "  inflating: train_words_distance/754.jpg  \n",
            "  inflating: train_words_distance/755.jpg  \n",
            "  inflating: train_words_distance/756.jpg  \n",
            "  inflating: train_words_distance/757.jpg  \n",
            "  inflating: train_words_distance/758.jpg  \n",
            "  inflating: train_words_distance/759.jpg  \n",
            "  inflating: train_words_distance/76.jpg  \n",
            "  inflating: train_words_distance/760.jpg  \n",
            "  inflating: train_words_distance/761.jpg  \n",
            "  inflating: train_words_distance/762.jpg  \n",
            "  inflating: train_words_distance/763.jpg  \n",
            "  inflating: train_words_distance/764.jpg  \n",
            "  inflating: train_words_distance/765.jpg  \n",
            "  inflating: train_words_distance/766.jpg  \n",
            "  inflating: train_words_distance/767.jpg  \n",
            "  inflating: train_words_distance/768.jpg  \n",
            "  inflating: train_words_distance/769.jpg  \n",
            "  inflating: train_words_distance/77.jpg  \n",
            "  inflating: train_words_distance/770.jpg  \n",
            "  inflating: train_words_distance/771.jpg  \n",
            "  inflating: train_words_distance/772.jpg  \n",
            "  inflating: train_words_distance/773.jpg  \n",
            "  inflating: train_words_distance/774.jpg  \n",
            "  inflating: train_words_distance/775.jpg  \n",
            "  inflating: train_words_distance/776.jpg  \n",
            "  inflating: train_words_distance/777.jpg  \n",
            "  inflating: train_words_distance/778.jpg  \n",
            "  inflating: train_words_distance/779.jpg  \n",
            "  inflating: train_words_distance/78.jpg  \n",
            "  inflating: train_words_distance/780.jpg  \n",
            "  inflating: train_words_distance/781.jpg  \n",
            "  inflating: train_words_distance/782.jpg  \n",
            "  inflating: train_words_distance/783.jpg  \n",
            "  inflating: train_words_distance/784.jpg  \n",
            "  inflating: train_words_distance/785.jpg  \n",
            "  inflating: train_words_distance/786.jpg  \n",
            "  inflating: train_words_distance/787.jpg  \n",
            "  inflating: train_words_distance/788.jpg  \n",
            "  inflating: train_words_distance/789.jpg  \n",
            "  inflating: train_words_distance/79.jpg  \n",
            "  inflating: train_words_distance/790.jpg  \n",
            "  inflating: train_words_distance/791.jpg  \n",
            "  inflating: train_words_distance/792.jpg  \n",
            "  inflating: train_words_distance/793.jpg  \n",
            "  inflating: train_words_distance/794.jpg  \n",
            "  inflating: train_words_distance/795.jpg  \n",
            "  inflating: train_words_distance/796.jpg  \n",
            "  inflating: train_words_distance/797.jpg  \n",
            "  inflating: train_words_distance/798.jpg  \n",
            "  inflating: train_words_distance/799.jpg  \n",
            "  inflating: train_words_distance/8.jpg  \n",
            "  inflating: train_words_distance/80.jpg  \n",
            "  inflating: train_words_distance/800.jpg  \n",
            "  inflating: train_words_distance/801.jpg  \n",
            "  inflating: train_words_distance/802.jpg  \n",
            "  inflating: train_words_distance/803.jpg  \n",
            "  inflating: train_words_distance/804.jpg  \n",
            "  inflating: train_words_distance/805.jpg  \n",
            "  inflating: train_words_distance/806.jpg  \n",
            "  inflating: train_words_distance/807.jpg  \n",
            "  inflating: train_words_distance/808.jpg  \n",
            "  inflating: train_words_distance/809.jpg  \n",
            "  inflating: train_words_distance/81.jpg  \n",
            "  inflating: train_words_distance/810.jpg  \n",
            "  inflating: train_words_distance/811.jpg  \n",
            "  inflating: train_words_distance/812.jpg  \n",
            "  inflating: train_words_distance/813.jpg  \n",
            "  inflating: train_words_distance/814.jpg  \n",
            "  inflating: train_words_distance/815.jpg  \n",
            "  inflating: train_words_distance/816.jpg  \n",
            "  inflating: train_words_distance/817.jpg  \n",
            "  inflating: train_words_distance/818.jpg  \n",
            "  inflating: train_words_distance/819.jpg  \n",
            "  inflating: train_words_distance/82.jpg  \n",
            "  inflating: train_words_distance/820.jpg  \n",
            "  inflating: train_words_distance/821.jpg  \n",
            "  inflating: train_words_distance/822.jpg  \n",
            "  inflating: train_words_distance/823.jpg  \n",
            "  inflating: train_words_distance/824.jpg  \n",
            "  inflating: train_words_distance/825.jpg  \n",
            "  inflating: train_words_distance/826.jpg  \n",
            "  inflating: train_words_distance/827.jpg  \n",
            "  inflating: train_words_distance/828.jpg  \n",
            "  inflating: train_words_distance/829.jpg  \n",
            "  inflating: train_words_distance/83.jpg  \n",
            "  inflating: train_words_distance/830.jpg  \n",
            "  inflating: train_words_distance/831.jpg  \n",
            "  inflating: train_words_distance/832.jpg  \n",
            "  inflating: train_words_distance/833.jpg  \n",
            "  inflating: train_words_distance/834.jpg  \n",
            "  inflating: train_words_distance/835.jpg  \n",
            "  inflating: train_words_distance/836.jpg  \n",
            "  inflating: train_words_distance/837.jpg  \n",
            "  inflating: train_words_distance/838.jpg  \n",
            "  inflating: train_words_distance/839.jpg  \n",
            "  inflating: train_words_distance/84.jpg  \n",
            "  inflating: train_words_distance/840.jpg  \n",
            "  inflating: train_words_distance/841.jpg  \n",
            "  inflating: train_words_distance/842.jpg  \n",
            "  inflating: train_words_distance/843.jpg  \n",
            "  inflating: train_words_distance/844.jpg  \n",
            "  inflating: train_words_distance/845.jpg  \n",
            "  inflating: train_words_distance/846.jpg  \n",
            "  inflating: train_words_distance/847.jpg  \n",
            "  inflating: train_words_distance/848.jpg  \n",
            "  inflating: train_words_distance/849.jpg  \n",
            "  inflating: train_words_distance/85.jpg  \n",
            "  inflating: train_words_distance/850.jpg  \n",
            "  inflating: train_words_distance/851.jpg  \n",
            "  inflating: train_words_distance/852.jpg  \n",
            "  inflating: train_words_distance/853.jpg  \n",
            "  inflating: train_words_distance/854.jpg  \n",
            "  inflating: train_words_distance/855.jpg  \n",
            "  inflating: train_words_distance/856.jpg  \n",
            "  inflating: train_words_distance/857.jpg  \n",
            "  inflating: train_words_distance/858.jpg  \n",
            "  inflating: train_words_distance/859.jpg  \n",
            "  inflating: train_words_distance/86.jpg  \n",
            "  inflating: train_words_distance/860.jpg  \n",
            "  inflating: train_words_distance/861.jpg  \n",
            "  inflating: train_words_distance/862.jpg  \n",
            "  inflating: train_words_distance/863.jpg  \n",
            "  inflating: train_words_distance/864.jpg  \n",
            "  inflating: train_words_distance/865.jpg  \n",
            "  inflating: train_words_distance/866.jpg  \n",
            "  inflating: train_words_distance/867.jpg  \n",
            "  inflating: train_words_distance/868.jpg  \n",
            "  inflating: train_words_distance/869.jpg  \n",
            "  inflating: train_words_distance/87.jpg  \n",
            "  inflating: train_words_distance/870.jpg  \n",
            "  inflating: train_words_distance/871.jpg  \n",
            "  inflating: train_words_distance/872.jpg  \n",
            "  inflating: train_words_distance/873.jpg  \n",
            "  inflating: train_words_distance/874.jpg  \n",
            "  inflating: train_words_distance/875.jpg  \n",
            "  inflating: train_words_distance/876.jpg  \n",
            "  inflating: train_words_distance/877.jpg  \n",
            "  inflating: train_words_distance/878.jpg  \n",
            "  inflating: train_words_distance/879.jpg  \n",
            "  inflating: train_words_distance/88.jpg  \n",
            "  inflating: train_words_distance/880.jpg  \n",
            "  inflating: train_words_distance/881.jpg  \n",
            "  inflating: train_words_distance/882.jpg  \n",
            "  inflating: train_words_distance/883.jpg  \n",
            "  inflating: train_words_distance/884.jpg  \n",
            "  inflating: train_words_distance/885.jpg  \n",
            "  inflating: train_words_distance/886.jpg  \n",
            "  inflating: train_words_distance/887.jpg  \n",
            "  inflating: train_words_distance/888.jpg  \n",
            "  inflating: train_words_distance/889.jpg  \n",
            "  inflating: train_words_distance/89.jpg  \n",
            "  inflating: train_words_distance/890.jpg  \n",
            "  inflating: train_words_distance/891.jpg  \n",
            "  inflating: train_words_distance/892.jpg  \n",
            "  inflating: train_words_distance/893.jpg  \n",
            "  inflating: train_words_distance/894.jpg  \n",
            "  inflating: train_words_distance/895.jpg  \n",
            "  inflating: train_words_distance/896.jpg  \n",
            "  inflating: train_words_distance/897.jpg  \n",
            "  inflating: train_words_distance/898.jpg  \n",
            "  inflating: train_words_distance/899.jpg  \n",
            "  inflating: train_words_distance/9.jpg  \n",
            "  inflating: train_words_distance/90.jpg  \n",
            "  inflating: train_words_distance/900.jpg  \n",
            "  inflating: train_words_distance/901.jpg  \n",
            "  inflating: train_words_distance/902.jpg  \n",
            "  inflating: train_words_distance/903.jpg  \n",
            "  inflating: train_words_distance/904.jpg  \n",
            "  inflating: train_words_distance/905.jpg  \n",
            "  inflating: train_words_distance/906.jpg  \n",
            "  inflating: train_words_distance/907.jpg  \n",
            "  inflating: train_words_distance/908.jpg  \n",
            "  inflating: train_words_distance/909.jpg  \n",
            "  inflating: train_words_distance/91.jpg  \n",
            "  inflating: train_words_distance/910.jpg  \n",
            "  inflating: train_words_distance/911.jpg  \n",
            "  inflating: train_words_distance/912.jpg  \n",
            "  inflating: train_words_distance/913.jpg  \n",
            "  inflating: train_words_distance/914.jpg  \n",
            "  inflating: train_words_distance/915.jpg  \n",
            "  inflating: train_words_distance/916.jpg  \n",
            "  inflating: train_words_distance/917.jpg  \n",
            "  inflating: train_words_distance/918.jpg  \n",
            "  inflating: train_words_distance/919.jpg  \n",
            "  inflating: train_words_distance/92.jpg  \n",
            "  inflating: train_words_distance/920.jpg  \n",
            "  inflating: train_words_distance/921.jpg  \n",
            "  inflating: train_words_distance/922.jpg  \n",
            "  inflating: train_words_distance/923.jpg  \n",
            "  inflating: train_words_distance/924.jpg  \n",
            "  inflating: train_words_distance/925.jpg  \n",
            "  inflating: train_words_distance/926.jpg  \n",
            "  inflating: train_words_distance/927.jpg  \n",
            "  inflating: train_words_distance/928.jpg  \n",
            "  inflating: train_words_distance/929.jpg  \n",
            "  inflating: train_words_distance/93.jpg  \n",
            "  inflating: train_words_distance/930.jpg  \n",
            "  inflating: train_words_distance/931.jpg  \n",
            "  inflating: train_words_distance/932.jpg  \n",
            "  inflating: train_words_distance/933.jpg  \n",
            "  inflating: train_words_distance/934.jpg  \n",
            "  inflating: train_words_distance/935.jpg  \n",
            "  inflating: train_words_distance/936.jpg  \n",
            "  inflating: train_words_distance/937.jpg  \n",
            "  inflating: train_words_distance/938.jpg  \n",
            "  inflating: train_words_distance/939.jpg  \n",
            "  inflating: train_words_distance/94.jpg  \n",
            "  inflating: train_words_distance/940.jpg  \n",
            "  inflating: train_words_distance/941.jpg  \n",
            "  inflating: train_words_distance/942.jpg  \n",
            "  inflating: train_words_distance/943.jpg  \n",
            "  inflating: train_words_distance/944.jpg  \n",
            "  inflating: train_words_distance/945.jpg  \n",
            "  inflating: train_words_distance/946.jpg  \n",
            "  inflating: train_words_distance/947.jpg  \n",
            "  inflating: train_words_distance/948.jpg  \n",
            "  inflating: train_words_distance/949.jpg  \n",
            "  inflating: train_words_distance/95.jpg  \n",
            "  inflating: train_words_distance/950.jpg  \n",
            "  inflating: train_words_distance/96.jpg  \n",
            "  inflating: train_words_distance/97.jpg  \n",
            "  inflating: train_words_distance/98.jpg  \n",
            "  inflating: train_words_distance/99.jpg  \n"
          ],
          "name": "stdout"
        }
      ]
    },
    {
      "cell_type": "code",
      "metadata": {
        "id": "jFq3PL7cqZXw",
        "colab_type": "code",
        "colab": {}
      },
      "source": [
        "train = pd.read_csv('train_words_distance.csv')"
      ],
      "execution_count": 0,
      "outputs": []
    },
    {
      "cell_type": "code",
      "metadata": {
        "id": "0XDDL185y5Ar",
        "colab_type": "code",
        "outputId": "de08a5be-d278-494d-96f4-c9c1eb039a88",
        "colab": {
          "base_uri": "https://localhost:8080/",
          "height": 194
        }
      },
      "source": [
        "train.head()"
      ],
      "execution_count": 4,
      "outputs": [
        {
          "output_type": "execute_result",
          "data": {
            "text/html": [
              "<div>\n",
              "<style scoped>\n",
              "    .dataframe tbody tr th:only-of-type {\n",
              "        vertical-align: middle;\n",
              "    }\n",
              "\n",
              "    .dataframe tbody tr th {\n",
              "        vertical-align: top;\n",
              "    }\n",
              "\n",
              "    .dataframe thead th {\n",
              "        text-align: right;\n",
              "    }\n",
              "</style>\n",
              "<table border=\"1\" class=\"dataframe\">\n",
              "  <thead>\n",
              "    <tr style=\"text-align: right;\">\n",
              "      <th></th>\n",
              "      <th>img</th>\n",
              "      <th>distance</th>\n",
              "    </tr>\n",
              "  </thead>\n",
              "  <tbody>\n",
              "    <tr>\n",
              "      <th>0</th>\n",
              "      <td>1.jpg</td>\n",
              "      <td>1</td>\n",
              "    </tr>\n",
              "    <tr>\n",
              "      <th>1</th>\n",
              "      <td>2.jpg</td>\n",
              "      <td>2</td>\n",
              "    </tr>\n",
              "    <tr>\n",
              "      <th>2</th>\n",
              "      <td>3.jpg</td>\n",
              "      <td>2</td>\n",
              "    </tr>\n",
              "    <tr>\n",
              "      <th>3</th>\n",
              "      <td>4.jpg</td>\n",
              "      <td>0</td>\n",
              "    </tr>\n",
              "    <tr>\n",
              "      <th>4</th>\n",
              "      <td>5.jpg</td>\n",
              "      <td>0</td>\n",
              "    </tr>\n",
              "  </tbody>\n",
              "</table>\n",
              "</div>"
            ],
            "text/plain": [
              "     img  distance\n",
              "0  1.jpg         1\n",
              "1  2.jpg         2\n",
              "2  3.jpg         2\n",
              "3  4.jpg         0\n",
              "4  5.jpg         0"
            ]
          },
          "metadata": {
            "tags": []
          },
          "execution_count": 4
        }
      ]
    },
    {
      "cell_type": "code",
      "metadata": {
        "id": "md76XWSInS3S",
        "colab_type": "code",
        "outputId": "2da77261-d6ef-49c9-ac64-9e1f0341be43",
        "colab": {
          "base_uri": "https://localhost:8080/",
          "height": 35
        }
      },
      "source": [
        "train.shape"
      ],
      "execution_count": 5,
      "outputs": [
        {
          "output_type": "execute_result",
          "data": {
            "text/plain": [
              "(950, 2)"
            ]
          },
          "metadata": {
            "tags": []
          },
          "execution_count": 5
        }
      ]
    },
    {
      "cell_type": "code",
      "metadata": {
        "id": "OYFXUjcmhbAV",
        "colab_type": "code",
        "outputId": "4c890001-4399-49ec-b80a-5d6ec091749b",
        "colab": {
          "base_uri": "https://localhost:8080/",
          "height": 35
        }
      },
      "source": [
        "train[train.distance == 0].shape, train[train.distance == 1].shape, train[train.distance == 2].shape #кол-во классов"
      ],
      "execution_count": 6,
      "outputs": [
        {
          "output_type": "execute_result",
          "data": {
            "text/plain": [
              "((301, 2), (343, 2), (306, 2))"
            ]
          },
          "metadata": {
            "tags": []
          },
          "execution_count": 6
        }
      ]
    },
    {
      "cell_type": "code",
      "metadata": {
        "id": "qnra_NGnmeLJ",
        "colab_type": "code",
        "outputId": "f3ecb7c7-87b8-4452-e8b4-5a1891ec5342",
        "colab": {
          "base_uri": "https://localhost:8080/",
          "height": 1000
        }
      },
      "source": [
        "!unzip test_words_distance.zip #images"
      ],
      "execution_count": 7,
      "outputs": [
        {
          "output_type": "stream",
          "text": [
            "Archive:  test_words_distance.zip\n",
            "  inflating: test_words_distance/100.jpg  \n",
            "  inflating: test_words_distance/101.jpg  \n",
            "  inflating: test_words_distance/102.jpg  \n",
            "  inflating: test_words_distance/103.jpg  \n",
            "  inflating: test_words_distance/104.jpg  \n",
            "  inflating: test_words_distance/105.jpg  \n",
            "  inflating: test_words_distance/106.jpg  \n",
            "  inflating: test_words_distance/107.jpg  \n",
            "  inflating: test_words_distance/108.jpg  \n",
            "  inflating: test_words_distance/109.jpg  \n",
            "  inflating: test_words_distance/110.jpg  \n",
            "  inflating: test_words_distance/111.jpg  \n",
            "  inflating: test_words_distance/112.jpg  \n",
            "  inflating: test_words_distance/113.jpg  \n",
            "  inflating: test_words_distance/114.jpg  \n",
            "  inflating: test_words_distance/115.jpg  \n",
            "  inflating: test_words_distance/116.jpg  \n",
            "  inflating: test_words_distance/117.jpg  \n",
            "  inflating: test_words_distance/118.jpg  \n",
            "  inflating: test_words_distance/119.jpg  \n",
            "  inflating: test_words_distance/120.jpg  \n",
            "  inflating: test_words_distance/121.jpg  \n",
            "  inflating: test_words_distance/122.jpg  \n",
            "  inflating: test_words_distance/123.jpg  \n",
            "  inflating: test_words_distance/124.jpg  \n",
            "  inflating: test_words_distance/125.jpg  \n",
            "  inflating: test_words_distance/126.jpg  \n",
            "  inflating: test_words_distance/127.jpg  \n",
            "  inflating: test_words_distance/128.jpg  \n",
            "  inflating: test_words_distance/129.jpg  \n",
            "  inflating: test_words_distance/130.jpg  \n",
            "  inflating: test_words_distance/131.jpg  \n",
            "  inflating: test_words_distance/132.jpg  \n",
            "  inflating: test_words_distance/133.jpg  \n",
            "  inflating: test_words_distance/134.jpg  \n",
            "  inflating: test_words_distance/135.jpg  \n",
            "  inflating: test_words_distance/136.jpg  \n",
            "  inflating: test_words_distance/137.jpg  \n",
            "  inflating: test_words_distance/138.jpg  \n",
            "  inflating: test_words_distance/139.jpg  \n",
            "  inflating: test_words_distance/140.jpg  \n",
            "  inflating: test_words_distance/141.jpg  \n",
            "  inflating: test_words_distance/142.jpg  \n",
            "  inflating: test_words_distance/143.jpg  \n",
            "  inflating: test_words_distance/144.jpg  \n",
            "  inflating: test_words_distance/145.jpg  \n",
            "  inflating: test_words_distance/146.jpg  \n",
            "  inflating: test_words_distance/147.jpg  \n",
            "  inflating: test_words_distance/148.jpg  \n",
            "  inflating: test_words_distance/149.jpg  \n",
            "  inflating: test_words_distance/150.jpg  \n",
            "  inflating: test_words_distance/151.jpg  \n",
            "  inflating: test_words_distance/152.jpg  \n",
            "  inflating: test_words_distance/153.jpg  \n",
            "  inflating: test_words_distance/154.jpg  \n",
            "  inflating: test_words_distance/155.jpg  \n",
            "  inflating: test_words_distance/156.jpg  \n",
            "  inflating: test_words_distance/157.jpg  \n",
            "  inflating: test_words_distance/158.jpg  \n",
            "  inflating: test_words_distance/159.jpg  \n",
            "  inflating: test_words_distance/160.jpg  \n",
            "  inflating: test_words_distance/161.jpg  \n",
            "  inflating: test_words_distance/162.jpg  \n",
            "  inflating: test_words_distance/163.jpg  \n",
            "  inflating: test_words_distance/164.jpg  \n",
            "  inflating: test_words_distance/165.jpg  \n",
            "  inflating: test_words_distance/166.jpg  \n",
            "  inflating: test_words_distance/167.jpg  \n",
            "  inflating: test_words_distance/168.jpg  \n",
            "  inflating: test_words_distance/169.jpg  \n",
            "  inflating: test_words_distance/196.jpg  \n",
            "  inflating: test_words_distance/197.jpg  \n",
            "  inflating: test_words_distance/198.jpg  \n",
            "  inflating: test_words_distance/199.jpg  \n",
            "  inflating: test_words_distance/200.jpg  \n",
            "  inflating: test_words_distance/201.jpg  \n",
            "  inflating: test_words_distance/202.jpg  \n",
            "  inflating: test_words_distance/203.jpg  \n",
            "  inflating: test_words_distance/204.jpg  \n",
            "  inflating: test_words_distance/205.jpg  \n",
            "  inflating: test_words_distance/206.jpg  \n",
            "  inflating: test_words_distance/207.jpg  \n",
            "  inflating: test_words_distance/208.jpg  \n",
            "  inflating: test_words_distance/209.jpg  \n",
            "  inflating: test_words_distance/210.jpg  \n",
            "  inflating: test_words_distance/211.jpg  \n",
            "  inflating: test_words_distance/212.jpg  \n",
            "  inflating: test_words_distance/213.jpg  \n",
            "  inflating: test_words_distance/214.jpg  \n",
            "  inflating: test_words_distance/215.jpg  \n",
            "  inflating: test_words_distance/221.jpg  \n",
            "  inflating: test_words_distance/222.jpg  \n",
            "  inflating: test_words_distance/223.jpg  \n",
            "  inflating: test_words_distance/224.jpg  \n",
            "  inflating: test_words_distance/225.jpg  \n",
            "  inflating: test_words_distance/226.jpg  \n",
            "  inflating: test_words_distance/227.jpg  \n",
            "  inflating: test_words_distance/228.jpg  \n",
            "  inflating: test_words_distance/229.jpg  \n",
            "  inflating: test_words_distance/230.jpg  \n",
            "  inflating: test_words_distance/246.jpg  \n",
            "  inflating: test_words_distance/247.jpg  \n",
            "  inflating: test_words_distance/248.jpg  \n",
            "  inflating: test_words_distance/249.jpg  \n",
            "  inflating: test_words_distance/250.jpg  \n",
            "  inflating: test_words_distance/251.jpg  \n",
            "  inflating: test_words_distance/252.jpg  \n",
            "  inflating: test_words_distance/253.jpg  \n",
            "  inflating: test_words_distance/254.jpg  \n",
            "  inflating: test_words_distance/255.jpg  \n",
            "  inflating: test_words_distance/256.jpg  \n",
            "  inflating: test_words_distance/257.jpg  \n",
            "  inflating: test_words_distance/258.jpg  \n",
            "  inflating: test_words_distance/259.jpg  \n",
            "  inflating: test_words_distance/260.jpg  \n",
            "  inflating: test_words_distance/261.jpg  \n",
            "  inflating: test_words_distance/262.jpg  \n",
            "  inflating: test_words_distance/263.jpg  \n",
            "  inflating: test_words_distance/264.jpg  \n",
            "  inflating: test_words_distance/265.jpg  \n",
            "  inflating: test_words_distance/266.jpg  \n",
            "  inflating: test_words_distance/267.jpg  \n",
            "  inflating: test_words_distance/268.jpg  \n",
            "  inflating: test_words_distance/269.jpg  \n",
            "  inflating: test_words_distance/270.jpg  \n",
            "  inflating: test_words_distance/271.jpg  \n",
            "  inflating: test_words_distance/272.jpg  \n",
            "  inflating: test_words_distance/273.jpg  \n",
            "  inflating: test_words_distance/274.jpg  \n",
            "  inflating: test_words_distance/275.jpg  \n",
            "  inflating: test_words_distance/276.jpg  \n",
            "  inflating: test_words_distance/277.jpg  \n",
            "  inflating: test_words_distance/278.jpg  \n",
            "  inflating: test_words_distance/279.jpg  \n",
            "  inflating: test_words_distance/280.jpg  \n"
          ],
          "name": "stdout"
        }
      ]
    },
    {
      "cell_type": "code",
      "metadata": {
        "id": "P5mAWDfemeHT",
        "colab_type": "code",
        "colab": {}
      },
      "source": [
        "test = pd.read_csv('test_words_distance.csv')"
      ],
      "execution_count": 0,
      "outputs": []
    },
    {
      "cell_type": "code",
      "metadata": {
        "id": "P36YGoDimpHC",
        "colab_type": "code",
        "outputId": "36f774e2-f21e-42c1-ce7a-aa5200411a3f",
        "colab": {
          "base_uri": "https://localhost:8080/",
          "height": 194
        }
      },
      "source": [
        "test.head()"
      ],
      "execution_count": 29,
      "outputs": [
        {
          "output_type": "execute_result",
          "data": {
            "text/html": [
              "<div>\n",
              "<style scoped>\n",
              "    .dataframe tbody tr th:only-of-type {\n",
              "        vertical-align: middle;\n",
              "    }\n",
              "\n",
              "    .dataframe tbody tr th {\n",
              "        vertical-align: top;\n",
              "    }\n",
              "\n",
              "    .dataframe thead th {\n",
              "        text-align: right;\n",
              "    }\n",
              "</style>\n",
              "<table border=\"1\" class=\"dataframe\">\n",
              "  <thead>\n",
              "    <tr style=\"text-align: right;\">\n",
              "      <th></th>\n",
              "      <th>img</th>\n",
              "      <th>distance</th>\n",
              "    </tr>\n",
              "  </thead>\n",
              "  <tbody>\n",
              "    <tr>\n",
              "      <th>0</th>\n",
              "      <td>100.jpg</td>\n",
              "      <td>2</td>\n",
              "    </tr>\n",
              "    <tr>\n",
              "      <th>1</th>\n",
              "      <td>101.jpg</td>\n",
              "      <td>2</td>\n",
              "    </tr>\n",
              "    <tr>\n",
              "      <th>2</th>\n",
              "      <td>102.jpg</td>\n",
              "      <td>0</td>\n",
              "    </tr>\n",
              "    <tr>\n",
              "      <th>3</th>\n",
              "      <td>103.jpg</td>\n",
              "      <td>1</td>\n",
              "    </tr>\n",
              "    <tr>\n",
              "      <th>4</th>\n",
              "      <td>104.jpg</td>\n",
              "      <td>1</td>\n",
              "    </tr>\n",
              "  </tbody>\n",
              "</table>\n",
              "</div>"
            ],
            "text/plain": [
              "       img  distance\n",
              "0  100.jpg         2\n",
              "1  101.jpg         2\n",
              "2  102.jpg         0\n",
              "3  103.jpg         1\n",
              "4  104.jpg         1"
            ]
          },
          "metadata": {
            "tags": []
          },
          "execution_count": 29
        }
      ]
    },
    {
      "cell_type": "code",
      "metadata": {
        "id": "IdeiOtc5mo5s",
        "colab_type": "code",
        "outputId": "abb3c275-15c8-44c5-bf0e-a9cf2506a005",
        "colab": {
          "base_uri": "https://localhost:8080/",
          "height": 35
        }
      },
      "source": [
        "test.shape"
      ],
      "execution_count": 30,
      "outputs": [
        {
          "output_type": "execute_result",
          "data": {
            "text/plain": [
              "(135, 2)"
            ]
          },
          "metadata": {
            "tags": []
          },
          "execution_count": 30
        }
      ]
    },
    {
      "cell_type": "code",
      "metadata": {
        "id": "I448SbIgrqMz",
        "colab_type": "code",
        "colab": {
          "base_uri": "https://localhost:8080/",
          "height": 35
        },
        "outputId": "681d5f0c-bb3a-4ccb-d1e8-18d329ded3aa"
      },
      "source": [
        "test[test.distance == 0].shape, test[test.distance == 1].shape, test[test.distance == 2].shape #кол-во классов"
      ],
      "execution_count": 32,
      "outputs": [
        {
          "output_type": "execute_result",
          "data": {
            "text/plain": [
              "((45, 2), (53, 2), (37, 2))"
            ]
          },
          "metadata": {
            "tags": []
          },
          "execution_count": 32
        }
      ]
    },
    {
      "cell_type": "code",
      "metadata": {
        "id": "p68bMCRSmrtp",
        "colab_type": "code",
        "colab": {}
      },
      "source": [
        ""
      ],
      "execution_count": 0,
      "outputs": []
    },
    {
      "cell_type": "code",
      "metadata": {
        "id": "on0MH7iU0C66",
        "colab_type": "code",
        "colab": {}
      },
      "source": [
        "hei = 128\n",
        "wei = 64"
      ],
      "execution_count": 0,
      "outputs": []
    },
    {
      "cell_type": "code",
      "metadata": {
        "id": "EdkWZhfRzWns",
        "colab_type": "code",
        "colab": {}
      },
      "source": [
        ""
      ],
      "execution_count": 0,
      "outputs": []
    },
    {
      "cell_type": "markdown",
      "metadata": {
        "id": "pRefGocmuySq",
        "colab_type": "text"
      },
      "source": [
        "**Добавление данных в x_test, y_test**"
      ]
    },
    {
      "cell_type": "code",
      "metadata": {
        "id": "GHggScLDnMbT",
        "colab_type": "code",
        "outputId": "4febf96b-40f4-4246-878b-d69d819633ef",
        "colab": {
          "base_uri": "https://localhost:8080/",
          "height": 35
        }
      },
      "source": [
        "x_test = []\n",
        "y_test = []\n",
        "\n",
        "for i in range (test.shape[0]):\n",
        "    x,y = test.values[i]\n",
        "    x = cv2.imread('test_words_distance/{}'.format(x))\n",
        "    #x = strong_aug(p=0.2)\n",
        "    x = cv2.resize(x, (hei, wei))\n",
        "    x_test += [x]\n",
        "    y_test += [y]\n",
        "    \n",
        "x_test = np.array(x_test) / 255.\n",
        "y_test = np.array(y_test)\n",
        "\n",
        "x_test.shape"
      ],
      "execution_count": 34,
      "outputs": [
        {
          "output_type": "execute_result",
          "data": {
            "text/plain": [
              "(135, 64, 128, 3)"
            ]
          },
          "metadata": {
            "tags": []
          },
          "execution_count": 34
        }
      ]
    },
    {
      "cell_type": "markdown",
      "metadata": {
        "id": "HBW8S56avHPF",
        "colab_type": "text"
      },
      "source": [
        "**Генератор батчей для train**"
      ]
    },
    {
      "cell_type": "code",
      "metadata": {
        "id": "AkGL7tCIqv1R",
        "colab_type": "code",
        "colab": {}
      },
      "source": [
        "#Объявим генератор\n",
        "def keras_generator(gen_df, batch_size):#генератор картинок в батч (создание батча)\n",
        "    while True:\n",
        "        x_train = []\n",
        "        y_train = []\n",
        "        \n",
        "\n",
        "        for i in range (batch_size):\n",
        "\n",
        "            x,y = train.sample(1).values[0]\n",
        "            x = cv2.imread('train_words_distance/{}'.format(x))\n",
        "            #x = strong_aug(p=0.2)\n",
        "            x = cv2.resize(x, (hei, wei))\n",
        "            x_train += [x]\n",
        "            y_train += [y]\n",
        "\n",
        "        #y_train = keras.utils.to_categorical(y_train,10)\n",
        "        x_train = np.array(x_train) / 255.\n",
        "        y_train = np.array(y_train)\n",
        "\n",
        "        yield x_train, y_train"
      ],
      "execution_count": 0,
      "outputs": []
    },
    {
      "cell_type": "code",
      "metadata": {
        "id": "9qrzbnwbodeP",
        "colab_type": "code",
        "colab": {}
      },
      "source": [
        ""
      ],
      "execution_count": 0,
      "outputs": []
    },
    {
      "cell_type": "code",
      "metadata": {
        "id": "qkyPIJknoc3U",
        "colab_type": "code",
        "colab": {}
      },
      "source": [
        ""
      ],
      "execution_count": 0,
      "outputs": []
    },
    {
      "cell_type": "markdown",
      "metadata": {
        "id": "XfGtWHD3vRdz",
        "colab_type": "text"
      },
      "source": [
        "**Архитектура сети**"
      ]
    },
    {
      "cell_type": "code",
      "metadata": {
        "id": "Mlpy7HN-8ytm",
        "colab_type": "code",
        "colab": {}
      },
      "source": [
        "inp = Input(shape=(wei, hei, 3))\n",
        "\n",
        "conv_1_1 = Conv2D(32, (3, 3), padding='same')(inp)\n",
        "conv_1_1 = Activation('relu')(conv_1_1)\n",
        "\n",
        "conv_1_2 = Conv2D(32, (3, 3), padding='same')(conv_1_1)\n",
        "conv_1_2 = Activation('relu')(conv_1_2)\n",
        "\n",
        "pool_1 = MaxPooling2D(2)(conv_1_2)\n",
        "pool_1 = Dropout(0.2)(pool_1)\n",
        "pool_1 = BatchNormalization()(pool_1)\n",
        "\n",
        "conv_2_1 = Conv2D(64, (3, 3), padding='same')(pool_1)\n",
        "conv_2_1 = Activation('relu')(conv_2_1)\n",
        "\n",
        "conv_2_2 = Conv2D(64, (3, 3), padding='same')(conv_2_1)\n",
        "conv_2_2 = Activation('relu')(conv_2_2)\n",
        "\n",
        "pool_2 = MaxPooling2D(2)(conv_2_2)\n",
        "pool_2 = Dropout(0.2)(pool_2)\n",
        "pool_2 = BatchNormalization()(pool_2)\n",
        "\n",
        "\n",
        "conv_3_1 = Conv2D(128, (3, 3), padding='same')(pool_2)\n",
        "conv_3_1 = Activation('relu')(conv_3_1)\n",
        "\n",
        "conv_3_2 = Conv2D(128, (3, 3), padding='same')(conv_3_1)\n",
        "conv_3_2 = Activation('relu')(conv_3_2) #conv_3_2.shape = (64,64,128)\n",
        "\n",
        "pool_3 = MaxPooling2D(2)(conv_3_2) #pool_3.shape = (32,32,128)\n",
        "pool_3 = Dropout(0.2)(pool_3)\n",
        "pool_3 = BatchNormalization()(pool_3)\n",
        "\n",
        "\n",
        "conv_4_1 = Conv2D(256, (3, 3), padding='same')(pool_3)\n",
        "conv_4_1 = Activation('relu')(conv_4_1)\n",
        "\n",
        "conv_4_2 = Conv2D(256, (3, 3), padding='same')(conv_4_1)\n",
        "conv_4_2 = Activation('relu')(conv_4_2) #conv_4_2.shape = (32,32,256)\n",
        "\n",
        "pool_4 = MaxPooling2D(2)(conv_4_2) #pool_4.shape = (16,16,256)\n",
        "pool_4 = Dropout(0.2)(pool_4)\n",
        "pool_4 = BatchNormalization()(pool_4)\n",
        "\n",
        "\n",
        "\n",
        "flat = Flatten()(pool_4)\n",
        "layer1 = Dense(128, activation='relu')(flat)\n",
        "layer1 = Dropout(0.2)(layer1)\n",
        "layer1 = BatchNormalization()(layer1)\n",
        "\n",
        "layer2 = Dense(256, activation='relu')(layer1)\n",
        "layer2 = Dropout(0.2)(layer2)\n",
        "layer2 = BatchNormalization()(layer2)\n",
        "\n",
        "layer3 = Dense(512, activation='relu')(layer2)\n",
        "layer3 = Dropout(0.2)(layer3)\n",
        "layer3 = BatchNormalization()(layer3)\n",
        "\n",
        "layer4 = Dense(64, activation='relu')(layer3)\n",
        "layer4 = Dropout(0.2)(layer4)\n",
        "layer4 = BatchNormalization()(layer4)\n",
        "\n",
        "layer_out = Dense(3, activation='softmax')(layer4)\n",
        "\n",
        "model = Model(inputs=inp, outputs=layer_out)"
      ],
      "execution_count": 0,
      "outputs": []
    },
    {
      "cell_type": "code",
      "metadata": {
        "id": "C1mKBwgOUBC2",
        "colab_type": "code",
        "colab": {}
      },
      "source": [
        "#model.summary()"
      ],
      "execution_count": 0,
      "outputs": []
    },
    {
      "cell_type": "code",
      "metadata": {
        "id": "fllYpZYVnkUt",
        "colab_type": "code",
        "colab": {}
      },
      "source": [
        "model.compile(optimizer='adam',\n",
        "              loss='sparse_categorical_crossentropy',\n",
        "              metrics=['accuracy'])"
      ],
      "execution_count": 0,
      "outputs": []
    },
    {
      "cell_type": "markdown",
      "metadata": {
        "id": "tlVmiW6kvtL7",
        "colab_type": "text"
      },
      "source": [
        "**Обучение через генератор, т.е. с батчами**"
      ]
    },
    {
      "cell_type": "code",
      "metadata": {
        "id": "BA783o_s_W7V",
        "colab_type": "code",
        "outputId": "fdb56350-423d-444a-85a5-e3f39232e44b",
        "colab": {
          "base_uri": "https://localhost:8080/",
          "height": 530
        }
      },
      "source": [
        "batch_size = 32\n",
        "model.fit_generator(keras_generator(train, batch_size),\n",
        "              steps_per_epoch=100,#каждую эпоху - 100 батчей\n",
        "              epochs=30,\n",
        "              verbose=1,#будем выводить результат\n",
        "              shuffle=True)"
      ],
      "execution_count": 0,
      "outputs": [
        {
          "output_type": "stream",
          "text": [
            "Epoch 1/30\n",
            "100/100 [==============================] - 10s 104ms/step - loss: 0.0373 - acc: 0.9884\n",
            "Epoch 2/30\n",
            "100/100 [==============================] - 10s 105ms/step - loss: 0.0301 - acc: 0.9903\n",
            "Epoch 3/30\n",
            "100/100 [==============================] - 10s 104ms/step - loss: 0.0615 - acc: 0.9813\n",
            "Epoch 4/30\n",
            "100/100 [==============================] - 10s 104ms/step - loss: 0.0431 - acc: 0.9859\n",
            "Epoch 5/30\n",
            " 99/100 [============================>.] - ETA: 0s - loss: 0.0338 - acc: 0.9877"
          ],
          "name": "stdout"
        },
        {
          "output_type": "error",
          "ename": "KeyboardInterrupt",
          "evalue": "ignored",
          "traceback": [
            "\u001b[0;31m---------------------------------------------------------------------------\u001b[0m",
            "\u001b[0;31mKeyboardInterrupt\u001b[0m                         Traceback (most recent call last)",
            "\u001b[0;32m<ipython-input-30-74d8793ec4a4>\u001b[0m in \u001b[0;36m<module>\u001b[0;34m()\u001b[0m\n\u001b[1;32m      4\u001b[0m               \u001b[0mepochs\u001b[0m\u001b[0;34m=\u001b[0m\u001b[0;36m30\u001b[0m\u001b[0;34m,\u001b[0m\u001b[0;34m\u001b[0m\u001b[0;34m\u001b[0m\u001b[0m\n\u001b[1;32m      5\u001b[0m               \u001b[0mverbose\u001b[0m\u001b[0;34m=\u001b[0m\u001b[0;36m1\u001b[0m\u001b[0;34m,\u001b[0m\u001b[0;31m#будем выводить результат\u001b[0m\u001b[0;34m\u001b[0m\u001b[0;34m\u001b[0m\u001b[0m\n\u001b[0;32m----> 6\u001b[0;31m               shuffle=True)\n\u001b[0m",
            "\u001b[0;32m/usr/local/lib/python3.6/dist-packages/keras/legacy/interfaces.py\u001b[0m in \u001b[0;36mwrapper\u001b[0;34m(*args, **kwargs)\u001b[0m\n\u001b[1;32m     89\u001b[0m                 warnings.warn('Update your `' + object_name + '` call to the ' +\n\u001b[1;32m     90\u001b[0m                               'Keras 2 API: ' + signature, stacklevel=2)\n\u001b[0;32m---> 91\u001b[0;31m             \u001b[0;32mreturn\u001b[0m \u001b[0mfunc\u001b[0m\u001b[0;34m(\u001b[0m\u001b[0;34m*\u001b[0m\u001b[0margs\u001b[0m\u001b[0;34m,\u001b[0m \u001b[0;34m**\u001b[0m\u001b[0mkwargs\u001b[0m\u001b[0;34m)\u001b[0m\u001b[0;34m\u001b[0m\u001b[0;34m\u001b[0m\u001b[0m\n\u001b[0m\u001b[1;32m     92\u001b[0m         \u001b[0mwrapper\u001b[0m\u001b[0;34m.\u001b[0m\u001b[0m_original_function\u001b[0m \u001b[0;34m=\u001b[0m \u001b[0mfunc\u001b[0m\u001b[0;34m\u001b[0m\u001b[0;34m\u001b[0m\u001b[0m\n\u001b[1;32m     93\u001b[0m         \u001b[0;32mreturn\u001b[0m \u001b[0mwrapper\u001b[0m\u001b[0;34m\u001b[0m\u001b[0;34m\u001b[0m\u001b[0m\n",
            "\u001b[0;32m/usr/local/lib/python3.6/dist-packages/keras/engine/training.py\u001b[0m in \u001b[0;36mfit_generator\u001b[0;34m(self, generator, steps_per_epoch, epochs, verbose, callbacks, validation_data, validation_steps, validation_freq, class_weight, max_queue_size, workers, use_multiprocessing, shuffle, initial_epoch)\u001b[0m\n\u001b[1;32m   1656\u001b[0m             \u001b[0muse_multiprocessing\u001b[0m\u001b[0;34m=\u001b[0m\u001b[0muse_multiprocessing\u001b[0m\u001b[0;34m,\u001b[0m\u001b[0;34m\u001b[0m\u001b[0;34m\u001b[0m\u001b[0m\n\u001b[1;32m   1657\u001b[0m             \u001b[0mshuffle\u001b[0m\u001b[0;34m=\u001b[0m\u001b[0mshuffle\u001b[0m\u001b[0;34m,\u001b[0m\u001b[0;34m\u001b[0m\u001b[0;34m\u001b[0m\u001b[0m\n\u001b[0;32m-> 1658\u001b[0;31m             initial_epoch=initial_epoch)\n\u001b[0m\u001b[1;32m   1659\u001b[0m \u001b[0;34m\u001b[0m\u001b[0m\n\u001b[1;32m   1660\u001b[0m     \u001b[0;34m@\u001b[0m\u001b[0minterfaces\u001b[0m\u001b[0;34m.\u001b[0m\u001b[0mlegacy_generator_methods_support\u001b[0m\u001b[0;34m\u001b[0m\u001b[0;34m\u001b[0m\u001b[0m\n",
            "\u001b[0;32m/usr/local/lib/python3.6/dist-packages/keras/engine/training_generator.py\u001b[0m in \u001b[0;36mfit_generator\u001b[0;34m(model, generator, steps_per_epoch, epochs, verbose, callbacks, validation_data, validation_steps, validation_freq, class_weight, max_queue_size, workers, use_multiprocessing, shuffle, initial_epoch)\u001b[0m\n\u001b[1;32m    213\u001b[0m                 outs = model.train_on_batch(x, y,\n\u001b[1;32m    214\u001b[0m                                             \u001b[0msample_weight\u001b[0m\u001b[0;34m=\u001b[0m\u001b[0msample_weight\u001b[0m\u001b[0;34m,\u001b[0m\u001b[0;34m\u001b[0m\u001b[0;34m\u001b[0m\u001b[0m\n\u001b[0;32m--> 215\u001b[0;31m                                             class_weight=class_weight)\n\u001b[0m\u001b[1;32m    216\u001b[0m \u001b[0;34m\u001b[0m\u001b[0m\n\u001b[1;32m    217\u001b[0m                 \u001b[0mouts\u001b[0m \u001b[0;34m=\u001b[0m \u001b[0mto_list\u001b[0m\u001b[0;34m(\u001b[0m\u001b[0mouts\u001b[0m\u001b[0;34m)\u001b[0m\u001b[0;34m\u001b[0m\u001b[0;34m\u001b[0m\u001b[0m\n",
            "\u001b[0;32m/usr/local/lib/python3.6/dist-packages/keras/engine/training.py\u001b[0m in \u001b[0;36mtrain_on_batch\u001b[0;34m(self, x, y, sample_weight, class_weight)\u001b[0m\n\u001b[1;32m   1447\u001b[0m             \u001b[0mins\u001b[0m \u001b[0;34m=\u001b[0m \u001b[0mx\u001b[0m \u001b[0;34m+\u001b[0m \u001b[0my\u001b[0m \u001b[0;34m+\u001b[0m \u001b[0msample_weights\u001b[0m\u001b[0;34m\u001b[0m\u001b[0;34m\u001b[0m\u001b[0m\n\u001b[1;32m   1448\u001b[0m         \u001b[0mself\u001b[0m\u001b[0;34m.\u001b[0m\u001b[0m_make_train_function\u001b[0m\u001b[0;34m(\u001b[0m\u001b[0;34m)\u001b[0m\u001b[0;34m\u001b[0m\u001b[0;34m\u001b[0m\u001b[0m\n\u001b[0;32m-> 1449\u001b[0;31m         \u001b[0moutputs\u001b[0m \u001b[0;34m=\u001b[0m \u001b[0mself\u001b[0m\u001b[0;34m.\u001b[0m\u001b[0mtrain_function\u001b[0m\u001b[0;34m(\u001b[0m\u001b[0mins\u001b[0m\u001b[0;34m)\u001b[0m\u001b[0;34m\u001b[0m\u001b[0;34m\u001b[0m\u001b[0m\n\u001b[0m\u001b[1;32m   1450\u001b[0m         \u001b[0;32mreturn\u001b[0m \u001b[0munpack_singleton\u001b[0m\u001b[0;34m(\u001b[0m\u001b[0moutputs\u001b[0m\u001b[0;34m)\u001b[0m\u001b[0;34m\u001b[0m\u001b[0;34m\u001b[0m\u001b[0m\n\u001b[1;32m   1451\u001b[0m \u001b[0;34m\u001b[0m\u001b[0m\n",
            "\u001b[0;32m/usr/local/lib/python3.6/dist-packages/keras/backend/tensorflow_backend.py\u001b[0m in \u001b[0;36m__call__\u001b[0;34m(self, inputs)\u001b[0m\n\u001b[1;32m   2977\u001b[0m                     \u001b[0;32mreturn\u001b[0m \u001b[0mself\u001b[0m\u001b[0;34m.\u001b[0m\u001b[0m_legacy_call\u001b[0m\u001b[0;34m(\u001b[0m\u001b[0minputs\u001b[0m\u001b[0;34m)\u001b[0m\u001b[0;34m\u001b[0m\u001b[0;34m\u001b[0m\u001b[0m\n\u001b[1;32m   2978\u001b[0m \u001b[0;34m\u001b[0m\u001b[0m\n\u001b[0;32m-> 2979\u001b[0;31m             \u001b[0;32mreturn\u001b[0m \u001b[0mself\u001b[0m\u001b[0;34m.\u001b[0m\u001b[0m_call\u001b[0m\u001b[0;34m(\u001b[0m\u001b[0minputs\u001b[0m\u001b[0;34m)\u001b[0m\u001b[0;34m\u001b[0m\u001b[0;34m\u001b[0m\u001b[0m\n\u001b[0m\u001b[1;32m   2980\u001b[0m         \u001b[0;32melse\u001b[0m\u001b[0;34m:\u001b[0m\u001b[0;34m\u001b[0m\u001b[0;34m\u001b[0m\u001b[0m\n\u001b[1;32m   2981\u001b[0m             \u001b[0;32mif\u001b[0m \u001b[0mpy_any\u001b[0m\u001b[0;34m(\u001b[0m\u001b[0mis_tensor\u001b[0m\u001b[0;34m(\u001b[0m\u001b[0mx\u001b[0m\u001b[0;34m)\u001b[0m \u001b[0;32mfor\u001b[0m \u001b[0mx\u001b[0m \u001b[0;32min\u001b[0m \u001b[0minputs\u001b[0m\u001b[0;34m)\u001b[0m\u001b[0;34m:\u001b[0m\u001b[0;34m\u001b[0m\u001b[0;34m\u001b[0m\u001b[0m\n",
            "\u001b[0;32m/usr/local/lib/python3.6/dist-packages/keras/backend/tensorflow_backend.py\u001b[0m in \u001b[0;36m_call\u001b[0;34m(self, inputs)\u001b[0m\n\u001b[1;32m   2935\u001b[0m             \u001b[0mfetched\u001b[0m \u001b[0;34m=\u001b[0m \u001b[0mself\u001b[0m\u001b[0;34m.\u001b[0m\u001b[0m_callable_fn\u001b[0m\u001b[0;34m(\u001b[0m\u001b[0;34m*\u001b[0m\u001b[0marray_vals\u001b[0m\u001b[0;34m,\u001b[0m \u001b[0mrun_metadata\u001b[0m\u001b[0;34m=\u001b[0m\u001b[0mself\u001b[0m\u001b[0;34m.\u001b[0m\u001b[0mrun_metadata\u001b[0m\u001b[0;34m)\u001b[0m\u001b[0;34m\u001b[0m\u001b[0;34m\u001b[0m\u001b[0m\n\u001b[1;32m   2936\u001b[0m         \u001b[0;32melse\u001b[0m\u001b[0;34m:\u001b[0m\u001b[0;34m\u001b[0m\u001b[0;34m\u001b[0m\u001b[0m\n\u001b[0;32m-> 2937\u001b[0;31m             \u001b[0mfetched\u001b[0m \u001b[0;34m=\u001b[0m \u001b[0mself\u001b[0m\u001b[0;34m.\u001b[0m\u001b[0m_callable_fn\u001b[0m\u001b[0;34m(\u001b[0m\u001b[0;34m*\u001b[0m\u001b[0marray_vals\u001b[0m\u001b[0;34m)\u001b[0m\u001b[0;34m\u001b[0m\u001b[0;34m\u001b[0m\u001b[0m\n\u001b[0m\u001b[1;32m   2938\u001b[0m         \u001b[0;32mreturn\u001b[0m \u001b[0mfetched\u001b[0m\u001b[0;34m[\u001b[0m\u001b[0;34m:\u001b[0m\u001b[0mlen\u001b[0m\u001b[0;34m(\u001b[0m\u001b[0mself\u001b[0m\u001b[0;34m.\u001b[0m\u001b[0moutputs\u001b[0m\u001b[0;34m)\u001b[0m\u001b[0;34m]\u001b[0m\u001b[0;34m\u001b[0m\u001b[0;34m\u001b[0m\u001b[0m\n\u001b[1;32m   2939\u001b[0m \u001b[0;34m\u001b[0m\u001b[0m\n",
            "\u001b[0;32m/usr/local/lib/python3.6/dist-packages/tensorflow_core/python/client/session.py\u001b[0m in \u001b[0;36m__call__\u001b[0;34m(self, *args, **kwargs)\u001b[0m\n\u001b[1;32m   1470\u001b[0m         ret = tf_session.TF_SessionRunCallable(self._session._session,\n\u001b[1;32m   1471\u001b[0m                                                \u001b[0mself\u001b[0m\u001b[0;34m.\u001b[0m\u001b[0m_handle\u001b[0m\u001b[0;34m,\u001b[0m \u001b[0margs\u001b[0m\u001b[0;34m,\u001b[0m\u001b[0;34m\u001b[0m\u001b[0;34m\u001b[0m\u001b[0m\n\u001b[0;32m-> 1472\u001b[0;31m                                                run_metadata_ptr)\n\u001b[0m\u001b[1;32m   1473\u001b[0m         \u001b[0;32mif\u001b[0m \u001b[0mrun_metadata\u001b[0m\u001b[0;34m:\u001b[0m\u001b[0;34m\u001b[0m\u001b[0;34m\u001b[0m\u001b[0m\n\u001b[1;32m   1474\u001b[0m           \u001b[0mproto_data\u001b[0m \u001b[0;34m=\u001b[0m \u001b[0mtf_session\u001b[0m\u001b[0;34m.\u001b[0m\u001b[0mTF_GetBuffer\u001b[0m\u001b[0;34m(\u001b[0m\u001b[0mrun_metadata_ptr\u001b[0m\u001b[0;34m)\u001b[0m\u001b[0;34m\u001b[0m\u001b[0;34m\u001b[0m\u001b[0m\n",
            "\u001b[0;31mKeyboardInterrupt\u001b[0m: "
          ]
        }
      ]
    },
    {
      "cell_type": "code",
      "metadata": {
        "id": "TPoRpiblwAf_",
        "colab_type": "code",
        "colab": {}
      },
      "source": [
        ""
      ],
      "execution_count": 0,
      "outputs": []
    },
    {
      "cell_type": "code",
      "metadata": {
        "id": "n3FtrIUQws-i",
        "colab_type": "code",
        "colab": {}
      },
      "source": [
        "for x_train,y_train in keras_generator(train,train.shape[0]):\n",
        "    break"
      ],
      "execution_count": 0,
      "outputs": []
    },
    {
      "cell_type": "code",
      "metadata": {
        "id": "Cawd69pxEWsy",
        "colab_type": "code",
        "outputId": "7835dde1-fcd4-4671-d8ac-9cc91e4605dc",
        "colab": {
          "base_uri": "https://localhost:8080/",
          "height": 35
        }
      },
      "source": [
        "x_train.shape"
      ],
      "execution_count": 37,
      "outputs": [
        {
          "output_type": "execute_result",
          "data": {
            "text/plain": [
              "(950, 64, 128, 3)"
            ]
          },
          "metadata": {
            "tags": []
          },
          "execution_count": 37
        }
      ]
    },
    {
      "cell_type": "code",
      "metadata": {
        "id": "SJ76crcIADOh",
        "colab_type": "code",
        "outputId": "43612650-e494-492a-8ab5-6aecbabfcfd3",
        "colab": {
          "base_uri": "https://localhost:8080/",
          "height": 106
        }
      },
      "source": [
        "train_loss, train_acc = model.evaluate(x_train, y_train)\n",
        "\n",
        "print('\\nТочность на обучающих данных:', train_acc)\n",
        "print('\\nОшибка на обучающих данных:', train_loss)"
      ],
      "execution_count": 39,
      "outputs": [
        {
          "output_type": "stream",
          "text": [
            "950/950 [==============================] - 1s 663us/sample - loss: 0.0017 - acc: 1.0000\n",
            "\n",
            "Точность на обучающих данных: 1.0\n",
            "\n",
            "Ошибка на обучающих данных: 0.0017289559601953155\n"
          ],
          "name": "stdout"
        }
      ]
    },
    {
      "cell_type": "code",
      "metadata": {
        "id": "ibGWZlnxoYgc",
        "colab_type": "code",
        "outputId": "87e0a9e1-7091-4866-da27-fb2a516c65d3",
        "colab": {
          "base_uri": "https://localhost:8080/",
          "height": 106
        }
      },
      "source": [
        "test_loss, test_acc = model.evaluate(x_test, y_test)\n",
        "\n",
        "print('\\nТочность на проверочных данных:', test_acc)\n",
        "print('\\nОшибка на проверочных данных:', test_loss)"
      ],
      "execution_count": 40,
      "outputs": [
        {
          "output_type": "stream",
          "text": [
            "135/135 [==============================] - 0s 424us/sample - loss: 2.0300 - acc: 0.6889\n",
            "\n",
            "Точность на проверочных данных: 0.6888889\n",
            "\n",
            "Ошибка на проверочных данных: 2.0300242053137887\n"
          ],
          "name": "stdout"
        }
      ]
    },
    {
      "cell_type": "code",
      "metadata": {
        "id": "iyAaYDgmllcP",
        "colab_type": "code",
        "colab": {}
      },
      "source": [
        ""
      ],
      "execution_count": 0,
      "outputs": []
    },
    {
      "cell_type": "code",
      "metadata": {
        "id": "sKSbNzxCllTh",
        "colab_type": "code",
        "colab": {}
      },
      "source": [
        "#model.save('neural_network_words_distance.h5') #сохранение нейросети в файл\n",
        "\n",
        "from tensorflow.keras.models import load_model\n",
        "model = load_model('!!!68!!!   neural_network_words_distance.h5') #загрузка нейросети из файла\n",
        "\n",
        "#pred = model.predict(x_test) #предсказание"
      ],
      "execution_count": 0,
      "outputs": []
    },
    {
      "cell_type": "code",
      "metadata": {
        "id": "FKxAXySolknu",
        "colab_type": "code",
        "colab": {}
      },
      "source": [
        ""
      ],
      "execution_count": 0,
      "outputs": []
    },
    {
      "cell_type": "code",
      "metadata": {
        "id": "NUKgtFrqnlDG",
        "colab_type": "code",
        "colab": {}
      },
      "source": [
        "pred = model.predict(x_test)"
      ],
      "execution_count": 0,
      "outputs": []
    },
    {
      "cell_type": "code",
      "metadata": {
        "id": "2qkiZMTZAiz7",
        "colab_type": "code",
        "outputId": "c793d42d-e092-4184-e36a-8bba2fb19c0c",
        "colab": {
          "base_uri": "https://localhost:8080/",
          "height": 35
        }
      },
      "source": [
        "pred.shape"
      ],
      "execution_count": 42,
      "outputs": [
        {
          "output_type": "execute_result",
          "data": {
            "text/plain": [
              "(135, 3)"
            ]
          },
          "metadata": {
            "tags": []
          },
          "execution_count": 42
        }
      ]
    },
    {
      "cell_type": "code",
      "metadata": {
        "id": "Ra6yiEQBAe_i",
        "colab_type": "code",
        "outputId": "d70560a4-2f6b-4628-cabe-6596dac9e007",
        "colab": {
          "base_uri": "https://localhost:8080/",
          "height": 35
        }
      },
      "source": [
        "np.argmax(pred[115]),y_test[115]"
      ],
      "execution_count": 43,
      "outputs": [
        {
          "output_type": "execute_result",
          "data": {
            "text/plain": [
              "(0, 0)"
            ]
          },
          "metadata": {
            "tags": []
          },
          "execution_count": 43
        }
      ]
    },
    {
      "cell_type": "code",
      "metadata": {
        "id": "4ajhUlfYnlLO",
        "colab_type": "code",
        "outputId": "19cf145d-397f-49e6-c12d-280a9ce4fbb1",
        "colab": {
          "base_uri": "https://localhost:8080/",
          "height": 258
        }
      },
      "source": [
        "plt.figure()\n",
        "plt.imshow(x_train[115])\n",
        "plt.colorbar()\n",
        "plt.grid(False)\n",
        "plt.show()"
      ],
      "execution_count": 44,
      "outputs": [
        {
          "output_type": "display_data",
          "data": {
            "image/png": "[encoded data removed]",
            "text/plain": [
              "<Figure size 432x288 with 2 Axes>"
            ]
          },
          "metadata": {
            "tags": []
          }
        }
      ]
    },
    {
      "cell_type": "code",
      "metadata": {
        "id": "8RMwn1xL5i9t",
        "colab_type": "code",
        "outputId": "84f2e37b-2bae-43b8-ab41-db7c6d885172",
        "colab": {
          "base_uri": "https://localhost:8080/",
          "height": 543
        }
      },
      "source": [
        "plt.figure(figsize=(10,10))\n",
        "for i in range(25):\n",
        "    plt.subplot(5,5,i+1)\n",
        "    plt.xticks([])\n",
        "    plt.yticks([])\n",
        "    plt.grid(False)\n",
        "    plt.imshow(x_train[i], cmap=plt.cm.binary)\n",
        "    plt.xlabel((y_train[i],np.argmax(pred[i])))\n",
        "plt.show()"
      ],
      "execution_count": 45,
      "outputs": [
        {
          "output_type": "display_data",
          "data": {
            "image/png": "[encoded data removed]",
            "text/plain": [
              "<Figure size 720x720 with 25 Axes>"
            ]
          },
          "metadata": {
            "tags": []
          }
        }
      ]
    },
    {
      "cell_type": "code",
      "metadata": {
        "id": "tdmjIGRt5jCN",
        "colab_type": "code",
        "colab": {}
      },
      "source": [
        ""
      ],
      "execution_count": 0,
      "outputs": []
    },
    {
      "cell_type": "code",
      "metadata": {
        "id": "k2y7AITSnlOk",
        "colab_type": "code",
        "outputId": "0b919a51-7087-473c-e12d-24218f514a74",
        "colab": {
          "base_uri": "https://localhost:8080/",
          "height": 220
        }
      },
      "source": [
        "way='142.jpg'\n",
        "#img = Image.open(way)\n",
        "img = cv2.imread(way)\n",
        "plt.imshow(img)\n",
        "img = cv2.resize(img, (hei, wei)) / 255."
      ],
      "execution_count": 53,
      "outputs": [
        {
          "output_type": "display_data",
          "data": {
            "image/png": "[encoded data removed]",
            "text/plain": [
              "<Figure size 432x288 with 1 Axes>"
            ]
          },
          "metadata": {
            "tags": []
          }
        }
      ]
    },
    {
      "cell_type": "code",
      "metadata": {
        "id": "ugINen2bvV0s",
        "colab_type": "code",
        "colab": {}
      },
      "source": [
        "'''def binarize_array(numpy_array):\n",
        "    \"\"\"Binarize a numpy array.\"\"\"\n",
        "    for i in range(len(numpy_array)):\n",
        "        for j in range(len(numpy_array[0])):\n",
        "            if (numpy_array[i][j][0] > 150 and numpy_array[i][j][1] > 150 and numpy_array[i][j][2] > 150\n",
        "                or numpy_array[i][j][0] > 180 or numpy_array[i][j][1] > 180 or numpy_array[i][j][2] > 180):\n",
        "                numpy_array[i][j] = 255\n",
        "            else:\n",
        "                numpy_array[i][j] = 0\n",
        "    return numpy_array\n",
        "img = binarize_array(img)\n",
        "img = cv2.resize(img, (hei, wei))\n",
        "plt.imshow(img)'''"
      ],
      "execution_count": 0,
      "outputs": []
    },
    {
      "cell_type": "code",
      "metadata": {
        "id": "OlKzeKeB4a2q",
        "colab_type": "code",
        "colab": {}
      },
      "source": [
        "pred_img = model.predict(img.reshape(1,wei,hei,3))"
      ],
      "execution_count": 0,
      "outputs": []
    },
    {
      "cell_type": "code",
      "metadata": {
        "id": "M6T35ylI4a5_",
        "colab_type": "code",
        "outputId": "bf44aae4-2cad-4b98-e12c-d7c1bdf7d33d",
        "colab": {
          "base_uri": "https://localhost:8080/",
          "height": 35
        }
      },
      "source": [
        "print('Pred_img: ',np.argmax(pred_img))"
      ],
      "execution_count": 55,
      "outputs": [
        {
          "output_type": "stream",
          "text": [
            "Pred_img:  2\n"
          ],
          "name": "stdout"
        }
      ]
    },
    {
      "cell_type": "code",
      "metadata": {
        "id": "NRgDQ1lI5a4U",
        "colab_type": "code",
        "colab": {}
      },
      "source": [
        ""
      ],
      "execution_count": 0,
      "outputs": []
    }
  ]
}