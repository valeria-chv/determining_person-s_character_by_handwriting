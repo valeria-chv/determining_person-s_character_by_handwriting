{
  "nbformat": 4,
  "nbformat_minor": 0,
  "metadata": {
    "colab": {
      "name": "!!!!!!!63_!!!!!!!   00poka_chto_eto_posledniaya_popitka_sdelat_chto_to_normalnoe.ipynb",
      "provenance": [],
      "collapsed_sections": []
    },
    "kernelspec": {
      "name": "python3",
      "display_name": "Python 3"
    },
    "accelerator": "GPU"
  },
  "cells": [
    {
      "cell_type": "code",
      "metadata": {
        "id": "ut9la1_umJnt",
        "colab_type": "code",
        "outputId": "4f4d15ce-3fb6-4238-ec50-6dd507241c88",
        "colab": {
          "base_uri": "https://localhost:8080/",
          "height": 100
        }
      },
      "source": [
        "from __future__ import absolute_import, division, print_function, unicode_literals\n",
        "\n",
        "# TensorFlow и tf.keras\n",
        "import tensorflow as tf\n",
        "import torch\n",
        "from tensorflow import keras\n",
        "#import keras\n",
        "# Вспомогательные библиотеки\n",
        "import numpy as np\n",
        "import matplotlib.pyplot as plt\n",
        "import pandas as pd\n",
        "import cv2\n",
        "\n",
        "from keras.models import Model\n",
        "from keras.layers import Input, Dense, Concatenate, Flatten, BatchNormalization\n",
        "from keras.layers import Dense, GlobalAveragePooling2D, Dropout, UpSampling2D, Conv2D, MaxPooling2D, Activation\n",
        "\n",
        "print(tf.__version__)"
      ],
      "execution_count": 1,
      "outputs": [
        {
          "output_type": "display_data",
          "data": {
            "text/html": [
              "<p style=\"color: red;\">\n",
              "The default version of TensorFlow in Colab will soon switch to TensorFlow 2.x.<br>\n",
              "We recommend you <a href=\"https://www.tensorflow.org/guide/migrate\" target=\"_blank\">upgrade</a> now \n",
              "or ensure your notebook will continue to use TensorFlow 1.x via the <code>%tensorflow_version 1.x</code> magic:\n",
              "<a href=\"https://colab.research.google.com/notebooks/tensorflow_version.ipynb\" target=\"_blank\">more info</a>.</p>\n"
            ],
            "text/plain": [
              "<IPython.core.display.HTML object>"
            ]
          },
          "metadata": {
            "tags": []
          }
        },
        {
          "output_type": "stream",
          "text": [
            "1.15.0\n"
          ],
          "name": "stdout"
        },
        {
          "output_type": "stream",
          "text": [
            "Using TensorFlow backend.\n"
          ],
          "name": "stderr"
        }
      ]
    },
    {
      "cell_type": "code",
      "metadata": {
        "id": "8a_eg6H5qI5M",
        "colab_type": "code",
        "outputId": "2a339f88-c54d-49c6-8904-5532306b91b8",
        "colab": {
          "base_uri": "https://localhost:8080/",
          "height": 1000
        }
      },
      "source": [
        "!unzip train_size.zip #images"
      ],
      "execution_count": 2,
      "outputs": [
        {
          "output_type": "stream",
          "text": [
            "Archive:  train_size.zip\n",
            "  inflating: train_size/1.jpg        \n",
            "  inflating: train_size/10.jpg       \n",
            "  inflating: train_size/100.jpg      \n",
            "  inflating: train_size/101.jpg      \n",
            "  inflating: train_size/102.jpg      \n",
            "  inflating: train_size/103.jpg      \n",
            "  inflating: train_size/104.jpg      \n",
            "  inflating: train_size/105.jpg      \n",
            "  inflating: train_size/106.jpg      \n",
            "  inflating: train_size/107.jpg      \n",
            "  inflating: train_size/108.jpg      \n",
            "  inflating: train_size/109.jpg      \n",
            "  inflating: train_size/11.jpg       \n",
            "  inflating: train_size/110.jpg      \n",
            "  inflating: train_size/111.jpg      \n",
            "  inflating: train_size/112.jpg      \n",
            "  inflating: train_size/113.jpg      \n",
            "  inflating: train_size/114.jpg      \n",
            "  inflating: train_size/115.jpg      \n",
            "  inflating: train_size/116.jpg      \n",
            "  inflating: train_size/117.jpg      \n",
            "  inflating: train_size/118.jpg      \n",
            "  inflating: train_size/119.jpg      \n",
            "  inflating: train_size/12.jpg       \n",
            "  inflating: train_size/120.jpg      \n",
            "  inflating: train_size/121.jpg      \n",
            "  inflating: train_size/122.jpg      \n",
            "  inflating: train_size/123.jpg      \n",
            "  inflating: train_size/124.jpg      \n",
            "  inflating: train_size/125.jpg      \n",
            "  inflating: train_size/126.jpg      \n",
            "  inflating: train_size/127.jpg      \n",
            "  inflating: train_size/128.jpg      \n",
            "  inflating: train_size/129.jpg      \n",
            "  inflating: train_size/13.jpg       \n",
            "  inflating: train_size/130.jpg      \n",
            "  inflating: train_size/131.jpg      \n",
            "  inflating: train_size/132.jpg      \n",
            "  inflating: train_size/133.jpg      \n",
            "  inflating: train_size/134.jpg      \n",
            "  inflating: train_size/135.jpg      \n",
            "  inflating: train_size/136.jpg      \n",
            "  inflating: train_size/137.jpg      \n",
            "  inflating: train_size/138.jpg      \n",
            "  inflating: train_size/139.jpg      \n",
            "  inflating: train_size/14.jpg       \n",
            "  inflating: train_size/140.jpg      \n",
            "  inflating: train_size/141.jpg      \n",
            "  inflating: train_size/142.jpg      \n",
            "  inflating: train_size/143.jpg      \n",
            "  inflating: train_size/144.jpg      \n",
            "  inflating: train_size/145.jpg      \n",
            "  inflating: train_size/146.jpg      \n",
            "  inflating: train_size/147.jpg      \n",
            "  inflating: train_size/148.jpg      \n",
            "  inflating: train_size/149.jpg      \n",
            "  inflating: train_size/15.jpg       \n",
            "  inflating: train_size/150.jpg      \n",
            "  inflating: train_size/151.jpg      \n",
            "  inflating: train_size/152.jpg      \n",
            "  inflating: train_size/153.jpg      \n",
            "  inflating: train_size/154.jpg      \n",
            "  inflating: train_size/155.jpg      \n",
            "  inflating: train_size/156.jpg      \n",
            "  inflating: train_size/157.jpg      \n",
            "  inflating: train_size/158.jpg      \n",
            "  inflating: train_size/159.jpg      \n",
            "  inflating: train_size/16.jpg       \n",
            "  inflating: train_size/160.jpg      \n",
            "  inflating: train_size/161.jpg      \n",
            "  inflating: train_size/162.jpg      \n",
            "  inflating: train_size/163.jpg      \n",
            "  inflating: train_size/164.jpg      \n",
            "  inflating: train_size/165.jpg      \n",
            "  inflating: train_size/166.jpg      \n",
            "  inflating: train_size/167.jpg      \n",
            "  inflating: train_size/168.jpg      \n",
            "  inflating: train_size/169.jpg      \n",
            "  inflating: train_size/17.jpg       \n",
            "  inflating: train_size/170.jpg      \n",
            "  inflating: train_size/171.jpg      \n",
            "  inflating: train_size/172.jpg      \n",
            "  inflating: train_size/173.jpg      \n",
            "  inflating: train_size/174.jpg      \n",
            "  inflating: train_size/175.jpg      \n",
            "  inflating: train_size/176.jpg      \n",
            "  inflating: train_size/177.jpg      \n",
            "  inflating: train_size/178.jpg      \n",
            "  inflating: train_size/179.jpg      \n",
            "  inflating: train_size/18.jpg       \n",
            "  inflating: train_size/180.jpg      \n",
            "  inflating: train_size/181.jpg      \n",
            "  inflating: train_size/182.jpg      \n",
            "  inflating: train_size/183.jpg      \n",
            "  inflating: train_size/184.jpg      \n",
            "  inflating: train_size/185.jpg      \n",
            "  inflating: train_size/186.jpg      \n",
            "  inflating: train_size/187.jpg      \n",
            "  inflating: train_size/188.jpg      \n",
            "  inflating: train_size/189.jpg      \n",
            "  inflating: train_size/19.jpg       \n",
            "  inflating: train_size/190.jpg      \n",
            "  inflating: train_size/191.jpg      \n",
            "  inflating: train_size/192.jpg      \n",
            "  inflating: train_size/193.jpg      \n",
            "  inflating: train_size/194.jpg      \n",
            "  inflating: train_size/195.jpg      \n",
            "  inflating: train_size/196.jpg      \n",
            "  inflating: train_size/197.jpg      \n",
            "  inflating: train_size/198.jpg      \n",
            "  inflating: train_size/199.jpg      \n",
            "  inflating: train_size/2.jpg        \n",
            "  inflating: train_size/20.jpg       \n",
            "  inflating: train_size/200.jpg      \n",
            "  inflating: train_size/201.jpg      \n",
            "  inflating: train_size/202.jpg      \n",
            "  inflating: train_size/203.jpg      \n",
            "  inflating: train_size/204.jpg      \n",
            "  inflating: train_size/205.jpg      \n",
            "  inflating: train_size/206.jpg      \n",
            "  inflating: train_size/207.jpg      \n",
            "  inflating: train_size/208.jpg      \n",
            "  inflating: train_size/209.jpg      \n",
            "  inflating: train_size/21.jpg       \n",
            "  inflating: train_size/210.jpg      \n",
            "  inflating: train_size/211.jpg      \n",
            "  inflating: train_size/212.jpg      \n",
            "  inflating: train_size/213.jpg      \n",
            "  inflating: train_size/214.jpg      \n",
            "  inflating: train_size/215.jpg      \n",
            "  inflating: train_size/216.jpg      \n",
            "  inflating: train_size/217.jpg      \n",
            "  inflating: train_size/218.jpg      \n",
            "  inflating: train_size/219.jpg      \n",
            "  inflating: train_size/22.jpg       \n",
            "  inflating: train_size/220.jpg      \n",
            "  inflating: train_size/221.jpg      \n",
            "  inflating: train_size/222.jpg      \n",
            "  inflating: train_size/223.jpg      \n",
            "  inflating: train_size/224.jpg      \n",
            "  inflating: train_size/225.jpg      \n",
            "  inflating: train_size/226.jpg      \n",
            "  inflating: train_size/227.jpg      \n",
            "  inflating: train_size/228.jpg      \n",
            "  inflating: train_size/229.jpg      \n",
            "  inflating: train_size/23.jpg       \n",
            "  inflating: train_size/230.jpg      \n",
            "  inflating: train_size/231.jpg      \n",
            "  inflating: train_size/232.jpg      \n",
            "  inflating: train_size/233.jpg      \n",
            "  inflating: train_size/234.jpg      \n",
            "  inflating: train_size/235.jpg      \n",
            "  inflating: train_size/236.jpg      \n",
            "  inflating: train_size/237.jpg      \n",
            "  inflating: train_size/238.jpg      \n",
            "  inflating: train_size/239.jpg      \n",
            "  inflating: train_size/24.jpg       \n",
            "  inflating: train_size/240.jpg      \n",
            "  inflating: train_size/241.jpg      \n",
            "  inflating: train_size/242.jpg      \n",
            "  inflating: train_size/243.jpg      \n",
            "  inflating: train_size/244.jpg      \n",
            "  inflating: train_size/245.jpg      \n",
            "  inflating: train_size/246.jpg      \n",
            "  inflating: train_size/247.jpg      \n",
            "  inflating: train_size/248.jpg      \n",
            "  inflating: train_size/249.jpg      \n",
            "  inflating: train_size/25.jpg       \n",
            "  inflating: train_size/250.jpg      \n",
            "  inflating: train_size/251.jpg      \n",
            "  inflating: train_size/252.jpg      \n",
            "  inflating: train_size/253.jpg      \n",
            "  inflating: train_size/254.jpg      \n",
            "  inflating: train_size/255.jpg      \n",
            "  inflating: train_size/256.jpg      \n",
            "  inflating: train_size/257.jpg      \n",
            "  inflating: train_size/258.jpg      \n",
            "  inflating: train_size/259.jpg      \n",
            "  inflating: train_size/26.jpg       \n",
            "  inflating: train_size/260.jpg      \n",
            "  inflating: train_size/261.jpg      \n",
            "  inflating: train_size/262.jpg      \n",
            "  inflating: train_size/263.jpg      \n",
            "  inflating: train_size/264.jpg      \n",
            "  inflating: train_size/265.jpg      \n",
            "  inflating: train_size/266.jpg      \n",
            "  inflating: train_size/267.jpg      \n",
            "  inflating: train_size/268.jpg      \n",
            "  inflating: train_size/269.jpg      \n",
            "  inflating: train_size/27.jpg       \n",
            "  inflating: train_size/270.jpg      \n",
            "  inflating: train_size/271.jpg      \n",
            "  inflating: train_size/272.jpg      \n",
            "  inflating: train_size/273.jpg      \n",
            "  inflating: train_size/274.jpg      \n",
            "  inflating: train_size/275.jpg      \n",
            "  inflating: train_size/276.jpg      \n",
            "  inflating: train_size/277.jpg      \n",
            "  inflating: train_size/278.jpg      \n",
            "  inflating: train_size/279.jpg      \n",
            "  inflating: train_size/28.jpg       \n",
            "  inflating: train_size/280.jpg      \n",
            "  inflating: train_size/281.jpg      \n",
            "  inflating: train_size/282.jpg      \n",
            "  inflating: train_size/283.jpg      \n",
            "  inflating: train_size/284.jpg      \n",
            "  inflating: train_size/285.jpg      \n",
            "  inflating: train_size/286.jpg      \n",
            "  inflating: train_size/287.jpg      \n",
            "  inflating: train_size/288.jpg      \n",
            "  inflating: train_size/289.jpg      \n",
            "  inflating: train_size/29.jpg       \n",
            "  inflating: train_size/290.jpg      \n",
            "  inflating: train_size/291.jpg      \n",
            "  inflating: train_size/292.jpg      \n",
            "  inflating: train_size/293.jpg      \n",
            "  inflating: train_size/294.jpg      \n",
            "  inflating: train_size/295.jpg      \n",
            "  inflating: train_size/296.jpg      \n",
            "  inflating: train_size/297.jpg      \n",
            "  inflating: train_size/298.jpg      \n",
            "  inflating: train_size/299.jpg      \n",
            "  inflating: train_size/3.jpg        \n",
            "  inflating: train_size/30.jpg       \n",
            "  inflating: train_size/300.jpg      \n",
            "  inflating: train_size/301.jpg      \n",
            "  inflating: train_size/302.jpg      \n",
            "  inflating: train_size/303.jpg      \n",
            "  inflating: train_size/304.jpg      \n",
            "  inflating: train_size/305.jpg      \n",
            "  inflating: train_size/306.jpg      \n",
            "  inflating: train_size/307.jpg      \n",
            "  inflating: train_size/308.jpg      \n",
            "  inflating: train_size/309.jpg      \n",
            "  inflating: train_size/31.jpg       \n",
            "  inflating: train_size/310.jpg      \n",
            "  inflating: train_size/311.jpg      \n",
            "  inflating: train_size/312.jpg      \n",
            "  inflating: train_size/313.jpg      \n",
            "  inflating: train_size/314.jpg      \n",
            "  inflating: train_size/315.jpg      \n",
            "  inflating: train_size/316.jpg      \n",
            "  inflating: train_size/317.jpg      \n",
            "  inflating: train_size/318.jpg      \n",
            "  inflating: train_size/319.jpg      \n",
            "  inflating: train_size/32.jpg       \n",
            "  inflating: train_size/320.jpg      \n",
            "  inflating: train_size/321.jpg      \n",
            "  inflating: train_size/322.jpg      \n",
            "  inflating: train_size/323.jpg      \n",
            "  inflating: train_size/324.jpg      \n",
            "  inflating: train_size/325.jpg      \n",
            "  inflating: train_size/326.jpg      \n",
            "  inflating: train_size/327.jpg      \n",
            "  inflating: train_size/328.jpg      \n",
            "  inflating: train_size/329.jpg      \n",
            "  inflating: train_size/33.jpg       \n",
            "  inflating: train_size/330.jpg      \n",
            "  inflating: train_size/331.jpg      \n",
            "  inflating: train_size/332.jpg      \n",
            "  inflating: train_size/333.jpg      \n",
            "  inflating: train_size/334.jpg      \n",
            "  inflating: train_size/335.jpg      \n",
            "  inflating: train_size/336.jpg      \n",
            "  inflating: train_size/337.jpg      \n",
            "  inflating: train_size/338.jpg      \n",
            "  inflating: train_size/339.jpg      \n",
            "  inflating: train_size/34.jpg       \n",
            "  inflating: train_size/340.jpg      \n",
            "  inflating: train_size/341.jpg      \n",
            "  inflating: train_size/342.jpg      \n",
            "  inflating: train_size/343.jpg      \n",
            "  inflating: train_size/344.jpg      \n",
            "  inflating: train_size/345.jpg      \n",
            "  inflating: train_size/346.jpg      \n",
            "  inflating: train_size/347.jpg      \n",
            "  inflating: train_size/348.jpg      \n",
            "  inflating: train_size/349.jpg      \n",
            "  inflating: train_size/35.jpg       \n",
            "  inflating: train_size/350.jpg      \n",
            "  inflating: train_size/351.jpg      \n",
            "  inflating: train_size/352.jpg      \n",
            "  inflating: train_size/353.jpg      \n",
            "  inflating: train_size/354.jpg      \n",
            "  inflating: train_size/355.jpg      \n",
            "  inflating: train_size/356.jpg      \n",
            "  inflating: train_size/357.jpg      \n",
            "  inflating: train_size/358.jpg      \n",
            "  inflating: train_size/359.jpg      \n",
            "  inflating: train_size/36.jpg       \n",
            "  inflating: train_size/360.jpg      \n",
            "  inflating: train_size/361.jpg      \n",
            "  inflating: train_size/362.jpg      \n",
            "  inflating: train_size/363.jpg      \n",
            "  inflating: train_size/364.jpg      \n",
            "  inflating: train_size/365.jpg      \n",
            "  inflating: train_size/366.jpg      \n",
            "  inflating: train_size/367.jpg      \n",
            "  inflating: train_size/368.jpg      \n",
            "  inflating: train_size/369.jpg      \n",
            "  inflating: train_size/37.jpg       \n",
            "  inflating: train_size/370.jpg      \n",
            "  inflating: train_size/371.jpg      \n",
            "  inflating: train_size/372.jpg      \n",
            "  inflating: train_size/373.jpg      \n",
            "  inflating: train_size/374.jpg      \n",
            "  inflating: train_size/375.jpg      \n",
            "  inflating: train_size/376.jpg      \n",
            "  inflating: train_size/377.jpg      \n",
            "  inflating: train_size/378.jpg      \n",
            "  inflating: train_size/379.jpg      \n",
            "  inflating: train_size/38.jpg       \n",
            "  inflating: train_size/380.jpg      \n",
            "  inflating: train_size/381.jpg      \n",
            "  inflating: train_size/382.jpg      \n",
            "  inflating: train_size/383.jpg      \n",
            "  inflating: train_size/384.jpg      \n",
            "  inflating: train_size/385.jpg      \n",
            "  inflating: train_size/386.jpg      \n",
            "  inflating: train_size/387.jpg      \n",
            "  inflating: train_size/388.jpg      \n",
            "  inflating: train_size/389.jpg      \n",
            "  inflating: train_size/39.jpg       \n",
            "  inflating: train_size/390.jpg      \n",
            "  inflating: train_size/391.jpg      \n",
            "  inflating: train_size/392.jpg      \n",
            "  inflating: train_size/393.jpg      \n",
            "  inflating: train_size/394.jpg      \n",
            "  inflating: train_size/395.jpg      \n",
            "  inflating: train_size/396.jpg      \n",
            "  inflating: train_size/397.jpg      \n",
            "  inflating: train_size/398.jpg      \n",
            "  inflating: train_size/399.jpg      \n",
            "  inflating: train_size/4.jpg        \n",
            "  inflating: train_size/40.jpg       \n",
            "  inflating: train_size/400.jpg      \n",
            "  inflating: train_size/401.jpg      \n",
            "  inflating: train_size/402.jpg      \n",
            "  inflating: train_size/403.jpg      \n",
            "  inflating: train_size/404.jpg      \n",
            "  inflating: train_size/405.jpg      \n",
            "  inflating: train_size/406.jpg      \n",
            "  inflating: train_size/407.jpg      \n",
            "  inflating: train_size/408.jpg      \n",
            "  inflating: train_size/409.jpg      \n",
            "  inflating: train_size/41.jpg       \n",
            "  inflating: train_size/410.jpg      \n",
            "  inflating: train_size/411.jpg      \n",
            "  inflating: train_size/412.jpg      \n",
            "  inflating: train_size/413.jpg      \n",
            "  inflating: train_size/414.jpg      \n",
            "  inflating: train_size/415.jpg      \n",
            "  inflating: train_size/416.jpg      \n",
            "  inflating: train_size/417.jpg      \n",
            "  inflating: train_size/418.jpg      \n",
            "  inflating: train_size/419.jpg      \n",
            "  inflating: train_size/42.jpg       \n",
            "  inflating: train_size/420.jpg      \n",
            "  inflating: train_size/421.jpg      \n",
            "  inflating: train_size/422.jpg      \n",
            "  inflating: train_size/423.jpg      \n",
            "  inflating: train_size/424.jpg      \n",
            "  inflating: train_size/425.jpg      \n",
            "  inflating: train_size/426.jpg      \n",
            "  inflating: train_size/427.jpg      \n",
            "  inflating: train_size/428.jpg      \n",
            "  inflating: train_size/429.jpg      \n",
            "  inflating: train_size/43.jpg       \n",
            "  inflating: train_size/430.jpg      \n",
            "  inflating: train_size/431.jpg      \n",
            "  inflating: train_size/432.jpg      \n",
            "  inflating: train_size/433.jpg      \n",
            "  inflating: train_size/434.jpg      \n",
            "  inflating: train_size/435.jpg      \n",
            "  inflating: train_size/436.jpg      \n",
            "  inflating: train_size/437.jpg      \n",
            "  inflating: train_size/438.jpg      \n",
            "  inflating: train_size/439.jpg      \n",
            "  inflating: train_size/44.jpg       \n",
            "  inflating: train_size/440.jpg      \n",
            "  inflating: train_size/441.jpg      \n",
            "  inflating: train_size/442.jpg      \n",
            "  inflating: train_size/443.jpg      \n",
            "  inflating: train_size/444.jpg      \n",
            "  inflating: train_size/445.jpg      \n",
            "  inflating: train_size/446.jpg      \n",
            "  inflating: train_size/447.jpg      \n",
            "  inflating: train_size/448.jpg      \n",
            "  inflating: train_size/449.jpg      \n",
            "  inflating: train_size/45.jpg       \n",
            "  inflating: train_size/450.jpg      \n",
            "  inflating: train_size/451.jpg      \n",
            "  inflating: train_size/452.jpg      \n",
            "  inflating: train_size/453.jpg      \n",
            "  inflating: train_size/454.jpg      \n",
            "  inflating: train_size/455.jpg      \n",
            "  inflating: train_size/456.jpg      \n",
            "  inflating: train_size/457.jpg      \n",
            "  inflating: train_size/458.jpg      \n",
            "  inflating: train_size/459.jpg      \n",
            "  inflating: train_size/46.jpg       \n",
            "  inflating: train_size/460.jpg      \n",
            "  inflating: train_size/461.jpg      \n",
            "  inflating: train_size/462.jpg      \n",
            "  inflating: train_size/463.jpg      \n",
            "  inflating: train_size/464.jpg      \n",
            "  inflating: train_size/465.jpg      \n",
            "  inflating: train_size/466.jpg      \n",
            "  inflating: train_size/467.jpg      \n",
            "  inflating: train_size/468.jpg      \n",
            "  inflating: train_size/469.jpg      \n",
            "  inflating: train_size/47.jpg       \n",
            "  inflating: train_size/470.jpg      \n",
            "  inflating: train_size/471.jpg      \n",
            "  inflating: train_size/472.jpg      \n",
            "  inflating: train_size/473.jpg      \n",
            "  inflating: train_size/474.jpg      \n",
            "  inflating: train_size/475.jpg      \n",
            "  inflating: train_size/476.jpg      \n",
            "  inflating: train_size/477.jpg      \n",
            "  inflating: train_size/478.jpg      \n",
            "  inflating: train_size/479.jpg      \n",
            "  inflating: train_size/48.jpg       \n",
            "  inflating: train_size/480.jpg      \n",
            "  inflating: train_size/481.jpg      \n",
            "  inflating: train_size/482.jpg      \n",
            "  inflating: train_size/483.jpg      \n",
            "  inflating: train_size/484.jpg      \n",
            "  inflating: train_size/485.jpg      \n",
            "  inflating: train_size/486.jpg      \n",
            "  inflating: train_size/487.jpg      \n",
            "  inflating: train_size/488.jpg      \n",
            "  inflating: train_size/489.jpg      \n",
            "  inflating: train_size/49.jpg       \n",
            "  inflating: train_size/490.jpg      \n",
            "  inflating: train_size/491.jpg      \n",
            "  inflating: train_size/492.jpg      \n",
            "  inflating: train_size/493.jpg      \n",
            "  inflating: train_size/494.jpg      \n",
            "  inflating: train_size/495.jpg      \n",
            "  inflating: train_size/496.jpg      \n",
            "  inflating: train_size/497.jpg      \n",
            "  inflating: train_size/498.jpg      \n",
            "  inflating: train_size/499.jpg      \n",
            "  inflating: train_size/5.jpg        \n",
            "  inflating: train_size/50.jpg       \n",
            "  inflating: train_size/500.jpg      \n",
            "  inflating: train_size/501.jpg      \n",
            "  inflating: train_size/502.jpg      \n",
            "  inflating: train_size/503.jpg      \n",
            "  inflating: train_size/504.jpg      \n",
            "  inflating: train_size/505.jpg      \n",
            "  inflating: train_size/506.jpg      \n",
            "  inflating: train_size/507.jpg      \n",
            "  inflating: train_size/508.jpg      \n",
            "  inflating: train_size/509.jpg      \n",
            "  inflating: train_size/51.jpg       \n",
            "  inflating: train_size/510.jpg      \n",
            "  inflating: train_size/511.jpg      \n",
            "  inflating: train_size/512.jpg      \n",
            "  inflating: train_size/513.jpg      \n",
            "  inflating: train_size/514.jpg      \n",
            "  inflating: train_size/515.jpg      \n",
            "  inflating: train_size/516.jpg      \n",
            "  inflating: train_size/517.jpg      \n",
            "  inflating: train_size/518.jpg      \n",
            "  inflating: train_size/519.jpg      \n",
            "  inflating: train_size/52.jpg       \n",
            "  inflating: train_size/520.jpg      \n",
            "  inflating: train_size/521.jpg      \n",
            "  inflating: train_size/522.jpg      \n",
            "  inflating: train_size/523.jpg      \n",
            "  inflating: train_size/524.jpg      \n",
            "  inflating: train_size/525.jpg      \n",
            "  inflating: train_size/526.jpg      \n",
            "  inflating: train_size/527.jpg      \n",
            "  inflating: train_size/528.jpg      \n",
            "  inflating: train_size/529.jpg      \n",
            "  inflating: train_size/53.jpg       \n",
            "  inflating: train_size/530.jpg      \n",
            "  inflating: train_size/531.jpg      \n",
            "  inflating: train_size/532.jpg      \n",
            "  inflating: train_size/533.jpg      \n",
            "  inflating: train_size/534.jpg      \n",
            "  inflating: train_size/535.jpg      \n",
            "  inflating: train_size/536.jpg      \n",
            "  inflating: train_size/537.jpg      \n",
            "  inflating: train_size/538.jpg      \n",
            "  inflating: train_size/539.jpg      \n",
            "  inflating: train_size/54.jpg       \n",
            "  inflating: train_size/540.jpg      \n",
            "  inflating: train_size/541.jpg      \n",
            "  inflating: train_size/542.jpg      \n",
            "  inflating: train_size/543.jpg      \n",
            "  inflating: train_size/544.jpg      \n",
            "  inflating: train_size/545.jpg      \n",
            "  inflating: train_size/546.jpg      \n",
            "  inflating: train_size/547.jpg      \n",
            "  inflating: train_size/548.jpg      \n",
            "  inflating: train_size/549.jpg      \n",
            "  inflating: train_size/55.jpg       \n",
            "  inflating: train_size/550.jpg      \n",
            "  inflating: train_size/551.jpg      \n",
            "  inflating: train_size/552.jpg      \n",
            "  inflating: train_size/553.jpg      \n",
            "  inflating: train_size/554.jpg      \n",
            "  inflating: train_size/555.jpg      \n",
            "  inflating: train_size/556.jpg      \n",
            "  inflating: train_size/557.jpg      \n",
            "  inflating: train_size/558.jpg      \n",
            "  inflating: train_size/559.jpg      \n",
            "  inflating: train_size/56.jpg       \n",
            "  inflating: train_size/560.jpg      \n",
            "  inflating: train_size/561.jpg      \n",
            "  inflating: train_size/562.jpg      \n",
            "  inflating: train_size/563.jpg      \n",
            "  inflating: train_size/564.jpg      \n",
            "  inflating: train_size/565.jpg      \n",
            "  inflating: train_size/566.jpg      \n",
            "  inflating: train_size/567.jpg      \n",
            "  inflating: train_size/568.jpg      \n",
            "  inflating: train_size/569.jpg      \n",
            "  inflating: train_size/57.jpg       \n",
            "  inflating: train_size/570.jpg      \n",
            "  inflating: train_size/571.jpg      \n",
            "  inflating: train_size/572.jpg      \n",
            "  inflating: train_size/573.jpg      \n",
            "  inflating: train_size/574.jpg      \n",
            "  inflating: train_size/575.jpg      \n",
            "  inflating: train_size/576.jpg      \n",
            "  inflating: train_size/577.jpg      \n",
            "  inflating: train_size/578.jpg      \n",
            "  inflating: train_size/579.jpg      \n",
            "  inflating: train_size/58.jpg       \n",
            "  inflating: train_size/580.jpg      \n",
            "  inflating: train_size/581.jpg      \n",
            "  inflating: train_size/582.jpg      \n",
            "  inflating: train_size/583.jpg      \n",
            "  inflating: train_size/584.jpg      \n",
            "  inflating: train_size/585.jpg      \n",
            "  inflating: train_size/586.jpg      \n",
            "  inflating: train_size/587.jpg      \n",
            "  inflating: train_size/588.jpg      \n",
            "  inflating: train_size/589.jpg      \n",
            "  inflating: train_size/59.jpg       \n",
            "  inflating: train_size/590.jpg      \n",
            "  inflating: train_size/591.jpg      \n",
            "  inflating: train_size/592.jpg      \n",
            "  inflating: train_size/593.jpg      \n",
            "  inflating: train_size/594.jpg      \n",
            "  inflating: train_size/595.jpg      \n",
            "  inflating: train_size/596.jpg      \n",
            "  inflating: train_size/597.jpg      \n",
            "  inflating: train_size/598.jpg      \n",
            "  inflating: train_size/599.jpg      \n",
            "  inflating: train_size/6.jpg        \n",
            "  inflating: train_size/60.jpg       \n",
            "  inflating: train_size/600.jpg      \n",
            "  inflating: train_size/601.jpg      \n",
            "  inflating: train_size/602.jpg      \n",
            "  inflating: train_size/603.jpg      \n",
            "  inflating: train_size/604.jpg      \n",
            "  inflating: train_size/605.jpg      \n",
            "  inflating: train_size/606.jpg      \n",
            "  inflating: train_size/607.jpg      \n",
            "  inflating: train_size/608.jpg      \n",
            "  inflating: train_size/609.jpg      \n",
            "  inflating: train_size/61.jpg       \n",
            "  inflating: train_size/610.jpg      \n",
            "  inflating: train_size/611.jpg      \n",
            "  inflating: train_size/612.jpg      \n",
            "  inflating: train_size/613.jpg      \n",
            "  inflating: train_size/614.jpg      \n",
            "  inflating: train_size/615.jpg      \n",
            "  inflating: train_size/616.jpg      \n",
            "  inflating: train_size/617.jpg      \n",
            "  inflating: train_size/618.jpg      \n",
            "  inflating: train_size/619.jpg      \n",
            "  inflating: train_size/62.jpg       \n",
            "  inflating: train_size/620.jpg      \n",
            "  inflating: train_size/621.jpg      \n",
            "  inflating: train_size/622.jpg      \n",
            "  inflating: train_size/623.jpg      \n",
            "  inflating: train_size/624.jpg      \n",
            "  inflating: train_size/625.jpg      \n",
            "  inflating: train_size/626.jpg      \n",
            "  inflating: train_size/627.jpg      \n",
            "  inflating: train_size/628.jpg      \n",
            "  inflating: train_size/629.jpg      \n",
            "  inflating: train_size/63.jpg       \n",
            "  inflating: train_size/630.jpg      \n",
            "  inflating: train_size/631.jpg      \n",
            "  inflating: train_size/632.jpg      \n",
            "  inflating: train_size/633.jpg      \n",
            "  inflating: train_size/634.jpg      \n",
            "  inflating: train_size/635.jpg      \n",
            "  inflating: train_size/636.jpg      \n",
            "  inflating: train_size/637.jpg      \n",
            "  inflating: train_size/638.jpg      \n",
            "  inflating: train_size/639.jpg      \n",
            "  inflating: train_size/64.jpg       \n",
            "  inflating: train_size/640.jpg      \n",
            "  inflating: train_size/641.jpg      \n",
            "  inflating: train_size/642.jpg      \n",
            "  inflating: train_size/643.jpg      \n",
            "  inflating: train_size/644.jpg      \n",
            "  inflating: train_size/645.jpg      \n",
            "  inflating: train_size/646.jpg      \n",
            "  inflating: train_size/647.jpg      \n",
            "  inflating: train_size/648.jpg      \n",
            "  inflating: train_size/649.jpg      \n",
            "  inflating: train_size/65.jpg       \n",
            "  inflating: train_size/650.jpg      \n",
            "  inflating: train_size/651.jpg      \n",
            "  inflating: train_size/652.jpg      \n",
            "  inflating: train_size/653.jpg      \n",
            "  inflating: train_size/654.jpg      \n",
            "  inflating: train_size/655.jpg      \n",
            "  inflating: train_size/656.jpg      \n",
            "  inflating: train_size/657.jpg      \n",
            "  inflating: train_size/658.jpg      \n",
            "  inflating: train_size/659.jpg      \n",
            "  inflating: train_size/66.jpg       \n",
            "  inflating: train_size/660.jpg      \n",
            "  inflating: train_size/661.jpg      \n",
            "  inflating: train_size/662.jpg      \n",
            "  inflating: train_size/663.jpg      \n",
            "  inflating: train_size/664.jpg      \n",
            "  inflating: train_size/665.jpg      \n",
            "  inflating: train_size/666.jpg      \n",
            "  inflating: train_size/667.jpg      \n",
            "  inflating: train_size/668.jpg      \n",
            "  inflating: train_size/669.jpg      \n",
            "  inflating: train_size/67.jpg       \n",
            "  inflating: train_size/670.jpg      \n",
            "  inflating: train_size/671.jpg      \n",
            "  inflating: train_size/672.jpg      \n",
            "  inflating: train_size/673.jpg      \n",
            "  inflating: train_size/674.jpg      \n",
            "  inflating: train_size/675.jpg      \n",
            "  inflating: train_size/676.jpg      \n",
            "  inflating: train_size/677.jpg      \n",
            "  inflating: train_size/678.jpg      \n",
            "  inflating: train_size/679.jpg      \n",
            "  inflating: train_size/68.jpg       \n",
            "  inflating: train_size/680.jpg      \n",
            "  inflating: train_size/681.jpg      \n",
            "  inflating: train_size/682.jpg      \n",
            "  inflating: train_size/683.jpg      \n",
            "  inflating: train_size/684.jpg      \n",
            "  inflating: train_size/685.jpg      \n",
            "  inflating: train_size/686.jpg      \n",
            "  inflating: train_size/687.jpg      \n",
            "  inflating: train_size/688.jpg      \n",
            "  inflating: train_size/689.jpg      \n",
            "  inflating: train_size/69.jpg       \n",
            "  inflating: train_size/690.jpg      \n",
            "  inflating: train_size/691.jpg      \n",
            "  inflating: train_size/692.jpg      \n",
            "  inflating: train_size/693.jpg      \n",
            "  inflating: train_size/694.jpg      \n",
            "  inflating: train_size/695.jpg      \n",
            "  inflating: train_size/696.jpg      \n",
            "  inflating: train_size/697.jpg      \n",
            "  inflating: train_size/698.jpg      \n",
            "  inflating: train_size/699.jpg      \n",
            "  inflating: train_size/7.jpg        \n",
            "  inflating: train_size/70.jpg       \n",
            "  inflating: train_size/700.jpg      \n",
            "  inflating: train_size/701.jpg      \n",
            "  inflating: train_size/702.jpg      \n",
            "  inflating: train_size/703.jpg      \n",
            "  inflating: train_size/704.jpg      \n",
            "  inflating: train_size/705.jpg      \n",
            "  inflating: train_size/706.jpg      \n",
            "  inflating: train_size/707.jpg      \n",
            "  inflating: train_size/708.jpg      \n",
            "  inflating: train_size/709.jpg      \n",
            "  inflating: train_size/71.jpg       \n",
            "  inflating: train_size/710.jpg      \n",
            "  inflating: train_size/711.jpg      \n",
            "  inflating: train_size/712.jpg      \n",
            "  inflating: train_size/713.jpg      \n",
            "  inflating: train_size/714.jpg      \n",
            "  inflating: train_size/715.jpg      \n",
            "  inflating: train_size/716.jpg      \n",
            "  inflating: train_size/717.jpg      \n",
            "  inflating: train_size/718.jpg      \n",
            "  inflating: train_size/719.jpg      \n",
            "  inflating: train_size/72.jpg       \n",
            "  inflating: train_size/720.jpg      \n",
            "  inflating: train_size/721.jpg      \n",
            "  inflating: train_size/722.jpg      \n",
            "  inflating: train_size/723.jpg      \n",
            "  inflating: train_size/724.jpg      \n",
            "  inflating: train_size/725.jpg      \n",
            "  inflating: train_size/726.jpg      \n",
            "  inflating: train_size/727.jpg      \n",
            "  inflating: train_size/728.jpg      \n",
            "  inflating: train_size/729.jpg      \n",
            "  inflating: train_size/73.jpg       \n",
            "  inflating: train_size/730.jpg      \n",
            "  inflating: train_size/731.jpg      \n",
            "  inflating: train_size/732.jpg      \n",
            "  inflating: train_size/733.jpg      \n",
            "  inflating: train_size/734.jpg      \n",
            "  inflating: train_size/735.jpg      \n",
            "  inflating: train_size/736.jpg      \n",
            "  inflating: train_size/737.jpg      \n",
            "  inflating: train_size/738.jpg      \n",
            "  inflating: train_size/739.jpg      \n",
            "  inflating: train_size/74.jpg       \n",
            "  inflating: train_size/740.jpg      \n",
            "  inflating: train_size/741.jpg      \n",
            "  inflating: train_size/742.jpg      \n",
            "  inflating: train_size/743.jpg      \n",
            "  inflating: train_size/744.jpg      \n",
            "  inflating: train_size/745.jpg      \n",
            "  inflating: train_size/746.jpg      \n",
            "  inflating: train_size/747.jpg      \n",
            "  inflating: train_size/748.jpg      \n",
            "  inflating: train_size/749.jpg      \n",
            "  inflating: train_size/75.jpg       \n",
            "  inflating: train_size/750.jpg      \n",
            "  inflating: train_size/751.jpg      \n",
            "  inflating: train_size/752.jpg      \n",
            "  inflating: train_size/753.jpg      \n",
            "  inflating: train_size/754.jpg      \n",
            "  inflating: train_size/755.jpg      \n",
            "  inflating: train_size/756.jpg      \n",
            "  inflating: train_size/757.jpg      \n",
            "  inflating: train_size/758.jpg      \n",
            "  inflating: train_size/759.jpg      \n",
            "  inflating: train_size/76.jpg       \n",
            "  inflating: train_size/760.jpg      \n",
            "  inflating: train_size/761.jpg      \n",
            "  inflating: train_size/762.jpg      \n",
            "  inflating: train_size/763.jpg      \n",
            "  inflating: train_size/764.jpg      \n",
            "  inflating: train_size/765.jpg      \n",
            "  inflating: train_size/766.jpg      \n",
            "  inflating: train_size/767.jpg      \n",
            "  inflating: train_size/768.jpg      \n",
            "  inflating: train_size/769.jpg      \n",
            "  inflating: train_size/77.jpg       \n",
            "  inflating: train_size/770.jpg      \n",
            "  inflating: train_size/771.jpg      \n",
            "  inflating: train_size/772.jpg      \n",
            "  inflating: train_size/773.jpg      \n",
            "  inflating: train_size/774.jpg      \n",
            "  inflating: train_size/775.jpg      \n",
            "  inflating: train_size/776.jpg      \n",
            "  inflating: train_size/777.jpg      \n",
            "  inflating: train_size/778.jpg      \n",
            "  inflating: train_size/779.jpg      \n",
            "  inflating: train_size/78.jpg       \n",
            "  inflating: train_size/780.jpg      \n",
            "  inflating: train_size/781.jpg      \n",
            "  inflating: train_size/782.jpg      \n",
            "  inflating: train_size/783.jpg      \n",
            "  inflating: train_size/784.jpg      \n",
            "  inflating: train_size/785.jpg      \n",
            "  inflating: train_size/786.jpg      \n",
            "  inflating: train_size/787.jpg      \n",
            "  inflating: train_size/788.jpg      \n",
            "  inflating: train_size/789.jpg      \n",
            "  inflating: train_size/79.jpg       \n",
            "  inflating: train_size/790.jpg      \n",
            "  inflating: train_size/791.jpg      \n",
            "  inflating: train_size/792.jpg      \n",
            "  inflating: train_size/793.jpg      \n",
            "  inflating: train_size/794.jpg      \n",
            "  inflating: train_size/795.jpg      \n",
            "  inflating: train_size/796.jpg      \n",
            "  inflating: train_size/797.jpg      \n",
            "  inflating: train_size/798.jpg      \n",
            "  inflating: train_size/799.jpg      \n",
            "  inflating: train_size/8.jpg        \n",
            "  inflating: train_size/80.jpg       \n",
            "  inflating: train_size/800.jpg      \n",
            "  inflating: train_size/801.jpg      \n",
            "  inflating: train_size/802.jpg      \n",
            "  inflating: train_size/803.jpg      \n",
            "  inflating: train_size/804.jpg      \n",
            "  inflating: train_size/805.jpg      \n",
            "  inflating: train_size/806.jpg      \n",
            "  inflating: train_size/807.jpg      \n",
            "  inflating: train_size/808.jpg      \n",
            "  inflating: train_size/809.jpg      \n",
            "  inflating: train_size/81.jpg       \n",
            "  inflating: train_size/810.jpg      \n",
            "  inflating: train_size/811.jpg      \n",
            "  inflating: train_size/812.jpg      \n",
            "  inflating: train_size/813.jpg      \n",
            "  inflating: train_size/814.jpg      \n",
            "  inflating: train_size/815.jpg      \n",
            "  inflating: train_size/816.jpg      \n",
            "  inflating: train_size/817.jpg      \n",
            "  inflating: train_size/818.jpg      \n",
            "  inflating: train_size/819.jpg      \n",
            "  inflating: train_size/82.jpg       \n",
            "  inflating: train_size/820.jpg      \n",
            "  inflating: train_size/821.jpg      \n",
            "  inflating: train_size/822.jpg      \n",
            "  inflating: train_size/823.jpg      \n",
            "  inflating: train_size/824.jpg      \n",
            "  inflating: train_size/825.jpg      \n",
            "  inflating: train_size/826.jpg      \n",
            "  inflating: train_size/827.jpg      \n",
            "  inflating: train_size/828.jpg      \n",
            "  inflating: train_size/829.jpg      \n",
            "  inflating: train_size/83.jpg       \n",
            "  inflating: train_size/830.jpg      \n",
            "  inflating: train_size/831.jpg      \n",
            "  inflating: train_size/832.jpg      \n",
            "  inflating: train_size/833.jpg      \n",
            "  inflating: train_size/834.jpg      \n",
            "  inflating: train_size/835.jpg      \n",
            "  inflating: train_size/836.jpg      \n",
            "  inflating: train_size/837.jpg      \n",
            "  inflating: train_size/838.jpg      \n",
            "  inflating: train_size/839.jpg      \n",
            "  inflating: train_size/84.jpg       \n",
            "  inflating: train_size/840.jpg      \n",
            "  inflating: train_size/841.jpg      \n",
            "  inflating: train_size/842.jpg      \n",
            "  inflating: train_size/843.jpg      \n",
            "  inflating: train_size/844.jpg      \n",
            "  inflating: train_size/845.jpg      \n",
            "  inflating: train_size/846.jpg      \n",
            "  inflating: train_size/847.jpg      \n",
            "  inflating: train_size/848.jpg      \n",
            "  inflating: train_size/849.jpg      \n",
            "  inflating: train_size/85.jpg       \n",
            "  inflating: train_size/850.jpg      \n",
            "  inflating: train_size/851.jpg      \n",
            "  inflating: train_size/852.jpg      \n",
            "  inflating: train_size/853.jpg      \n",
            "  inflating: train_size/854.jpg      \n",
            "  inflating: train_size/855.jpg      \n",
            "  inflating: train_size/856.jpg      \n",
            "  inflating: train_size/857.jpg      \n",
            "  inflating: train_size/858.jpg      \n",
            "  inflating: train_size/859.jpg      \n",
            "  inflating: train_size/86.jpg       \n",
            "  inflating: train_size/860.jpg      \n",
            "  inflating: train_size/861.jpg      \n",
            "  inflating: train_size/862.jpg      \n",
            "  inflating: train_size/863.jpg      \n",
            "  inflating: train_size/864.jpg      \n",
            "  inflating: train_size/865.jpg      \n",
            "  inflating: train_size/866.jpg      \n",
            "  inflating: train_size/867.jpg      \n",
            "  inflating: train_size/868.jpg      \n",
            "  inflating: train_size/869.jpg      \n",
            "  inflating: train_size/87.jpg       \n",
            "  inflating: train_size/870.jpg      \n",
            "  inflating: train_size/871.jpg      \n",
            "  inflating: train_size/872.jpg      \n",
            "  inflating: train_size/873.jpg      \n",
            "  inflating: train_size/874.jpg      \n",
            "  inflating: train_size/875.jpg      \n",
            "  inflating: train_size/876.jpg      \n",
            "  inflating: train_size/877.jpg      \n",
            "  inflating: train_size/878.jpg      \n",
            "  inflating: train_size/879.jpg      \n",
            "  inflating: train_size/88.jpg       \n",
            "  inflating: train_size/880.jpg      \n",
            "  inflating: train_size/881.jpg      \n",
            "  inflating: train_size/882.jpg      \n",
            "  inflating: train_size/883.jpg      \n",
            "  inflating: train_size/884.jpg      \n",
            "  inflating: train_size/885.jpg      \n",
            "  inflating: train_size/886.jpg      \n",
            "  inflating: train_size/887.jpg      \n",
            "  inflating: train_size/888.jpg      \n",
            "  inflating: train_size/889.jpg      \n",
            "  inflating: train_size/89.jpg       \n",
            "  inflating: train_size/890.jpg      \n",
            "  inflating: train_size/891.jpg      \n",
            "  inflating: train_size/892.jpg      \n",
            "  inflating: train_size/893.jpg      \n",
            "  inflating: train_size/894.jpg      \n",
            "  inflating: train_size/895.jpg      \n",
            "  inflating: train_size/896.jpg      \n",
            "  inflating: train_size/897.jpg      \n",
            "  inflating: train_size/898.jpg      \n",
            "  inflating: train_size/899.jpg      \n",
            "  inflating: train_size/9.jpg        \n",
            "  inflating: train_size/90.jpg       \n",
            "  inflating: train_size/900.jpg      \n",
            "  inflating: train_size/901.jpg      \n",
            "  inflating: train_size/902.jpg      \n",
            "  inflating: train_size/903.jpg      \n",
            "  inflating: train_size/904.jpg      \n",
            "  inflating: train_size/905.jpg      \n",
            "  inflating: train_size/91.jpg       \n",
            "  inflating: train_size/92.jpg       \n",
            "  inflating: train_size/93.jpg       \n",
            "  inflating: train_size/94.jpg       \n",
            "  inflating: train_size/95.jpg       \n",
            "  inflating: train_size/96.jpg       \n",
            "  inflating: train_size/97.jpg       \n",
            "  inflating: train_size/98.jpg       \n",
            "  inflating: train_size/99.jpg       \n"
          ],
          "name": "stdout"
        }
      ]
    },
    {
      "cell_type": "code",
      "metadata": {
        "id": "jFq3PL7cqZXw",
        "colab_type": "code",
        "colab": {}
      },
      "source": [
        "train = pd.read_csv('train_size.csv')"
      ],
      "execution_count": 0,
      "outputs": []
    },
    {
      "cell_type": "code",
      "metadata": {
        "id": "0XDDL185y5Ar",
        "colab_type": "code",
        "outputId": "d8b3b17c-9bf4-4968-8560-d89355523d7a",
        "colab": {
          "base_uri": "https://localhost:8080/",
          "height": 194
        }
      },
      "source": [
        "train.head()"
      ],
      "execution_count": 4,
      "outputs": [
        {
          "output_type": "execute_result",
          "data": {
            "text/html": [
              "<div>\n",
              "<style scoped>\n",
              "    .dataframe tbody tr th:only-of-type {\n",
              "        vertical-align: middle;\n",
              "    }\n",
              "\n",
              "    .dataframe tbody tr th {\n",
              "        vertical-align: top;\n",
              "    }\n",
              "\n",
              "    .dataframe thead th {\n",
              "        text-align: right;\n",
              "    }\n",
              "</style>\n",
              "<table border=\"1\" class=\"dataframe\">\n",
              "  <thead>\n",
              "    <tr style=\"text-align: right;\">\n",
              "      <th></th>\n",
              "      <th>img</th>\n",
              "      <th>size_</th>\n",
              "    </tr>\n",
              "  </thead>\n",
              "  <tbody>\n",
              "    <tr>\n",
              "      <th>0</th>\n",
              "      <td>1.jpg</td>\n",
              "      <td>1</td>\n",
              "    </tr>\n",
              "    <tr>\n",
              "      <th>1</th>\n",
              "      <td>2.jpg</td>\n",
              "      <td>2</td>\n",
              "    </tr>\n",
              "    <tr>\n",
              "      <th>2</th>\n",
              "      <td>3.jpg</td>\n",
              "      <td>2</td>\n",
              "    </tr>\n",
              "    <tr>\n",
              "      <th>3</th>\n",
              "      <td>4.jpg</td>\n",
              "      <td>0</td>\n",
              "    </tr>\n",
              "    <tr>\n",
              "      <th>4</th>\n",
              "      <td>5.jpg</td>\n",
              "      <td>0</td>\n",
              "    </tr>\n",
              "  </tbody>\n",
              "</table>\n",
              "</div>"
            ],
            "text/plain": [
              "     img  size_\n",
              "0  1.jpg      1\n",
              "1  2.jpg      2\n",
              "2  3.jpg      2\n",
              "3  4.jpg      0\n",
              "4  5.jpg      0"
            ]
          },
          "metadata": {
            "tags": []
          },
          "execution_count": 4
        }
      ]
    },
    {
      "cell_type": "code",
      "metadata": {
        "id": "md76XWSInS3S",
        "colab_type": "code",
        "outputId": "fbbb35bd-99b3-4b33-fdd6-b78041f7a8c7",
        "colab": {
          "base_uri": "https://localhost:8080/",
          "height": 35
        }
      },
      "source": [
        "train.shape"
      ],
      "execution_count": 5,
      "outputs": [
        {
          "output_type": "execute_result",
          "data": {
            "text/plain": [
              "(905, 2)"
            ]
          },
          "metadata": {
            "tags": []
          },
          "execution_count": 5
        }
      ]
    },
    {
      "cell_type": "code",
      "metadata": {
        "id": "OYFXUjcmhbAV",
        "colab_type": "code",
        "outputId": "f51bb767-a0f1-426c-d801-e88de1b213e4",
        "colab": {
          "base_uri": "https://localhost:8080/",
          "height": 35
        }
      },
      "source": [
        "train[train.size_ == 0].shape, train[train.size_ == 1].shape, train[train.size_ == 2].shape #кол-во классов"
      ],
      "execution_count": 6,
      "outputs": [
        {
          "output_type": "execute_result",
          "data": {
            "text/plain": [
              "((280, 2), (335, 2), (290, 2))"
            ]
          },
          "metadata": {
            "tags": []
          },
          "execution_count": 6
        }
      ]
    },
    {
      "cell_type": "code",
      "metadata": {
        "id": "qnra_NGnmeLJ",
        "colab_type": "code",
        "outputId": "8913aba7-042c-4a84-af02-3ce94a6d00a2",
        "colab": {
          "base_uri": "https://localhost:8080/",
          "height": 1000
        }
      },
      "source": [
        "!unzip test_size.zip #images"
      ],
      "execution_count": 7,
      "outputs": [
        {
          "output_type": "stream",
          "text": [
            "Archive:  test_size.zip\n",
            "  inflating: test_size/100.jpg       \n",
            "  inflating: test_size/101.jpg       \n",
            "  inflating: test_size/102.jpg       \n",
            "  inflating: test_size/103.jpg       \n",
            "  inflating: test_size/104.jpg       \n",
            "  inflating: test_size/105.jpg       \n",
            "  inflating: test_size/106.jpg       \n",
            "  inflating: test_size/107.jpg       \n",
            "  inflating: test_size/108.jpg       \n",
            "  inflating: test_size/109.jpg       \n",
            "  inflating: test_size/110.jpg       \n",
            "  inflating: test_size/112.jpg       \n",
            "  inflating: test_size/113.jpg       \n",
            "  inflating: test_size/114.jpg       \n",
            "  inflating: test_size/115.jpg       \n",
            "  inflating: test_size/116.jpg       \n",
            "  inflating: test_size/117.jpg       \n",
            "  inflating: test_size/118.jpg       \n",
            "  inflating: test_size/119.jpg       \n",
            "  inflating: test_size/120.jpg       \n",
            "  inflating: test_size/121.jpg       \n",
            "  inflating: test_size/122.jpg       \n",
            "  inflating: test_size/123.jpg       \n",
            "  inflating: test_size/124.jpg       \n",
            "  inflating: test_size/125.jpg       \n",
            "  inflating: test_size/126.jpg       \n",
            "  inflating: test_size/127.jpg       \n",
            "  inflating: test_size/128.jpg       \n",
            "  inflating: test_size/129.jpg       \n",
            "  inflating: test_size/130.jpg       \n",
            "  inflating: test_size/133.jpg       \n",
            "  inflating: test_size/134.jpg       \n",
            "  inflating: test_size/135.jpg       \n",
            "  inflating: test_size/136.jpg       \n",
            "  inflating: test_size/137.jpg       \n",
            "  inflating: test_size/138.jpg       \n",
            "  inflating: test_size/139.jpg       \n",
            "  inflating: test_size/140.jpg       \n",
            "  inflating: test_size/141.jpg       \n",
            "  inflating: test_size/142.jpg       \n",
            "  inflating: test_size/143.jpg       \n",
            "  inflating: test_size/144.jpg       \n",
            "  inflating: test_size/145.jpg       \n",
            "  inflating: test_size/146.jpg       \n",
            "  inflating: test_size/147.jpg       \n",
            "  inflating: test_size/148.jpg       \n",
            "  inflating: test_size/149.jpg       \n",
            "  inflating: test_size/150.jpg       \n",
            "  inflating: test_size/151.jpg       \n",
            "  inflating: test_size/152.jpg       \n",
            "  inflating: test_size/153.jpg       \n",
            "  inflating: test_size/154.jpg       \n",
            "  inflating: test_size/155.jpg       \n",
            "  inflating: test_size/156.jpg       \n",
            "  inflating: test_size/170.jpg       \n",
            "  inflating: test_size/171.jpg       \n",
            "  inflating: test_size/172.jpg       \n",
            "  inflating: test_size/173.jpg       \n",
            "  inflating: test_size/174.jpg       \n",
            "  inflating: test_size/175.jpg       \n",
            "  inflating: test_size/176.jpg       \n",
            "  inflating: test_size/177.jpg       \n",
            "  inflating: test_size/178.jpg       \n",
            "  inflating: test_size/179.jpg       \n",
            "  inflating: test_size/180.jpg       \n",
            "  inflating: test_size/181.jpg       \n",
            "  inflating: test_size/182.jpg       \n",
            "  inflating: test_size/190.jpg       \n",
            "  inflating: test_size/191.jpg       \n",
            "  inflating: test_size/192.jpg       \n",
            "  inflating: test_size/197.jpg       \n",
            "  inflating: test_size/198.jpg       \n",
            "  inflating: test_size/201.jpg       \n",
            "  inflating: test_size/202.jpg       \n",
            "  inflating: test_size/203.jpg       \n",
            "  inflating: test_size/204.jpg       \n",
            "  inflating: test_size/205.jpg       \n",
            "  inflating: test_size/206.jpg       \n",
            "  inflating: test_size/207.jpg       \n",
            "  inflating: test_size/209.jpg       \n",
            "  inflating: test_size/210.jpg       \n",
            "  inflating: test_size/211.jpg       \n",
            "  inflating: test_size/212.jpg       \n",
            "  inflating: test_size/213.jpg       \n",
            "  inflating: test_size/214.jpg       \n",
            "  inflating: test_size/215.jpg       \n",
            "  inflating: test_size/216.jpg       \n",
            "  inflating: test_size/219.jpg       \n",
            "  inflating: test_size/220.jpg       \n",
            "  inflating: test_size/221.jpg       \n",
            "  inflating: test_size/222.jpg       \n",
            "  inflating: test_size/223.jpg       \n",
            "  inflating: test_size/224.jpg       \n",
            "  inflating: test_size/225.jpg       \n",
            "  inflating: test_size/226.jpg       \n",
            "  inflating: test_size/227.jpg       \n",
            "  inflating: test_size/228.jpg       \n",
            "  inflating: test_size/229.jpg       \n",
            "  inflating: test_size/230.jpg       \n",
            "  inflating: test_size/232.jpg       \n",
            "  inflating: test_size/233.jpg       \n",
            "  inflating: test_size/234.jpg       \n",
            "  inflating: test_size/235.jpg       \n",
            "  inflating: test_size/236.jpg       \n",
            "  inflating: test_size/237.jpg       \n",
            "  inflating: test_size/238.jpg       \n",
            "  inflating: test_size/239.jpg       \n",
            "  inflating: test_size/240.jpg       \n",
            "  inflating: test_size/241.jpg       \n",
            "  inflating: test_size/242.jpg       \n",
            "  inflating: test_size/243.jpg       \n",
            "  inflating: test_size/244.jpg       \n",
            "  inflating: test_size/245.jpg       \n",
            "  inflating: test_size/246.jpg       \n",
            "  inflating: test_size/247.jpg       \n",
            "  inflating: test_size/248.jpg       \n",
            "  inflating: test_size/249.jpg       \n",
            "  inflating: test_size/250.jpg       \n",
            "  inflating: test_size/251.jpg       \n",
            "  inflating: test_size/252.jpg       \n",
            "  inflating: test_size/253.jpg       \n",
            "  inflating: test_size/254.jpg       \n",
            "  inflating: test_size/255.jpg       \n",
            "  inflating: test_size/256.jpg       \n",
            "  inflating: test_size/257.jpg       \n",
            "  inflating: test_size/258.jpg       \n",
            "  inflating: test_size/259.jpg       \n",
            "  inflating: test_size/260.jpg       \n",
            "  inflating: test_size/261.jpg       \n",
            "  inflating: test_size/262.jpg       \n",
            "  inflating: test_size/263.jpg       \n",
            "  inflating: test_size/264.jpg       \n",
            "  inflating: test_size/265.jpg       \n",
            "  inflating: test_size/266.jpg       \n",
            "  inflating: test_size/267.jpg       \n",
            "  inflating: test_size/268.jpg       \n",
            "  inflating: test_size/269.jpg       \n",
            "  inflating: test_size/270.jpg       \n",
            "  inflating: test_size/271.jpg       \n",
            "  inflating: test_size/272.jpg       \n",
            "  inflating: test_size/273.jpg       \n",
            "  inflating: test_size/274.jpg       \n",
            "  inflating: test_size/275.jpg       \n",
            "  inflating: test_size/276.jpg       \n",
            "  inflating: test_size/277.jpg       \n",
            "  inflating: test_size/278.jpg       \n",
            "  inflating: test_size/279.jpg       \n",
            "  inflating: test_size/280.jpg       \n",
            "  inflating: test_size/281.jpg       \n",
            "  inflating: test_size/282.jpg       \n",
            "  inflating: test_size/285.jpg       \n",
            "  inflating: test_size/286.jpg       \n",
            "  inflating: test_size/287.jpg       \n",
            "  inflating: test_size/288.jpg       \n",
            "  inflating: test_size/289.jpg       \n",
            "  inflating: test_size/290.jpg       \n",
            "  inflating: test_size/291.jpg       \n",
            "  inflating: test_size/292.jpg       \n",
            "  inflating: test_size/293.jpg       \n",
            "  inflating: test_size/294.jpg       \n",
            "  inflating: test_size/295.jpg       \n",
            "  inflating: test_size/296.jpg       \n",
            "  inflating: test_size/297.jpg       \n",
            "  inflating: test_size/298.jpg       \n",
            "  inflating: test_size/299.jpg       \n",
            "  inflating: test_size/300.jpg       \n",
            "  inflating: test_size/302.jpg       \n",
            "  inflating: test_size/303.jpg       \n",
            "  inflating: test_size/304.jpg       \n"
          ],
          "name": "stdout"
        }
      ]
    },
    {
      "cell_type": "code",
      "metadata": {
        "id": "P5mAWDfemeHT",
        "colab_type": "code",
        "colab": {}
      },
      "source": [
        "test = pd.read_csv('test_size.csv')"
      ],
      "execution_count": 0,
      "outputs": []
    },
    {
      "cell_type": "code",
      "metadata": {
        "id": "P36YGoDimpHC",
        "colab_type": "code",
        "outputId": "e81db62b-03e2-4d1c-d1d6-8e24811c77df",
        "colab": {
          "base_uri": "https://localhost:8080/",
          "height": 194
        }
      },
      "source": [
        "test.head()"
      ],
      "execution_count": 9,
      "outputs": [
        {
          "output_type": "execute_result",
          "data": {
            "text/html": [
              "<div>\n",
              "<style scoped>\n",
              "    .dataframe tbody tr th:only-of-type {\n",
              "        vertical-align: middle;\n",
              "    }\n",
              "\n",
              "    .dataframe tbody tr th {\n",
              "        vertical-align: top;\n",
              "    }\n",
              "\n",
              "    .dataframe thead th {\n",
              "        text-align: right;\n",
              "    }\n",
              "</style>\n",
              "<table border=\"1\" class=\"dataframe\">\n",
              "  <thead>\n",
              "    <tr style=\"text-align: right;\">\n",
              "      <th></th>\n",
              "      <th>img</th>\n",
              "      <th>size_</th>\n",
              "    </tr>\n",
              "  </thead>\n",
              "  <tbody>\n",
              "    <tr>\n",
              "      <th>0</th>\n",
              "      <td>100.jpg</td>\n",
              "      <td>1</td>\n",
              "    </tr>\n",
              "    <tr>\n",
              "      <th>1</th>\n",
              "      <td>101.jpg</td>\n",
              "      <td>1</td>\n",
              "    </tr>\n",
              "    <tr>\n",
              "      <th>2</th>\n",
              "      <td>102.jpg</td>\n",
              "      <td>2</td>\n",
              "    </tr>\n",
              "    <tr>\n",
              "      <th>3</th>\n",
              "      <td>103.jpg</td>\n",
              "      <td>0</td>\n",
              "    </tr>\n",
              "    <tr>\n",
              "      <th>4</th>\n",
              "      <td>104.jpg</td>\n",
              "      <td>0</td>\n",
              "    </tr>\n",
              "  </tbody>\n",
              "</table>\n",
              "</div>"
            ],
            "text/plain": [
              "       img  size_\n",
              "0  100.jpg      1\n",
              "1  101.jpg      1\n",
              "2  102.jpg      2\n",
              "3  103.jpg      0\n",
              "4  104.jpg      0"
            ]
          },
          "metadata": {
            "tags": []
          },
          "execution_count": 9
        }
      ]
    },
    {
      "cell_type": "code",
      "metadata": {
        "id": "IdeiOtc5mo5s",
        "colab_type": "code",
        "outputId": "a1b177ae-3ece-457f-ea6a-01958e66a782",
        "colab": {
          "base_uri": "https://localhost:8080/",
          "height": 35
        }
      },
      "source": [
        "test.shape"
      ],
      "execution_count": 10,
      "outputs": [
        {
          "output_type": "execute_result",
          "data": {
            "text/plain": [
              "(169, 2)"
            ]
          },
          "metadata": {
            "tags": []
          },
          "execution_count": 10
        }
      ]
    },
    {
      "cell_type": "code",
      "metadata": {
        "id": "LQkSzt7miuNk",
        "colab_type": "code",
        "colab": {
          "base_uri": "https://localhost:8080/",
          "height": 35
        },
        "outputId": "43d5fe52-2315-42d4-cfaa-a1dc03925d94"
      },
      "source": [
        "test[test.size_ == 0].shape, test[test.size_ == 1].shape, test[test.size_ == 2].shape #кол-во классов"
      ],
      "execution_count": 11,
      "outputs": [
        {
          "output_type": "execute_result",
          "data": {
            "text/plain": [
              "((60, 2), (48, 2), (61, 2))"
            ]
          },
          "metadata": {
            "tags": []
          },
          "execution_count": 11
        }
      ]
    },
    {
      "cell_type": "code",
      "metadata": {
        "id": "p68bMCRSmrtp",
        "colab_type": "code",
        "colab": {}
      },
      "source": [
        ""
      ],
      "execution_count": 0,
      "outputs": []
    },
    {
      "cell_type": "code",
      "metadata": {
        "id": "on0MH7iU0C66",
        "colab_type": "code",
        "colab": {}
      },
      "source": [
        "hei = 128\n",
        "wei = 64"
      ],
      "execution_count": 0,
      "outputs": []
    },
    {
      "cell_type": "code",
      "metadata": {
        "id": "EdkWZhfRzWns",
        "colab_type": "code",
        "colab": {}
      },
      "source": [
        ""
      ],
      "execution_count": 0,
      "outputs": []
    },
    {
      "cell_type": "markdown",
      "metadata": {
        "id": "pRefGocmuySq",
        "colab_type": "text"
      },
      "source": [
        "**Добавление данных в x_test, y_test**"
      ]
    },
    {
      "cell_type": "code",
      "metadata": {
        "id": "GHggScLDnMbT",
        "colab_type": "code",
        "outputId": "6627b914-5634-46d6-c821-64509bd0c796",
        "colab": {
          "base_uri": "https://localhost:8080/",
          "height": 35
        }
      },
      "source": [
        "x_test = []\n",
        "y_test = []\n",
        "\n",
        "for i in range (test.shape[0]):\n",
        "    x,y = test.values[i]\n",
        "    x = cv2.imread('test_size/{}'.format(x))\n",
        "    #x = strong_aug(p=0.2)\n",
        "    x = cv2.resize(x, (hei, wei))\n",
        "    x_test += [x]\n",
        "    y_test += [y]\n",
        "    \n",
        "x_test = np.array(x_test) / 255.\n",
        "y_test = np.array(y_test)\n",
        "\n",
        "x_test.shape"
      ],
      "execution_count": 13,
      "outputs": [
        {
          "output_type": "execute_result",
          "data": {
            "text/plain": [
              "(169, 64, 128, 3)"
            ]
          },
          "metadata": {
            "tags": []
          },
          "execution_count": 13
        }
      ]
    },
    {
      "cell_type": "markdown",
      "metadata": {
        "id": "HBW8S56avHPF",
        "colab_type": "text"
      },
      "source": [
        "**Генератор батчей для train**"
      ]
    },
    {
      "cell_type": "code",
      "metadata": {
        "id": "AkGL7tCIqv1R",
        "colab_type": "code",
        "colab": {}
      },
      "source": [
        "#Объявим генератор\n",
        "def keras_generator(gen_df, batch_size):#генератор картинок в батч (создание батча)\n",
        "    while True:\n",
        "        x_train = []\n",
        "        y_train = []\n",
        "        \n",
        "\n",
        "        for i in range (batch_size):\n",
        "\n",
        "            x,y = train.sample(1).values[0]\n",
        "            x = cv2.imread('train_size/{}'.format(x))\n",
        "            #x = strong_aug(p=0.2)\n",
        "            x = cv2.resize(x, (hei, wei))\n",
        "            x_train += [x]\n",
        "            y_train += [y]\n",
        "\n",
        "        #y_train = keras.utils.to_categorical(y_train,10)\n",
        "        x_train = np.array(x_train) / 255.\n",
        "        y_train = np.array(y_train)\n",
        "\n",
        "        yield x_train, y_train"
      ],
      "execution_count": 0,
      "outputs": []
    },
    {
      "cell_type": "code",
      "metadata": {
        "id": "9qrzbnwbodeP",
        "colab_type": "code",
        "colab": {}
      },
      "source": [
        ""
      ],
      "execution_count": 0,
      "outputs": []
    },
    {
      "cell_type": "code",
      "metadata": {
        "id": "qkyPIJknoc3U",
        "colab_type": "code",
        "colab": {}
      },
      "source": [
        ""
      ],
      "execution_count": 0,
      "outputs": []
    },
    {
      "cell_type": "markdown",
      "metadata": {
        "id": "XfGtWHD3vRdz",
        "colab_type": "text"
      },
      "source": [
        "**Архитектура сети**"
      ]
    },
    {
      "cell_type": "code",
      "metadata": {
        "id": "Mlpy7HN-8ytm",
        "colab_type": "code",
        "outputId": "f3fed266-5213-49e7-ba8d-f1f9574542f8",
        "colab": {
          "base_uri": "https://localhost:8080/",
          "height": 517
        }
      },
      "source": [
        "inp = Input(shape=(wei, hei, 3))\n",
        "\n",
        "conv_1_1 = Conv2D(32, (3, 3), padding='same')(inp)\n",
        "conv_1_1 = Activation('relu')(conv_1_1)\n",
        "\n",
        "conv_1_2 = Conv2D(32, (3, 3), padding='same')(conv_1_1)\n",
        "conv_1_2 = Activation('relu')(conv_1_2)\n",
        "\n",
        "pool_1 = MaxPooling2D(2)(conv_1_2)\n",
        "pool_1 = Dropout(0.2)(pool_1)\n",
        "pool_1 = BatchNormalization()(pool_1)\n",
        "\n",
        "conv_2_1 = Conv2D(64, (3, 3), padding='same')(pool_1)\n",
        "conv_2_1 = Activation('relu')(conv_2_1)\n",
        "\n",
        "conv_2_2 = Conv2D(64, (3, 3), padding='same')(conv_2_1)\n",
        "conv_2_2 = Activation('relu')(conv_2_2)\n",
        "\n",
        "pool_2 = MaxPooling2D(2)(conv_2_2)\n",
        "pool_2 = Dropout(0.2)(pool_2)\n",
        "pool_2 = BatchNormalization()(pool_2)\n",
        "\n",
        "\n",
        "conv_3_1 = Conv2D(128, (3, 3), padding='same')(pool_2)\n",
        "conv_3_1 = Activation('relu')(conv_3_1)\n",
        "\n",
        "conv_3_2 = Conv2D(128, (3, 3), padding='same')(conv_3_1)\n",
        "conv_3_2 = Activation('relu')(conv_3_2) #conv_3_2.shape = (64,64,128)\n",
        "\n",
        "pool_3 = MaxPooling2D(2)(conv_3_2) #pool_3.shape = (32,32,128)\n",
        "pool_3 = Dropout(0.2)(pool_3)\n",
        "pool_3 = BatchNormalization()(pool_3)\n",
        "\n",
        "\n",
        "conv_4_1 = Conv2D(256, (3, 3), padding='same')(pool_3)\n",
        "conv_4_1 = Activation('relu')(conv_4_1)\n",
        "\n",
        "conv_4_2 = Conv2D(256, (3, 3), padding='same')(conv_4_1)\n",
        "conv_4_2 = Activation('relu')(conv_4_2) #conv_4_2.shape = (32,32,256)\n",
        "\n",
        "pool_4 = MaxPooling2D(2)(conv_4_2) #pool_4.shape = (16,16,256)\n",
        "pool_4 = Dropout(0.2)(pool_4)\n",
        "pool_4 = BatchNormalization()(pool_4)\n",
        "\n",
        "\n",
        "\n",
        "flat = Flatten()(pool_4)\n",
        "layer1 = Dense(128, activation='relu')(flat)\n",
        "layer1 = Dropout(0.2)(layer1)\n",
        "layer1 = BatchNormalization()(layer1)\n",
        "\n",
        "layer2 = Dense(256, activation='relu')(layer1)\n",
        "layer2 = Dropout(0.2)(layer2)\n",
        "layer2 = BatchNormalization()(layer2)\n",
        "\n",
        "layer3 = Dense(512, activation='relu')(layer2)\n",
        "layer3 = Dropout(0.2)(layer3)\n",
        "layer3 = BatchNormalization()(layer3)\n",
        "\n",
        "layer4 = Dense(64, activation='relu')(layer3)\n",
        "layer4 = Dropout(0.25)(layer4)\n",
        "layer4 = BatchNormalization()(layer4)\n",
        "\n",
        "layer_out = Dense(3, activation='softmax')(layer4)\n",
        "\n",
        "model = Model(inputs=inp, outputs=layer_out)"
      ],
      "execution_count": 15,
      "outputs": [
        {
          "output_type": "stream",
          "text": [
            "WARNING:tensorflow:From /usr/local/lib/python3.6/dist-packages/keras/backend/tensorflow_backend.py:66: The name tf.get_default_graph is deprecated. Please use tf.compat.v1.get_default_graph instead.\n",
            "\n",
            "WARNING:tensorflow:From /usr/local/lib/python3.6/dist-packages/keras/backend/tensorflow_backend.py:541: The name tf.placeholder is deprecated. Please use tf.compat.v1.placeholder instead.\n",
            "\n",
            "WARNING:tensorflow:From /usr/local/lib/python3.6/dist-packages/keras/backend/tensorflow_backend.py:4432: The name tf.random_uniform is deprecated. Please use tf.random.uniform instead.\n",
            "\n",
            "WARNING:tensorflow:From /usr/local/lib/python3.6/dist-packages/keras/backend/tensorflow_backend.py:4267: The name tf.nn.max_pool is deprecated. Please use tf.nn.max_pool2d instead.\n",
            "\n",
            "WARNING:tensorflow:From /usr/local/lib/python3.6/dist-packages/keras/backend/tensorflow_backend.py:148: The name tf.placeholder_with_default is deprecated. Please use tf.compat.v1.placeholder_with_default instead.\n",
            "\n",
            "WARNING:tensorflow:From /usr/local/lib/python3.6/dist-packages/keras/backend/tensorflow_backend.py:3733: calling dropout (from tensorflow.python.ops.nn_ops) with keep_prob is deprecated and will be removed in a future version.\n",
            "Instructions for updating:\n",
            "Please use `rate` instead of `keep_prob`. Rate should be set to `rate = 1 - keep_prob`.\n",
            "WARNING:tensorflow:From /usr/local/lib/python3.6/dist-packages/keras/backend/tensorflow_backend.py:190: The name tf.get_default_session is deprecated. Please use tf.compat.v1.get_default_session instead.\n",
            "\n",
            "WARNING:tensorflow:From /usr/local/lib/python3.6/dist-packages/keras/backend/tensorflow_backend.py:197: The name tf.ConfigProto is deprecated. Please use tf.compat.v1.ConfigProto instead.\n",
            "\n",
            "WARNING:tensorflow:From /usr/local/lib/python3.6/dist-packages/keras/backend/tensorflow_backend.py:203: The name tf.Session is deprecated. Please use tf.compat.v1.Session instead.\n",
            "\n",
            "WARNING:tensorflow:From /usr/local/lib/python3.6/dist-packages/keras/backend/tensorflow_backend.py:207: The name tf.global_variables is deprecated. Please use tf.compat.v1.global_variables instead.\n",
            "\n",
            "WARNING:tensorflow:From /usr/local/lib/python3.6/dist-packages/keras/backend/tensorflow_backend.py:216: The name tf.is_variable_initialized is deprecated. Please use tf.compat.v1.is_variable_initialized instead.\n",
            "\n",
            "WARNING:tensorflow:From /usr/local/lib/python3.6/dist-packages/keras/backend/tensorflow_backend.py:223: The name tf.variables_initializer is deprecated. Please use tf.compat.v1.variables_initializer instead.\n",
            "\n",
            "WARNING:tensorflow:From /usr/local/lib/python3.6/dist-packages/keras/backend/tensorflow_backend.py:2041: The name tf.nn.fused_batch_norm is deprecated. Please use tf.compat.v1.nn.fused_batch_norm instead.\n",
            "\n"
          ],
          "name": "stdout"
        }
      ]
    },
    {
      "cell_type": "code",
      "metadata": {
        "id": "C1mKBwgOUBC2",
        "colab_type": "code",
        "colab": {}
      },
      "source": [
        "#model.summary()"
      ],
      "execution_count": 0,
      "outputs": []
    },
    {
      "cell_type": "code",
      "metadata": {
        "id": "fllYpZYVnkUt",
        "colab_type": "code",
        "outputId": "2bf46835-5e3d-4919-b0f4-9f20fa434597",
        "colab": {
          "base_uri": "https://localhost:8080/",
          "height": 108
        }
      },
      "source": [
        "model.compile(optimizer='adam',\n",
        "              loss='sparse_categorical_crossentropy',\n",
        "              metrics=['accuracy'])"
      ],
      "execution_count": 16,
      "outputs": [
        {
          "output_type": "stream",
          "text": [
            "WARNING:tensorflow:From /usr/local/lib/python3.6/dist-packages/keras/optimizers.py:793: The name tf.train.Optimizer is deprecated. Please use tf.compat.v1.train.Optimizer instead.\n",
            "\n",
            "WARNING:tensorflow:From /usr/local/lib/python3.6/dist-packages/keras/backend/tensorflow_backend.py:3622: The name tf.log is deprecated. Please use tf.math.log instead.\n",
            "\n"
          ],
          "name": "stdout"
        }
      ]
    },
    {
      "cell_type": "markdown",
      "metadata": {
        "id": "tlVmiW6kvtL7",
        "colab_type": "text"
      },
      "source": [
        "**Обучение через генератор, т.е. с батчами**"
      ]
    },
    {
      "cell_type": "code",
      "metadata": {
        "id": "BA783o_s_W7V",
        "colab_type": "code",
        "outputId": "7a574120-dcb6-490a-a489-413fde09097c",
        "colab": {
          "base_uri": "https://localhost:8080/",
          "height": 1000
        }
      },
      "source": [
        "batch_size = 32\n",
        "model.fit_generator(keras_generator(train, batch_size),\n",
        "              steps_per_epoch=100,#каждую эпоху - 100 батчей\n",
        "              epochs=30,\n",
        "              verbose=1,#будем выводить результат\n",
        "              shuffle=True)"
      ],
      "execution_count": 17,
      "outputs": [
        {
          "output_type": "stream",
          "text": [
            "WARNING:tensorflow:From /usr/local/lib/python3.6/dist-packages/tensorflow_core/python/ops/math_grad.py:1424: where (from tensorflow.python.ops.array_ops) is deprecated and will be removed in a future version.\n",
            "Instructions for updating:\n",
            "Use tf.where in 2.0, which has the same broadcast rule as np.where\n",
            "WARNING:tensorflow:From /usr/local/lib/python3.6/dist-packages/keras/backend/tensorflow_backend.py:1033: The name tf.assign_add is deprecated. Please use tf.compat.v1.assign_add instead.\n",
            "\n",
            "WARNING:tensorflow:From /usr/local/lib/python3.6/dist-packages/keras/backend/tensorflow_backend.py:1020: The name tf.assign is deprecated. Please use tf.compat.v1.assign instead.\n",
            "\n",
            "Epoch 1/30\n",
            "100/100 [==============================] - 19s 191ms/step - loss: 1.1536 - acc: 0.5091\n",
            "Epoch 2/30\n",
            "100/100 [==============================] - 10s 102ms/step - loss: 0.6296 - acc: 0.7241\n",
            "Epoch 3/30\n",
            "100/100 [==============================] - 10s 101ms/step - loss: 0.5257 - acc: 0.7781\n",
            "Epoch 4/30\n",
            "100/100 [==============================] - 10s 101ms/step - loss: 0.4635 - acc: 0.8119\n",
            "Epoch 5/30\n",
            "100/100 [==============================] - 10s 99ms/step - loss: 0.4216 - acc: 0.8266\n",
            "Epoch 6/30\n",
            "100/100 [==============================] - 10s 100ms/step - loss: 0.3862 - acc: 0.8500\n",
            "Epoch 7/30\n",
            "100/100 [==============================] - 10s 100ms/step - loss: 0.3301 - acc: 0.8688\n",
            "Epoch 8/30\n",
            "100/100 [==============================] - 10s 99ms/step - loss: 0.3027 - acc: 0.8838\n",
            "Epoch 9/30\n",
            "100/100 [==============================] - 10s 99ms/step - loss: 0.2413 - acc: 0.9091\n",
            "Epoch 10/30\n",
            "100/100 [==============================] - 10s 100ms/step - loss: 0.2073 - acc: 0.9184\n",
            "Epoch 11/30\n",
            "100/100 [==============================] - 10s 99ms/step - loss: 0.1782 - acc: 0.9363\n",
            "Epoch 12/30\n",
            "100/100 [==============================] - 10s 101ms/step - loss: 0.1448 - acc: 0.9459\n",
            "Epoch 13/30\n",
            "100/100 [==============================] - 10s 100ms/step - loss: 0.1714 - acc: 0.9434\n",
            "Epoch 14/30\n",
            "100/100 [==============================] - 10s 99ms/step - loss: 0.1437 - acc: 0.9478\n",
            "Epoch 15/30\n",
            "100/100 [==============================] - 10s 99ms/step - loss: 0.1014 - acc: 0.9616\n",
            "Epoch 16/30\n",
            "100/100 [==============================] - 10s 100ms/step - loss: 0.1208 - acc: 0.9600\n",
            "Epoch 17/30\n",
            "100/100 [==============================] - 10s 99ms/step - loss: 0.0605 - acc: 0.9797\n",
            "Epoch 18/30\n",
            "100/100 [==============================] - 10s 98ms/step - loss: 0.0610 - acc: 0.9794\n",
            "Epoch 19/30\n",
            "100/100 [==============================] - 10s 101ms/step - loss: 0.0786 - acc: 0.9719\n",
            "Epoch 20/30\n",
            "100/100 [==============================] - 10s 100ms/step - loss: 0.1632 - acc: 0.9409\n",
            "Epoch 21/30\n",
            "100/100 [==============================] - 10s 99ms/step - loss: 0.1137 - acc: 0.9603\n",
            "Epoch 22/30\n",
            "100/100 [==============================] - 10s 100ms/step - loss: 0.0685 - acc: 0.9784\n",
            "Epoch 23/30\n",
            "100/100 [==============================] - 10s 99ms/step - loss: 0.0424 - acc: 0.9872\n",
            "Epoch 24/30\n",
            "100/100 [==============================] - 10s 99ms/step - loss: 0.0731 - acc: 0.9762\n",
            "Epoch 25/30\n",
            "100/100 [==============================] - 10s 100ms/step - loss: 0.0593 - acc: 0.9794\n",
            "Epoch 26/30\n",
            "100/100 [==============================] - 10s 99ms/step - loss: 0.0512 - acc: 0.9825\n",
            "Epoch 27/30\n",
            "100/100 [==============================] - 10s 100ms/step - loss: 0.0584 - acc: 0.9841\n",
            "Epoch 28/30\n",
            "100/100 [==============================] - 10s 100ms/step - loss: 0.0337 - acc: 0.9891\n",
            "Epoch 29/30\n",
            "100/100 [==============================] - 10s 99ms/step - loss: 0.0368 - acc: 0.9881\n",
            "Epoch 30/30\n",
            "100/100 [==============================] - 10s 100ms/step - loss: 0.0532 - acc: 0.9816\n"
          ],
          "name": "stdout"
        },
        {
          "output_type": "execute_result",
          "data": {
            "text/plain": [
              "<keras.callbacks.History at 0x7fdba961c160>"
            ]
          },
          "metadata": {
            "tags": []
          },
          "execution_count": 17
        }
      ]
    },
    {
      "cell_type": "code",
      "metadata": {
        "id": "TPoRpiblwAf_",
        "colab_type": "code",
        "colab": {}
      },
      "source": [
        ""
      ],
      "execution_count": 0,
      "outputs": []
    },
    {
      "cell_type": "code",
      "metadata": {
        "id": "PS8QBP3VHjPP",
        "colab_type": "code",
        "colab": {}
      },
      "source": [
        ""
      ],
      "execution_count": 0,
      "outputs": []
    },
    {
      "cell_type": "code",
      "metadata": {
        "id": "n3FtrIUQws-i",
        "colab_type": "code",
        "colab": {}
      },
      "source": [
        "for x_train,y_train in keras_generator(train,train.shape[0]):\n",
        "    break"
      ],
      "execution_count": 0,
      "outputs": []
    },
    {
      "cell_type": "code",
      "metadata": {
        "id": "Cawd69pxEWsy",
        "colab_type": "code",
        "outputId": "af8fc2aa-fe6f-4547-adf5-26d75d9f3596",
        "colab": {
          "base_uri": "https://localhost:8080/",
          "height": 35
        }
      },
      "source": [
        "x_train.shape"
      ],
      "execution_count": 19,
      "outputs": [
        {
          "output_type": "execute_result",
          "data": {
            "text/plain": [
              "(905, 64, 128, 3)"
            ]
          },
          "metadata": {
            "tags": []
          },
          "execution_count": 19
        }
      ]
    },
    {
      "cell_type": "code",
      "metadata": {
        "id": "SJ76crcIADOh",
        "colab_type": "code",
        "outputId": "462aad99-f7b6-482c-a0c4-987d032af838",
        "colab": {
          "base_uri": "https://localhost:8080/",
          "height": 106
        }
      },
      "source": [
        "train_loss, train_acc = model.evaluate(x_train, y_train)\n",
        "\n",
        "print('\\nТочность на обучающей выборке:', train_acc)\n",
        "print('\\nОшибка на обучающей выборке:', train_loss)"
      ],
      "execution_count": 23,
      "outputs": [
        {
          "output_type": "stream",
          "text": [
            "905/905 [==============================] - 1s 696us/sample - loss: 0.0197 - acc: 0.9923\n",
            "\n",
            "Точность на обучающей выборке: 0.99226516\n",
            "\n",
            "Ошибка на обучающей выборке: 0.019723391112516434\n"
          ],
          "name": "stdout"
        }
      ]
    },
    {
      "cell_type": "code",
      "metadata": {
        "id": "ibGWZlnxoYgc",
        "colab_type": "code",
        "outputId": "f14efc22-bbe9-4c76-dc99-68d04867beab",
        "colab": {
          "base_uri": "https://localhost:8080/",
          "height": 106
        }
      },
      "source": [
        "test_loss, test_acc = model.evaluate(x_test, y_test)\n",
        "\n",
        "print('\\nТочность на тестовой выборке:', test_acc)\n",
        "print('\\nОшибка на тестовой выборке:', test_loss)"
      ],
      "execution_count": 24,
      "outputs": [
        {
          "output_type": "stream",
          "text": [
            "169/169 [==============================] - 0s 449us/sample - loss: 0.9249 - acc: 0.7929\n",
            "\n",
            "Точность на тестовой выборке: 0.7928994\n",
            "\n",
            "Ошибка на тестовой выборке: 0.9249203329927911\n"
          ],
          "name": "stdout"
        }
      ]
    },
    {
      "cell_type": "code",
      "metadata": {
        "id": "8dGWEr7dLebT",
        "colab_type": "code",
        "colab": {}
      },
      "source": [
        ""
      ],
      "execution_count": 0,
      "outputs": []
    },
    {
      "cell_type": "code",
      "metadata": {
        "id": "oW5TN8i2LeW7",
        "colab_type": "code",
        "colab": {
          "base_uri": "https://localhost:8080/",
          "height": 90
        },
        "outputId": "924318df-a228-45e5-e8a4-b5143dd12f3c"
      },
      "source": [
        "#model.save('neural_network_size.h5') #сохранение нейросети в файл\n",
        "\n",
        "from tensorflow.keras.models import load_model\n",
        "model = load_model('!!!79!!! neural_network_size.h5') #загрузка нейросети из файла\n",
        "\n",
        "#pred = model.predict(x_test) #предсказание"
      ],
      "execution_count": 22,
      "outputs": [
        {
          "output_type": "stream",
          "text": [
            "WARNING:tensorflow:From /usr/local/lib/python3.6/dist-packages/tensorflow_core/python/ops/resource_variable_ops.py:1630: calling BaseResourceVariable.__init__ (from tensorflow.python.ops.resource_variable_ops) with constraint is deprecated and will be removed in a future version.\n",
            "Instructions for updating:\n",
            "If using Keras pass *_constraint arguments to layers.\n"
          ],
          "name": "stdout"
        }
      ]
    },
    {
      "cell_type": "code",
      "metadata": {
        "id": "Xf5C3SVkLeS8",
        "colab_type": "code",
        "colab": {}
      },
      "source": [
        ""
      ],
      "execution_count": 0,
      "outputs": []
    },
    {
      "cell_type": "code",
      "metadata": {
        "id": "NUKgtFrqnlDG",
        "colab_type": "code",
        "colab": {}
      },
      "source": [
        "pred = model.predict(x_test)"
      ],
      "execution_count": 0,
      "outputs": []
    },
    {
      "cell_type": "code",
      "metadata": {
        "id": "2qkiZMTZAiz7",
        "colab_type": "code",
        "outputId": "b5ab37af-480a-420c-ed38-c92df57ca4f4",
        "colab": {
          "base_uri": "https://localhost:8080/",
          "height": 35
        }
      },
      "source": [
        "pred.shape"
      ],
      "execution_count": 26,
      "outputs": [
        {
          "output_type": "execute_result",
          "data": {
            "text/plain": [
              "(169, 3)"
            ]
          },
          "metadata": {
            "tags": []
          },
          "execution_count": 26
        }
      ]
    },
    {
      "cell_type": "code",
      "metadata": {
        "id": "Ra6yiEQBAe_i",
        "colab_type": "code",
        "outputId": "b62e245f-f79b-4401-eaa1-974c578fa01f",
        "colab": {
          "base_uri": "https://localhost:8080/",
          "height": 35
        }
      },
      "source": [
        "np.argmax(pred[15]),y_test[15]"
      ],
      "execution_count": 27,
      "outputs": [
        {
          "output_type": "execute_result",
          "data": {
            "text/plain": [
              "(1, 2)"
            ]
          },
          "metadata": {
            "tags": []
          },
          "execution_count": 27
        }
      ]
    },
    {
      "cell_type": "code",
      "metadata": {
        "id": "4ajhUlfYnlLO",
        "colab_type": "code",
        "outputId": "cb1555e9-90ef-4813-86e7-b88de96729a1",
        "colab": {
          "base_uri": "https://localhost:8080/",
          "height": 258
        }
      },
      "source": [
        "plt.figure()\n",
        "plt.imshow(x_test[15])\n",
        "plt.colorbar()\n",
        "plt.grid(False)\n",
        "plt.show()"
      ],
      "execution_count": 28,
      "outputs": [
        {
          "output_type": "display_data",
          "data": {
            "image/png": "[encoded data removed]",
            "text/plain": [
              "<Figure size 432x288 with 2 Axes>"
            ]
          },
          "metadata": {
            "tags": []
          }
        }
      ]
    },
    {
      "cell_type": "code",
      "metadata": {
        "id": "8RMwn1xL5i9t",
        "colab_type": "code",
        "outputId": "4617b27a-f37e-4234-c05d-9c20799d8ab8",
        "colab": {
          "base_uri": "https://localhost:8080/",
          "height": 543
        }
      },
      "source": [
        "plt.figure(figsize=(10,10))\n",
        "for i in range(25):\n",
        "    plt.subplot(5,5,i+1)\n",
        "    plt.xticks([])\n",
        "    plt.yticks([])\n",
        "    plt.grid(False)\n",
        "    plt.imshow(x_test[i], cmap=plt.cm.binary)\n",
        "    plt.xlabel((y_test[i],np.argmax(pred[i])))\n",
        "plt.show()"
      ],
      "execution_count": 29,
      "outputs": [
        {
          "output_type": "display_data",
          "data": {
            "image/png": "[encoded data removed]",
            "text/plain": [
              "<Figure size 720x720 with 25 Axes>"
            ]
          },
          "metadata": {
            "tags": []
          }
        }
      ]
    },
    {
      "cell_type": "code",
      "metadata": {
        "id": "tdmjIGRt5jCN",
        "colab_type": "code",
        "colab": {}
      },
      "source": [
        ""
      ],
      "execution_count": 0,
      "outputs": []
    },
    {
      "cell_type": "code",
      "metadata": {
        "id": "k2y7AITSnlOk",
        "colab_type": "code",
        "outputId": "c705aeb5-45fe-454c-b46d-cebc1132517c",
        "colab": {
          "base_uri": "https://localhost:8080/",
          "height": 220
        }
      },
      "source": [
        "way='106.jpg'\n",
        "#img = Image.open(way)\n",
        "img = cv2.imread(way)\n",
        "plt.imshow(img)\n",
        "img = cv2.resize(img, (hei, wei)) / 255."
      ],
      "execution_count": 30,
      "outputs": [
        {
          "output_type": "display_data",
          "data": {
            "image/png": "[encoded data removed]",
            "text/plain": [
              "<Figure size 432x288 with 1 Axes>"
            ]
          },
          "metadata": {
            "tags": []
          }
        }
      ]
    },
    {
      "cell_type": "code",
      "metadata": {
        "id": "ugINen2bvV0s",
        "colab_type": "code",
        "colab": {}
      },
      "source": [
        "'''def binarize_array(numpy_array):\n",
        "    \"\"\"Binarize a numpy array.\"\"\"\n",
        "    for i in range(len(numpy_array)):\n",
        "        for j in range(len(numpy_array[0])):\n",
        "            if (numpy_array[i][j][0] > 150 and numpy_array[i][j][1] > 150 and numpy_array[i][j][2] > 150\n",
        "                or numpy_array[i][j][0] > 180 or numpy_array[i][j][1] > 180 or numpy_array[i][j][2] > 180):\n",
        "                numpy_array[i][j] = 255\n",
        "            else:\n",
        "                numpy_array[i][j] = 0\n",
        "    return numpy_array\n",
        "img = binarize_array(img)\n",
        "img = cv2.resize(img, (hei, wei))\n",
        "plt.imshow(img)'''"
      ],
      "execution_count": 0,
      "outputs": []
    },
    {
      "cell_type": "code",
      "metadata": {
        "id": "OlKzeKeB4a2q",
        "colab_type": "code",
        "colab": {}
      },
      "source": [
        "pred_img = model.predict(img.reshape(1,wei,hei,3))"
      ],
      "execution_count": 0,
      "outputs": []
    },
    {
      "cell_type": "code",
      "metadata": {
        "id": "M6T35ylI4a5_",
        "colab_type": "code",
        "outputId": "80bfe713-5e1c-4feb-ff36-56663601f26b",
        "colab": {
          "base_uri": "https://localhost:8080/",
          "height": 35
        }
      },
      "source": [
        "print('Pred_img: ',np.argmax(pred_img))"
      ],
      "execution_count": 32,
      "outputs": [
        {
          "output_type": "stream",
          "text": [
            "Pred_img:  2\n"
          ],
          "name": "stdout"
        }
      ]
    },
    {
      "cell_type": "code",
      "metadata": {
        "id": "NRgDQ1lI5a4U",
        "colab_type": "code",
        "colab": {}
      },
      "source": [
        ""
      ],
      "execution_count": 0,
      "outputs": []
    }
  ]
}