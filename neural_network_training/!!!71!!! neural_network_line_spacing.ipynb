{
  "nbformat": 4,
  "nbformat_minor": 0,
  "metadata": {
    "colab": {
      "name": "!!!54%!!!  line_spacing.ipynb",
      "provenance": [],
      "collapsed_sections": []
    },
    "kernelspec": {
      "name": "python3",
      "display_name": "Python 3"
    },
    "accelerator": "GPU"
  },
  "cells": [
    {
      "cell_type": "code",
      "metadata": {
        "id": "ut9la1_umJnt",
        "colab_type": "code",
        "outputId": "79d0c9a6-e320-4fd5-b289-6adb84365f43",
        "colab": {
          "base_uri": "https://localhost:8080/",
          "height": 100
        }
      },
      "source": [
        "from __future__ import absolute_import, division, print_function, unicode_literals\n",
        "\n",
        "# TensorFlow и tf.keras\n",
        "import tensorflow as tf\n",
        "import torch\n",
        "from tensorflow import keras\n",
        "#import keras\n",
        "# Вспомогательные библиотеки\n",
        "import numpy as np\n",
        "import matplotlib.pyplot as plt\n",
        "import pandas as pd\n",
        "import cv2\n",
        "\n",
        "from keras.models import Model\n",
        "from keras.layers import Input, Dense, Concatenate, Flatten, BatchNormalization\n",
        "from keras.layers import Dense, GlobalAveragePooling2D, Dropout, UpSampling2D, Conv2D, MaxPooling2D, Activation\n",
        "\n",
        "print(tf.__version__)"
      ],
      "execution_count": 1,
      "outputs": [
        {
          "output_type": "display_data",
          "data": {
            "text/html": [
              "<p style=\"color: red;\">\n",
              "The default version of TensorFlow in Colab will soon switch to TensorFlow 2.x.<br>\n",
              "We recommend you <a href=\"https://www.tensorflow.org/guide/migrate\" target=\"_blank\">upgrade</a> now \n",
              "or ensure your notebook will continue to use TensorFlow 1.x via the <code>%tensorflow_version 1.x</code> magic:\n",
              "<a href=\"https://colab.research.google.com/notebooks/tensorflow_version.ipynb\" target=\"_blank\">more info</a>.</p>\n"
            ],
            "text/plain": [
              "<IPython.core.display.HTML object>"
            ]
          },
          "metadata": {
            "tags": []
          }
        },
        {
          "output_type": "stream",
          "text": [
            "1.15.0\n"
          ],
          "name": "stdout"
        },
        {
          "output_type": "stream",
          "text": [
            "Using TensorFlow backend.\n"
          ],
          "name": "stderr"
        }
      ]
    },
    {
      "cell_type": "code",
      "metadata": {
        "id": "8a_eg6H5qI5M",
        "colab_type": "code",
        "outputId": "ea0d5874-58a8-4486-df68-51914e81ac08",
        "colab": {
          "base_uri": "https://localhost:8080/",
          "height": 1000
        }
      },
      "source": [
        "!unzip train_line_spacing.zip #images"
      ],
      "execution_count": 3,
      "outputs": [
        {
          "output_type": "stream",
          "text": [
            "Archive:  train_line_spacing.zip\n",
            "  inflating: train_line_spacing/1.jpg  \n",
            "  inflating: train_line_spacing/10.jpg  \n",
            "  inflating: train_line_spacing/100.jpg  \n",
            "  inflating: train_line_spacing/101.jpg  \n",
            "  inflating: train_line_spacing/102.jpg  \n",
            "  inflating: train_line_spacing/103.jpg  \n",
            "  inflating: train_line_spacing/104.jpg  \n",
            "  inflating: train_line_spacing/105.jpg  \n",
            "  inflating: train_line_spacing/106.jpg  \n",
            "  inflating: train_line_spacing/107.jpg  \n",
            "  inflating: train_line_spacing/108.jpg  \n",
            "  inflating: train_line_spacing/109.jpg  \n",
            "  inflating: train_line_spacing/11.jpg  \n",
            "  inflating: train_line_spacing/110.jpg  \n",
            "  inflating: train_line_spacing/111.jpg  \n",
            "  inflating: train_line_spacing/112.jpg  \n",
            "  inflating: train_line_spacing/113.jpg  \n",
            "  inflating: train_line_spacing/114.jpg  \n",
            "  inflating: train_line_spacing/115.jpg  \n",
            "  inflating: train_line_spacing/116.jpg  \n",
            "  inflating: train_line_spacing/117.jpg  \n",
            "  inflating: train_line_spacing/118.jpg  \n",
            "  inflating: train_line_spacing/119.jpg  \n",
            "  inflating: train_line_spacing/12.jpg  \n",
            "  inflating: train_line_spacing/120.jpg  \n",
            "  inflating: train_line_spacing/121.jpg  \n",
            "  inflating: train_line_spacing/122.jpg  \n",
            "  inflating: train_line_spacing/123.jpg  \n",
            "  inflating: train_line_spacing/124.jpg  \n",
            "  inflating: train_line_spacing/125.jpg  \n",
            "  inflating: train_line_spacing/126.jpg  \n",
            "  inflating: train_line_spacing/127.jpg  \n",
            "  inflating: train_line_spacing/128.jpg  \n",
            "  inflating: train_line_spacing/129.jpg  \n",
            "  inflating: train_line_spacing/13.jpg  \n",
            "  inflating: train_line_spacing/130.jpg  \n",
            "  inflating: train_line_spacing/131.jpg  \n",
            "  inflating: train_line_spacing/132.jpg  \n",
            "  inflating: train_line_spacing/133.jpg  \n",
            "  inflating: train_line_spacing/134.jpg  \n",
            "  inflating: train_line_spacing/135.jpg  \n",
            "  inflating: train_line_spacing/136.jpg  \n",
            "  inflating: train_line_spacing/137.jpg  \n",
            "  inflating: train_line_spacing/138.jpg  \n",
            "  inflating: train_line_spacing/139.jpg  \n",
            "  inflating: train_line_spacing/14.jpg  \n",
            "  inflating: train_line_spacing/140.jpg  \n",
            "  inflating: train_line_spacing/141.jpg  \n",
            "  inflating: train_line_spacing/142.jpg  \n",
            "  inflating: train_line_spacing/143.jpg  \n",
            "  inflating: train_line_spacing/144.jpg  \n",
            "  inflating: train_line_spacing/145.jpg  \n",
            "  inflating: train_line_spacing/146.jpg  \n",
            "  inflating: train_line_spacing/147.jpg  \n",
            "  inflating: train_line_spacing/148.jpg  \n",
            "  inflating: train_line_spacing/149.jpg  \n",
            "  inflating: train_line_spacing/15.jpg  \n",
            "  inflating: train_line_spacing/150.jpg  \n",
            "  inflating: train_line_spacing/151.jpg  \n",
            "  inflating: train_line_spacing/152.jpg  \n",
            "  inflating: train_line_spacing/153.jpg  \n",
            "  inflating: train_line_spacing/154.jpg  \n",
            "  inflating: train_line_spacing/155.jpg  \n",
            "  inflating: train_line_spacing/156.jpg  \n",
            "  inflating: train_line_spacing/157.jpg  \n",
            "  inflating: train_line_spacing/158.jpg  \n",
            "  inflating: train_line_spacing/159.jpg  \n",
            "  inflating: train_line_spacing/16.jpg  \n",
            "  inflating: train_line_spacing/160.jpg  \n",
            "  inflating: train_line_spacing/161.jpg  \n",
            "  inflating: train_line_spacing/162.jpg  \n",
            "  inflating: train_line_spacing/163.jpg  \n",
            "  inflating: train_line_spacing/164.jpg  \n",
            "  inflating: train_line_spacing/165.jpg  \n",
            "  inflating: train_line_spacing/166.jpg  \n",
            "  inflating: train_line_spacing/167.jpg  \n",
            "  inflating: train_line_spacing/168.jpg  \n",
            "  inflating: train_line_spacing/169.jpg  \n",
            "  inflating: train_line_spacing/17.jpg  \n",
            "  inflating: train_line_spacing/170.jpg  \n",
            "  inflating: train_line_spacing/171.jpg  \n",
            "  inflating: train_line_spacing/172.jpg  \n",
            "  inflating: train_line_spacing/173.jpg  \n",
            "  inflating: train_line_spacing/174.jpg  \n",
            "  inflating: train_line_spacing/175.jpg  \n",
            "  inflating: train_line_spacing/176.jpg  \n",
            "  inflating: train_line_spacing/177.jpg  \n",
            "  inflating: train_line_spacing/178.jpg  \n",
            "  inflating: train_line_spacing/179.jpg  \n",
            "  inflating: train_line_spacing/18.jpg  \n",
            "  inflating: train_line_spacing/180.jpg  \n",
            "  inflating: train_line_spacing/181.jpg  \n",
            "  inflating: train_line_spacing/182.jpg  \n",
            "  inflating: train_line_spacing/183.jpg  \n",
            "  inflating: train_line_spacing/184.jpg  \n",
            "  inflating: train_line_spacing/185.jpg  \n",
            "  inflating: train_line_spacing/186.jpg  \n",
            "  inflating: train_line_spacing/187.jpg  \n",
            "  inflating: train_line_spacing/188.jpg  \n",
            "  inflating: train_line_spacing/189.jpg  \n",
            "  inflating: train_line_spacing/19.jpg  \n",
            "  inflating: train_line_spacing/190.jpg  \n",
            "  inflating: train_line_spacing/191.jpg  \n",
            "  inflating: train_line_spacing/192.jpg  \n",
            "  inflating: train_line_spacing/193.jpg  \n",
            "  inflating: train_line_spacing/194.jpg  \n",
            "  inflating: train_line_spacing/195.jpg  \n",
            "  inflating: train_line_spacing/196.jpg  \n",
            "  inflating: train_line_spacing/197.jpg  \n",
            "  inflating: train_line_spacing/198.jpg  \n",
            "  inflating: train_line_spacing/199.jpg  \n",
            "  inflating: train_line_spacing/2.jpg  \n",
            "  inflating: train_line_spacing/20.jpg  \n",
            "  inflating: train_line_spacing/200.jpg  \n",
            "  inflating: train_line_spacing/201.jpg  \n",
            "  inflating: train_line_spacing/202.jpg  \n",
            "  inflating: train_line_spacing/203.jpg  \n",
            "  inflating: train_line_spacing/204.jpg  \n",
            "  inflating: train_line_spacing/205.jpg  \n",
            "  inflating: train_line_spacing/206.jpg  \n",
            "  inflating: train_line_spacing/207.jpg  \n",
            "  inflating: train_line_spacing/208.jpg  \n",
            "  inflating: train_line_spacing/209.jpg  \n",
            "  inflating: train_line_spacing/21.jpg  \n",
            "  inflating: train_line_spacing/210.jpg  \n",
            "  inflating: train_line_spacing/211.jpg  \n",
            "  inflating: train_line_spacing/212.jpg  \n",
            "  inflating: train_line_spacing/213.jpg  \n",
            "  inflating: train_line_spacing/214.jpg  \n",
            "  inflating: train_line_spacing/215.jpg  \n",
            "  inflating: train_line_spacing/216.jpg  \n",
            "  inflating: train_line_spacing/217.jpg  \n",
            "  inflating: train_line_spacing/218.jpg  \n",
            "  inflating: train_line_spacing/219.jpg  \n",
            "  inflating: train_line_spacing/22.jpg  \n",
            "  inflating: train_line_spacing/220.jpg  \n",
            "  inflating: train_line_spacing/221.jpg  \n",
            "  inflating: train_line_spacing/222.jpg  \n",
            "  inflating: train_line_spacing/223.jpg  \n",
            "  inflating: train_line_spacing/224.jpg  \n",
            "  inflating: train_line_spacing/225.jpg  \n",
            "  inflating: train_line_spacing/226.jpg  \n",
            "  inflating: train_line_spacing/227.jpg  \n",
            "  inflating: train_line_spacing/228.jpg  \n",
            "  inflating: train_line_spacing/229.jpg  \n",
            "  inflating: train_line_spacing/23.jpg  \n",
            "  inflating: train_line_spacing/230.jpg  \n",
            "  inflating: train_line_spacing/231.jpg  \n",
            "  inflating: train_line_spacing/232.jpg  \n",
            "  inflating: train_line_spacing/233.jpg  \n",
            "  inflating: train_line_spacing/234.jpg  \n",
            "  inflating: train_line_spacing/235.jpg  \n",
            "  inflating: train_line_spacing/236.jpg  \n",
            "  inflating: train_line_spacing/237.jpg  \n",
            "  inflating: train_line_spacing/238.jpg  \n",
            "  inflating: train_line_spacing/239.jpg  \n",
            "  inflating: train_line_spacing/24.jpg  \n",
            "  inflating: train_line_spacing/240.jpg  \n",
            "  inflating: train_line_spacing/241.jpg  \n",
            "  inflating: train_line_spacing/242.jpg  \n",
            "  inflating: train_line_spacing/243.jpg  \n",
            "  inflating: train_line_spacing/244.jpg  \n",
            "  inflating: train_line_spacing/245.jpg  \n",
            "  inflating: train_line_spacing/246.jpg  \n",
            "  inflating: train_line_spacing/247.jpg  \n",
            "  inflating: train_line_spacing/248.jpg  \n",
            "  inflating: train_line_spacing/249.jpg  \n",
            "  inflating: train_line_spacing/25.jpg  \n",
            "  inflating: train_line_spacing/250.jpg  \n",
            "  inflating: train_line_spacing/251.jpg  \n",
            "  inflating: train_line_spacing/252.jpg  \n",
            "  inflating: train_line_spacing/253.jpg  \n",
            "  inflating: train_line_spacing/254.jpg  \n",
            "  inflating: train_line_spacing/255.jpg  \n",
            "  inflating: train_line_spacing/256.jpg  \n",
            "  inflating: train_line_spacing/257.jpg  \n",
            "  inflating: train_line_spacing/258.jpg  \n",
            "  inflating: train_line_spacing/259.jpg  \n",
            "  inflating: train_line_spacing/26.jpg  \n",
            "  inflating: train_line_spacing/260.jpg  \n",
            "  inflating: train_line_spacing/261.jpg  \n",
            "  inflating: train_line_spacing/262.jpg  \n",
            "  inflating: train_line_spacing/263.jpg  \n",
            "  inflating: train_line_spacing/264.jpg  \n",
            "  inflating: train_line_spacing/265.jpg  \n",
            "  inflating: train_line_spacing/266.jpg  \n",
            "  inflating: train_line_spacing/267.jpg  \n",
            "  inflating: train_line_spacing/268.jpg  \n",
            "  inflating: train_line_spacing/269.jpg  \n",
            "  inflating: train_line_spacing/27.jpg  \n",
            "  inflating: train_line_spacing/270.jpg  \n",
            "  inflating: train_line_spacing/271.jpg  \n",
            "  inflating: train_line_spacing/272.jpg  \n",
            "  inflating: train_line_spacing/273.jpg  \n",
            "  inflating: train_line_spacing/274.jpg  \n",
            "  inflating: train_line_spacing/275.jpg  \n",
            "  inflating: train_line_spacing/276.jpg  \n",
            "  inflating: train_line_spacing/277.jpg  \n",
            "  inflating: train_line_spacing/278.jpg  \n",
            "  inflating: train_line_spacing/279.jpg  \n",
            "  inflating: train_line_spacing/28.jpg  \n",
            "  inflating: train_line_spacing/280.jpg  \n",
            "  inflating: train_line_spacing/281.jpg  \n",
            "  inflating: train_line_spacing/282.jpg  \n",
            "  inflating: train_line_spacing/283.jpg  \n",
            "  inflating: train_line_spacing/284.jpg  \n",
            "  inflating: train_line_spacing/285.jpg  \n",
            "  inflating: train_line_spacing/286.jpg  \n",
            "  inflating: train_line_spacing/287.jpg  \n",
            "  inflating: train_line_spacing/288.jpg  \n",
            "  inflating: train_line_spacing/289.jpg  \n",
            "  inflating: train_line_spacing/29.jpg  \n",
            "  inflating: train_line_spacing/290.jpg  \n",
            "  inflating: train_line_spacing/291.jpg  \n",
            "  inflating: train_line_spacing/292.jpg  \n",
            "  inflating: train_line_spacing/293.jpg  \n",
            "  inflating: train_line_spacing/294.jpg  \n",
            "  inflating: train_line_spacing/295.jpg  \n",
            "  inflating: train_line_spacing/296.jpg  \n",
            "  inflating: train_line_spacing/297.jpg  \n",
            "  inflating: train_line_spacing/298.jpg  \n",
            "  inflating: train_line_spacing/299.jpg  \n",
            "  inflating: train_line_spacing/3.jpg  \n",
            "  inflating: train_line_spacing/30.jpg  \n",
            "  inflating: train_line_spacing/300.jpg  \n",
            "  inflating: train_line_spacing/301.jpg  \n",
            "  inflating: train_line_spacing/302.jpg  \n",
            "  inflating: train_line_spacing/303.jpg  \n",
            "  inflating: train_line_spacing/304.jpg  \n",
            "  inflating: train_line_spacing/305.jpg  \n",
            "  inflating: train_line_spacing/306.jpg  \n",
            "  inflating: train_line_spacing/307.jpg  \n",
            "  inflating: train_line_spacing/308.jpg  \n",
            "  inflating: train_line_spacing/309.jpg  \n",
            "  inflating: train_line_spacing/31.jpg  \n",
            "  inflating: train_line_spacing/310.jpg  \n",
            "  inflating: train_line_spacing/311.jpg  \n",
            "  inflating: train_line_spacing/312.jpg  \n",
            "  inflating: train_line_spacing/313.jpg  \n",
            "  inflating: train_line_spacing/314.jpg  \n",
            "  inflating: train_line_spacing/315.jpg  \n",
            "  inflating: train_line_spacing/316.jpg  \n",
            "  inflating: train_line_spacing/317.jpg  \n",
            "  inflating: train_line_spacing/318.jpg  \n",
            "  inflating: train_line_spacing/319.jpg  \n",
            "  inflating: train_line_spacing/32.jpg  \n",
            "  inflating: train_line_spacing/320.jpg  \n",
            "  inflating: train_line_spacing/321.jpg  \n",
            "  inflating: train_line_spacing/322.jpg  \n",
            "  inflating: train_line_spacing/323.jpg  \n",
            "  inflating: train_line_spacing/324.jpg  \n",
            "  inflating: train_line_spacing/325.jpg  \n",
            "  inflating: train_line_spacing/326.jpg  \n",
            "  inflating: train_line_spacing/327.jpg  \n",
            "  inflating: train_line_spacing/328.jpg  \n",
            "  inflating: train_line_spacing/329.jpg  \n",
            "  inflating: train_line_spacing/33.jpg  \n",
            "  inflating: train_line_spacing/330.jpg  \n",
            "  inflating: train_line_spacing/331.jpg  \n",
            "  inflating: train_line_spacing/332.jpg  \n",
            "  inflating: train_line_spacing/333.jpg  \n",
            "  inflating: train_line_spacing/334.jpg  \n",
            "  inflating: train_line_spacing/335.jpg  \n",
            "  inflating: train_line_spacing/336.jpg  \n",
            "  inflating: train_line_spacing/337.jpg  \n",
            "  inflating: train_line_spacing/338.jpg  \n",
            "  inflating: train_line_spacing/339.jpg  \n",
            "  inflating: train_line_spacing/34.jpg  \n",
            "  inflating: train_line_spacing/340.jpg  \n",
            "  inflating: train_line_spacing/341.jpg  \n",
            "  inflating: train_line_spacing/342.jpg  \n",
            "  inflating: train_line_spacing/343.jpg  \n",
            "  inflating: train_line_spacing/344.jpg  \n",
            "  inflating: train_line_spacing/345.jpg  \n",
            "  inflating: train_line_spacing/346.jpg  \n",
            "  inflating: train_line_spacing/347.jpg  \n",
            "  inflating: train_line_spacing/348.jpg  \n",
            "  inflating: train_line_spacing/349.jpg  \n",
            "  inflating: train_line_spacing/35.jpg  \n",
            "  inflating: train_line_spacing/350.jpg  \n",
            "  inflating: train_line_spacing/351.jpg  \n",
            "  inflating: train_line_spacing/352.jpg  \n",
            "  inflating: train_line_spacing/353.jpg  \n",
            "  inflating: train_line_spacing/354.jpg  \n",
            "  inflating: train_line_spacing/355.jpg  \n",
            "  inflating: train_line_spacing/356.jpg  \n",
            "  inflating: train_line_spacing/357.jpg  \n",
            "  inflating: train_line_spacing/358.jpg  \n",
            "  inflating: train_line_spacing/359.jpg  \n",
            "  inflating: train_line_spacing/36.jpg  \n",
            "  inflating: train_line_spacing/360.jpg  \n",
            "  inflating: train_line_spacing/361.jpg  \n",
            "  inflating: train_line_spacing/362.jpg  \n",
            "  inflating: train_line_spacing/363.jpg  \n",
            "  inflating: train_line_spacing/364.jpg  \n",
            "  inflating: train_line_spacing/365.jpg  \n",
            "  inflating: train_line_spacing/366.jpg  \n",
            "  inflating: train_line_spacing/367.jpg  \n",
            "  inflating: train_line_spacing/368.jpg  \n",
            "  inflating: train_line_spacing/369.jpg  \n",
            "  inflating: train_line_spacing/37.jpg  \n",
            "  inflating: train_line_spacing/370.jpg  \n",
            "  inflating: train_line_spacing/371.jpg  \n",
            "  inflating: train_line_spacing/372.jpg  \n",
            "  inflating: train_line_spacing/373.jpg  \n",
            "  inflating: train_line_spacing/374.jpg  \n",
            "  inflating: train_line_spacing/375.jpg  \n",
            "  inflating: train_line_spacing/376.jpg  \n",
            "  inflating: train_line_spacing/377.jpg  \n",
            "  inflating: train_line_spacing/378.jpg  \n",
            "  inflating: train_line_spacing/379.jpg  \n",
            "  inflating: train_line_spacing/38.jpg  \n",
            "  inflating: train_line_spacing/380.jpg  \n",
            "  inflating: train_line_spacing/381.jpg  \n",
            "  inflating: train_line_spacing/382.jpg  \n",
            "  inflating: train_line_spacing/383.jpg  \n",
            "  inflating: train_line_spacing/384.jpg  \n",
            "  inflating: train_line_spacing/385.jpg  \n",
            "  inflating: train_line_spacing/386.jpg  \n",
            "  inflating: train_line_spacing/387.jpg  \n",
            "  inflating: train_line_spacing/388.jpg  \n",
            "  inflating: train_line_spacing/389.jpg  \n",
            "  inflating: train_line_spacing/39.jpg  \n",
            "  inflating: train_line_spacing/390.jpg  \n",
            "  inflating: train_line_spacing/391.jpg  \n",
            "  inflating: train_line_spacing/392.jpg  \n",
            "  inflating: train_line_spacing/393.jpg  \n",
            "  inflating: train_line_spacing/394.jpg  \n",
            "  inflating: train_line_spacing/395.jpg  \n",
            "  inflating: train_line_spacing/396.jpg  \n",
            "  inflating: train_line_spacing/397.jpg  \n",
            "  inflating: train_line_spacing/398.jpg  \n",
            "  inflating: train_line_spacing/399.jpg  \n",
            "  inflating: train_line_spacing/4.jpg  \n",
            "  inflating: train_line_spacing/40.jpg  \n",
            "  inflating: train_line_spacing/400.jpg  \n",
            "  inflating: train_line_spacing/401.jpg  \n",
            "  inflating: train_line_spacing/402.jpg  \n",
            "  inflating: train_line_spacing/403.jpg  \n",
            "  inflating: train_line_spacing/404.jpg  \n",
            "  inflating: train_line_spacing/405.jpg  \n",
            "  inflating: train_line_spacing/406.jpg  \n",
            "  inflating: train_line_spacing/407.jpg  \n",
            "  inflating: train_line_spacing/408.jpg  \n",
            "  inflating: train_line_spacing/409.jpg  \n",
            "  inflating: train_line_spacing/41.jpg  \n",
            "  inflating: train_line_spacing/410.jpg  \n",
            "  inflating: train_line_spacing/411.jpg  \n",
            "  inflating: train_line_spacing/412.jpg  \n",
            "  inflating: train_line_spacing/413.jpg  \n",
            "  inflating: train_line_spacing/414.jpg  \n",
            "  inflating: train_line_spacing/415.jpg  \n",
            "  inflating: train_line_spacing/416.jpg  \n",
            "  inflating: train_line_spacing/417.jpg  \n",
            "  inflating: train_line_spacing/418.jpg  \n",
            "  inflating: train_line_spacing/419.jpg  \n",
            "  inflating: train_line_spacing/42.jpg  \n",
            "  inflating: train_line_spacing/420.jpg  \n",
            "  inflating: train_line_spacing/421.jpg  \n",
            "  inflating: train_line_spacing/422.jpg  \n",
            "  inflating: train_line_spacing/423.jpg  \n",
            "  inflating: train_line_spacing/424.jpg  \n",
            "  inflating: train_line_spacing/425.jpg  \n",
            "  inflating: train_line_spacing/426.jpg  \n",
            "  inflating: train_line_spacing/427.jpg  \n",
            "  inflating: train_line_spacing/428.jpg  \n",
            "  inflating: train_line_spacing/429.jpg  \n",
            "  inflating: train_line_spacing/43.jpg  \n",
            "  inflating: train_line_spacing/430.jpg  \n",
            "  inflating: train_line_spacing/431.jpg  \n",
            "  inflating: train_line_spacing/432.jpg  \n",
            "  inflating: train_line_spacing/433.jpg  \n",
            "  inflating: train_line_spacing/434.jpg  \n",
            "  inflating: train_line_spacing/435.jpg  \n",
            "  inflating: train_line_spacing/436.jpg  \n",
            "  inflating: train_line_spacing/437.jpg  \n",
            "  inflating: train_line_spacing/438.jpg  \n",
            "  inflating: train_line_spacing/439.jpg  \n",
            "  inflating: train_line_spacing/44.jpg  \n",
            "  inflating: train_line_spacing/440.jpg  \n",
            "  inflating: train_line_spacing/441.jpg  \n",
            "  inflating: train_line_spacing/442.jpg  \n",
            "  inflating: train_line_spacing/443.jpg  \n",
            "  inflating: train_line_spacing/444.jpg  \n",
            "  inflating: train_line_spacing/445.jpg  \n",
            "  inflating: train_line_spacing/446.jpg  \n",
            "  inflating: train_line_spacing/447.jpg  \n",
            "  inflating: train_line_spacing/448.jpg  \n",
            "  inflating: train_line_spacing/449.jpg  \n",
            "  inflating: train_line_spacing/45.jpg  \n",
            "  inflating: train_line_spacing/450.jpg  \n",
            "  inflating: train_line_spacing/451.jpg  \n",
            "  inflating: train_line_spacing/452.jpg  \n",
            "  inflating: train_line_spacing/453.jpg  \n",
            "  inflating: train_line_spacing/454.jpg  \n",
            "  inflating: train_line_spacing/455.jpg  \n",
            "  inflating: train_line_spacing/456.jpg  \n",
            "  inflating: train_line_spacing/457.jpg  \n",
            "  inflating: train_line_spacing/458.jpg  \n",
            "  inflating: train_line_spacing/459.jpg  \n",
            "  inflating: train_line_spacing/46.jpg  \n",
            "  inflating: train_line_spacing/460.jpg  \n",
            "  inflating: train_line_spacing/461.jpg  \n",
            "  inflating: train_line_spacing/462.jpg  \n",
            "  inflating: train_line_spacing/463.jpg  \n",
            "  inflating: train_line_spacing/464.jpg  \n",
            "  inflating: train_line_spacing/465.jpg  \n",
            "  inflating: train_line_spacing/466.jpg  \n",
            "  inflating: train_line_spacing/467.jpg  \n",
            "  inflating: train_line_spacing/468.jpg  \n",
            "  inflating: train_line_spacing/469.jpg  \n",
            "  inflating: train_line_spacing/47.jpg  \n",
            "  inflating: train_line_spacing/470.jpg  \n",
            "  inflating: train_line_spacing/471.jpg  \n",
            "  inflating: train_line_spacing/472.jpg  \n",
            "  inflating: train_line_spacing/473.jpg  \n",
            "  inflating: train_line_spacing/474.jpg  \n",
            "  inflating: train_line_spacing/475.jpg  \n",
            "  inflating: train_line_spacing/476.jpg  \n",
            "  inflating: train_line_spacing/477.jpg  \n",
            "  inflating: train_line_spacing/478.jpg  \n",
            "  inflating: train_line_spacing/479.jpg  \n",
            "  inflating: train_line_spacing/48.jpg  \n",
            "  inflating: train_line_spacing/480.jpg  \n",
            "  inflating: train_line_spacing/481.jpg  \n",
            "  inflating: train_line_spacing/482.jpg  \n",
            "  inflating: train_line_spacing/483.jpg  \n",
            "  inflating: train_line_spacing/484.jpg  \n",
            "  inflating: train_line_spacing/485.jpg  \n",
            "  inflating: train_line_spacing/486.jpg  \n",
            "  inflating: train_line_spacing/487.jpg  \n",
            "  inflating: train_line_spacing/488.jpg  \n",
            "  inflating: train_line_spacing/489.jpg  \n",
            "  inflating: train_line_spacing/49.jpg  \n",
            "  inflating: train_line_spacing/490.jpg  \n",
            "  inflating: train_line_spacing/491.jpg  \n",
            "  inflating: train_line_spacing/492.jpg  \n",
            "  inflating: train_line_spacing/493.jpg  \n",
            "  inflating: train_line_spacing/494.jpg  \n",
            "  inflating: train_line_spacing/495.jpg  \n",
            "  inflating: train_line_spacing/496.jpg  \n",
            "  inflating: train_line_spacing/497.jpg  \n",
            "  inflating: train_line_spacing/498.jpg  \n",
            "  inflating: train_line_spacing/499.jpg  \n",
            "  inflating: train_line_spacing/5.jpg  \n",
            "  inflating: train_line_spacing/50.jpg  \n",
            "  inflating: train_line_spacing/500.jpg  \n",
            "  inflating: train_line_spacing/501.jpg  \n",
            "  inflating: train_line_spacing/502.jpg  \n",
            "  inflating: train_line_spacing/503.jpg  \n",
            "  inflating: train_line_spacing/504.jpg  \n",
            "  inflating: train_line_spacing/505.jpg  \n",
            "  inflating: train_line_spacing/506.jpg  \n",
            "  inflating: train_line_spacing/507.jpg  \n",
            "  inflating: train_line_spacing/508.jpg  \n",
            "  inflating: train_line_spacing/509.jpg  \n",
            "  inflating: train_line_spacing/51.jpg  \n",
            "  inflating: train_line_spacing/510.jpg  \n",
            "  inflating: train_line_spacing/511.jpg  \n",
            "  inflating: train_line_spacing/512.jpg  \n",
            "  inflating: train_line_spacing/513.jpg  \n",
            "  inflating: train_line_spacing/514.jpg  \n",
            "  inflating: train_line_spacing/515.jpg  \n",
            "  inflating: train_line_spacing/516.jpg  \n",
            "  inflating: train_line_spacing/517.jpg  \n",
            "  inflating: train_line_spacing/518.jpg  \n",
            "  inflating: train_line_spacing/519.jpg  \n",
            "  inflating: train_line_spacing/52.jpg  \n",
            "  inflating: train_line_spacing/520.jpg  \n",
            "  inflating: train_line_spacing/521.jpg  \n",
            "  inflating: train_line_spacing/522.jpg  \n",
            "  inflating: train_line_spacing/523.jpg  \n",
            "  inflating: train_line_spacing/524.jpg  \n",
            "  inflating: train_line_spacing/525.jpg  \n",
            "  inflating: train_line_spacing/526.jpg  \n",
            "  inflating: train_line_spacing/527.jpg  \n",
            "  inflating: train_line_spacing/528.jpg  \n",
            "  inflating: train_line_spacing/529.jpg  \n",
            "  inflating: train_line_spacing/53.jpg  \n",
            "  inflating: train_line_spacing/530.jpg  \n",
            "  inflating: train_line_spacing/531.jpg  \n",
            "  inflating: train_line_spacing/532.jpg  \n",
            "  inflating: train_line_spacing/533.jpg  \n",
            "  inflating: train_line_spacing/534.jpg  \n",
            "  inflating: train_line_spacing/535.jpg  \n",
            "  inflating: train_line_spacing/536.jpg  \n",
            "  inflating: train_line_spacing/537.jpg  \n",
            "  inflating: train_line_spacing/538.jpg  \n",
            "  inflating: train_line_spacing/539.jpg  \n",
            "  inflating: train_line_spacing/54.jpg  \n",
            "  inflating: train_line_spacing/540.jpg  \n",
            "  inflating: train_line_spacing/541.jpg  \n",
            "  inflating: train_line_spacing/542.jpg  \n",
            "  inflating: train_line_spacing/543.jpg  \n",
            "  inflating: train_line_spacing/544.jpg  \n",
            "  inflating: train_line_spacing/545.jpg  \n",
            "  inflating: train_line_spacing/546.jpg  \n",
            "  inflating: train_line_spacing/547.jpg  \n",
            "  inflating: train_line_spacing/548.jpg  \n",
            "  inflating: train_line_spacing/549.jpg  \n",
            "  inflating: train_line_spacing/55.jpg  \n",
            "  inflating: train_line_spacing/550.jpg  \n",
            "  inflating: train_line_spacing/551.jpg  \n",
            "  inflating: train_line_spacing/552.jpg  \n",
            "  inflating: train_line_spacing/553.jpg  \n",
            "  inflating: train_line_spacing/554.jpg  \n",
            "  inflating: train_line_spacing/555.jpg  \n",
            "  inflating: train_line_spacing/556.jpg  \n",
            "  inflating: train_line_spacing/557.jpg  \n",
            "  inflating: train_line_spacing/558.jpg  \n",
            "  inflating: train_line_spacing/559.jpg  \n",
            "  inflating: train_line_spacing/56.jpg  \n",
            "  inflating: train_line_spacing/560.jpg  \n",
            "  inflating: train_line_spacing/561.jpg  \n",
            "  inflating: train_line_spacing/562.jpg  \n",
            "  inflating: train_line_spacing/563.jpg  \n",
            "  inflating: train_line_spacing/564.jpg  \n",
            "  inflating: train_line_spacing/565.jpg  \n",
            "  inflating: train_line_spacing/566.jpg  \n",
            "  inflating: train_line_spacing/567.jpg  \n",
            "  inflating: train_line_spacing/568.jpg  \n",
            "  inflating: train_line_spacing/569.jpg  \n",
            "  inflating: train_line_spacing/57.jpg  \n",
            "  inflating: train_line_spacing/570.jpg  \n",
            "  inflating: train_line_spacing/571.jpg  \n",
            "  inflating: train_line_spacing/572.jpg  \n",
            "  inflating: train_line_spacing/573.jpg  \n",
            "  inflating: train_line_spacing/574.jpg  \n",
            "  inflating: train_line_spacing/575.jpg  \n",
            "  inflating: train_line_spacing/576.jpg  \n",
            "  inflating: train_line_spacing/577.jpg  \n",
            "  inflating: train_line_spacing/578.jpg  \n",
            "  inflating: train_line_spacing/579.jpg  \n",
            "  inflating: train_line_spacing/58.jpg  \n",
            "  inflating: train_line_spacing/580.jpg  \n",
            "  inflating: train_line_spacing/581.jpg  \n",
            "  inflating: train_line_spacing/582.jpg  \n",
            "  inflating: train_line_spacing/583.jpg  \n",
            "  inflating: train_line_spacing/584.jpg  \n",
            "  inflating: train_line_spacing/585.jpg  \n",
            "  inflating: train_line_spacing/586.jpg  \n",
            "  inflating: train_line_spacing/587.jpg  \n",
            "  inflating: train_line_spacing/588.jpg  \n",
            "  inflating: train_line_spacing/589.jpg  \n",
            "  inflating: train_line_spacing/59.jpg  \n",
            "  inflating: train_line_spacing/590.jpg  \n",
            "  inflating: train_line_spacing/591.jpg  \n",
            "  inflating: train_line_spacing/592.jpg  \n",
            "  inflating: train_line_spacing/593.jpg  \n",
            "  inflating: train_line_spacing/594.jpg  \n",
            "  inflating: train_line_spacing/595.jpg  \n",
            "  inflating: train_line_spacing/596.jpg  \n",
            "  inflating: train_line_spacing/597.jpg  \n",
            "  inflating: train_line_spacing/598.jpg  \n",
            "  inflating: train_line_spacing/599.jpg  \n",
            "  inflating: train_line_spacing/6.jpg  \n",
            "  inflating: train_line_spacing/60.jpg  \n",
            "  inflating: train_line_spacing/600.jpg  \n",
            "  inflating: train_line_spacing/601.jpg  \n",
            "  inflating: train_line_spacing/602.jpg  \n",
            "  inflating: train_line_spacing/603.jpg  \n",
            "  inflating: train_line_spacing/604.jpg  \n",
            "  inflating: train_line_spacing/605.jpg  \n",
            "  inflating: train_line_spacing/606.jpg  \n",
            "  inflating: train_line_spacing/607.jpg  \n",
            "  inflating: train_line_spacing/608.jpg  \n",
            "  inflating: train_line_spacing/609.jpg  \n",
            "  inflating: train_line_spacing/61.jpg  \n",
            "  inflating: train_line_spacing/610.jpg  \n",
            "  inflating: train_line_spacing/611.jpg  \n",
            "  inflating: train_line_spacing/612.jpg  \n",
            "  inflating: train_line_spacing/613.jpg  \n",
            "  inflating: train_line_spacing/614.jpg  \n",
            "  inflating: train_line_spacing/615.jpg  \n",
            "  inflating: train_line_spacing/616.jpg  \n",
            "  inflating: train_line_spacing/617.jpg  \n",
            "  inflating: train_line_spacing/618.jpg  \n",
            "  inflating: train_line_spacing/619.jpg  \n",
            "  inflating: train_line_spacing/62.jpg  \n",
            "  inflating: train_line_spacing/620.jpg  \n",
            "  inflating: train_line_spacing/621.jpg  \n",
            "  inflating: train_line_spacing/622.jpg  \n",
            "  inflating: train_line_spacing/623.jpg  \n",
            "  inflating: train_line_spacing/624.jpg  \n",
            "  inflating: train_line_spacing/625.jpg  \n",
            "  inflating: train_line_spacing/626.jpg  \n",
            "  inflating: train_line_spacing/627.jpg  \n",
            "  inflating: train_line_spacing/628.jpg  \n",
            "  inflating: train_line_spacing/629.jpg  \n",
            "  inflating: train_line_spacing/63.jpg  \n",
            "  inflating: train_line_spacing/630.jpg  \n",
            "  inflating: train_line_spacing/631.jpg  \n",
            "  inflating: train_line_spacing/632.jpg  \n",
            "  inflating: train_line_spacing/633.jpg  \n",
            "  inflating: train_line_spacing/634.jpg  \n",
            "  inflating: train_line_spacing/635.jpg  \n",
            "  inflating: train_line_spacing/636.jpg  \n",
            "  inflating: train_line_spacing/637.jpg  \n",
            "  inflating: train_line_spacing/638.jpg  \n",
            "  inflating: train_line_spacing/639.jpg  \n",
            "  inflating: train_line_spacing/64.jpg  \n",
            "  inflating: train_line_spacing/640.jpg  \n",
            "  inflating: train_line_spacing/641.jpg  \n",
            "  inflating: train_line_spacing/642.jpg  \n",
            "  inflating: train_line_spacing/643.jpg  \n",
            "  inflating: train_line_spacing/644.jpg  \n",
            "  inflating: train_line_spacing/645.jpg  \n",
            "  inflating: train_line_spacing/646.jpg  \n",
            "  inflating: train_line_spacing/647.jpg  \n",
            "  inflating: train_line_spacing/648.jpg  \n",
            "  inflating: train_line_spacing/649.jpg  \n",
            "  inflating: train_line_spacing/65.jpg  \n",
            "  inflating: train_line_spacing/650.jpg  \n",
            "  inflating: train_line_spacing/651.jpg  \n",
            "  inflating: train_line_spacing/652.jpg  \n",
            "  inflating: train_line_spacing/653.jpg  \n",
            "  inflating: train_line_spacing/654.jpg  \n",
            "  inflating: train_line_spacing/655.jpg  \n",
            "  inflating: train_line_spacing/656.jpg  \n",
            "  inflating: train_line_spacing/657.jpg  \n",
            "  inflating: train_line_spacing/658.jpg  \n",
            "  inflating: train_line_spacing/659.jpg  \n",
            "  inflating: train_line_spacing/66.jpg  \n",
            "  inflating: train_line_spacing/660.jpg  \n",
            "  inflating: train_line_spacing/661.jpg  \n",
            "  inflating: train_line_spacing/662.jpg  \n",
            "  inflating: train_line_spacing/663.jpg  \n",
            "  inflating: train_line_spacing/664.jpg  \n",
            "  inflating: train_line_spacing/665.jpg  \n",
            "  inflating: train_line_spacing/666.jpg  \n",
            "  inflating: train_line_spacing/667.jpg  \n",
            "  inflating: train_line_spacing/668.jpg  \n",
            "  inflating: train_line_spacing/669.jpg  \n",
            "  inflating: train_line_spacing/67.jpg  \n",
            "  inflating: train_line_spacing/670.jpg  \n",
            "  inflating: train_line_spacing/671.jpg  \n",
            "  inflating: train_line_spacing/672.jpg  \n",
            "  inflating: train_line_spacing/673.jpg  \n",
            "  inflating: train_line_spacing/674.jpg  \n",
            "  inflating: train_line_spacing/675.jpg  \n",
            "  inflating: train_line_spacing/676.jpg  \n",
            "  inflating: train_line_spacing/677.jpg  \n",
            "  inflating: train_line_spacing/678.jpg  \n",
            "  inflating: train_line_spacing/679.jpg  \n",
            "  inflating: train_line_spacing/68.jpg  \n",
            "  inflating: train_line_spacing/680.jpg  \n",
            "  inflating: train_line_spacing/681.jpg  \n",
            "  inflating: train_line_spacing/682.jpg  \n",
            "  inflating: train_line_spacing/683.jpg  \n",
            "  inflating: train_line_spacing/684.jpg  \n",
            "  inflating: train_line_spacing/685.jpg  \n",
            "  inflating: train_line_spacing/686.jpg  \n",
            "  inflating: train_line_spacing/687.jpg  \n",
            "  inflating: train_line_spacing/688.jpg  \n",
            "  inflating: train_line_spacing/689.jpg  \n",
            "  inflating: train_line_spacing/69.jpg  \n",
            "  inflating: train_line_spacing/690.jpg  \n",
            "  inflating: train_line_spacing/691.jpg  \n",
            "  inflating: train_line_spacing/692.jpg  \n",
            "  inflating: train_line_spacing/693.jpg  \n",
            "  inflating: train_line_spacing/694.jpg  \n",
            "  inflating: train_line_spacing/695.jpg  \n",
            "  inflating: train_line_spacing/696.jpg  \n",
            "  inflating: train_line_spacing/697.jpg  \n",
            "  inflating: train_line_spacing/698.jpg  \n",
            "  inflating: train_line_spacing/699.jpg  \n",
            "  inflating: train_line_spacing/7.jpg  \n",
            "  inflating: train_line_spacing/70.jpg  \n",
            "  inflating: train_line_spacing/700.jpg  \n",
            "  inflating: train_line_spacing/701.jpg  \n",
            "  inflating: train_line_spacing/702.jpg  \n",
            "  inflating: train_line_spacing/703.jpg  \n",
            "  inflating: train_line_spacing/704.jpg  \n",
            "  inflating: train_line_spacing/705.jpg  \n",
            "  inflating: train_line_spacing/706.jpg  \n",
            "  inflating: train_line_spacing/707.jpg  \n",
            "  inflating: train_line_spacing/708.jpg  \n",
            "  inflating: train_line_spacing/709.jpg  \n",
            "  inflating: train_line_spacing/71.jpg  \n",
            "  inflating: train_line_spacing/710.jpg  \n",
            "  inflating: train_line_spacing/711.jpg  \n",
            "  inflating: train_line_spacing/712.jpg  \n",
            "  inflating: train_line_spacing/713.jpg  \n",
            "  inflating: train_line_spacing/714.jpg  \n",
            "  inflating: train_line_spacing/715.jpg  \n",
            "  inflating: train_line_spacing/716.jpg  \n",
            "  inflating: train_line_spacing/717.jpg  \n",
            "  inflating: train_line_spacing/718.jpg  \n",
            "  inflating: train_line_spacing/719.jpg  \n",
            "  inflating: train_line_spacing/72.jpg  \n",
            "  inflating: train_line_spacing/720.jpg  \n",
            "  inflating: train_line_spacing/721.jpg  \n",
            "  inflating: train_line_spacing/722.jpg  \n",
            "  inflating: train_line_spacing/723.jpg  \n",
            "  inflating: train_line_spacing/724.jpg  \n",
            "  inflating: train_line_spacing/725.jpg  \n",
            "  inflating: train_line_spacing/726.jpg  \n",
            "  inflating: train_line_spacing/727.jpg  \n",
            "  inflating: train_line_spacing/728.jpg  \n",
            "  inflating: train_line_spacing/729.jpg  \n",
            "  inflating: train_line_spacing/73.jpg  \n",
            "  inflating: train_line_spacing/730.jpg  \n",
            "  inflating: train_line_spacing/731.jpg  \n",
            "  inflating: train_line_spacing/732.jpg  \n",
            "  inflating: train_line_spacing/733.jpg  \n",
            "  inflating: train_line_spacing/734.jpg  \n",
            "  inflating: train_line_spacing/735.jpg  \n",
            "  inflating: train_line_spacing/736.jpg  \n",
            "  inflating: train_line_spacing/737.jpg  \n",
            "  inflating: train_line_spacing/738.jpg  \n",
            "  inflating: train_line_spacing/739.jpg  \n",
            "  inflating: train_line_spacing/74.jpg  \n",
            "  inflating: train_line_spacing/740.jpg  \n",
            "  inflating: train_line_spacing/741.jpg  \n",
            "  inflating: train_line_spacing/742.jpg  \n",
            "  inflating: train_line_spacing/743.jpg  \n",
            "  inflating: train_line_spacing/744.jpg  \n",
            "  inflating: train_line_spacing/745.jpg  \n",
            "  inflating: train_line_spacing/746.jpg  \n",
            "  inflating: train_line_spacing/747.jpg  \n",
            "  inflating: train_line_spacing/748.jpg  \n",
            "  inflating: train_line_spacing/749.jpg  \n",
            "  inflating: train_line_spacing/75.jpg  \n",
            "  inflating: train_line_spacing/750.jpg  \n",
            "  inflating: train_line_spacing/751.jpg  \n",
            "  inflating: train_line_spacing/752.jpg  \n",
            "  inflating: train_line_spacing/753.jpg  \n",
            "  inflating: train_line_spacing/754.jpg  \n",
            "  inflating: train_line_spacing/755.jpg  \n",
            "  inflating: train_line_spacing/756.jpg  \n",
            "  inflating: train_line_spacing/757.jpg  \n",
            "  inflating: train_line_spacing/758.jpg  \n",
            "  inflating: train_line_spacing/759.jpg  \n",
            "  inflating: train_line_spacing/76.jpg  \n",
            "  inflating: train_line_spacing/760.jpg  \n",
            "  inflating: train_line_spacing/761.jpg  \n",
            "  inflating: train_line_spacing/762.jpg  \n",
            "  inflating: train_line_spacing/763.jpg  \n",
            "  inflating: train_line_spacing/764.jpg  \n",
            "  inflating: train_line_spacing/765.jpg  \n",
            "  inflating: train_line_spacing/766.jpg  \n",
            "  inflating: train_line_spacing/767.jpg  \n",
            "  inflating: train_line_spacing/768.jpg  \n",
            "  inflating: train_line_spacing/769.jpg  \n",
            "  inflating: train_line_spacing/77.jpg  \n",
            "  inflating: train_line_spacing/770.jpg  \n",
            "  inflating: train_line_spacing/771.jpg  \n",
            "  inflating: train_line_spacing/772.jpg  \n",
            "  inflating: train_line_spacing/773.jpg  \n",
            "  inflating: train_line_spacing/774.jpg  \n",
            "  inflating: train_line_spacing/775.jpg  \n",
            "  inflating: train_line_spacing/776.jpg  \n",
            "  inflating: train_line_spacing/777.jpg  \n",
            "  inflating: train_line_spacing/778.jpg  \n",
            "  inflating: train_line_spacing/779.jpg  \n",
            "  inflating: train_line_spacing/78.jpg  \n",
            "  inflating: train_line_spacing/780.jpg  \n",
            "  inflating: train_line_spacing/781.jpg  \n",
            "  inflating: train_line_spacing/782.jpg  \n",
            "  inflating: train_line_spacing/783.jpg  \n",
            "  inflating: train_line_spacing/784.jpg  \n",
            "  inflating: train_line_spacing/785.jpg  \n",
            "  inflating: train_line_spacing/786.jpg  \n",
            "  inflating: train_line_spacing/787.jpg  \n",
            "  inflating: train_line_spacing/788.jpg  \n",
            "  inflating: train_line_spacing/789.jpg  \n",
            "  inflating: train_line_spacing/79.jpg  \n",
            "  inflating: train_line_spacing/790.jpg  \n",
            "  inflating: train_line_spacing/791.jpg  \n",
            "  inflating: train_line_spacing/792.jpg  \n",
            "  inflating: train_line_spacing/793.jpg  \n",
            "  inflating: train_line_spacing/794.jpg  \n",
            "  inflating: train_line_spacing/795.jpg  \n",
            "  inflating: train_line_spacing/796.jpg  \n",
            "  inflating: train_line_spacing/797.jpg  \n",
            "  inflating: train_line_spacing/798.jpg  \n",
            "  inflating: train_line_spacing/799.jpg  \n",
            "  inflating: train_line_spacing/8.jpg  \n",
            "  inflating: train_line_spacing/80.jpg  \n",
            "  inflating: train_line_spacing/800.jpg  \n",
            "  inflating: train_line_spacing/801.jpg  \n",
            "  inflating: train_line_spacing/802.jpg  \n",
            "  inflating: train_line_spacing/803.jpg  \n",
            "  inflating: train_line_spacing/804.jpg  \n",
            "  inflating: train_line_spacing/805.jpg  \n",
            "  inflating: train_line_spacing/806.jpg  \n",
            "  inflating: train_line_spacing/807.jpg  \n",
            "  inflating: train_line_spacing/808.jpg  \n",
            "  inflating: train_line_spacing/809.jpg  \n",
            "  inflating: train_line_spacing/81.jpg  \n",
            "  inflating: train_line_spacing/810.jpg  \n",
            "  inflating: train_line_spacing/811.jpg  \n",
            "  inflating: train_line_spacing/812.jpg  \n",
            "  inflating: train_line_spacing/813.jpg  \n",
            "  inflating: train_line_spacing/814.jpg  \n",
            "  inflating: train_line_spacing/815.jpg  \n",
            "  inflating: train_line_spacing/816.jpg  \n",
            "  inflating: train_line_spacing/817.jpg  \n",
            "  inflating: train_line_spacing/818.jpg  \n",
            "  inflating: train_line_spacing/819.jpg  \n",
            "  inflating: train_line_spacing/82.jpg  \n",
            "  inflating: train_line_spacing/820.jpg  \n",
            "  inflating: train_line_spacing/821.jpg  \n",
            "  inflating: train_line_spacing/822.jpg  \n",
            "  inflating: train_line_spacing/823.jpg  \n",
            "  inflating: train_line_spacing/824.jpg  \n",
            "  inflating: train_line_spacing/825.jpg  \n",
            "  inflating: train_line_spacing/826.jpg  \n",
            "  inflating: train_line_spacing/827.jpg  \n",
            "  inflating: train_line_spacing/828.jpg  \n",
            "  inflating: train_line_spacing/829.jpg  \n",
            "  inflating: train_line_spacing/83.jpg  \n",
            "  inflating: train_line_spacing/830.jpg  \n",
            "  inflating: train_line_spacing/831.jpg  \n",
            "  inflating: train_line_spacing/832.jpg  \n",
            "  inflating: train_line_spacing/84.jpg  \n",
            "  inflating: train_line_spacing/85.jpg  \n",
            "  inflating: train_line_spacing/86.jpg  \n",
            "  inflating: train_line_spacing/87.jpg  \n",
            "  inflating: train_line_spacing/88.jpg  \n",
            "  inflating: train_line_spacing/89.jpg  \n",
            "  inflating: train_line_spacing/9.jpg  \n",
            "  inflating: train_line_spacing/90.jpg  \n",
            "  inflating: train_line_spacing/91.jpg  \n",
            "  inflating: train_line_spacing/92.jpg  \n",
            "  inflating: train_line_spacing/93.jpg  \n",
            "  inflating: train_line_spacing/94.jpg  \n",
            "  inflating: train_line_spacing/95.jpg  \n",
            "  inflating: train_line_spacing/96.jpg  \n",
            "  inflating: train_line_spacing/97.jpg  \n",
            "  inflating: train_line_spacing/98.jpg  \n",
            "  inflating: train_line_spacing/99.jpg  \n"
          ],
          "name": "stdout"
        }
      ]
    },
    {
      "cell_type": "code",
      "metadata": {
        "id": "jFq3PL7cqZXw",
        "colab_type": "code",
        "colab": {}
      },
      "source": [
        "train = pd.read_csv('train_line_spacing.csv')"
      ],
      "execution_count": 0,
      "outputs": []
    },
    {
      "cell_type": "code",
      "metadata": {
        "id": "0XDDL185y5Ar",
        "colab_type": "code",
        "outputId": "1c7837ae-39dc-409f-cd50-51c7c705f05d",
        "colab": {
          "base_uri": "https://localhost:8080/",
          "height": 194
        }
      },
      "source": [
        "train.head()"
      ],
      "execution_count": 5,
      "outputs": [
        {
          "output_type": "execute_result",
          "data": {
            "text/html": [
              "<div>\n",
              "<style scoped>\n",
              "    .dataframe tbody tr th:only-of-type {\n",
              "        vertical-align: middle;\n",
              "    }\n",
              "\n",
              "    .dataframe tbody tr th {\n",
              "        vertical-align: top;\n",
              "    }\n",
              "\n",
              "    .dataframe thead th {\n",
              "        text-align: right;\n",
              "    }\n",
              "</style>\n",
              "<table border=\"1\" class=\"dataframe\">\n",
              "  <thead>\n",
              "    <tr style=\"text-align: right;\">\n",
              "      <th></th>\n",
              "      <th>img</th>\n",
              "      <th>distance</th>\n",
              "    </tr>\n",
              "  </thead>\n",
              "  <tbody>\n",
              "    <tr>\n",
              "      <th>0</th>\n",
              "      <td>1.jpg</td>\n",
              "      <td>1</td>\n",
              "    </tr>\n",
              "    <tr>\n",
              "      <th>1</th>\n",
              "      <td>2.jpg</td>\n",
              "      <td>1</td>\n",
              "    </tr>\n",
              "    <tr>\n",
              "      <th>2</th>\n",
              "      <td>3.jpg</td>\n",
              "      <td>1</td>\n",
              "    </tr>\n",
              "    <tr>\n",
              "      <th>3</th>\n",
              "      <td>4.jpg</td>\n",
              "      <td>0</td>\n",
              "    </tr>\n",
              "    <tr>\n",
              "      <th>4</th>\n",
              "      <td>5.jpg</td>\n",
              "      <td>0</td>\n",
              "    </tr>\n",
              "  </tbody>\n",
              "</table>\n",
              "</div>"
            ],
            "text/plain": [
              "     img  distance\n",
              "0  1.jpg         1\n",
              "1  2.jpg         1\n",
              "2  3.jpg         1\n",
              "3  4.jpg         0\n",
              "4  5.jpg         0"
            ]
          },
          "metadata": {
            "tags": []
          },
          "execution_count": 5
        }
      ]
    },
    {
      "cell_type": "code",
      "metadata": {
        "id": "md76XWSInS3S",
        "colab_type": "code",
        "outputId": "dae59d8d-5c94-4874-f9b6-8ee04cd6d3b5",
        "colab": {
          "base_uri": "https://localhost:8080/",
          "height": 35
        }
      },
      "source": [
        "train.shape"
      ],
      "execution_count": 6,
      "outputs": [
        {
          "output_type": "execute_result",
          "data": {
            "text/plain": [
              "(832, 2)"
            ]
          },
          "metadata": {
            "tags": []
          },
          "execution_count": 6
        }
      ]
    },
    {
      "cell_type": "code",
      "metadata": {
        "id": "OYFXUjcmhbAV",
        "colab_type": "code",
        "outputId": "1a9b47dc-d482-4adb-d09c-7a0a28b874a5",
        "colab": {
          "base_uri": "https://localhost:8080/",
          "height": 35
        }
      },
      "source": [
        "train[train.distance == 0].shape, train[train.distance == 1].shape, train[train.distance == 2].shape #кол-во классов"
      ],
      "execution_count": 7,
      "outputs": [
        {
          "output_type": "execute_result",
          "data": {
            "text/plain": [
              "((266, 2), (290, 2), (276, 2))"
            ]
          },
          "metadata": {
            "tags": []
          },
          "execution_count": 7
        }
      ]
    },
    {
      "cell_type": "code",
      "metadata": {
        "id": "qnra_NGnmeLJ",
        "colab_type": "code",
        "outputId": "4d976f76-4afa-408a-8ec8-9e7eee99ef03",
        "colab": {
          "base_uri": "https://localhost:8080/",
          "height": 1000
        }
      },
      "source": [
        "!unzip test_line_spacing.zip #images"
      ],
      "execution_count": 8,
      "outputs": [
        {
          "output_type": "stream",
          "text": [
            "Archive:  test_line_spacing.zip\n",
            "  inflating: test_line_spacing/100.jpg  \n",
            "  inflating: test_line_spacing/101.jpg  \n",
            "  inflating: test_line_spacing/102.jpg  \n",
            "  inflating: test_line_spacing/103.jpg  \n",
            "  inflating: test_line_spacing/104.jpg  \n",
            "  inflating: test_line_spacing/105.jpg  \n",
            "  inflating: test_line_spacing/106.jpg  \n",
            "  inflating: test_line_spacing/107.jpg  \n",
            "  inflating: test_line_spacing/108.jpg  \n",
            "  inflating: test_line_spacing/109.jpg  \n",
            "  inflating: test_line_spacing/110.jpg  \n",
            "  inflating: test_line_spacing/111.jpg  \n",
            "  inflating: test_line_spacing/112.jpg  \n",
            "  inflating: test_line_spacing/113.jpg  \n",
            "  inflating: test_line_spacing/114.jpg  \n",
            "  inflating: test_line_spacing/115.jpg  \n",
            "  inflating: test_line_spacing/116.jpg  \n",
            "  inflating: test_line_spacing/117.jpg  \n",
            "  inflating: test_line_spacing/118.jpg  \n",
            "  inflating: test_line_spacing/119.jpg  \n",
            "  inflating: test_line_spacing/120.jpg  \n",
            "  inflating: test_line_spacing/121.jpg  \n",
            "  inflating: test_line_spacing/122.jpg  \n",
            "  inflating: test_line_spacing/123.jpg  \n",
            "  inflating: test_line_spacing/124.jpg  \n",
            "  inflating: test_line_spacing/125.jpg  \n",
            "  inflating: test_line_spacing/126.jpg  \n",
            "  inflating: test_line_spacing/127.jpg  \n",
            "  inflating: test_line_spacing/128.jpg  \n",
            "  inflating: test_line_spacing/129.jpg  \n",
            "  inflating: test_line_spacing/130.jpg  \n",
            "  inflating: test_line_spacing/131.jpg  \n",
            "  inflating: test_line_spacing/132.jpg  \n",
            "  inflating: test_line_spacing/133.jpg  \n",
            "  inflating: test_line_spacing/134.jpg  \n",
            "  inflating: test_line_spacing/135.jpg  \n",
            "  inflating: test_line_spacing/136.jpg  \n",
            "  inflating: test_line_spacing/137.jpg  \n",
            "  inflating: test_line_spacing/138.jpg  \n",
            "  inflating: test_line_spacing/139.jpg  \n",
            "  inflating: test_line_spacing/140.jpg  \n",
            "  inflating: test_line_spacing/141.jpg  \n",
            "  inflating: test_line_spacing/142.jpg  \n",
            "  inflating: test_line_spacing/143.jpg  \n",
            "  inflating: test_line_spacing/144.jpg  \n",
            "  inflating: test_line_spacing/145.jpg  \n",
            "  inflating: test_line_spacing/146.jpg  \n",
            "  inflating: test_line_spacing/147.jpg  \n",
            "  inflating: test_line_spacing/148.jpg  \n",
            "  inflating: test_line_spacing/149.jpg  \n",
            "  inflating: test_line_spacing/150.jpg  \n",
            "  inflating: test_line_spacing/151.jpg  \n",
            "  inflating: test_line_spacing/152.jpg  \n",
            "  inflating: test_line_spacing/153.jpg  \n",
            "  inflating: test_line_spacing/154.jpg  \n",
            "  inflating: test_line_spacing/155.jpg  \n",
            "  inflating: test_line_spacing/156.jpg  \n",
            "  inflating: test_line_spacing/157.jpg  \n",
            "  inflating: test_line_spacing/158.jpg  \n",
            "  inflating: test_line_spacing/159.jpg  \n",
            "  inflating: test_line_spacing/160.jpg  \n",
            "  inflating: test_line_spacing/161.jpg  \n",
            "  inflating: test_line_spacing/162.jpg  \n",
            "  inflating: test_line_spacing/163.jpg  \n",
            "  inflating: test_line_spacing/164.jpg  \n",
            "  inflating: test_line_spacing/165.jpg  \n",
            "  inflating: test_line_spacing/166.jpg  \n",
            "  inflating: test_line_spacing/167.jpg  \n",
            "  inflating: test_line_spacing/168.jpg  \n",
            "  inflating: test_line_spacing/169.jpg  \n",
            "  inflating: test_line_spacing/170.jpg  \n",
            "  inflating: test_line_spacing/171.jpg  \n",
            "  inflating: test_line_spacing/172.jpg  \n",
            "  inflating: test_line_spacing/174.jpg  \n",
            "  inflating: test_line_spacing/176.jpg  \n",
            "  inflating: test_line_spacing/177.jpg  \n",
            "  inflating: test_line_spacing/178.jpg  \n",
            "  inflating: test_line_spacing/179.jpg  \n",
            "  inflating: test_line_spacing/180.jpg  \n",
            "  inflating: test_line_spacing/181.jpg  \n",
            "  inflating: test_line_spacing/182.jpg  \n",
            "  inflating: test_line_spacing/183.jpg  \n",
            "  inflating: test_line_spacing/184.jpg  \n",
            "  inflating: test_line_spacing/185.jpg  \n",
            "  inflating: test_line_spacing/186.jpg  \n",
            "  inflating: test_line_spacing/187.jpg  \n",
            "  inflating: test_line_spacing/188.jpg  \n",
            "  inflating: test_line_spacing/189.jpg  \n",
            "  inflating: test_line_spacing/190.jpg  \n",
            "  inflating: test_line_spacing/191.jpg  \n",
            "  inflating: test_line_spacing/192.jpg  \n",
            "  inflating: test_line_spacing/193.jpg  \n",
            "  inflating: test_line_spacing/194.jpg  \n",
            "  inflating: test_line_spacing/195.jpg  \n",
            "  inflating: test_line_spacing/196.jpg  \n",
            "  inflating: test_line_spacing/197.jpg  \n",
            "  inflating: test_line_spacing/198.jpg  \n",
            "  inflating: test_line_spacing/199.jpg  \n",
            "  inflating: test_line_spacing/200.jpg  \n",
            "  inflating: test_line_spacing/201.jpg  \n",
            "  inflating: test_line_spacing/202.jpg  \n",
            "  inflating: test_line_spacing/203.jpg  \n",
            "  inflating: test_line_spacing/204.jpg  \n",
            "  inflating: test_line_spacing/205.jpg  \n",
            "  inflating: test_line_spacing/206.jpg  \n",
            "  inflating: test_line_spacing/209.jpg  \n",
            "  inflating: test_line_spacing/211.jpg  \n",
            "  inflating: test_line_spacing/212.jpg  \n",
            "  inflating: test_line_spacing/213.jpg  \n",
            "  inflating: test_line_spacing/214.jpg  \n",
            "  inflating: test_line_spacing/215.jpg  \n",
            "  inflating: test_line_spacing/216.jpg  \n",
            "  inflating: test_line_spacing/217.jpg  \n",
            "  inflating: test_line_spacing/218.jpg  \n",
            "  inflating: test_line_spacing/219.jpg  \n",
            "  inflating: test_line_spacing/220.jpg  \n",
            "  inflating: test_line_spacing/221.jpg  \n",
            "  inflating: test_line_spacing/222.jpg  \n",
            "  inflating: test_line_spacing/223.jpg  \n",
            "  inflating: test_line_spacing/224.jpg  \n",
            "  inflating: test_line_spacing/225.jpg  \n",
            "  inflating: test_line_spacing/226.jpg  \n",
            "  inflating: test_line_spacing/227.jpg  \n",
            "  inflating: test_line_spacing/228.jpg  \n",
            "  inflating: test_line_spacing/229.jpg  \n",
            "  inflating: test_line_spacing/230.jpg  \n",
            "  inflating: test_line_spacing/231.jpg  \n",
            "  inflating: test_line_spacing/232.jpg  \n",
            "  inflating: test_line_spacing/233.jpg  \n",
            "  inflating: test_line_spacing/234.jpg  \n",
            "  inflating: test_line_spacing/235.jpg  \n",
            "  inflating: test_line_spacing/236.jpg  \n",
            "  inflating: test_line_spacing/237.jpg  \n",
            "  inflating: test_line_spacing/238.jpg  \n",
            "  inflating: test_line_spacing/239.jpg  \n",
            "  inflating: test_line_spacing/240.jpg  \n",
            "  inflating: test_line_spacing/241.jpg  \n",
            "  inflating: test_line_spacing/242.jpg  \n",
            "  inflating: test_line_spacing/243.jpg  \n",
            "  inflating: test_line_spacing/244.jpg  \n",
            "  inflating: test_line_spacing/247.jpg  \n",
            "  inflating: test_line_spacing/250.jpg  \n",
            "  inflating: test_line_spacing/251.jpg  \n",
            "  inflating: test_line_spacing/252.jpg  \n",
            "  inflating: test_line_spacing/253.jpg  \n",
            "  inflating: test_line_spacing/254.jpg  \n",
            "  inflating: test_line_spacing/255.jpg  \n",
            "  inflating: test_line_spacing/259.jpg  \n",
            "  inflating: test_line_spacing/261.jpg  \n",
            "  inflating: test_line_spacing/262.jpg  \n",
            "  inflating: test_line_spacing/263.jpg  \n",
            "  inflating: test_line_spacing/264.jpg  \n",
            "  inflating: test_line_spacing/265.jpg  \n",
            "  inflating: test_line_spacing/266.jpg  \n",
            "  inflating: test_line_spacing/267.jpg  \n",
            "  inflating: test_line_spacing/268.jpg  \n",
            "  inflating: test_line_spacing/269.jpg  \n",
            "  inflating: test_line_spacing/270.jpg  \n",
            "  inflating: test_line_spacing/271.jpg  \n",
            "  inflating: test_line_spacing/272.jpg  \n",
            "  inflating: test_line_spacing/273.jpg  \n",
            "  inflating: test_line_spacing/274.jpg  \n",
            "  inflating: test_line_spacing/275.jpg  \n",
            "  inflating: test_line_spacing/276.jpg  \n",
            "  inflating: test_line_spacing/277.jpg  \n",
            "  inflating: test_line_spacing/278.jpg  \n",
            "  inflating: test_line_spacing/279.jpg  \n",
            "  inflating: test_line_spacing/280.jpg  \n",
            "  inflating: test_line_spacing/281.jpg  \n",
            "  inflating: test_line_spacing/282.jpg  \n",
            "  inflating: test_line_spacing/283.jpg  \n",
            "  inflating: test_line_spacing/284.jpg  \n",
            "  inflating: test_line_spacing/285.jpg  \n",
            "  inflating: test_line_spacing/286.jpg  \n",
            "  inflating: test_line_spacing/287.jpg  \n",
            "  inflating: test_line_spacing/288.jpg  \n",
            "  inflating: test_line_spacing/289.jpg  \n",
            "  inflating: test_line_spacing/290.jpg  \n",
            "  inflating: test_line_spacing/291.jpg  \n",
            "  inflating: test_line_spacing/292.jpg  \n",
            "  inflating: test_line_spacing/293.jpg  \n",
            "  inflating: test_line_spacing/294.jpg  \n",
            "  inflating: test_line_spacing/295.jpg  \n",
            "  inflating: test_line_spacing/296.jpg  \n",
            "  inflating: test_line_spacing/297.jpg  \n",
            "  inflating: test_line_spacing/298.jpg  \n",
            "  inflating: test_line_spacing/299.jpg  \n",
            "  inflating: test_line_spacing/300.jpg  \n",
            "  inflating: test_line_spacing/301.jpg  \n",
            "  inflating: test_line_spacing/302.jpg  \n",
            "  inflating: test_line_spacing/303.jpg  \n",
            "  inflating: test_line_spacing/304.jpg  \n",
            "  inflating: test_line_spacing/305.jpg  \n",
            "  inflating: test_line_spacing/306.jpg  \n",
            "  inflating: test_line_spacing/307.jpg  \n",
            "  inflating: test_line_spacing/308.jpg  \n",
            "  inflating: test_line_spacing/309.jpg  \n",
            "  inflating: test_line_spacing/310.jpg  \n",
            "  inflating: test_line_spacing/311.jpg  \n",
            "  inflating: test_line_spacing/312.jpg  \n",
            "  inflating: test_line_spacing/313.jpg  \n",
            "  inflating: test_line_spacing/314.jpg  \n",
            "  inflating: test_line_spacing/315.jpg  \n",
            "  inflating: test_line_spacing/316.jpg  \n",
            "  inflating: test_line_spacing/317.jpg  \n",
            "  inflating: test_line_spacing/318.jpg  \n",
            "  inflating: test_line_spacing/319.jpg  \n",
            "  inflating: test_line_spacing/320.jpg  \n",
            "  inflating: test_line_spacing/321.jpg  \n",
            "  inflating: test_line_spacing/322.jpg  \n",
            "  inflating: test_line_spacing/323.jpg  \n",
            "  inflating: test_line_spacing/324.jpg  \n",
            "  inflating: test_line_spacing/325.jpg  \n",
            "  inflating: test_line_spacing/326.jpg  \n",
            "  inflating: test_line_spacing/327.jpg  \n",
            "  inflating: test_line_spacing/328.jpg  \n",
            "  inflating: test_line_spacing/329.jpg  \n",
            "  inflating: test_line_spacing/330.jpg  \n",
            "  inflating: test_line_spacing/331.jpg  \n",
            "  inflating: test_line_spacing/332.jpg  \n",
            "  inflating: test_line_spacing/333.jpg  \n"
          ],
          "name": "stdout"
        }
      ]
    },
    {
      "cell_type": "code",
      "metadata": {
        "id": "P5mAWDfemeHT",
        "colab_type": "code",
        "colab": {}
      },
      "source": [
        "test = pd.read_csv('test_line_spacing.csv')"
      ],
      "execution_count": 0,
      "outputs": []
    },
    {
      "cell_type": "code",
      "metadata": {
        "id": "P36YGoDimpHC",
        "colab_type": "code",
        "outputId": "e0aaab0d-840a-4369-94ff-fbeb9379d25a",
        "colab": {
          "base_uri": "https://localhost:8080/",
          "height": 194
        }
      },
      "source": [
        "test.head()"
      ],
      "execution_count": 10,
      "outputs": [
        {
          "output_type": "execute_result",
          "data": {
            "text/html": [
              "<div>\n",
              "<style scoped>\n",
              "    .dataframe tbody tr th:only-of-type {\n",
              "        vertical-align: middle;\n",
              "    }\n",
              "\n",
              "    .dataframe tbody tr th {\n",
              "        vertical-align: top;\n",
              "    }\n",
              "\n",
              "    .dataframe thead th {\n",
              "        text-align: right;\n",
              "    }\n",
              "</style>\n",
              "<table border=\"1\" class=\"dataframe\">\n",
              "  <thead>\n",
              "    <tr style=\"text-align: right;\">\n",
              "      <th></th>\n",
              "      <th>img</th>\n",
              "      <th>distance</th>\n",
              "    </tr>\n",
              "  </thead>\n",
              "  <tbody>\n",
              "    <tr>\n",
              "      <th>0</th>\n",
              "      <td>100.jpg</td>\n",
              "      <td>1</td>\n",
              "    </tr>\n",
              "    <tr>\n",
              "      <th>1</th>\n",
              "      <td>101.jpg</td>\n",
              "      <td>1</td>\n",
              "    </tr>\n",
              "    <tr>\n",
              "      <th>2</th>\n",
              "      <td>102.jpg</td>\n",
              "      <td>1</td>\n",
              "    </tr>\n",
              "    <tr>\n",
              "      <th>3</th>\n",
              "      <td>103.jpg</td>\n",
              "      <td>2</td>\n",
              "    </tr>\n",
              "    <tr>\n",
              "      <th>4</th>\n",
              "      <td>104.jpg</td>\n",
              "      <td>2</td>\n",
              "    </tr>\n",
              "  </tbody>\n",
              "</table>\n",
              "</div>"
            ],
            "text/plain": [
              "       img  distance\n",
              "0  100.jpg         1\n",
              "1  101.jpg         1\n",
              "2  102.jpg         1\n",
              "3  103.jpg         2\n",
              "4  104.jpg         2"
            ]
          },
          "metadata": {
            "tags": []
          },
          "execution_count": 10
        }
      ]
    },
    {
      "cell_type": "code",
      "metadata": {
        "id": "IdeiOtc5mo5s",
        "colab_type": "code",
        "outputId": "db8dfa22-e60d-4e52-daf9-17debff79b39",
        "colab": {
          "base_uri": "https://localhost:8080/",
          "height": 35
        }
      },
      "source": [
        "test.shape"
      ],
      "execution_count": 11,
      "outputs": [
        {
          "output_type": "execute_result",
          "data": {
            "text/plain": [
              "(221, 2)"
            ]
          },
          "metadata": {
            "tags": []
          },
          "execution_count": 11
        }
      ]
    },
    {
      "cell_type": "code",
      "metadata": {
        "id": "TcISbMO3HClO",
        "colab_type": "code",
        "colab": {
          "base_uri": "https://localhost:8080/",
          "height": 35
        },
        "outputId": "d90c6625-c7ae-4ebf-ffc3-dd5caf1d6fa8"
      },
      "source": [
        "test[test.distance == 0].shape, test[test.distance == 1].shape, test[test.distance == 2].shape #кол-во классов"
      ],
      "execution_count": 12,
      "outputs": [
        {
          "output_type": "execute_result",
          "data": {
            "text/plain": [
              "((73, 2), (78, 2), (70, 2))"
            ]
          },
          "metadata": {
            "tags": []
          },
          "execution_count": 12
        }
      ]
    },
    {
      "cell_type": "code",
      "metadata": {
        "id": "p68bMCRSmrtp",
        "colab_type": "code",
        "colab": {}
      },
      "source": [
        ""
      ],
      "execution_count": 0,
      "outputs": []
    },
    {
      "cell_type": "code",
      "metadata": {
        "id": "on0MH7iU0C66",
        "colab_type": "code",
        "colab": {}
      },
      "source": [
        "hei = 128\n",
        "wei = 64"
      ],
      "execution_count": 0,
      "outputs": []
    },
    {
      "cell_type": "code",
      "metadata": {
        "id": "EdkWZhfRzWns",
        "colab_type": "code",
        "colab": {}
      },
      "source": [
        ""
      ],
      "execution_count": 0,
      "outputs": []
    },
    {
      "cell_type": "markdown",
      "metadata": {
        "id": "pRefGocmuySq",
        "colab_type": "text"
      },
      "source": [
        "**Добавление данных в x_test, y_test**"
      ]
    },
    {
      "cell_type": "code",
      "metadata": {
        "id": "GHggScLDnMbT",
        "colab_type": "code",
        "outputId": "120df00c-a0af-425b-b215-d0e938711d0f",
        "colab": {
          "base_uri": "https://localhost:8080/",
          "height": 35
        }
      },
      "source": [
        "x_test = []\n",
        "y_test = []\n",
        "\n",
        "for i in range (test.shape[0]):\n",
        "    x,y = test.values[i]\n",
        "    x = cv2.imread('test_line_spacing/{}'.format(x))\n",
        "    #x = strong_aug(p=0.2)\n",
        "    x = cv2.resize(x, (hei, wei))\n",
        "    x_test += [x]\n",
        "    y_test += [y]\n",
        "    \n",
        "x_test = np.array(x_test) / 255.\n",
        "y_test = np.array(y_test)\n",
        "\n",
        "x_test.shape"
      ],
      "execution_count": 14,
      "outputs": [
        {
          "output_type": "execute_result",
          "data": {
            "text/plain": [
              "(221, 64, 128, 3)"
            ]
          },
          "metadata": {
            "tags": []
          },
          "execution_count": 14
        }
      ]
    },
    {
      "cell_type": "markdown",
      "metadata": {
        "id": "HBW8S56avHPF",
        "colab_type": "text"
      },
      "source": [
        "**Генератор батчей для train**"
      ]
    },
    {
      "cell_type": "code",
      "metadata": {
        "id": "AkGL7tCIqv1R",
        "colab_type": "code",
        "colab": {}
      },
      "source": [
        "#Объявим генератор\n",
        "def keras_generator(gen_df, batch_size):#генератор картинок в батч (создание батча)\n",
        "    while True:\n",
        "        x_train = []\n",
        "        y_train = []\n",
        "        \n",
        "\n",
        "        for i in range (batch_size):\n",
        "\n",
        "            x,y = train.sample(1).values[0]\n",
        "            #print(x)\n",
        "            x = cv2.imread('train_line_spacing/{}'.format(x))\n",
        "            #x = strong_aug(p=0.2)\n",
        "            x = cv2.resize(x, (hei, wei))\n",
        "            x_train += [x]\n",
        "            y_train += [y]\n",
        "\n",
        "        #y_train = keras.utils.to_categorical(y_train,10)\n",
        "        x_train = np.array(x_train) / 255.\n",
        "        y_train = np.array(y_train)\n",
        "\n",
        "        yield x_train, y_train"
      ],
      "execution_count": 0,
      "outputs": []
    },
    {
      "cell_type": "code",
      "metadata": {
        "id": "9qrzbnwbodeP",
        "colab_type": "code",
        "colab": {}
      },
      "source": [
        ""
      ],
      "execution_count": 0,
      "outputs": []
    },
    {
      "cell_type": "code",
      "metadata": {
        "id": "qkyPIJknoc3U",
        "colab_type": "code",
        "colab": {}
      },
      "source": [
        ""
      ],
      "execution_count": 0,
      "outputs": []
    },
    {
      "cell_type": "markdown",
      "metadata": {
        "id": "XfGtWHD3vRdz",
        "colab_type": "text"
      },
      "source": [
        "**Архитектура сети**"
      ]
    },
    {
      "cell_type": "code",
      "metadata": {
        "id": "Mlpy7HN-8ytm",
        "colab_type": "code",
        "colab": {}
      },
      "source": [
        "inp = Input(shape=(wei, hei, 3))\n",
        "\n",
        "conv_1_1 = Conv2D(32, (3, 3), padding='same')(inp)\n",
        "conv_1_1 = Activation('relu')(conv_1_1)\n",
        "\n",
        "conv_1_2 = Conv2D(32, (3, 3), padding='same')(conv_1_1)\n",
        "conv_1_2 = Activation('relu')(conv_1_2)\n",
        "\n",
        "pool_1 = MaxPooling2D(2)(conv_1_2)\n",
        "pool_1 = Dropout(0.2)(pool_1)\n",
        "pool_1 = BatchNormalization()(pool_1)\n",
        "\n",
        "conv_2_1 = Conv2D(64, (3, 3), padding='same')(pool_1)\n",
        "conv_2_1 = Activation('relu')(conv_2_1)\n",
        "\n",
        "conv_2_2 = Conv2D(64, (3, 3), padding='same')(conv_2_1)\n",
        "conv_2_2 = Activation('relu')(conv_2_2)\n",
        "\n",
        "pool_2 = MaxPooling2D(2)(conv_2_2)\n",
        "pool_2 = Dropout(0.2)(pool_2)\n",
        "pool_2 = BatchNormalization()(pool_2)\n",
        "\n",
        "\n",
        "conv_3_1 = Conv2D(128, (3, 3), padding='same')(pool_2)\n",
        "conv_3_1 = Activation('relu')(conv_3_1)\n",
        "\n",
        "conv_3_2 = Conv2D(128, (3, 3), padding='same')(conv_3_1)\n",
        "conv_3_2 = Activation('relu')(conv_3_2) #conv_3_2.shape = (64,64,128)\n",
        "\n",
        "pool_3 = MaxPooling2D(2)(conv_3_2) #pool_3.shape = (32,32,128)\n",
        "pool_3 = Dropout(0.2)(pool_3)\n",
        "pool_3 = BatchNormalization()(pool_3)\n",
        "\n",
        "\n",
        "conv_4_1 = Conv2D(256, (3, 3), padding='same')(pool_3)\n",
        "conv_4_1 = Activation('relu')(conv_4_1)\n",
        "\n",
        "conv_4_2 = Conv2D(256, (3, 3), padding='same')(conv_4_1)\n",
        "conv_4_2 = Activation('relu')(conv_4_2) #conv_4_2.shape = (32,32,256)\n",
        "\n",
        "pool_4 = MaxPooling2D(2)(conv_4_2) #pool_4.shape = (16,16,256)\n",
        "pool_4 = Dropout(0.2)(pool_4)\n",
        "pool_4 = BatchNormalization()(pool_4)\n",
        "\n",
        "\n",
        "\n",
        "flat = Flatten()(pool_4)\n",
        "layer1 = Dense(128, activation='relu')(flat)\n",
        "layer1 = Dropout(0.2)(layer1)\n",
        "layer1 = BatchNormalization()(layer1)\n",
        "\n",
        "layer2 = Dense(256, activation='relu')(layer1)\n",
        "layer2 = Dropout(0.2)(layer2)\n",
        "layer2 = BatchNormalization()(layer2)\n",
        "\n",
        "layer3 = Dense(512, activation='relu')(layer2)\n",
        "layer3 = Dropout(0.2)(layer3)\n",
        "layer3 = BatchNormalization()(layer3)\n",
        "\n",
        "layer4 = Dense(64, activation='relu')(layer3)\n",
        "layer4 = Dropout(0.2)(layer4)\n",
        "layer4 = BatchNormalization()(layer4)\n",
        "\n",
        "layer_out = Dense(3, activation='softmax')(layer4)\n",
        "\n",
        "model = Model(inputs=inp, outputs=layer_out)"
      ],
      "execution_count": 0,
      "outputs": []
    },
    {
      "cell_type": "code",
      "metadata": {
        "id": "C1mKBwgOUBC2",
        "colab_type": "code",
        "colab": {}
      },
      "source": [
        "#model.summary()"
      ],
      "execution_count": 0,
      "outputs": []
    },
    {
      "cell_type": "code",
      "metadata": {
        "id": "fllYpZYVnkUt",
        "colab_type": "code",
        "colab": {}
      },
      "source": [
        "model.compile(optimizer='adam',\n",
        "              loss='sparse_categorical_crossentropy',\n",
        "              metrics=['accuracy'])"
      ],
      "execution_count": 0,
      "outputs": []
    },
    {
      "cell_type": "markdown",
      "metadata": {
        "id": "tlVmiW6kvtL7",
        "colab_type": "text"
      },
      "source": [
        "**Обучение через генератор, т.е. с батчами**"
      ]
    },
    {
      "cell_type": "code",
      "metadata": {
        "id": "BA783o_s_W7V",
        "colab_type": "code",
        "outputId": "1c6ab667-f091-45b8-a1da-49596b513b4d",
        "colab": {
          "base_uri": "https://localhost:8080/",
          "height": 746
        }
      },
      "source": [
        "batch_size = 32\n",
        "model.fit_generator(keras_generator(train, batch_size),\n",
        "              steps_per_epoch=100,#каждую эпоху - 100 батчей\n",
        "              epochs=20,\n",
        "              verbose=1,#будем выводить результат\n",
        "              shuffle=True)"
      ],
      "execution_count": 0,
      "outputs": [
        {
          "output_type": "stream",
          "text": [
            "Epoch 1/20\n",
            "100/100 [==============================] - 11s 107ms/step - loss: 0.9029 - acc: 0.6050\n",
            "Epoch 2/20\n",
            "100/100 [==============================] - 9s 88ms/step - loss: 0.5429 - acc: 0.7750\n",
            "Epoch 3/20\n",
            "100/100 [==============================] - 9s 88ms/step - loss: 0.4293 - acc: 0.8231\n",
            "Epoch 4/20\n",
            "100/100 [==============================] - 9s 88ms/step - loss: 0.4215 - acc: 0.8272\n",
            "Epoch 5/20\n",
            "100/100 [==============================] - 9s 88ms/step - loss: 0.3361 - acc: 0.8709\n",
            "Epoch 6/20\n",
            "100/100 [==============================] - 9s 87ms/step - loss: 0.2703 - acc: 0.8894\n",
            "Epoch 7/20\n",
            "100/100 [==============================] - 9s 88ms/step - loss: 0.2439 - acc: 0.9081\n",
            "Epoch 8/20\n",
            "100/100 [==============================] - 9s 88ms/step - loss: 0.2348 - acc: 0.9084\n",
            "Epoch 9/20\n",
            "100/100 [==============================] - 9s 88ms/step - loss: 0.1465 - acc: 0.9441\n",
            "Epoch 10/20\n",
            "100/100 [==============================] - 9s 88ms/step - loss: 0.1335 - acc: 0.9494\n",
            "Epoch 11/20\n",
            "100/100 [==============================] - 9s 88ms/step - loss: 0.1323 - acc: 0.9494\n",
            "Epoch 12/20\n",
            "100/100 [==============================] - 9s 88ms/step - loss: 0.1060 - acc: 0.9631\n",
            "Epoch 13/20\n",
            "100/100 [==============================] - 9s 87ms/step - loss: 0.0763 - acc: 0.9738\n",
            "Epoch 14/20\n",
            "100/100 [==============================] - 9s 89ms/step - loss: 0.1056 - acc: 0.9597\n",
            "Epoch 15/20\n",
            "100/100 [==============================] - 9s 86ms/step - loss: 0.0715 - acc: 0.9756\n",
            "Epoch 16/20\n",
            "100/100 [==============================] - 9s 88ms/step - loss: 0.0766 - acc: 0.9722\n",
            "Epoch 17/20\n",
            "100/100 [==============================] - 9s 87ms/step - loss: 0.0668 - acc: 0.9803\n",
            "Epoch 18/20\n",
            "100/100 [==============================] - 9s 87ms/step - loss: 0.0739 - acc: 0.9738\n",
            "Epoch 19/20\n",
            "100/100 [==============================] - 9s 89ms/step - loss: 0.0605 - acc: 0.9825\n",
            "Epoch 20/20\n",
            "100/100 [==============================] - 9s 88ms/step - loss: 0.0480 - acc: 0.9847\n"
          ],
          "name": "stdout"
        },
        {
          "output_type": "execute_result",
          "data": {
            "text/plain": [
              "<keras.callbacks.History at 0x7fa103d1e470>"
            ]
          },
          "metadata": {
            "tags": []
          },
          "execution_count": 36
        }
      ]
    },
    {
      "cell_type": "code",
      "metadata": {
        "id": "TPoRpiblwAf_",
        "colab_type": "code",
        "colab": {}
      },
      "source": [
        ""
      ],
      "execution_count": 0,
      "outputs": []
    },
    {
      "cell_type": "code",
      "metadata": {
        "id": "n3FtrIUQws-i",
        "colab_type": "code",
        "colab": {}
      },
      "source": [
        "for x_train,y_train in keras_generator(train,train.shape[0]):\n",
        "    break"
      ],
      "execution_count": 0,
      "outputs": []
    },
    {
      "cell_type": "code",
      "metadata": {
        "id": "Cawd69pxEWsy",
        "colab_type": "code",
        "outputId": "fa45bd1a-d664-4c91-bfe1-d7265e1bbbf2",
        "colab": {
          "base_uri": "https://localhost:8080/",
          "height": 35
        }
      },
      "source": [
        "x_train.shape"
      ],
      "execution_count": 17,
      "outputs": [
        {
          "output_type": "execute_result",
          "data": {
            "text/plain": [
              "(832, 64, 128, 3)"
            ]
          },
          "metadata": {
            "tags": []
          },
          "execution_count": 17
        }
      ]
    },
    {
      "cell_type": "code",
      "metadata": {
        "id": "SJ76crcIADOh",
        "colab_type": "code",
        "outputId": "33726b08-5635-4cc6-a153-efc7aeb7684d",
        "colab": {
          "base_uri": "https://localhost:8080/",
          "height": 106
        }
      },
      "source": [
        "train_loss, train_acc = model.evaluate(x_train, y_train)\n",
        "\n",
        "print('\\nТочность на обучающих данных:', train_acc)\n",
        "print('\\nОшибка на обучающих данных:', train_loss)"
      ],
      "execution_count": 18,
      "outputs": [
        {
          "output_type": "stream",
          "text": [
            "832/832 [==============================] - 7s 9ms/sample - loss: 0.1142 - acc: 0.9567\n",
            "\n",
            "Точность на обучающих данных: 0.9567308\n",
            "\n",
            "Ошибка на обучающих данных: 0.11420205081454836\n"
          ],
          "name": "stdout"
        }
      ]
    },
    {
      "cell_type": "code",
      "metadata": {
        "id": "ibGWZlnxoYgc",
        "colab_type": "code",
        "outputId": "5f38217e-8c62-4221-961b-4a5f971cef96",
        "colab": {
          "base_uri": "https://localhost:8080/",
          "height": 106
        }
      },
      "source": [
        "test_loss, test_acc = model.evaluate(x_test, y_test)\n",
        "\n",
        "print('\\nТочность на проверочных данных:', test_acc)\n",
        "print('\\nОшибка на проверочных данных:', test_loss)"
      ],
      "execution_count": 19,
      "outputs": [
        {
          "output_type": "stream",
          "text": [
            "221/221 [==============================] - 0s 2ms/sample - loss: 1.4456 - acc: 0.7059\n",
            "\n",
            "Точность на проверочных данных: 0.7058824\n",
            "\n",
            "Ошибка на проверочных данных: 1.4456462973383217\n"
          ],
          "name": "stdout"
        }
      ]
    },
    {
      "cell_type": "code",
      "metadata": {
        "id": "6leVjP8KqqzS",
        "colab_type": "code",
        "colab": {}
      },
      "source": [
        ""
      ],
      "execution_count": 0,
      "outputs": []
    },
    {
      "cell_type": "code",
      "metadata": {
        "id": "c0vxWM-eqqp1",
        "colab_type": "code",
        "colab": {
          "base_uri": "https://localhost:8080/",
          "height": 90
        },
        "outputId": "b76fcd2a-c75d-4b38-8e83-8991e104ee2d"
      },
      "source": [
        "#model.save('neural_network_line_spacing.h5') #сохранение нейросети в файл\n",
        "\n",
        "from tensorflow.keras.models import load_model\n",
        "model = load_model('!!!71%!!!   neural_network_line_spacing.h5') #загрузка нейросети из файла\n",
        "\n",
        "#pred = model.predict(x_test) #предсказание"
      ],
      "execution_count": 2,
      "outputs": [
        {
          "output_type": "stream",
          "text": [
            "WARNING:tensorflow:From /usr/local/lib/python3.6/dist-packages/tensorflow_core/python/ops/resource_variable_ops.py:1630: calling BaseResourceVariable.__init__ (from tensorflow.python.ops.resource_variable_ops) with constraint is deprecated and will be removed in a future version.\n",
            "Instructions for updating:\n",
            "If using Keras pass *_constraint arguments to layers.\n"
          ],
          "name": "stdout"
        }
      ]
    },
    {
      "cell_type": "code",
      "metadata": {
        "id": "TI7InhO0qqc-",
        "colab_type": "code",
        "colab": {}
      },
      "source": [
        ""
      ],
      "execution_count": 0,
      "outputs": []
    },
    {
      "cell_type": "code",
      "metadata": {
        "id": "NUKgtFrqnlDG",
        "colab_type": "code",
        "colab": {}
      },
      "source": [
        "pred = model.predict(x_test)"
      ],
      "execution_count": 0,
      "outputs": []
    },
    {
      "cell_type": "code",
      "metadata": {
        "id": "2qkiZMTZAiz7",
        "colab_type": "code",
        "outputId": "e773f981-c39e-47a3-8be1-960bfe6b5c80",
        "colab": {
          "base_uri": "https://localhost:8080/",
          "height": 35
        }
      },
      "source": [
        "pred.shape"
      ],
      "execution_count": 21,
      "outputs": [
        {
          "output_type": "execute_result",
          "data": {
            "text/plain": [
              "(221, 3)"
            ]
          },
          "metadata": {
            "tags": []
          },
          "execution_count": 21
        }
      ]
    },
    {
      "cell_type": "code",
      "metadata": {
        "id": "Ra6yiEQBAe_i",
        "colab_type": "code",
        "outputId": "64de74de-e03d-4bfb-cf67-b146676db39a",
        "colab": {
          "base_uri": "https://localhost:8080/",
          "height": 35
        }
      },
      "source": [
        "np.argmax(pred[15]),y_test[15]"
      ],
      "execution_count": 22,
      "outputs": [
        {
          "output_type": "execute_result",
          "data": {
            "text/plain": [
              "(2, 2)"
            ]
          },
          "metadata": {
            "tags": []
          },
          "execution_count": 22
        }
      ]
    },
    {
      "cell_type": "code",
      "metadata": {
        "id": "4ajhUlfYnlLO",
        "colab_type": "code",
        "outputId": "2d014d97-c9a3-4876-c818-ad0b64b3d0a8",
        "colab": {
          "base_uri": "https://localhost:8080/",
          "height": 258
        }
      },
      "source": [
        "plt.figure()\n",
        "plt.imshow(x_test[15])\n",
        "plt.colorbar()\n",
        "plt.grid(False)\n",
        "plt.show()"
      ],
      "execution_count": 23,
      "outputs": [
        {
          "output_type": "display_data",
          "data": {
            "image/png": "[encoded data removed]",
            "text/plain": [
              "<Figure size 432x288 with 2 Axes>"
            ]
          },
          "metadata": {
            "tags": []
          }
        }
      ]
    },
    {
      "cell_type": "code",
      "metadata": {
        "id": "8RMwn1xL5i9t",
        "colab_type": "code",
        "outputId": "225f5297-0af6-41e4-a314-ce127239b6ad",
        "colab": {
          "base_uri": "https://localhost:8080/",
          "height": 543
        }
      },
      "source": [
        "plt.figure(figsize=(10,10))\n",
        "for i in range(25):\n",
        "    plt.subplot(5,5,i+1)\n",
        "    plt.xticks([])\n",
        "    plt.yticks([])\n",
        "    plt.grid(False)\n",
        "    plt.imshow(x_test[i], cmap=plt.cm.binary)\n",
        "    plt.xlabel((y_test[i],np.argmax(pred[i])))\n",
        "plt.show()"
      ],
      "execution_count": 24,
      "outputs": [
        {
          "output_type": "display_data",
          "data": {
            "image/png": "[encoded data removed]",
            "text/plain": [
              "<Figure size 720x720 with 25 Axes>"
            ]
          },
          "metadata": {
            "tags": []
          }
        }
      ]
    },
    {
      "cell_type": "code",
      "metadata": {
        "id": "tdmjIGRt5jCN",
        "colab_type": "code",
        "colab": {}
      },
      "source": [
        ""
      ],
      "execution_count": 0,
      "outputs": []
    },
    {
      "cell_type": "code",
      "metadata": {
        "id": "k2y7AITSnlOk",
        "colab_type": "code",
        "outputId": "0250c145-68f3-460b-dcfd-00a79b0af4c6",
        "colab": {
          "base_uri": "https://localhost:8080/",
          "height": 220
        }
      },
      "source": [
        "way='142.jpg'\n",
        "#img = Image.open(way)\n",
        "img = cv2.imread(way)\n",
        "plt.imshow(img)\n",
        "img = cv2.resize(img, (hei, wei)) / 255."
      ],
      "execution_count": 29,
      "outputs": [
        {
          "output_type": "display_data",
          "data": {
            "image/png": "[encoded data removed]",
            "text/plain": [
              "<Figure size 432x288 with 1 Axes>"
            ]
          },
          "metadata": {
            "tags": []
          }
        }
      ]
    },
    {
      "cell_type": "code",
      "metadata": {
        "id": "ugINen2bvV0s",
        "colab_type": "code",
        "colab": {}
      },
      "source": [
        "'''def binarize_array(numpy_array):\n",
        "    \"\"\"Binarize a numpy array.\"\"\"\n",
        "    for i in range(len(numpy_array)):\n",
        "        for j in range(len(numpy_array[0])):\n",
        "            if (numpy_array[i][j][0] > 150 and numpy_array[i][j][1] > 150 and numpy_array[i][j][2] > 150\n",
        "                or numpy_array[i][j][0] > 180 or numpy_array[i][j][1] > 180 or numpy_array[i][j][2] > 180):\n",
        "                numpy_array[i][j] = 255\n",
        "            else:\n",
        "                numpy_array[i][j] = 0\n",
        "    return numpy_array\n",
        "img = binarize_array(img)\n",
        "img = cv2.resize(img, (hei, wei))\n",
        "plt.imshow(img)'''"
      ],
      "execution_count": 0,
      "outputs": []
    },
    {
      "cell_type": "code",
      "metadata": {
        "id": "OlKzeKeB4a2q",
        "colab_type": "code",
        "colab": {}
      },
      "source": [
        "pred_img = model.predict(img.reshape(1,wei,hei,3))"
      ],
      "execution_count": 0,
      "outputs": []
    },
    {
      "cell_type": "code",
      "metadata": {
        "id": "M6T35ylI4a5_",
        "colab_type": "code",
        "outputId": "194475e6-78a2-4a19-9c06-a67ee5f56b54",
        "colab": {
          "base_uri": "https://localhost:8080/",
          "height": 35
        }
      },
      "source": [
        "print('Pred_img: ',np.argmax(pred_img))"
      ],
      "execution_count": 31,
      "outputs": [
        {
          "output_type": "stream",
          "text": [
            "Pred_img:  2\n"
          ],
          "name": "stdout"
        }
      ]
    },
    {
      "cell_type": "code",
      "metadata": {
        "id": "NRgDQ1lI5a4U",
        "colab_type": "code",
        "colab": {}
      },
      "source": [
        ""
      ],
      "execution_count": 0,
      "outputs": []
    }
  ]
}