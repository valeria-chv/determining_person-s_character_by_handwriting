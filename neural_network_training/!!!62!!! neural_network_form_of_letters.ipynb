{
  "nbformat": 4,
  "nbformat_minor": 0,
  "metadata": {
    "colab": {
      "name": "!!!62%!!! form_of_letters.ipynb",
      "provenance": [],
      "collapsed_sections": []
    },
    "kernelspec": {
      "name": "python3",
      "display_name": "Python 3"
    },
    "accelerator": "GPU"
  },
  "cells": [
    {
      "cell_type": "code",
      "metadata": {
        "id": "ut9la1_umJnt",
        "colab_type": "code",
        "outputId": "eeb1db4a-a6fa-4632-b653-3470a0173207",
        "colab": {
          "base_uri": "https://localhost:8080/",
          "height": 100
        }
      },
      "source": [
        "from __future__ import absolute_import, division, print_function, unicode_literals\n",
        "\n",
        "# TensorFlow и tf.keras\n",
        "import tensorflow as tf\n",
        "import torch\n",
        "from tensorflow import keras\n",
        "#import keras\n",
        "# Вспомогательные библиотеки\n",
        "import numpy as np\n",
        "import matplotlib.pyplot as plt\n",
        "import pandas as pd\n",
        "import cv2\n",
        "\n",
        "from keras.models import Model\n",
        "from keras.layers import Input, Dense, Concatenate, Flatten, BatchNormalization\n",
        "from keras.layers import Dense, GlobalAveragePooling2D, Dropout, UpSampling2D, Conv2D, MaxPooling2D, Activation\n",
        "\n",
        "print(tf.__version__)"
      ],
      "execution_count": 1,
      "outputs": [
        {
          "output_type": "display_data",
          "data": {
            "text/html": [
              "<p style=\"color: red;\">\n",
              "The default version of TensorFlow in Colab will soon switch to TensorFlow 2.x.<br>\n",
              "We recommend you <a href=\"https://www.tensorflow.org/guide/migrate\" target=\"_blank\">upgrade</a> now \n",
              "or ensure your notebook will continue to use TensorFlow 1.x via the <code>%tensorflow_version 1.x</code> magic:\n",
              "<a href=\"https://colab.research.google.com/notebooks/tensorflow_version.ipynb\" target=\"_blank\">more info</a>.</p>\n"
            ],
            "text/plain": [
              "<IPython.core.display.HTML object>"
            ]
          },
          "metadata": {
            "tags": []
          }
        },
        {
          "output_type": "stream",
          "text": [
            "1.15.0\n"
          ],
          "name": "stdout"
        },
        {
          "output_type": "stream",
          "text": [
            "Using TensorFlow backend.\n"
          ],
          "name": "stderr"
        }
      ]
    },
    {
      "cell_type": "code",
      "metadata": {
        "id": "8a_eg6H5qI5M",
        "colab_type": "code",
        "outputId": "a5e7c6a8-07f8-4da1-f4fc-8f5748ed87f3",
        "colab": {
          "base_uri": "https://localhost:8080/",
          "height": 1000
        }
      },
      "source": [
        "!unzip train_form_of_letters.zip #images"
      ],
      "execution_count": 2,
      "outputs": [
        {
          "output_type": "stream",
          "text": [
            "Archive:  train_form_of_letters.zip\n",
            "  inflating: train_form_of_letters/1.jpg  \n",
            "  inflating: train_form_of_letters/10.jpg  \n",
            "  inflating: train_form_of_letters/100.jpg  \n",
            "  inflating: train_form_of_letters/101.jpg  \n",
            "  inflating: train_form_of_letters/102.jpg  \n",
            "  inflating: train_form_of_letters/103.jpg  \n",
            "  inflating: train_form_of_letters/104.jpg  \n",
            "  inflating: train_form_of_letters/105.jpg  \n",
            "  inflating: train_form_of_letters/106.jpg  \n",
            "  inflating: train_form_of_letters/107.jpg  \n",
            "  inflating: train_form_of_letters/108.jpg  \n",
            "  inflating: train_form_of_letters/109.jpg  \n",
            "  inflating: train_form_of_letters/11.jpg  \n",
            "  inflating: train_form_of_letters/110.jpg  \n",
            "  inflating: train_form_of_letters/111.jpg  \n",
            "  inflating: train_form_of_letters/112.jpg  \n",
            "  inflating: train_form_of_letters/113.jpg  \n",
            "  inflating: train_form_of_letters/114.jpg  \n",
            "  inflating: train_form_of_letters/115.jpg  \n",
            "  inflating: train_form_of_letters/116.jpg  \n",
            "  inflating: train_form_of_letters/117.jpg  \n",
            "  inflating: train_form_of_letters/118.jpg  \n",
            "  inflating: train_form_of_letters/119.jpg  \n",
            "  inflating: train_form_of_letters/12.jpg  \n",
            "  inflating: train_form_of_letters/120.jpg  \n",
            "  inflating: train_form_of_letters/121.jpg  \n",
            "  inflating: train_form_of_letters/122.jpg  \n",
            "  inflating: train_form_of_letters/123.jpg  \n",
            "  inflating: train_form_of_letters/124.jpg  \n",
            "  inflating: train_form_of_letters/125.jpg  \n",
            "  inflating: train_form_of_letters/126.jpg  \n",
            "  inflating: train_form_of_letters/127.jpg  \n",
            "  inflating: train_form_of_letters/128.jpg  \n",
            "  inflating: train_form_of_letters/129.jpg  \n",
            "  inflating: train_form_of_letters/13.jpg  \n",
            "  inflating: train_form_of_letters/130.jpg  \n",
            "  inflating: train_form_of_letters/131.jpg  \n",
            "  inflating: train_form_of_letters/132.jpg  \n",
            "  inflating: train_form_of_letters/133.jpg  \n",
            "  inflating: train_form_of_letters/134.jpg  \n",
            "  inflating: train_form_of_letters/135.jpg  \n",
            "  inflating: train_form_of_letters/136.jpg  \n",
            "  inflating: train_form_of_letters/137.jpg  \n",
            "  inflating: train_form_of_letters/138.jpg  \n",
            "  inflating: train_form_of_letters/139.jpg  \n",
            "  inflating: train_form_of_letters/14.jpg  \n",
            "  inflating: train_form_of_letters/140.jpg  \n",
            "  inflating: train_form_of_letters/141.jpg  \n",
            "  inflating: train_form_of_letters/142.jpg  \n",
            "  inflating: train_form_of_letters/143.jpg  \n",
            "  inflating: train_form_of_letters/144.jpg  \n",
            "  inflating: train_form_of_letters/145.jpg  \n",
            "  inflating: train_form_of_letters/146.jpg  \n",
            "  inflating: train_form_of_letters/147.jpg  \n",
            "  inflating: train_form_of_letters/148.jpg  \n",
            "  inflating: train_form_of_letters/149.jpg  \n",
            "  inflating: train_form_of_letters/15.jpg  \n",
            "  inflating: train_form_of_letters/150.jpg  \n",
            "  inflating: train_form_of_letters/151.jpg  \n",
            "  inflating: train_form_of_letters/152.jpg  \n",
            "  inflating: train_form_of_letters/153.jpg  \n",
            "  inflating: train_form_of_letters/154.jpg  \n",
            "  inflating: train_form_of_letters/155.jpg  \n",
            "  inflating: train_form_of_letters/156.jpg  \n",
            "  inflating: train_form_of_letters/157.jpg  \n",
            "  inflating: train_form_of_letters/158.jpg  \n",
            "  inflating: train_form_of_letters/159.jpg  \n",
            "  inflating: train_form_of_letters/16.jpg  \n",
            "  inflating: train_form_of_letters/160.jpg  \n",
            "  inflating: train_form_of_letters/161.jpg  \n",
            "  inflating: train_form_of_letters/162.jpg  \n",
            "  inflating: train_form_of_letters/163.jpg  \n",
            "  inflating: train_form_of_letters/164.jpg  \n",
            "  inflating: train_form_of_letters/165.jpg  \n",
            "  inflating: train_form_of_letters/166.jpg  \n",
            "  inflating: train_form_of_letters/167.jpg  \n",
            "  inflating: train_form_of_letters/168.jpg  \n",
            "  inflating: train_form_of_letters/169.jpg  \n",
            "  inflating: train_form_of_letters/17.jpg  \n",
            "  inflating: train_form_of_letters/170.jpg  \n",
            "  inflating: train_form_of_letters/171.jpg  \n",
            "  inflating: train_form_of_letters/172.jpg  \n",
            "  inflating: train_form_of_letters/173.jpg  \n",
            "  inflating: train_form_of_letters/174.jpg  \n",
            "  inflating: train_form_of_letters/175.jpg  \n",
            "  inflating: train_form_of_letters/176.jpg  \n",
            "  inflating: train_form_of_letters/177.jpg  \n",
            "  inflating: train_form_of_letters/178.jpg  \n",
            "  inflating: train_form_of_letters/179.jpg  \n",
            "  inflating: train_form_of_letters/18.jpg  \n",
            "  inflating: train_form_of_letters/180.jpg  \n",
            "  inflating: train_form_of_letters/181.jpg  \n",
            "  inflating: train_form_of_letters/182.jpg  \n",
            "  inflating: train_form_of_letters/183.jpg  \n",
            "  inflating: train_form_of_letters/184.jpg  \n",
            "  inflating: train_form_of_letters/185.jpg  \n",
            "  inflating: train_form_of_letters/186.jpg  \n",
            "  inflating: train_form_of_letters/187.jpg  \n",
            "  inflating: train_form_of_letters/188.jpg  \n",
            "  inflating: train_form_of_letters/189.jpg  \n",
            "  inflating: train_form_of_letters/19.jpg  \n",
            "  inflating: train_form_of_letters/190.jpg  \n",
            "  inflating: train_form_of_letters/191.jpg  \n",
            "  inflating: train_form_of_letters/192.jpg  \n",
            "  inflating: train_form_of_letters/193.jpg  \n",
            "  inflating: train_form_of_letters/194.jpg  \n",
            "  inflating: train_form_of_letters/195.jpg  \n",
            "  inflating: train_form_of_letters/196.jpg  \n",
            "  inflating: train_form_of_letters/197.jpg  \n",
            "  inflating: train_form_of_letters/198.jpg  \n",
            "  inflating: train_form_of_letters/199.jpg  \n",
            "  inflating: train_form_of_letters/2.jpg  \n",
            "  inflating: train_form_of_letters/20.jpg  \n",
            "  inflating: train_form_of_letters/200.jpg  \n",
            "  inflating: train_form_of_letters/201.jpg  \n",
            "  inflating: train_form_of_letters/202.jpg  \n",
            "  inflating: train_form_of_letters/203.jpg  \n",
            "  inflating: train_form_of_letters/204.jpg  \n",
            "  inflating: train_form_of_letters/205.jpg  \n",
            "  inflating: train_form_of_letters/206.jpg  \n",
            "  inflating: train_form_of_letters/207.jpg  \n",
            "  inflating: train_form_of_letters/208.jpg  \n",
            "  inflating: train_form_of_letters/209.jpg  \n",
            "  inflating: train_form_of_letters/21.jpg  \n",
            "  inflating: train_form_of_letters/210.jpg  \n",
            "  inflating: train_form_of_letters/211.jpg  \n",
            "  inflating: train_form_of_letters/212.jpg  \n",
            "  inflating: train_form_of_letters/213.jpg  \n",
            "  inflating: train_form_of_letters/214.jpg  \n",
            "  inflating: train_form_of_letters/215.jpg  \n",
            "  inflating: train_form_of_letters/216.jpg  \n",
            "  inflating: train_form_of_letters/217.jpg  \n",
            "  inflating: train_form_of_letters/218.jpg  \n",
            "  inflating: train_form_of_letters/219.jpg  \n",
            "  inflating: train_form_of_letters/22.jpg  \n",
            "  inflating: train_form_of_letters/220.jpg  \n",
            "  inflating: train_form_of_letters/221.jpg  \n",
            "  inflating: train_form_of_letters/222.jpg  \n",
            "  inflating: train_form_of_letters/223.jpg  \n",
            "  inflating: train_form_of_letters/224.jpg  \n",
            "  inflating: train_form_of_letters/225.jpg  \n",
            "  inflating: train_form_of_letters/226.jpg  \n",
            "  inflating: train_form_of_letters/227.jpg  \n",
            "  inflating: train_form_of_letters/228.jpg  \n",
            "  inflating: train_form_of_letters/229.jpg  \n",
            "  inflating: train_form_of_letters/23.jpg  \n",
            "  inflating: train_form_of_letters/230.jpg  \n",
            "  inflating: train_form_of_letters/231.jpg  \n",
            "  inflating: train_form_of_letters/232.jpg  \n",
            "  inflating: train_form_of_letters/233.jpg  \n",
            "  inflating: train_form_of_letters/234.jpg  \n",
            "  inflating: train_form_of_letters/235.jpg  \n",
            "  inflating: train_form_of_letters/236.jpg  \n",
            "  inflating: train_form_of_letters/237.jpg  \n",
            "  inflating: train_form_of_letters/238.jpg  \n",
            "  inflating: train_form_of_letters/239.jpg  \n",
            "  inflating: train_form_of_letters/24.jpg  \n",
            "  inflating: train_form_of_letters/240.jpg  \n",
            "  inflating: train_form_of_letters/241.jpg  \n",
            "  inflating: train_form_of_letters/242.jpg  \n",
            "  inflating: train_form_of_letters/243.jpg  \n",
            "  inflating: train_form_of_letters/244.jpg  \n",
            "  inflating: train_form_of_letters/245.jpg  \n",
            "  inflating: train_form_of_letters/246.jpg  \n",
            "  inflating: train_form_of_letters/247.jpg  \n",
            "  inflating: train_form_of_letters/248.jpg  \n",
            "  inflating: train_form_of_letters/249.jpg  \n",
            "  inflating: train_form_of_letters/25.jpg  \n",
            "  inflating: train_form_of_letters/250.jpg  \n",
            "  inflating: train_form_of_letters/251.jpg  \n",
            "  inflating: train_form_of_letters/252.jpg  \n",
            "  inflating: train_form_of_letters/253.jpg  \n",
            "  inflating: train_form_of_letters/254.jpg  \n",
            "  inflating: train_form_of_letters/255.jpg  \n",
            "  inflating: train_form_of_letters/256.jpg  \n",
            "  inflating: train_form_of_letters/257.jpg  \n",
            "  inflating: train_form_of_letters/258.jpg  \n",
            "  inflating: train_form_of_letters/259.jpg  \n",
            "  inflating: train_form_of_letters/26.jpg  \n",
            "  inflating: train_form_of_letters/260.jpg  \n",
            "  inflating: train_form_of_letters/261.jpg  \n",
            "  inflating: train_form_of_letters/262.jpg  \n",
            "  inflating: train_form_of_letters/263.jpg  \n",
            "  inflating: train_form_of_letters/264.jpg  \n",
            "  inflating: train_form_of_letters/265.jpg  \n",
            "  inflating: train_form_of_letters/266.jpg  \n",
            "  inflating: train_form_of_letters/267.jpg  \n",
            "  inflating: train_form_of_letters/268.jpg  \n",
            "  inflating: train_form_of_letters/269.jpg  \n",
            "  inflating: train_form_of_letters/27.jpg  \n",
            "  inflating: train_form_of_letters/270.jpg  \n",
            "  inflating: train_form_of_letters/271.jpg  \n",
            "  inflating: train_form_of_letters/272.jpg  \n",
            "  inflating: train_form_of_letters/273.jpg  \n",
            "  inflating: train_form_of_letters/274.jpg  \n",
            "  inflating: train_form_of_letters/275.jpg  \n",
            "  inflating: train_form_of_letters/276.jpg  \n",
            "  inflating: train_form_of_letters/277.jpg  \n",
            "  inflating: train_form_of_letters/278.jpg  \n",
            "  inflating: train_form_of_letters/279.jpg  \n",
            "  inflating: train_form_of_letters/28.jpg  \n",
            "  inflating: train_form_of_letters/280.jpg  \n",
            "  inflating: train_form_of_letters/281.jpg  \n",
            "  inflating: train_form_of_letters/282.jpg  \n",
            "  inflating: train_form_of_letters/283.jpg  \n",
            "  inflating: train_form_of_letters/284.jpg  \n",
            "  inflating: train_form_of_letters/285.jpg  \n",
            "  inflating: train_form_of_letters/286.jpg  \n",
            "  inflating: train_form_of_letters/287.jpg  \n",
            "  inflating: train_form_of_letters/288.jpg  \n",
            "  inflating: train_form_of_letters/289.jpg  \n",
            "  inflating: train_form_of_letters/29.jpg  \n",
            "  inflating: train_form_of_letters/290.jpg  \n",
            "  inflating: train_form_of_letters/291.jpg  \n",
            "  inflating: train_form_of_letters/292.jpg  \n",
            "  inflating: train_form_of_letters/293.jpg  \n",
            "  inflating: train_form_of_letters/294.jpg  \n",
            "  inflating: train_form_of_letters/295.jpg  \n",
            "  inflating: train_form_of_letters/296.jpg  \n",
            "  inflating: train_form_of_letters/297.jpg  \n",
            "  inflating: train_form_of_letters/298.jpg  \n",
            "  inflating: train_form_of_letters/299.jpg  \n",
            "  inflating: train_form_of_letters/3.jpg  \n",
            "  inflating: train_form_of_letters/30.jpg  \n",
            "  inflating: train_form_of_letters/300.jpg  \n",
            "  inflating: train_form_of_letters/301.jpg  \n",
            "  inflating: train_form_of_letters/302.jpg  \n",
            "  inflating: train_form_of_letters/303.jpg  \n",
            "  inflating: train_form_of_letters/304.jpg  \n",
            "  inflating: train_form_of_letters/305.jpg  \n",
            "  inflating: train_form_of_letters/306.jpg  \n",
            "  inflating: train_form_of_letters/307.jpg  \n",
            "  inflating: train_form_of_letters/308.jpg  \n",
            "  inflating: train_form_of_letters/309.jpg  \n",
            "  inflating: train_form_of_letters/31.jpg  \n",
            "  inflating: train_form_of_letters/310.jpg  \n",
            "  inflating: train_form_of_letters/311.jpg  \n",
            "  inflating: train_form_of_letters/312.jpg  \n",
            "  inflating: train_form_of_letters/313.jpg  \n",
            "  inflating: train_form_of_letters/314.jpg  \n",
            "  inflating: train_form_of_letters/315.jpg  \n",
            "  inflating: train_form_of_letters/316.jpg  \n",
            "  inflating: train_form_of_letters/317.jpg  \n",
            "  inflating: train_form_of_letters/318.jpg  \n",
            "  inflating: train_form_of_letters/319.jpg  \n",
            "  inflating: train_form_of_letters/32.jpg  \n",
            "  inflating: train_form_of_letters/320.jpg  \n",
            "  inflating: train_form_of_letters/321.jpg  \n",
            "  inflating: train_form_of_letters/322.jpg  \n",
            "  inflating: train_form_of_letters/323.jpg  \n",
            "  inflating: train_form_of_letters/324.jpg  \n",
            "  inflating: train_form_of_letters/325.jpg  \n",
            "  inflating: train_form_of_letters/326.jpg  \n",
            "  inflating: train_form_of_letters/327.jpg  \n",
            "  inflating: train_form_of_letters/328.jpg  \n",
            "  inflating: train_form_of_letters/329.jpg  \n",
            "  inflating: train_form_of_letters/33.jpg  \n",
            "  inflating: train_form_of_letters/330.jpg  \n",
            "  inflating: train_form_of_letters/331.jpg  \n",
            "  inflating: train_form_of_letters/332.jpg  \n",
            "  inflating: train_form_of_letters/333.jpg  \n",
            "  inflating: train_form_of_letters/334.jpg  \n",
            "  inflating: train_form_of_letters/335.jpg  \n",
            "  inflating: train_form_of_letters/336.jpg  \n",
            "  inflating: train_form_of_letters/337.jpg  \n",
            "  inflating: train_form_of_letters/338.jpg  \n",
            "  inflating: train_form_of_letters/339.jpg  \n",
            "  inflating: train_form_of_letters/34.jpg  \n",
            "  inflating: train_form_of_letters/340.jpg  \n",
            "  inflating: train_form_of_letters/341.jpg  \n",
            "  inflating: train_form_of_letters/342.jpg  \n",
            "  inflating: train_form_of_letters/343.jpg  \n",
            "  inflating: train_form_of_letters/344.jpg  \n",
            "  inflating: train_form_of_letters/345.jpg  \n",
            "  inflating: train_form_of_letters/346.jpg  \n",
            "  inflating: train_form_of_letters/347.jpg  \n",
            "  inflating: train_form_of_letters/348.jpg  \n",
            "  inflating: train_form_of_letters/349.jpg  \n",
            "  inflating: train_form_of_letters/35.jpg  \n",
            "  inflating: train_form_of_letters/350.jpg  \n",
            "  inflating: train_form_of_letters/351.jpg  \n",
            "  inflating: train_form_of_letters/352.jpg  \n",
            "  inflating: train_form_of_letters/353.jpg  \n",
            "  inflating: train_form_of_letters/354.jpg  \n",
            "  inflating: train_form_of_letters/355.jpg  \n",
            "  inflating: train_form_of_letters/356.jpg  \n",
            "  inflating: train_form_of_letters/357.jpg  \n",
            "  inflating: train_form_of_letters/358.jpg  \n",
            "  inflating: train_form_of_letters/359.jpg  \n",
            "  inflating: train_form_of_letters/36.jpg  \n",
            "  inflating: train_form_of_letters/360.jpg  \n",
            "  inflating: train_form_of_letters/361.jpg  \n",
            "  inflating: train_form_of_letters/362.jpg  \n",
            "  inflating: train_form_of_letters/363.jpg  \n",
            "  inflating: train_form_of_letters/364.jpg  \n",
            "  inflating: train_form_of_letters/365.jpg  \n",
            "  inflating: train_form_of_letters/366.jpg  \n",
            "  inflating: train_form_of_letters/367.jpg  \n",
            "  inflating: train_form_of_letters/368.jpg  \n",
            "  inflating: train_form_of_letters/369.jpg  \n",
            "  inflating: train_form_of_letters/37.jpg  \n",
            "  inflating: train_form_of_letters/370.jpg  \n",
            "  inflating: train_form_of_letters/371.jpg  \n",
            "  inflating: train_form_of_letters/372.jpg  \n",
            "  inflating: train_form_of_letters/373.jpg  \n",
            "  inflating: train_form_of_letters/374.jpg  \n",
            "  inflating: train_form_of_letters/375.jpg  \n",
            "  inflating: train_form_of_letters/376.jpg  \n",
            "  inflating: train_form_of_letters/377.jpg  \n",
            "  inflating: train_form_of_letters/378.jpg  \n",
            "  inflating: train_form_of_letters/379.jpg  \n",
            "  inflating: train_form_of_letters/38.jpg  \n",
            "  inflating: train_form_of_letters/380.jpg  \n",
            "  inflating: train_form_of_letters/381.jpg  \n",
            "  inflating: train_form_of_letters/382.jpg  \n",
            "  inflating: train_form_of_letters/383.jpg  \n",
            "  inflating: train_form_of_letters/384.jpg  \n",
            "  inflating: train_form_of_letters/385.jpg  \n",
            "  inflating: train_form_of_letters/386.jpg  \n",
            "  inflating: train_form_of_letters/387.jpg  \n",
            "  inflating: train_form_of_letters/388.jpg  \n",
            "  inflating: train_form_of_letters/389.jpg  \n",
            "  inflating: train_form_of_letters/39.jpg  \n",
            "  inflating: train_form_of_letters/390.jpg  \n",
            "  inflating: train_form_of_letters/391.jpg  \n",
            "  inflating: train_form_of_letters/392.jpg  \n",
            "  inflating: train_form_of_letters/393.jpg  \n",
            "  inflating: train_form_of_letters/394.jpg  \n",
            "  inflating: train_form_of_letters/395.jpg  \n",
            "  inflating: train_form_of_letters/396.jpg  \n",
            "  inflating: train_form_of_letters/397.jpg  \n",
            "  inflating: train_form_of_letters/398.jpg  \n",
            "  inflating: train_form_of_letters/399.jpg  \n",
            "  inflating: train_form_of_letters/4.jpg  \n",
            "  inflating: train_form_of_letters/40.jpg  \n",
            "  inflating: train_form_of_letters/400.jpg  \n",
            "  inflating: train_form_of_letters/401.jpg  \n",
            "  inflating: train_form_of_letters/402.jpg  \n",
            "  inflating: train_form_of_letters/403.jpg  \n",
            "  inflating: train_form_of_letters/404.jpg  \n",
            "  inflating: train_form_of_letters/405.jpg  \n",
            "  inflating: train_form_of_letters/406.jpg  \n",
            "  inflating: train_form_of_letters/407.jpg  \n",
            "  inflating: train_form_of_letters/408.jpg  \n",
            "  inflating: train_form_of_letters/409.jpg  \n",
            "  inflating: train_form_of_letters/41.jpg  \n",
            "  inflating: train_form_of_letters/410.jpg  \n",
            "  inflating: train_form_of_letters/411.jpg  \n",
            "  inflating: train_form_of_letters/412.jpg  \n",
            "  inflating: train_form_of_letters/413.jpg  \n",
            "  inflating: train_form_of_letters/414.jpg  \n",
            "  inflating: train_form_of_letters/415.jpg  \n",
            "  inflating: train_form_of_letters/416.jpg  \n",
            "  inflating: train_form_of_letters/417.jpg  \n",
            "  inflating: train_form_of_letters/418.jpg  \n",
            "  inflating: train_form_of_letters/419.jpg  \n",
            "  inflating: train_form_of_letters/42.jpg  \n",
            "  inflating: train_form_of_letters/420.jpg  \n",
            "  inflating: train_form_of_letters/421.jpg  \n",
            "  inflating: train_form_of_letters/422.jpg  \n",
            "  inflating: train_form_of_letters/423.jpg  \n",
            "  inflating: train_form_of_letters/424.jpg  \n",
            "  inflating: train_form_of_letters/425.jpg  \n",
            "  inflating: train_form_of_letters/426.jpg  \n",
            "  inflating: train_form_of_letters/427.jpg  \n",
            "  inflating: train_form_of_letters/428.jpg  \n",
            "  inflating: train_form_of_letters/429.jpg  \n",
            "  inflating: train_form_of_letters/43.jpg  \n",
            "  inflating: train_form_of_letters/430.jpg  \n",
            "  inflating: train_form_of_letters/431.jpg  \n",
            "  inflating: train_form_of_letters/432.jpg  \n",
            "  inflating: train_form_of_letters/433.jpg  \n",
            "  inflating: train_form_of_letters/434.jpg  \n",
            "  inflating: train_form_of_letters/435.jpg  \n",
            "  inflating: train_form_of_letters/436.jpg  \n",
            "  inflating: train_form_of_letters/437.jpg  \n",
            "  inflating: train_form_of_letters/438.jpg  \n",
            "  inflating: train_form_of_letters/439.jpg  \n",
            "  inflating: train_form_of_letters/44.jpg  \n",
            "  inflating: train_form_of_letters/440.jpg  \n",
            "  inflating: train_form_of_letters/441.jpg  \n",
            "  inflating: train_form_of_letters/442.jpg  \n",
            "  inflating: train_form_of_letters/443.jpg  \n",
            "  inflating: train_form_of_letters/444.jpg  \n",
            "  inflating: train_form_of_letters/445.jpg  \n",
            "  inflating: train_form_of_letters/446.jpg  \n",
            "  inflating: train_form_of_letters/447.jpg  \n",
            "  inflating: train_form_of_letters/448.jpg  \n",
            "  inflating: train_form_of_letters/449.jpg  \n",
            "  inflating: train_form_of_letters/45.jpg  \n",
            "  inflating: train_form_of_letters/450.jpg  \n",
            "  inflating: train_form_of_letters/451.jpg  \n",
            "  inflating: train_form_of_letters/452.jpg  \n",
            "  inflating: train_form_of_letters/453.jpg  \n",
            "  inflating: train_form_of_letters/454.jpg  \n",
            "  inflating: train_form_of_letters/455.jpg  \n",
            "  inflating: train_form_of_letters/456.jpg  \n",
            "  inflating: train_form_of_letters/457.jpg  \n",
            "  inflating: train_form_of_letters/458.jpg  \n",
            "  inflating: train_form_of_letters/459.jpg  \n",
            "  inflating: train_form_of_letters/46.jpg  \n",
            "  inflating: train_form_of_letters/460.jpg  \n",
            "  inflating: train_form_of_letters/461.jpg  \n",
            "  inflating: train_form_of_letters/462.jpg  \n",
            "  inflating: train_form_of_letters/463.jpg  \n",
            "  inflating: train_form_of_letters/464.jpg  \n",
            "  inflating: train_form_of_letters/465.jpg  \n",
            "  inflating: train_form_of_letters/466.jpg  \n",
            "  inflating: train_form_of_letters/467.jpg  \n",
            "  inflating: train_form_of_letters/468.jpg  \n",
            "  inflating: train_form_of_letters/469.jpg  \n",
            "  inflating: train_form_of_letters/47.jpg  \n",
            "  inflating: train_form_of_letters/470.jpg  \n",
            "  inflating: train_form_of_letters/471.jpg  \n",
            "  inflating: train_form_of_letters/472.jpg  \n",
            "  inflating: train_form_of_letters/473.jpg  \n",
            "  inflating: train_form_of_letters/474.jpg  \n",
            "  inflating: train_form_of_letters/475.jpg  \n",
            "  inflating: train_form_of_letters/476.jpg  \n",
            "  inflating: train_form_of_letters/477.jpg  \n",
            "  inflating: train_form_of_letters/478.jpg  \n",
            "  inflating: train_form_of_letters/479.jpg  \n",
            "  inflating: train_form_of_letters/48.jpg  \n",
            "  inflating: train_form_of_letters/480.jpg  \n",
            "  inflating: train_form_of_letters/481.jpg  \n",
            "  inflating: train_form_of_letters/482.jpg  \n",
            "  inflating: train_form_of_letters/483.jpg  \n",
            "  inflating: train_form_of_letters/484.jpg  \n",
            "  inflating: train_form_of_letters/485.jpg  \n",
            "  inflating: train_form_of_letters/486.jpg  \n",
            "  inflating: train_form_of_letters/487.jpg  \n",
            "  inflating: train_form_of_letters/488.jpg  \n",
            "  inflating: train_form_of_letters/489.jpg  \n",
            "  inflating: train_form_of_letters/49.jpg  \n",
            "  inflating: train_form_of_letters/490.jpg  \n",
            "  inflating: train_form_of_letters/491.jpg  \n",
            "  inflating: train_form_of_letters/492.jpg  \n",
            "  inflating: train_form_of_letters/493.jpg  \n",
            "  inflating: train_form_of_letters/494.jpg  \n",
            "  inflating: train_form_of_letters/495.jpg  \n",
            "  inflating: train_form_of_letters/496.jpg  \n",
            "  inflating: train_form_of_letters/497.jpg  \n",
            "  inflating: train_form_of_letters/498.jpg  \n",
            "  inflating: train_form_of_letters/499.jpg  \n",
            "  inflating: train_form_of_letters/5.jpg  \n",
            "  inflating: train_form_of_letters/50.jpg  \n",
            "  inflating: train_form_of_letters/500.jpg  \n",
            "  inflating: train_form_of_letters/501.jpg  \n",
            "  inflating: train_form_of_letters/502.jpg  \n",
            "  inflating: train_form_of_letters/503.jpg  \n",
            "  inflating: train_form_of_letters/504.jpg  \n",
            "  inflating: train_form_of_letters/505.jpg  \n",
            "  inflating: train_form_of_letters/506.jpg  \n",
            "  inflating: train_form_of_letters/507.jpg  \n",
            "  inflating: train_form_of_letters/508.jpg  \n",
            "  inflating: train_form_of_letters/509.jpg  \n",
            "  inflating: train_form_of_letters/51.jpg  \n",
            "  inflating: train_form_of_letters/510.jpg  \n",
            "  inflating: train_form_of_letters/511.jpg  \n",
            "  inflating: train_form_of_letters/512.jpg  \n",
            "  inflating: train_form_of_letters/513.jpg  \n",
            "  inflating: train_form_of_letters/514.jpg  \n",
            "  inflating: train_form_of_letters/515.jpg  \n",
            "  inflating: train_form_of_letters/516.jpg  \n",
            "  inflating: train_form_of_letters/517.jpg  \n",
            "  inflating: train_form_of_letters/518.jpg  \n",
            "  inflating: train_form_of_letters/519.jpg  \n",
            "  inflating: train_form_of_letters/52.jpg  \n",
            "  inflating: train_form_of_letters/520.jpg  \n",
            "  inflating: train_form_of_letters/521.jpg  \n",
            "  inflating: train_form_of_letters/522.jpg  \n",
            "  inflating: train_form_of_letters/523.jpg  \n",
            "  inflating: train_form_of_letters/524.jpg  \n",
            "  inflating: train_form_of_letters/525.jpg  \n",
            "  inflating: train_form_of_letters/526.jpg  \n",
            "  inflating: train_form_of_letters/527.jpg  \n",
            "  inflating: train_form_of_letters/528.jpg  \n",
            "  inflating: train_form_of_letters/529.jpg  \n",
            "  inflating: train_form_of_letters/53.jpg  \n",
            "  inflating: train_form_of_letters/530.jpg  \n",
            "  inflating: train_form_of_letters/531.jpg  \n",
            "  inflating: train_form_of_letters/532.jpg  \n",
            "  inflating: train_form_of_letters/533.jpg  \n",
            "  inflating: train_form_of_letters/534.jpg  \n",
            "  inflating: train_form_of_letters/535.jpg  \n",
            "  inflating: train_form_of_letters/536.jpg  \n",
            "  inflating: train_form_of_letters/537.jpg  \n",
            "  inflating: train_form_of_letters/538.jpg  \n",
            "  inflating: train_form_of_letters/539.jpg  \n",
            "  inflating: train_form_of_letters/54.jpg  \n",
            "  inflating: train_form_of_letters/540.jpg  \n",
            "  inflating: train_form_of_letters/541.jpg  \n",
            "  inflating: train_form_of_letters/542.jpg  \n",
            "  inflating: train_form_of_letters/543.jpg  \n",
            "  inflating: train_form_of_letters/544.jpg  \n",
            "  inflating: train_form_of_letters/545.jpg  \n",
            "  inflating: train_form_of_letters/546.jpg  \n",
            "  inflating: train_form_of_letters/547.jpg  \n",
            "  inflating: train_form_of_letters/548.jpg  \n",
            "  inflating: train_form_of_letters/549.jpg  \n",
            "  inflating: train_form_of_letters/55.jpg  \n",
            "  inflating: train_form_of_letters/550.jpg  \n",
            "  inflating: train_form_of_letters/551.jpg  \n",
            "  inflating: train_form_of_letters/552.jpg  \n",
            "  inflating: train_form_of_letters/553.jpg  \n",
            "  inflating: train_form_of_letters/554.jpg  \n",
            "  inflating: train_form_of_letters/555.jpg  \n",
            "  inflating: train_form_of_letters/556.jpg  \n",
            "  inflating: train_form_of_letters/557.jpg  \n",
            "  inflating: train_form_of_letters/558.jpg  \n",
            "  inflating: train_form_of_letters/559.jpg  \n",
            "  inflating: train_form_of_letters/56.jpg  \n",
            "  inflating: train_form_of_letters/560.jpg  \n",
            "  inflating: train_form_of_letters/561.jpg  \n",
            "  inflating: train_form_of_letters/562.jpg  \n",
            "  inflating: train_form_of_letters/563.jpg  \n",
            "  inflating: train_form_of_letters/564.jpg  \n",
            "  inflating: train_form_of_letters/565.jpg  \n",
            "  inflating: train_form_of_letters/566.jpg  \n",
            "  inflating: train_form_of_letters/567.jpg  \n",
            "  inflating: train_form_of_letters/568.jpg  \n",
            "  inflating: train_form_of_letters/569.jpg  \n",
            "  inflating: train_form_of_letters/57.jpg  \n",
            "  inflating: train_form_of_letters/570.jpg  \n",
            "  inflating: train_form_of_letters/571.jpg  \n",
            "  inflating: train_form_of_letters/572.jpg  \n",
            "  inflating: train_form_of_letters/573.jpg  \n",
            "  inflating: train_form_of_letters/574.jpg  \n",
            "  inflating: train_form_of_letters/575.jpg  \n",
            "  inflating: train_form_of_letters/576.jpg  \n",
            "  inflating: train_form_of_letters/577.jpg  \n",
            "  inflating: train_form_of_letters/578.jpg  \n",
            "  inflating: train_form_of_letters/579.jpg  \n",
            "  inflating: train_form_of_letters/58.jpg  \n",
            "  inflating: train_form_of_letters/580.jpg  \n",
            "  inflating: train_form_of_letters/581.jpg  \n",
            "  inflating: train_form_of_letters/582.jpg  \n",
            "  inflating: train_form_of_letters/583.jpg  \n",
            "  inflating: train_form_of_letters/584.jpg  \n",
            "  inflating: train_form_of_letters/585.jpg  \n",
            "  inflating: train_form_of_letters/586.jpg  \n",
            "  inflating: train_form_of_letters/587.jpg  \n",
            "  inflating: train_form_of_letters/588.jpg  \n",
            "  inflating: train_form_of_letters/589.jpg  \n",
            "  inflating: train_form_of_letters/59.jpg  \n",
            "  inflating: train_form_of_letters/590.jpg  \n",
            "  inflating: train_form_of_letters/591.jpg  \n",
            "  inflating: train_form_of_letters/592.jpg  \n",
            "  inflating: train_form_of_letters/593.jpg  \n",
            "  inflating: train_form_of_letters/594.jpg  \n",
            "  inflating: train_form_of_letters/595.jpg  \n",
            "  inflating: train_form_of_letters/596.jpg  \n",
            "  inflating: train_form_of_letters/597.jpg  \n",
            "  inflating: train_form_of_letters/598.jpg  \n",
            "  inflating: train_form_of_letters/599.jpg  \n",
            "  inflating: train_form_of_letters/6.jpg  \n",
            "  inflating: train_form_of_letters/60.jpg  \n",
            "  inflating: train_form_of_letters/600.jpg  \n",
            "  inflating: train_form_of_letters/601.jpg  \n",
            "  inflating: train_form_of_letters/602.jpg  \n",
            "  inflating: train_form_of_letters/603.jpg  \n",
            "  inflating: train_form_of_letters/604.jpg  \n",
            "  inflating: train_form_of_letters/605.jpg  \n",
            "  inflating: train_form_of_letters/606.jpg  \n",
            "  inflating: train_form_of_letters/607.jpg  \n",
            "  inflating: train_form_of_letters/608.jpg  \n",
            "  inflating: train_form_of_letters/609.jpg  \n",
            "  inflating: train_form_of_letters/61.jpg  \n",
            "  inflating: train_form_of_letters/610.jpg  \n",
            "  inflating: train_form_of_letters/611.jpg  \n",
            "  inflating: train_form_of_letters/612.jpg  \n",
            "  inflating: train_form_of_letters/613.jpg  \n",
            "  inflating: train_form_of_letters/614.jpg  \n",
            "  inflating: train_form_of_letters/615.jpg  \n",
            "  inflating: train_form_of_letters/616.jpg  \n",
            "  inflating: train_form_of_letters/617.jpg  \n",
            "  inflating: train_form_of_letters/618.jpg  \n",
            "  inflating: train_form_of_letters/619.jpg  \n",
            "  inflating: train_form_of_letters/62.jpg  \n",
            "  inflating: train_form_of_letters/620.jpg  \n",
            "  inflating: train_form_of_letters/621.jpg  \n",
            "  inflating: train_form_of_letters/622.jpg  \n",
            "  inflating: train_form_of_letters/623.jpg  \n",
            "  inflating: train_form_of_letters/624.jpg  \n",
            "  inflating: train_form_of_letters/625.jpg  \n",
            "  inflating: train_form_of_letters/626.jpg  \n",
            "  inflating: train_form_of_letters/627.jpg  \n",
            "  inflating: train_form_of_letters/628.jpg  \n",
            "  inflating: train_form_of_letters/629.jpg  \n",
            "  inflating: train_form_of_letters/63.jpg  \n",
            "  inflating: train_form_of_letters/630.jpg  \n",
            "  inflating: train_form_of_letters/631.jpg  \n",
            "  inflating: train_form_of_letters/632.jpg  \n",
            "  inflating: train_form_of_letters/633.jpg  \n",
            "  inflating: train_form_of_letters/634.jpg  \n",
            "  inflating: train_form_of_letters/635.jpg  \n",
            "  inflating: train_form_of_letters/636.jpg  \n",
            "  inflating: train_form_of_letters/637.jpg  \n",
            "  inflating: train_form_of_letters/638.jpg  \n",
            "  inflating: train_form_of_letters/639.jpg  \n",
            "  inflating: train_form_of_letters/64.jpg  \n",
            "  inflating: train_form_of_letters/640.jpg  \n",
            "  inflating: train_form_of_letters/641.jpg  \n",
            "  inflating: train_form_of_letters/642.jpg  \n",
            "  inflating: train_form_of_letters/643.jpg  \n",
            "  inflating: train_form_of_letters/644.jpg  \n",
            "  inflating: train_form_of_letters/645.jpg  \n",
            "  inflating: train_form_of_letters/646.jpg  \n",
            "  inflating: train_form_of_letters/647.jpg  \n",
            "  inflating: train_form_of_letters/648.jpg  \n",
            "  inflating: train_form_of_letters/649.jpg  \n",
            "  inflating: train_form_of_letters/65.jpg  \n",
            "  inflating: train_form_of_letters/650.jpg  \n",
            "  inflating: train_form_of_letters/651.jpg  \n",
            "  inflating: train_form_of_letters/652.jpg  \n",
            "  inflating: train_form_of_letters/653.jpg  \n",
            "  inflating: train_form_of_letters/654.jpg  \n",
            "  inflating: train_form_of_letters/655.jpg  \n",
            "  inflating: train_form_of_letters/656.jpg  \n",
            "  inflating: train_form_of_letters/657.jpg  \n",
            "  inflating: train_form_of_letters/658.jpg  \n",
            "  inflating: train_form_of_letters/659.jpg  \n",
            "  inflating: train_form_of_letters/66.jpg  \n",
            "  inflating: train_form_of_letters/660.jpg  \n",
            "  inflating: train_form_of_letters/661.jpg  \n",
            "  inflating: train_form_of_letters/662.jpg  \n",
            "  inflating: train_form_of_letters/663.jpg  \n",
            "  inflating: train_form_of_letters/664.jpg  \n",
            "  inflating: train_form_of_letters/665.jpg  \n",
            "  inflating: train_form_of_letters/666.jpg  \n",
            "  inflating: train_form_of_letters/667.jpg  \n",
            "  inflating: train_form_of_letters/668.jpg  \n",
            "  inflating: train_form_of_letters/669.jpg  \n",
            "  inflating: train_form_of_letters/67.jpg  \n",
            "  inflating: train_form_of_letters/670.jpg  \n",
            "  inflating: train_form_of_letters/671.jpg  \n",
            "  inflating: train_form_of_letters/672.jpg  \n",
            "  inflating: train_form_of_letters/673.jpg  \n",
            "  inflating: train_form_of_letters/674.jpg  \n",
            "  inflating: train_form_of_letters/675.jpg  \n",
            "  inflating: train_form_of_letters/676.jpg  \n",
            "  inflating: train_form_of_letters/677.jpg  \n",
            "  inflating: train_form_of_letters/678.jpg  \n",
            "  inflating: train_form_of_letters/679.jpg  \n",
            "  inflating: train_form_of_letters/68.jpg  \n",
            "  inflating: train_form_of_letters/680.jpg  \n",
            "  inflating: train_form_of_letters/681.jpg  \n",
            "  inflating: train_form_of_letters/682.jpg  \n",
            "  inflating: train_form_of_letters/683.jpg  \n",
            "  inflating: train_form_of_letters/684.jpg  \n",
            "  inflating: train_form_of_letters/685.jpg  \n",
            "  inflating: train_form_of_letters/686.jpg  \n",
            "  inflating: train_form_of_letters/687.jpg  \n",
            "  inflating: train_form_of_letters/688.jpg  \n",
            "  inflating: train_form_of_letters/689.jpg  \n",
            "  inflating: train_form_of_letters/69.jpg  \n",
            "  inflating: train_form_of_letters/690.jpg  \n",
            "  inflating: train_form_of_letters/691.jpg  \n",
            "  inflating: train_form_of_letters/692.jpg  \n",
            "  inflating: train_form_of_letters/693.jpg  \n",
            "  inflating: train_form_of_letters/694.jpg  \n",
            "  inflating: train_form_of_letters/695.jpg  \n",
            "  inflating: train_form_of_letters/696.jpg  \n",
            "  inflating: train_form_of_letters/697.jpg  \n",
            "  inflating: train_form_of_letters/698.jpg  \n",
            "  inflating: train_form_of_letters/699.jpg  \n",
            "  inflating: train_form_of_letters/7.jpg  \n",
            "  inflating: train_form_of_letters/70.jpg  \n",
            "  inflating: train_form_of_letters/700.jpg  \n",
            "  inflating: train_form_of_letters/701.jpg  \n",
            "  inflating: train_form_of_letters/702.jpg  \n",
            "  inflating: train_form_of_letters/703.jpg  \n",
            "  inflating: train_form_of_letters/704.jpg  \n",
            "  inflating: train_form_of_letters/705.jpg  \n",
            "  inflating: train_form_of_letters/706.jpg  \n",
            "  inflating: train_form_of_letters/707.jpg  \n",
            "  inflating: train_form_of_letters/708.jpg  \n",
            "  inflating: train_form_of_letters/709.jpg  \n",
            "  inflating: train_form_of_letters/71.jpg  \n",
            "  inflating: train_form_of_letters/710.jpg  \n",
            "  inflating: train_form_of_letters/711.jpg  \n",
            "  inflating: train_form_of_letters/712.jpg  \n",
            "  inflating: train_form_of_letters/713.jpg  \n",
            "  inflating: train_form_of_letters/714.jpg  \n",
            "  inflating: train_form_of_letters/715.jpg  \n",
            "  inflating: train_form_of_letters/716.jpg  \n",
            "  inflating: train_form_of_letters/717.jpg  \n",
            "  inflating: train_form_of_letters/718.jpg  \n",
            "  inflating: train_form_of_letters/719.jpg  \n",
            "  inflating: train_form_of_letters/72.jpg  \n",
            "  inflating: train_form_of_letters/720.jpg  \n",
            "  inflating: train_form_of_letters/721.jpg  \n",
            "  inflating: train_form_of_letters/722.jpg  \n",
            "  inflating: train_form_of_letters/723.jpg  \n",
            "  inflating: train_form_of_letters/724.jpg  \n",
            "  inflating: train_form_of_letters/725.jpg  \n",
            "  inflating: train_form_of_letters/726.jpg  \n",
            "  inflating: train_form_of_letters/727.jpg  \n",
            "  inflating: train_form_of_letters/728.jpg  \n",
            "  inflating: train_form_of_letters/729.jpg  \n",
            "  inflating: train_form_of_letters/73.jpg  \n",
            "  inflating: train_form_of_letters/730.jpg  \n",
            "  inflating: train_form_of_letters/731.jpg  \n",
            "  inflating: train_form_of_letters/732.jpg  \n",
            "  inflating: train_form_of_letters/733.jpg  \n",
            "  inflating: train_form_of_letters/734.jpg  \n",
            "  inflating: train_form_of_letters/735.jpg  \n",
            "  inflating: train_form_of_letters/736.jpg  \n",
            "  inflating: train_form_of_letters/737.jpg  \n",
            "  inflating: train_form_of_letters/738.jpg  \n",
            "  inflating: train_form_of_letters/739.jpg  \n",
            "  inflating: train_form_of_letters/74.jpg  \n",
            "  inflating: train_form_of_letters/740.jpg  \n",
            "  inflating: train_form_of_letters/741.jpg  \n",
            "  inflating: train_form_of_letters/742.jpg  \n",
            "  inflating: train_form_of_letters/743.jpg  \n",
            "  inflating: train_form_of_letters/744.jpg  \n",
            "  inflating: train_form_of_letters/745.jpg  \n",
            "  inflating: train_form_of_letters/746.jpg  \n",
            "  inflating: train_form_of_letters/747.jpg  \n",
            "  inflating: train_form_of_letters/748.jpg  \n",
            "  inflating: train_form_of_letters/749.jpg  \n",
            "  inflating: train_form_of_letters/75.jpg  \n",
            "  inflating: train_form_of_letters/750.jpg  \n",
            "  inflating: train_form_of_letters/751.jpg  \n",
            "  inflating: train_form_of_letters/752.jpg  \n",
            "  inflating: train_form_of_letters/753.jpg  \n",
            "  inflating: train_form_of_letters/754.jpg  \n",
            "  inflating: train_form_of_letters/755.jpg  \n",
            "  inflating: train_form_of_letters/756.jpg  \n",
            "  inflating: train_form_of_letters/757.jpg  \n",
            "  inflating: train_form_of_letters/758.jpg  \n",
            "  inflating: train_form_of_letters/759.jpg  \n",
            "  inflating: train_form_of_letters/76.jpg  \n",
            "  inflating: train_form_of_letters/760.jpg  \n",
            "  inflating: train_form_of_letters/761.jpg  \n",
            "  inflating: train_form_of_letters/762.jpg  \n",
            "  inflating: train_form_of_letters/763.jpg  \n",
            "  inflating: train_form_of_letters/764.jpg  \n",
            "  inflating: train_form_of_letters/765.jpg  \n",
            "  inflating: train_form_of_letters/766.jpg  \n",
            "  inflating: train_form_of_letters/767.jpg  \n",
            "  inflating: train_form_of_letters/768.jpg  \n",
            "  inflating: train_form_of_letters/769.jpg  \n",
            "  inflating: train_form_of_letters/77.jpg  \n",
            "  inflating: train_form_of_letters/770.jpg  \n",
            "  inflating: train_form_of_letters/771.jpg  \n",
            "  inflating: train_form_of_letters/772.jpg  \n",
            "  inflating: train_form_of_letters/773.jpg  \n",
            "  inflating: train_form_of_letters/774.jpg  \n",
            "  inflating: train_form_of_letters/775.jpg  \n",
            "  inflating: train_form_of_letters/776.jpg  \n",
            "  inflating: train_form_of_letters/777.jpg  \n",
            "  inflating: train_form_of_letters/778.jpg  \n",
            "  inflating: train_form_of_letters/779.jpg  \n",
            "  inflating: train_form_of_letters/78.jpg  \n",
            "  inflating: train_form_of_letters/780.jpg  \n",
            "  inflating: train_form_of_letters/781.jpg  \n",
            "  inflating: train_form_of_letters/782.jpg  \n",
            "  inflating: train_form_of_letters/783.jpg  \n",
            "  inflating: train_form_of_letters/784.jpg  \n",
            "  inflating: train_form_of_letters/785.jpg  \n",
            "  inflating: train_form_of_letters/786.jpg  \n",
            "  inflating: train_form_of_letters/787.jpg  \n",
            "  inflating: train_form_of_letters/788.jpg  \n",
            "  inflating: train_form_of_letters/789.jpg  \n",
            "  inflating: train_form_of_letters/79.jpg  \n",
            "  inflating: train_form_of_letters/790.jpg  \n",
            "  inflating: train_form_of_letters/791.jpg  \n",
            "  inflating: train_form_of_letters/792.jpg  \n",
            "  inflating: train_form_of_letters/793.jpg  \n",
            "  inflating: train_form_of_letters/794.jpg  \n",
            "  inflating: train_form_of_letters/795.jpg  \n",
            "  inflating: train_form_of_letters/796.jpg  \n",
            "  inflating: train_form_of_letters/797.jpg  \n",
            "  inflating: train_form_of_letters/798.jpg  \n",
            "  inflating: train_form_of_letters/799.jpg  \n",
            "  inflating: train_form_of_letters/8.jpg  \n",
            "  inflating: train_form_of_letters/80.jpg  \n",
            "  inflating: train_form_of_letters/800.jpg  \n",
            "  inflating: train_form_of_letters/801.jpg  \n",
            "  inflating: train_form_of_letters/802.jpg  \n",
            "  inflating: train_form_of_letters/803.jpg  \n",
            "  inflating: train_form_of_letters/804.jpg  \n",
            "  inflating: train_form_of_letters/805.jpg  \n",
            "  inflating: train_form_of_letters/806.jpg  \n",
            "  inflating: train_form_of_letters/807.jpg  \n",
            "  inflating: train_form_of_letters/808.jpg  \n",
            "  inflating: train_form_of_letters/809.jpg  \n",
            "  inflating: train_form_of_letters/81.jpg  \n",
            "  inflating: train_form_of_letters/810.jpg  \n",
            "  inflating: train_form_of_letters/811.jpg  \n",
            "  inflating: train_form_of_letters/812.jpg  \n",
            "  inflating: train_form_of_letters/813.jpg  \n",
            "  inflating: train_form_of_letters/814.jpg  \n",
            "  inflating: train_form_of_letters/815.jpg  \n",
            "  inflating: train_form_of_letters/816.jpg  \n",
            "  inflating: train_form_of_letters/817.jpg  \n",
            "  inflating: train_form_of_letters/82.jpg  \n",
            "  inflating: train_form_of_letters/83.jpg  \n",
            "  inflating: train_form_of_letters/84.jpg  \n",
            "  inflating: train_form_of_letters/85.jpg  \n",
            "  inflating: train_form_of_letters/86.jpg  \n",
            "  inflating: train_form_of_letters/87.jpg  \n",
            "  inflating: train_form_of_letters/88.jpg  \n",
            "  inflating: train_form_of_letters/89.jpg  \n",
            "  inflating: train_form_of_letters/9.jpg  \n",
            "  inflating: train_form_of_letters/90.jpg  \n",
            "  inflating: train_form_of_letters/91.jpg  \n",
            "  inflating: train_form_of_letters/92.jpg  \n",
            "  inflating: train_form_of_letters/93.jpg  \n",
            "  inflating: train_form_of_letters/94.jpg  \n",
            "  inflating: train_form_of_letters/95.jpg  \n",
            "  inflating: train_form_of_letters/96.jpg  \n",
            "  inflating: train_form_of_letters/97.jpg  \n",
            "  inflating: train_form_of_letters/98.jpg  \n",
            "  inflating: train_form_of_letters/99.jpg  \n"
          ],
          "name": "stdout"
        }
      ]
    },
    {
      "cell_type": "code",
      "metadata": {
        "id": "jFq3PL7cqZXw",
        "colab_type": "code",
        "colab": {}
      },
      "source": [
        "train = pd.read_csv('train_form_of_letters.csv')"
      ],
      "execution_count": 0,
      "outputs": []
    },
    {
      "cell_type": "code",
      "metadata": {
        "id": "0XDDL185y5Ar",
        "colab_type": "code",
        "outputId": "b4c0cbc9-9b4b-4ef7-caf2-e48217da49fe",
        "colab": {
          "base_uri": "https://localhost:8080/",
          "height": 194
        }
      },
      "source": [
        "train.head()"
      ],
      "execution_count": 4,
      "outputs": [
        {
          "output_type": "execute_result",
          "data": {
            "text/html": [
              "<div>\n",
              "<style scoped>\n",
              "    .dataframe tbody tr th:only-of-type {\n",
              "        vertical-align: middle;\n",
              "    }\n",
              "\n",
              "    .dataframe tbody tr th {\n",
              "        vertical-align: top;\n",
              "    }\n",
              "\n",
              "    .dataframe thead th {\n",
              "        text-align: right;\n",
              "    }\n",
              "</style>\n",
              "<table border=\"1\" class=\"dataframe\">\n",
              "  <thead>\n",
              "    <tr style=\"text-align: right;\">\n",
              "      <th></th>\n",
              "      <th>img</th>\n",
              "      <th>form</th>\n",
              "    </tr>\n",
              "  </thead>\n",
              "  <tbody>\n",
              "    <tr>\n",
              "      <th>0</th>\n",
              "      <td>1.jpg</td>\n",
              "      <td>2</td>\n",
              "    </tr>\n",
              "    <tr>\n",
              "      <th>1</th>\n",
              "      <td>2.jpg</td>\n",
              "      <td>1</td>\n",
              "    </tr>\n",
              "    <tr>\n",
              "      <th>2</th>\n",
              "      <td>3.jpg</td>\n",
              "      <td>1</td>\n",
              "    </tr>\n",
              "    <tr>\n",
              "      <th>3</th>\n",
              "      <td>4.jpg</td>\n",
              "      <td>1</td>\n",
              "    </tr>\n",
              "    <tr>\n",
              "      <th>4</th>\n",
              "      <td>5.jpg</td>\n",
              "      <td>1</td>\n",
              "    </tr>\n",
              "  </tbody>\n",
              "</table>\n",
              "</div>"
            ],
            "text/plain": [
              "     img  form\n",
              "0  1.jpg     2\n",
              "1  2.jpg     1\n",
              "2  3.jpg     1\n",
              "3  4.jpg     1\n",
              "4  5.jpg     1"
            ]
          },
          "metadata": {
            "tags": []
          },
          "execution_count": 4
        }
      ]
    },
    {
      "cell_type": "code",
      "metadata": {
        "id": "md76XWSInS3S",
        "colab_type": "code",
        "outputId": "0aa6de4a-47b8-482f-de98-71e8a035492c",
        "colab": {
          "base_uri": "https://localhost:8080/",
          "height": 35
        }
      },
      "source": [
        "train.shape"
      ],
      "execution_count": 5,
      "outputs": [
        {
          "output_type": "execute_result",
          "data": {
            "text/plain": [
              "(817, 2)"
            ]
          },
          "metadata": {
            "tags": []
          },
          "execution_count": 5
        }
      ]
    },
    {
      "cell_type": "code",
      "metadata": {
        "id": "OYFXUjcmhbAV",
        "colab_type": "code",
        "outputId": "14619302-5730-431d-eae9-ea8630ffceca",
        "colab": {
          "base_uri": "https://localhost:8080/",
          "height": 35
        }
      },
      "source": [
        "train[train.form == 0].shape, train[train.form == 1].shape, train[train.form == 2].shape #кол-во классов"
      ],
      "execution_count": 6,
      "outputs": [
        {
          "output_type": "execute_result",
          "data": {
            "text/plain": [
              "((237, 2), (302, 2), (278, 2))"
            ]
          },
          "metadata": {
            "tags": []
          },
          "execution_count": 6
        }
      ]
    },
    {
      "cell_type": "code",
      "metadata": {
        "id": "qnra_NGnmeLJ",
        "colab_type": "code",
        "outputId": "4937844b-7344-4e5b-955e-a898c6fb9730",
        "colab": {
          "base_uri": "https://localhost:8080/",
          "height": 1000
        }
      },
      "source": [
        "!unzip test_form_of_letters.zip #images"
      ],
      "execution_count": 7,
      "outputs": [
        {
          "output_type": "stream",
          "text": [
            "Archive:  test_form_of_letters.zip\n",
            "  inflating: test_form_of_letters/100.jpg  \n",
            "  inflating: test_form_of_letters/101.jpg  \n",
            "  inflating: test_form_of_letters/102.jpg  \n",
            "  inflating: test_form_of_letters/103.jpg  \n",
            "  inflating: test_form_of_letters/104.jpg  \n",
            "  inflating: test_form_of_letters/105.jpg  \n",
            "  inflating: test_form_of_letters/106.jpg  \n",
            "  inflating: test_form_of_letters/107.jpg  \n",
            "  inflating: test_form_of_letters/108.jpg  \n",
            "  inflating: test_form_of_letters/109.jpg  \n",
            "  inflating: test_form_of_letters/110.jpg  \n",
            "  inflating: test_form_of_letters/111.jpg  \n",
            "  inflating: test_form_of_letters/112.jpg  \n",
            "  inflating: test_form_of_letters/113.jpg  \n",
            "  inflating: test_form_of_letters/114.jpg  \n",
            "  inflating: test_form_of_letters/115.jpg  \n",
            "  inflating: test_form_of_letters/116.jpg  \n",
            "  inflating: test_form_of_letters/117.jpg  \n",
            "  inflating: test_form_of_letters/118.jpg  \n",
            "  inflating: test_form_of_letters/119.jpg  \n",
            "  inflating: test_form_of_letters/120.jpg  \n",
            "  inflating: test_form_of_letters/121.jpg  \n",
            "  inflating: test_form_of_letters/122.jpg  \n",
            "  inflating: test_form_of_letters/123.jpg  \n",
            "  inflating: test_form_of_letters/124.jpg  \n",
            "  inflating: test_form_of_letters/125.jpg  \n",
            "  inflating: test_form_of_letters/126.jpg  \n",
            "  inflating: test_form_of_letters/127.jpg  \n",
            "  inflating: test_form_of_letters/128.jpg  \n",
            "  inflating: test_form_of_letters/129.jpg  \n",
            "  inflating: test_form_of_letters/130.jpg  \n",
            "  inflating: test_form_of_letters/131.jpg  \n",
            "  inflating: test_form_of_letters/132.jpg  \n",
            "  inflating: test_form_of_letters/133.jpg  \n",
            "  inflating: test_form_of_letters/134.jpg  \n",
            "  inflating: test_form_of_letters/135.jpg  \n",
            "  inflating: test_form_of_letters/136.jpg  \n",
            "  inflating: test_form_of_letters/137.jpg  \n",
            "  inflating: test_form_of_letters/138.jpg  \n",
            "  inflating: test_form_of_letters/139.jpg  \n",
            "  inflating: test_form_of_letters/140.jpg  \n",
            "  inflating: test_form_of_letters/141.jpg  \n",
            "  inflating: test_form_of_letters/142.jpg  \n",
            "  inflating: test_form_of_letters/143.jpg  \n",
            "  inflating: test_form_of_letters/144.jpg  \n",
            "  inflating: test_form_of_letters/145.jpg  \n",
            "  inflating: test_form_of_letters/146.jpg  \n",
            "  inflating: test_form_of_letters/147.jpg  \n",
            "  inflating: test_form_of_letters/148.jpg  \n",
            "  inflating: test_form_of_letters/149.jpg  \n",
            "  inflating: test_form_of_letters/150.jpg  \n",
            "  inflating: test_form_of_letters/151.jpg  \n",
            "  inflating: test_form_of_letters/152.jpg  \n",
            "  inflating: test_form_of_letters/153.jpg  \n",
            "  inflating: test_form_of_letters/154.jpg  \n",
            "  inflating: test_form_of_letters/155.jpg  \n",
            "  inflating: test_form_of_letters/156.jpg  \n",
            "  inflating: test_form_of_letters/157.jpg  \n",
            "  inflating: test_form_of_letters/158.jpg  \n",
            "  inflating: test_form_of_letters/159.jpg  \n",
            "  inflating: test_form_of_letters/160.jpg  \n",
            "  inflating: test_form_of_letters/161.jpg  \n",
            "  inflating: test_form_of_letters/162.jpg  \n",
            "  inflating: test_form_of_letters/163.jpg  \n",
            "  inflating: test_form_of_letters/164.jpg  \n",
            "  inflating: test_form_of_letters/165.jpg  \n",
            "  inflating: test_form_of_letters/166.jpg  \n",
            "  inflating: test_form_of_letters/167.jpg  \n",
            "  inflating: test_form_of_letters/168.jpg  \n",
            "  inflating: test_form_of_letters/169.jpg  \n",
            "  inflating: test_form_of_letters/170.jpg  \n",
            "  inflating: test_form_of_letters/171.jpg  \n",
            "  inflating: test_form_of_letters/172.jpg  \n",
            "  inflating: test_form_of_letters/173.jpg  \n",
            "  inflating: test_form_of_letters/174.jpg  \n",
            "  inflating: test_form_of_letters/175.jpg  \n",
            "  inflating: test_form_of_letters/176.jpg  \n",
            "  inflating: test_form_of_letters/177.jpg  \n",
            "  inflating: test_form_of_letters/178.jpg  \n",
            "  inflating: test_form_of_letters/179.jpg  \n",
            "  inflating: test_form_of_letters/180.jpg  \n",
            "  inflating: test_form_of_letters/196.jpg  \n",
            "  inflating: test_form_of_letters/197.jpg  \n",
            "  inflating: test_form_of_letters/198.jpg  \n",
            "  inflating: test_form_of_letters/199.jpg  \n",
            "  inflating: test_form_of_letters/200.jpg  \n",
            "  inflating: test_form_of_letters/201.jpg  \n",
            "  inflating: test_form_of_letters/202.jpg  \n",
            "  inflating: test_form_of_letters/203.jpg  \n",
            "  inflating: test_form_of_letters/204.jpg  \n",
            "  inflating: test_form_of_letters/205.jpg  \n",
            "  inflating: test_form_of_letters/206.jpg  \n",
            "  inflating: test_form_of_letters/207.jpg  \n",
            "  inflating: test_form_of_letters/208.jpg  \n",
            "  inflating: test_form_of_letters/209.jpg  \n",
            "  inflating: test_form_of_letters/211.jpg  \n",
            "  inflating: test_form_of_letters/212.jpg  \n",
            "  inflating: test_form_of_letters/213.jpg  \n",
            "  inflating: test_form_of_letters/214.jpg  \n",
            "  inflating: test_form_of_letters/215.jpg  \n",
            "  inflating: test_form_of_letters/216.jpg  \n",
            "  inflating: test_form_of_letters/217.jpg  \n",
            "  inflating: test_form_of_letters/220.jpg  \n",
            "  inflating: test_form_of_letters/221.jpg  \n",
            "  inflating: test_form_of_letters/222.jpg  \n",
            "  inflating: test_form_of_letters/223.jpg  \n",
            "  inflating: test_form_of_letters/225.jpg  \n",
            "  inflating: test_form_of_letters/226.jpg  \n",
            "  inflating: test_form_of_letters/227.jpg  \n",
            "  inflating: test_form_of_letters/231.jpg  \n",
            "  inflating: test_form_of_letters/232.jpg  \n",
            "  inflating: test_form_of_letters/236.jpg  \n",
            "  inflating: test_form_of_letters/237.jpg  \n",
            "  inflating: test_form_of_letters/238.jpg  \n",
            "  inflating: test_form_of_letters/239.jpg  \n",
            "  inflating: test_form_of_letters/240.jpg  \n",
            "  inflating: test_form_of_letters/243.jpg  \n",
            "  inflating: test_form_of_letters/244.jpg  \n",
            "  inflating: test_form_of_letters/246.jpg  \n",
            "  inflating: test_form_of_letters/247.jpg  \n",
            "  inflating: test_form_of_letters/249.jpg  \n",
            "  inflating: test_form_of_letters/251.jpg  \n",
            "  inflating: test_form_of_letters/254.jpg  \n",
            "  inflating: test_form_of_letters/256.jpg  \n",
            "  inflating: test_form_of_letters/257.jpg  \n",
            "  inflating: test_form_of_letters/258.jpg  \n",
            "  inflating: test_form_of_letters/259.jpg  \n",
            "  inflating: test_form_of_letters/260.jpg  \n",
            "  inflating: test_form_of_letters/261.jpg  \n",
            "  inflating: test_form_of_letters/262.jpg  \n",
            "  inflating: test_form_of_letters/263.jpg  \n",
            "  inflating: test_form_of_letters/264.jpg  \n",
            "  inflating: test_form_of_letters/265.jpg  \n",
            "  inflating: test_form_of_letters/266.jpg  \n",
            "  inflating: test_form_of_letters/270.jpg  \n",
            "  inflating: test_form_of_letters/271.jpg  \n",
            "  inflating: test_form_of_letters/273.jpg  \n",
            "  inflating: test_form_of_letters/276.jpg  \n",
            "  inflating: test_form_of_letters/277.jpg  \n",
            "  inflating: test_form_of_letters/278.jpg  \n",
            "  inflating: test_form_of_letters/279.jpg  \n",
            "  inflating: test_form_of_letters/280.jpg  \n",
            "  inflating: test_form_of_letters/283.jpg  \n",
            "  inflating: test_form_of_letters/284.jpg  \n",
            "  inflating: test_form_of_letters/285.jpg  \n",
            "  inflating: test_form_of_letters/289.jpg  \n",
            "  inflating: test_form_of_letters/290.jpg  \n",
            "  inflating: test_form_of_letters/291.jpg  \n",
            "  inflating: test_form_of_letters/292.jpg  \n",
            "  inflating: test_form_of_letters/293.jpg  \n",
            "  inflating: test_form_of_letters/294.jpg  \n",
            "  inflating: test_form_of_letters/295.jpg  \n",
            "  inflating: test_form_of_letters/296.jpg  \n",
            "  inflating: test_form_of_letters/297.jpg  \n",
            "  inflating: test_form_of_letters/298.jpg  \n",
            "  inflating: test_form_of_letters/299.jpg  \n",
            "  inflating: test_form_of_letters/300.jpg  \n",
            "  inflating: test_form_of_letters/303.jpg  \n"
          ],
          "name": "stdout"
        }
      ]
    },
    {
      "cell_type": "code",
      "metadata": {
        "id": "P5mAWDfemeHT",
        "colab_type": "code",
        "colab": {}
      },
      "source": [
        "test = pd.read_csv('test_form_of_letters.csv')"
      ],
      "execution_count": 0,
      "outputs": []
    },
    {
      "cell_type": "code",
      "metadata": {
        "id": "P36YGoDimpHC",
        "colab_type": "code",
        "outputId": "df5d8f4d-9221-4622-c362-3d3c4af7fa97",
        "colab": {
          "base_uri": "https://localhost:8080/",
          "height": 194
        }
      },
      "source": [
        "test.head()"
      ],
      "execution_count": 9,
      "outputs": [
        {
          "output_type": "execute_result",
          "data": {
            "text/html": [
              "<div>\n",
              "<style scoped>\n",
              "    .dataframe tbody tr th:only-of-type {\n",
              "        vertical-align: middle;\n",
              "    }\n",
              "\n",
              "    .dataframe tbody tr th {\n",
              "        vertical-align: top;\n",
              "    }\n",
              "\n",
              "    .dataframe thead th {\n",
              "        text-align: right;\n",
              "    }\n",
              "</style>\n",
              "<table border=\"1\" class=\"dataframe\">\n",
              "  <thead>\n",
              "    <tr style=\"text-align: right;\">\n",
              "      <th></th>\n",
              "      <th>img</th>\n",
              "      <th>form</th>\n",
              "    </tr>\n",
              "  </thead>\n",
              "  <tbody>\n",
              "    <tr>\n",
              "      <th>0</th>\n",
              "      <td>100.jpg</td>\n",
              "      <td>1</td>\n",
              "    </tr>\n",
              "    <tr>\n",
              "      <th>1</th>\n",
              "      <td>101.jpg</td>\n",
              "      <td>1</td>\n",
              "    </tr>\n",
              "    <tr>\n",
              "      <th>2</th>\n",
              "      <td>102.jpg</td>\n",
              "      <td>1</td>\n",
              "    </tr>\n",
              "    <tr>\n",
              "      <th>3</th>\n",
              "      <td>103.jpg</td>\n",
              "      <td>1</td>\n",
              "    </tr>\n",
              "    <tr>\n",
              "      <th>4</th>\n",
              "      <td>104.jpg</td>\n",
              "      <td>1</td>\n",
              "    </tr>\n",
              "  </tbody>\n",
              "</table>\n",
              "</div>"
            ],
            "text/plain": [
              "       img  form\n",
              "0  100.jpg     1\n",
              "1  101.jpg     1\n",
              "2  102.jpg     1\n",
              "3  103.jpg     1\n",
              "4  104.jpg     1"
            ]
          },
          "metadata": {
            "tags": []
          },
          "execution_count": 9
        }
      ]
    },
    {
      "cell_type": "code",
      "metadata": {
        "id": "IdeiOtc5mo5s",
        "colab_type": "code",
        "outputId": "2705571e-1c38-4292-9200-984f7d990ab3",
        "colab": {
          "base_uri": "https://localhost:8080/",
          "height": 35
        }
      },
      "source": [
        "test.shape"
      ],
      "execution_count": 10,
      "outputs": [
        {
          "output_type": "execute_result",
          "data": {
            "text/plain": [
              "(158, 2)"
            ]
          },
          "metadata": {
            "tags": []
          },
          "execution_count": 10
        }
      ]
    },
    {
      "cell_type": "code",
      "metadata": {
        "id": "WKcpB630CnYx",
        "colab_type": "code",
        "colab": {
          "base_uri": "https://localhost:8080/",
          "height": 35
        },
        "outputId": "e234527d-a654-458e-b928-f355e5f27baa"
      },
      "source": [
        "test[test.form == 0].shape, test[test.form == 1].shape, test[test.form == 2].shape #кол-во классов"
      ],
      "execution_count": 11,
      "outputs": [
        {
          "output_type": "execute_result",
          "data": {
            "text/plain": [
              "((49, 2), (57, 2), (52, 2))"
            ]
          },
          "metadata": {
            "tags": []
          },
          "execution_count": 11
        }
      ]
    },
    {
      "cell_type": "code",
      "metadata": {
        "id": "p68bMCRSmrtp",
        "colab_type": "code",
        "colab": {}
      },
      "source": [
        ""
      ],
      "execution_count": 0,
      "outputs": []
    },
    {
      "cell_type": "code",
      "metadata": {
        "id": "on0MH7iU0C66",
        "colab_type": "code",
        "colab": {}
      },
      "source": [
        "hei = 128\n",
        "wei = 64"
      ],
      "execution_count": 0,
      "outputs": []
    },
    {
      "cell_type": "code",
      "metadata": {
        "id": "EdkWZhfRzWns",
        "colab_type": "code",
        "colab": {}
      },
      "source": [
        ""
      ],
      "execution_count": 0,
      "outputs": []
    },
    {
      "cell_type": "markdown",
      "metadata": {
        "id": "pRefGocmuySq",
        "colab_type": "text"
      },
      "source": [
        "**Добавление данных в x_test, y_test**"
      ]
    },
    {
      "cell_type": "code",
      "metadata": {
        "id": "GHggScLDnMbT",
        "colab_type": "code",
        "outputId": "b5f1337b-b254-482b-a9fa-5933d1f81c7e",
        "colab": {
          "base_uri": "https://localhost:8080/",
          "height": 35
        }
      },
      "source": [
        "x_test = []\n",
        "y_test = []\n",
        "\n",
        "for i in range (test.shape[0]):\n",
        "    x,y = test.values[i]\n",
        "    x = cv2.imread('test_form_of_letters/{}'.format(x))\n",
        "    #x = strong_aug(p=0.2)\n",
        "    x = cv2.resize(x, (hei, wei))\n",
        "    x_test += [x]\n",
        "    y_test += [y]\n",
        "    \n",
        "x_test = np.array(x_test) / 255.\n",
        "y_test = np.array(y_test)\n",
        "\n",
        "x_test.shape"
      ],
      "execution_count": 13,
      "outputs": [
        {
          "output_type": "execute_result",
          "data": {
            "text/plain": [
              "(158, 64, 128, 3)"
            ]
          },
          "metadata": {
            "tags": []
          },
          "execution_count": 13
        }
      ]
    },
    {
      "cell_type": "markdown",
      "metadata": {
        "id": "HBW8S56avHPF",
        "colab_type": "text"
      },
      "source": [
        "**Генератор батчей для train**"
      ]
    },
    {
      "cell_type": "code",
      "metadata": {
        "id": "AkGL7tCIqv1R",
        "colab_type": "code",
        "colab": {}
      },
      "source": [
        "#Объявим генератор\n",
        "def keras_generator(gen_df, batch_size):#генератор картинок в батч (создание батча)\n",
        "    while True:\n",
        "        x_train = []\n",
        "        y_train = []\n",
        "        \n",
        "\n",
        "        for i in range (batch_size):\n",
        "\n",
        "            x,y = train.sample(1).values[0]\n",
        "            x = cv2.imread('train_form_of_letters/{}'.format(x))\n",
        "            #x = strong_aug(p=0.2)\n",
        "            x = cv2.resize(x, (hei, wei))\n",
        "            x_train += [x]\n",
        "            y_train += [y]\n",
        "\n",
        "        #y_train = keras.utils.to_categorical(y_train,10)\n",
        "        x_train = np.array(x_train) / 255.\n",
        "        y_train = np.array(y_train)\n",
        "\n",
        "        yield x_train, y_train"
      ],
      "execution_count": 0,
      "outputs": []
    },
    {
      "cell_type": "code",
      "metadata": {
        "id": "9qrzbnwbodeP",
        "colab_type": "code",
        "colab": {}
      },
      "source": [
        ""
      ],
      "execution_count": 0,
      "outputs": []
    },
    {
      "cell_type": "code",
      "metadata": {
        "id": "qkyPIJknoc3U",
        "colab_type": "code",
        "colab": {}
      },
      "source": [
        ""
      ],
      "execution_count": 0,
      "outputs": []
    },
    {
      "cell_type": "markdown",
      "metadata": {
        "id": "XfGtWHD3vRdz",
        "colab_type": "text"
      },
      "source": [
        "**Архитектура сети**"
      ]
    },
    {
      "cell_type": "code",
      "metadata": {
        "id": "Mlpy7HN-8ytm",
        "colab_type": "code",
        "outputId": "90f8f17b-09bf-4316-ae32-d72e1b29e30e",
        "colab": {
          "base_uri": "https://localhost:8080/",
          "height": 517
        }
      },
      "source": [
        "inp = Input(shape=(wei, hei, 3))\n",
        "\n",
        "conv_1_1 = Conv2D(32, (3, 3), padding='same')(inp)\n",
        "conv_1_1 = Activation('relu')(conv_1_1)\n",
        "\n",
        "conv_1_2 = Conv2D(32, (3, 3), padding='same')(conv_1_1)\n",
        "conv_1_2 = Activation('relu')(conv_1_2)\n",
        "\n",
        "pool_1 = MaxPooling2D(2)(conv_1_2)\n",
        "pool_1 = Dropout(0.2)(pool_1)\n",
        "pool_1 = BatchNormalization()(pool_1)\n",
        "\n",
        "conv_2_1 = Conv2D(64, (3, 3), padding='same')(pool_1)\n",
        "conv_2_1 = Activation('relu')(conv_2_1)\n",
        "\n",
        "conv_2_2 = Conv2D(64, (3, 3), padding='same')(conv_2_1)\n",
        "conv_2_2 = Activation('relu')(conv_2_2)\n",
        "\n",
        "pool_2 = MaxPooling2D(2)(conv_2_2)\n",
        "pool_2 = Dropout(0.2)(pool_2)\n",
        "pool_2 = BatchNormalization()(pool_2)\n",
        "\n",
        "\n",
        "conv_3_1 = Conv2D(128, (3, 3), padding='same')(pool_2)\n",
        "conv_3_1 = Activation('relu')(conv_3_1)\n",
        "\n",
        "conv_3_2 = Conv2D(128, (3, 3), padding='same')(conv_3_1)\n",
        "conv_3_2 = Activation('relu')(conv_3_2) #conv_3_2.shape = (64,64,128)\n",
        "\n",
        "pool_3 = MaxPooling2D(2)(conv_3_2) #pool_3.shape = (32,32,128)\n",
        "pool_3 = Dropout(0.2)(pool_3)\n",
        "pool_3 = BatchNormalization()(pool_3)\n",
        "\n",
        "\n",
        "conv_4_1 = Conv2D(256, (3, 3), padding='same')(pool_3)\n",
        "conv_4_1 = Activation('relu')(conv_4_1)\n",
        "\n",
        "conv_4_2 = Conv2D(256, (3, 3), padding='same')(conv_4_1)\n",
        "conv_4_2 = Activation('relu')(conv_4_2) #conv_4_2.shape = (32,32,256)\n",
        "\n",
        "pool_4 = MaxPooling2D(2)(conv_4_2) #pool_4.shape = (16,16,256)\n",
        "pool_4 = Dropout(0.2)(pool_4)\n",
        "pool_4 = BatchNormalization()(pool_4)\n",
        "\n",
        "\n",
        "\n",
        "flat = Flatten()(pool_4)\n",
        "layer1 = Dense(128, activation='relu')(flat)\n",
        "layer1 = Dropout(0.2)(layer1)\n",
        "layer1 = BatchNormalization()(layer1)\n",
        "\n",
        "layer2 = Dense(256, activation='relu')(layer1)\n",
        "layer2 = Dropout(0.2)(layer2)\n",
        "layer2 = BatchNormalization()(layer2)\n",
        "\n",
        "layer3 = Dense(512, activation='relu')(layer2)\n",
        "layer3 = Dropout(0.2)(layer3)\n",
        "layer3 = BatchNormalization()(layer3)\n",
        "\n",
        "layer4 = Dense(64, activation='relu')(layer3)\n",
        "layer4 = Dropout(0.2)(layer4)\n",
        "layer4 = BatchNormalization()(layer4)\n",
        "\n",
        "layer_out = Dense(3, activation='softmax')(layer4)\n",
        "\n",
        "model = Model(inputs=inp, outputs=layer_out)"
      ],
      "execution_count": 0,
      "outputs": [
        {
          "output_type": "stream",
          "text": [
            "WARNING:tensorflow:From /usr/local/lib/python3.6/dist-packages/keras/backend/tensorflow_backend.py:66: The name tf.get_default_graph is deprecated. Please use tf.compat.v1.get_default_graph instead.\n",
            "\n",
            "WARNING:tensorflow:From /usr/local/lib/python3.6/dist-packages/keras/backend/tensorflow_backend.py:541: The name tf.placeholder is deprecated. Please use tf.compat.v1.placeholder instead.\n",
            "\n",
            "WARNING:tensorflow:From /usr/local/lib/python3.6/dist-packages/keras/backend/tensorflow_backend.py:4432: The name tf.random_uniform is deprecated. Please use tf.random.uniform instead.\n",
            "\n",
            "WARNING:tensorflow:From /usr/local/lib/python3.6/dist-packages/keras/backend/tensorflow_backend.py:4267: The name tf.nn.max_pool is deprecated. Please use tf.nn.max_pool2d instead.\n",
            "\n",
            "WARNING:tensorflow:From /usr/local/lib/python3.6/dist-packages/keras/backend/tensorflow_backend.py:148: The name tf.placeholder_with_default is deprecated. Please use tf.compat.v1.placeholder_with_default instead.\n",
            "\n",
            "WARNING:tensorflow:From /usr/local/lib/python3.6/dist-packages/keras/backend/tensorflow_backend.py:3733: calling dropout (from tensorflow.python.ops.nn_ops) with keep_prob is deprecated and will be removed in a future version.\n",
            "Instructions for updating:\n",
            "Please use `rate` instead of `keep_prob`. Rate should be set to `rate = 1 - keep_prob`.\n",
            "WARNING:tensorflow:From /usr/local/lib/python3.6/dist-packages/keras/backend/tensorflow_backend.py:190: The name tf.get_default_session is deprecated. Please use tf.compat.v1.get_default_session instead.\n",
            "\n",
            "WARNING:tensorflow:From /usr/local/lib/python3.6/dist-packages/keras/backend/tensorflow_backend.py:197: The name tf.ConfigProto is deprecated. Please use tf.compat.v1.ConfigProto instead.\n",
            "\n",
            "WARNING:tensorflow:From /usr/local/lib/python3.6/dist-packages/keras/backend/tensorflow_backend.py:203: The name tf.Session is deprecated. Please use tf.compat.v1.Session instead.\n",
            "\n",
            "WARNING:tensorflow:From /usr/local/lib/python3.6/dist-packages/keras/backend/tensorflow_backend.py:207: The name tf.global_variables is deprecated. Please use tf.compat.v1.global_variables instead.\n",
            "\n",
            "WARNING:tensorflow:From /usr/local/lib/python3.6/dist-packages/keras/backend/tensorflow_backend.py:216: The name tf.is_variable_initialized is deprecated. Please use tf.compat.v1.is_variable_initialized instead.\n",
            "\n",
            "WARNING:tensorflow:From /usr/local/lib/python3.6/dist-packages/keras/backend/tensorflow_backend.py:223: The name tf.variables_initializer is deprecated. Please use tf.compat.v1.variables_initializer instead.\n",
            "\n",
            "WARNING:tensorflow:From /usr/local/lib/python3.6/dist-packages/keras/backend/tensorflow_backend.py:2041: The name tf.nn.fused_batch_norm is deprecated. Please use tf.compat.v1.nn.fused_batch_norm instead.\n",
            "\n"
          ],
          "name": "stdout"
        }
      ]
    },
    {
      "cell_type": "code",
      "metadata": {
        "id": "C1mKBwgOUBC2",
        "colab_type": "code",
        "colab": {}
      },
      "source": [
        "#model.summary()"
      ],
      "execution_count": 0,
      "outputs": []
    },
    {
      "cell_type": "code",
      "metadata": {
        "id": "fllYpZYVnkUt",
        "colab_type": "code",
        "outputId": "567be58b-e140-4f50-8359-6ce11443ccdf",
        "colab": {
          "base_uri": "https://localhost:8080/",
          "height": 108
        }
      },
      "source": [
        "model.compile(optimizer='adam',\n",
        "              loss='sparse_categorical_crossentropy',\n",
        "              metrics=['accuracy'])"
      ],
      "execution_count": 0,
      "outputs": [
        {
          "output_type": "stream",
          "text": [
            "WARNING:tensorflow:From /usr/local/lib/python3.6/dist-packages/keras/optimizers.py:793: The name tf.train.Optimizer is deprecated. Please use tf.compat.v1.train.Optimizer instead.\n",
            "\n",
            "WARNING:tensorflow:From /usr/local/lib/python3.6/dist-packages/keras/backend/tensorflow_backend.py:3622: The name tf.log is deprecated. Please use tf.math.log instead.\n",
            "\n"
          ],
          "name": "stdout"
        }
      ]
    },
    {
      "cell_type": "markdown",
      "metadata": {
        "id": "tlVmiW6kvtL7",
        "colab_type": "text"
      },
      "source": [
        "**Обучение через генератор, т.е. с батчами**"
      ]
    },
    {
      "cell_type": "code",
      "metadata": {
        "id": "BA783o_s_W7V",
        "colab_type": "code",
        "outputId": "cb79c1ae-58e5-46df-b171-19643acc0240",
        "colab": {
          "base_uri": "https://localhost:8080/",
          "height": 601
        }
      },
      "source": [
        "batch_size = 32\n",
        "model.fit_generator(keras_generator(train, batch_size),\n",
        "              steps_per_epoch=100,#каждую эпоху - 100 батчей\n",
        "              epochs=30,\n",
        "              verbose=1,#будем выводить результат\n",
        "              shuffle=True)"
      ],
      "execution_count": 0,
      "outputs": [
        {
          "output_type": "stream",
          "text": [
            "Epoch 1/30\n",
            "100/100 [==============================] - 9s 92ms/step - loss: 0.0680 - acc: 0.9816\n",
            "Epoch 2/30\n",
            "100/100 [==============================] - 9s 91ms/step - loss: 0.0551 - acc: 0.9806\n",
            "Epoch 3/30\n",
            "100/100 [==============================] - 9s 91ms/step - loss: 0.0737 - acc: 0.9762\n",
            "Epoch 4/30\n",
            "100/100 [==============================] - 9s 91ms/step - loss: 0.0364 - acc: 0.9903\n",
            "Epoch 5/30\n",
            "100/100 [==============================] - 9s 91ms/step - loss: 0.0160 - acc: 0.9966\n",
            "Epoch 6/30\n",
            "100/100 [==============================] - 9s 91ms/step - loss: 0.0194 - acc: 0.9941\n",
            "Epoch 7/30\n",
            "  9/100 [=>............................] - ETA: 8s - loss: 0.0439 - acc: 0.9792"
          ],
          "name": "stdout"
        },
        {
          "output_type": "error",
          "ename": "KeyboardInterrupt",
          "evalue": "ignored",
          "traceback": [
            "\u001b[0;31m---------------------------------------------------------------------------\u001b[0m",
            "\u001b[0;31mKeyboardInterrupt\u001b[0m                         Traceback (most recent call last)",
            "\u001b[0;32m<ipython-input-27-74d8793ec4a4>\u001b[0m in \u001b[0;36m<module>\u001b[0;34m()\u001b[0m\n\u001b[1;32m      4\u001b[0m               \u001b[0mepochs\u001b[0m\u001b[0;34m=\u001b[0m\u001b[0;36m30\u001b[0m\u001b[0;34m,\u001b[0m\u001b[0;34m\u001b[0m\u001b[0;34m\u001b[0m\u001b[0m\n\u001b[1;32m      5\u001b[0m               \u001b[0mverbose\u001b[0m\u001b[0;34m=\u001b[0m\u001b[0;36m1\u001b[0m\u001b[0;34m,\u001b[0m\u001b[0;31m#будем выводить результат\u001b[0m\u001b[0;34m\u001b[0m\u001b[0;34m\u001b[0m\u001b[0m\n\u001b[0;32m----> 6\u001b[0;31m               shuffle=True)\n\u001b[0m",
            "\u001b[0;32m/usr/local/lib/python3.6/dist-packages/keras/legacy/interfaces.py\u001b[0m in \u001b[0;36mwrapper\u001b[0;34m(*args, **kwargs)\u001b[0m\n\u001b[1;32m     89\u001b[0m                 warnings.warn('Update your `' + object_name + '` call to the ' +\n\u001b[1;32m     90\u001b[0m                               'Keras 2 API: ' + signature, stacklevel=2)\n\u001b[0;32m---> 91\u001b[0;31m             \u001b[0;32mreturn\u001b[0m \u001b[0mfunc\u001b[0m\u001b[0;34m(\u001b[0m\u001b[0;34m*\u001b[0m\u001b[0margs\u001b[0m\u001b[0;34m,\u001b[0m \u001b[0;34m**\u001b[0m\u001b[0mkwargs\u001b[0m\u001b[0;34m)\u001b[0m\u001b[0;34m\u001b[0m\u001b[0;34m\u001b[0m\u001b[0m\n\u001b[0m\u001b[1;32m     92\u001b[0m         \u001b[0mwrapper\u001b[0m\u001b[0;34m.\u001b[0m\u001b[0m_original_function\u001b[0m \u001b[0;34m=\u001b[0m \u001b[0mfunc\u001b[0m\u001b[0;34m\u001b[0m\u001b[0;34m\u001b[0m\u001b[0m\n\u001b[1;32m     93\u001b[0m         \u001b[0;32mreturn\u001b[0m \u001b[0mwrapper\u001b[0m\u001b[0;34m\u001b[0m\u001b[0;34m\u001b[0m\u001b[0m\n",
            "\u001b[0;32m/usr/local/lib/python3.6/dist-packages/keras/engine/training.py\u001b[0m in \u001b[0;36mfit_generator\u001b[0;34m(self, generator, steps_per_epoch, epochs, verbose, callbacks, validation_data, validation_steps, validation_freq, class_weight, max_queue_size, workers, use_multiprocessing, shuffle, initial_epoch)\u001b[0m\n\u001b[1;32m   1656\u001b[0m             \u001b[0muse_multiprocessing\u001b[0m\u001b[0;34m=\u001b[0m\u001b[0muse_multiprocessing\u001b[0m\u001b[0;34m,\u001b[0m\u001b[0;34m\u001b[0m\u001b[0;34m\u001b[0m\u001b[0m\n\u001b[1;32m   1657\u001b[0m             \u001b[0mshuffle\u001b[0m\u001b[0;34m=\u001b[0m\u001b[0mshuffle\u001b[0m\u001b[0;34m,\u001b[0m\u001b[0;34m\u001b[0m\u001b[0;34m\u001b[0m\u001b[0m\n\u001b[0;32m-> 1658\u001b[0;31m             initial_epoch=initial_epoch)\n\u001b[0m\u001b[1;32m   1659\u001b[0m \u001b[0;34m\u001b[0m\u001b[0m\n\u001b[1;32m   1660\u001b[0m     \u001b[0;34m@\u001b[0m\u001b[0minterfaces\u001b[0m\u001b[0;34m.\u001b[0m\u001b[0mlegacy_generator_methods_support\u001b[0m\u001b[0;34m\u001b[0m\u001b[0;34m\u001b[0m\u001b[0m\n",
            "\u001b[0;32m/usr/local/lib/python3.6/dist-packages/keras/engine/training_generator.py\u001b[0m in \u001b[0;36mfit_generator\u001b[0;34m(model, generator, steps_per_epoch, epochs, verbose, callbacks, validation_data, validation_steps, validation_freq, class_weight, max_queue_size, workers, use_multiprocessing, shuffle, initial_epoch)\u001b[0m\n\u001b[1;32m    213\u001b[0m                 outs = model.train_on_batch(x, y,\n\u001b[1;32m    214\u001b[0m                                             \u001b[0msample_weight\u001b[0m\u001b[0;34m=\u001b[0m\u001b[0msample_weight\u001b[0m\u001b[0;34m,\u001b[0m\u001b[0;34m\u001b[0m\u001b[0;34m\u001b[0m\u001b[0m\n\u001b[0;32m--> 215\u001b[0;31m                                             class_weight=class_weight)\n\u001b[0m\u001b[1;32m    216\u001b[0m \u001b[0;34m\u001b[0m\u001b[0m\n\u001b[1;32m    217\u001b[0m                 \u001b[0mouts\u001b[0m \u001b[0;34m=\u001b[0m \u001b[0mto_list\u001b[0m\u001b[0;34m(\u001b[0m\u001b[0mouts\u001b[0m\u001b[0;34m)\u001b[0m\u001b[0;34m\u001b[0m\u001b[0;34m\u001b[0m\u001b[0m\n",
            "\u001b[0;32m/usr/local/lib/python3.6/dist-packages/keras/engine/training.py\u001b[0m in \u001b[0;36mtrain_on_batch\u001b[0;34m(self, x, y, sample_weight, class_weight)\u001b[0m\n\u001b[1;32m   1447\u001b[0m             \u001b[0mins\u001b[0m \u001b[0;34m=\u001b[0m \u001b[0mx\u001b[0m \u001b[0;34m+\u001b[0m \u001b[0my\u001b[0m \u001b[0;34m+\u001b[0m \u001b[0msample_weights\u001b[0m\u001b[0;34m\u001b[0m\u001b[0;34m\u001b[0m\u001b[0m\n\u001b[1;32m   1448\u001b[0m         \u001b[0mself\u001b[0m\u001b[0;34m.\u001b[0m\u001b[0m_make_train_function\u001b[0m\u001b[0;34m(\u001b[0m\u001b[0;34m)\u001b[0m\u001b[0;34m\u001b[0m\u001b[0;34m\u001b[0m\u001b[0m\n\u001b[0;32m-> 1449\u001b[0;31m         \u001b[0moutputs\u001b[0m \u001b[0;34m=\u001b[0m \u001b[0mself\u001b[0m\u001b[0;34m.\u001b[0m\u001b[0mtrain_function\u001b[0m\u001b[0;34m(\u001b[0m\u001b[0mins\u001b[0m\u001b[0;34m)\u001b[0m\u001b[0;34m\u001b[0m\u001b[0;34m\u001b[0m\u001b[0m\n\u001b[0m\u001b[1;32m   1450\u001b[0m         \u001b[0;32mreturn\u001b[0m \u001b[0munpack_singleton\u001b[0m\u001b[0;34m(\u001b[0m\u001b[0moutputs\u001b[0m\u001b[0;34m)\u001b[0m\u001b[0;34m\u001b[0m\u001b[0;34m\u001b[0m\u001b[0m\n\u001b[1;32m   1451\u001b[0m \u001b[0;34m\u001b[0m\u001b[0m\n",
            "\u001b[0;32m/usr/local/lib/python3.6/dist-packages/keras/backend/tensorflow_backend.py\u001b[0m in \u001b[0;36m__call__\u001b[0;34m(self, inputs)\u001b[0m\n\u001b[1;32m   2977\u001b[0m                     \u001b[0;32mreturn\u001b[0m \u001b[0mself\u001b[0m\u001b[0;34m.\u001b[0m\u001b[0m_legacy_call\u001b[0m\u001b[0;34m(\u001b[0m\u001b[0minputs\u001b[0m\u001b[0;34m)\u001b[0m\u001b[0;34m\u001b[0m\u001b[0;34m\u001b[0m\u001b[0m\n\u001b[1;32m   2978\u001b[0m \u001b[0;34m\u001b[0m\u001b[0m\n\u001b[0;32m-> 2979\u001b[0;31m             \u001b[0;32mreturn\u001b[0m \u001b[0mself\u001b[0m\u001b[0;34m.\u001b[0m\u001b[0m_call\u001b[0m\u001b[0;34m(\u001b[0m\u001b[0minputs\u001b[0m\u001b[0;34m)\u001b[0m\u001b[0;34m\u001b[0m\u001b[0;34m\u001b[0m\u001b[0m\n\u001b[0m\u001b[1;32m   2980\u001b[0m         \u001b[0;32melse\u001b[0m\u001b[0;34m:\u001b[0m\u001b[0;34m\u001b[0m\u001b[0;34m\u001b[0m\u001b[0m\n\u001b[1;32m   2981\u001b[0m             \u001b[0;32mif\u001b[0m \u001b[0mpy_any\u001b[0m\u001b[0;34m(\u001b[0m\u001b[0mis_tensor\u001b[0m\u001b[0;34m(\u001b[0m\u001b[0mx\u001b[0m\u001b[0;34m)\u001b[0m \u001b[0;32mfor\u001b[0m \u001b[0mx\u001b[0m \u001b[0;32min\u001b[0m \u001b[0minputs\u001b[0m\u001b[0;34m)\u001b[0m\u001b[0;34m:\u001b[0m\u001b[0;34m\u001b[0m\u001b[0;34m\u001b[0m\u001b[0m\n",
            "\u001b[0;32m/usr/local/lib/python3.6/dist-packages/keras/backend/tensorflow_backend.py\u001b[0m in \u001b[0;36m_call\u001b[0;34m(self, inputs)\u001b[0m\n\u001b[1;32m   2935\u001b[0m             \u001b[0mfetched\u001b[0m \u001b[0;34m=\u001b[0m \u001b[0mself\u001b[0m\u001b[0;34m.\u001b[0m\u001b[0m_callable_fn\u001b[0m\u001b[0;34m(\u001b[0m\u001b[0;34m*\u001b[0m\u001b[0marray_vals\u001b[0m\u001b[0;34m,\u001b[0m \u001b[0mrun_metadata\u001b[0m\u001b[0;34m=\u001b[0m\u001b[0mself\u001b[0m\u001b[0;34m.\u001b[0m\u001b[0mrun_metadata\u001b[0m\u001b[0;34m)\u001b[0m\u001b[0;34m\u001b[0m\u001b[0;34m\u001b[0m\u001b[0m\n\u001b[1;32m   2936\u001b[0m         \u001b[0;32melse\u001b[0m\u001b[0;34m:\u001b[0m\u001b[0;34m\u001b[0m\u001b[0;34m\u001b[0m\u001b[0m\n\u001b[0;32m-> 2937\u001b[0;31m             \u001b[0mfetched\u001b[0m \u001b[0;34m=\u001b[0m \u001b[0mself\u001b[0m\u001b[0;34m.\u001b[0m\u001b[0m_callable_fn\u001b[0m\u001b[0;34m(\u001b[0m\u001b[0;34m*\u001b[0m\u001b[0marray_vals\u001b[0m\u001b[0;34m)\u001b[0m\u001b[0;34m\u001b[0m\u001b[0;34m\u001b[0m\u001b[0m\n\u001b[0m\u001b[1;32m   2938\u001b[0m         \u001b[0;32mreturn\u001b[0m \u001b[0mfetched\u001b[0m\u001b[0;34m[\u001b[0m\u001b[0;34m:\u001b[0m\u001b[0mlen\u001b[0m\u001b[0;34m(\u001b[0m\u001b[0mself\u001b[0m\u001b[0;34m.\u001b[0m\u001b[0moutputs\u001b[0m\u001b[0;34m)\u001b[0m\u001b[0;34m]\u001b[0m\u001b[0;34m\u001b[0m\u001b[0;34m\u001b[0m\u001b[0m\n\u001b[1;32m   2939\u001b[0m \u001b[0;34m\u001b[0m\u001b[0m\n",
            "\u001b[0;32m/usr/local/lib/python3.6/dist-packages/tensorflow_core/python/client/session.py\u001b[0m in \u001b[0;36m__call__\u001b[0;34m(self, *args, **kwargs)\u001b[0m\n\u001b[1;32m   1470\u001b[0m         ret = tf_session.TF_SessionRunCallable(self._session._session,\n\u001b[1;32m   1471\u001b[0m                                                \u001b[0mself\u001b[0m\u001b[0;34m.\u001b[0m\u001b[0m_handle\u001b[0m\u001b[0;34m,\u001b[0m \u001b[0margs\u001b[0m\u001b[0;34m,\u001b[0m\u001b[0;34m\u001b[0m\u001b[0;34m\u001b[0m\u001b[0m\n\u001b[0;32m-> 1472\u001b[0;31m                                                run_metadata_ptr)\n\u001b[0m\u001b[1;32m   1473\u001b[0m         \u001b[0;32mif\u001b[0m \u001b[0mrun_metadata\u001b[0m\u001b[0;34m:\u001b[0m\u001b[0;34m\u001b[0m\u001b[0;34m\u001b[0m\u001b[0m\n\u001b[1;32m   1474\u001b[0m           \u001b[0mproto_data\u001b[0m \u001b[0;34m=\u001b[0m \u001b[0mtf_session\u001b[0m\u001b[0;34m.\u001b[0m\u001b[0mTF_GetBuffer\u001b[0m\u001b[0;34m(\u001b[0m\u001b[0mrun_metadata_ptr\u001b[0m\u001b[0;34m)\u001b[0m\u001b[0;34m\u001b[0m\u001b[0;34m\u001b[0m\u001b[0m\n",
            "\u001b[0;31mKeyboardInterrupt\u001b[0m: "
          ]
        }
      ]
    },
    {
      "cell_type": "code",
      "metadata": {
        "id": "TPoRpiblwAf_",
        "colab_type": "code",
        "colab": {}
      },
      "source": [
        ""
      ],
      "execution_count": 0,
      "outputs": []
    },
    {
      "cell_type": "code",
      "metadata": {
        "id": "n3FtrIUQws-i",
        "colab_type": "code",
        "colab": {}
      },
      "source": [
        "for x_train,y_train in keras_generator(train,train.shape[0]):\n",
        "    break"
      ],
      "execution_count": 0,
      "outputs": []
    },
    {
      "cell_type": "code",
      "metadata": {
        "id": "Cawd69pxEWsy",
        "colab_type": "code",
        "outputId": "eee9d155-0f47-40a3-f59f-036aeb54e170",
        "colab": {
          "base_uri": "https://localhost:8080/",
          "height": 35
        }
      },
      "source": [
        "x_train.shape"
      ],
      "execution_count": 16,
      "outputs": [
        {
          "output_type": "execute_result",
          "data": {
            "text/plain": [
              "(817, 64, 128, 3)"
            ]
          },
          "metadata": {
            "tags": []
          },
          "execution_count": 16
        }
      ]
    },
    {
      "cell_type": "code",
      "metadata": {
        "id": "SJ76crcIADOh",
        "colab_type": "code",
        "outputId": "0fb2265b-8f08-45fa-8860-e6bdd50437ee",
        "colab": {
          "base_uri": "https://localhost:8080/",
          "height": 106
        }
      },
      "source": [
        "train_loss, train_acc = model.evaluate(x_train, y_train)\n",
        "\n",
        "print('\\nТочность на обучающих данных:', train_acc)\n",
        "print('\\nОшибка на обучающих данных:', train_loss)"
      ],
      "execution_count": 18,
      "outputs": [
        {
          "output_type": "stream",
          "text": [
            "817/817 [==============================] - 7s 9ms/sample - loss: 0.0298 - acc: 0.9853\n",
            "\n",
            "Точность на обучающих данных: 0.9853121\n",
            "\n",
            "Ошибка на обучающих данных: 0.02982841930129865\n"
          ],
          "name": "stdout"
        }
      ]
    },
    {
      "cell_type": "code",
      "metadata": {
        "id": "ibGWZlnxoYgc",
        "colab_type": "code",
        "outputId": "7ffd7aaf-361a-406e-b256-52af45320c82",
        "colab": {
          "base_uri": "https://localhost:8080/",
          "height": 106
        }
      },
      "source": [
        "test_loss, test_acc = model.evaluate(x_test, y_test)\n",
        "\n",
        "print('\\nТочность на проверочных данных:', test_acc)\n",
        "print('\\nОшибка на проверочных данных:', test_loss)"
      ],
      "execution_count": 19,
      "outputs": [
        {
          "output_type": "stream",
          "text": [
            "158/158 [==============================] - 0s 3ms/sample - loss: 1.8276 - acc: 0.6203\n",
            "\n",
            "Точность на проверочных данных: 0.62025315\n",
            "\n",
            "Ошибка на проверочных данных: 1.8276210072674328\n"
          ],
          "name": "stdout"
        }
      ]
    },
    {
      "cell_type": "code",
      "metadata": {
        "id": "8c_q05VDvf0i",
        "colab_type": "code",
        "colab": {}
      },
      "source": [
        ""
      ],
      "execution_count": 0,
      "outputs": []
    },
    {
      "cell_type": "code",
      "metadata": {
        "id": "QIAJTBtKvfqw",
        "colab_type": "code",
        "colab": {
          "base_uri": "https://localhost:8080/",
          "height": 90
        },
        "outputId": "80395382-4e20-4f17-f668-8c71933bc09a"
      },
      "source": [
        "#model.save('neural_network_form_of_letters.h5') #сохранение нейросети в файл\n",
        "\n",
        "from tensorflow.keras.models import load_model\n",
        "model = load_model('!!!62%!!!   neural_network_form_of_letters.h5') #загрузка нейросети из файла\n",
        "\n",
        "#pred = model.predict(x_test) #предсказание"
      ],
      "execution_count": 17,
      "outputs": [
        {
          "output_type": "stream",
          "text": [
            "WARNING:tensorflow:From /usr/local/lib/python3.6/dist-packages/tensorflow_core/python/ops/resource_variable_ops.py:1630: calling BaseResourceVariable.__init__ (from tensorflow.python.ops.resource_variable_ops) with constraint is deprecated and will be removed in a future version.\n",
            "Instructions for updating:\n",
            "If using Keras pass *_constraint arguments to layers.\n"
          ],
          "name": "stdout"
        }
      ]
    },
    {
      "cell_type": "code",
      "metadata": {
        "id": "uhrod1Mtvfib",
        "colab_type": "code",
        "colab": {}
      },
      "source": [
        ""
      ],
      "execution_count": 0,
      "outputs": []
    },
    {
      "cell_type": "code",
      "metadata": {
        "id": "NUKgtFrqnlDG",
        "colab_type": "code",
        "colab": {}
      },
      "source": [
        "pred = model.predict(x_test)"
      ],
      "execution_count": 0,
      "outputs": []
    },
    {
      "cell_type": "code",
      "metadata": {
        "id": "2qkiZMTZAiz7",
        "colab_type": "code",
        "outputId": "6d5f9428-d0a8-4610-c60d-81bf9bf20c6c",
        "colab": {
          "base_uri": "https://localhost:8080/",
          "height": 35
        }
      },
      "source": [
        "pred.shape"
      ],
      "execution_count": 21,
      "outputs": [
        {
          "output_type": "execute_result",
          "data": {
            "text/plain": [
              "(158, 3)"
            ]
          },
          "metadata": {
            "tags": []
          },
          "execution_count": 21
        }
      ]
    },
    {
      "cell_type": "code",
      "metadata": {
        "id": "Ra6yiEQBAe_i",
        "colab_type": "code",
        "outputId": "ac734db1-06eb-4134-86cb-e01ca9b3b8eb",
        "colab": {
          "base_uri": "https://localhost:8080/",
          "height": 35
        }
      },
      "source": [
        "np.argmax(pred[15]),y_test[15]"
      ],
      "execution_count": 22,
      "outputs": [
        {
          "output_type": "execute_result",
          "data": {
            "text/plain": [
              "(0, 0)"
            ]
          },
          "metadata": {
            "tags": []
          },
          "execution_count": 22
        }
      ]
    },
    {
      "cell_type": "code",
      "metadata": {
        "id": "4ajhUlfYnlLO",
        "colab_type": "code",
        "outputId": "e38802db-e8b5-42d1-ee55-79c49277a9bb",
        "colab": {
          "base_uri": "https://localhost:8080/",
          "height": 258
        }
      },
      "source": [
        "plt.figure()\n",
        "plt.imshow(x_test[15])\n",
        "plt.colorbar()\n",
        "plt.grid(False)\n",
        "plt.show()"
      ],
      "execution_count": 23,
      "outputs": [
        {
          "output_type": "display_data",
          "data": {
            "image/png": "[encoded data removed]",
            "text/plain": [
              "<Figure size 432x288 with 2 Axes>"
            ]
          },
          "metadata": {
            "tags": []
          }
        }
      ]
    },
    {
      "cell_type": "code",
      "metadata": {
        "id": "8RMwn1xL5i9t",
        "colab_type": "code",
        "outputId": "333808ed-d2c5-42e4-d2a3-8e35b45b35fe",
        "colab": {
          "base_uri": "https://localhost:8080/",
          "height": 543
        }
      },
      "source": [
        "plt.figure(figsize=(10,10))\n",
        "for i in range(25):\n",
        "    plt.subplot(5,5,i+1)\n",
        "    plt.xticks([])\n",
        "    plt.yticks([])\n",
        "    plt.grid(False)\n",
        "    plt.imshow(x_test[i], cmap=plt.cm.binary)\n",
        "    plt.xlabel((y_test[i],np.argmax(pred[i])))\n",
        "plt.show()"
      ],
      "execution_count": 24,
      "outputs": [
        {
          "output_type": "display_data",
          "data": {
            "image/png": "[encoded data removed]",
            "text/plain": [
              "<Figure size 720x720 with 25 Axes>"
            ]
          },
          "metadata": {
            "tags": []
          }
        }
      ]
    },
    {
      "cell_type": "code",
      "metadata": {
        "id": "tdmjIGRt5jCN",
        "colab_type": "code",
        "colab": {}
      },
      "source": [
        ""
      ],
      "execution_count": 0,
      "outputs": []
    },
    {
      "cell_type": "code",
      "metadata": {
        "id": "k2y7AITSnlOk",
        "colab_type": "code",
        "outputId": "9233461e-352e-46c2-cfbb-66bd48b9add8",
        "colab": {
          "base_uri": "https://localhost:8080/",
          "height": 220
        }
      },
      "source": [
        "way='142.jpg'\n",
        "#img = Image.open(way)\n",
        "img = cv2.imread(way)\n",
        "plt.imshow(img)\n",
        "img = cv2.resize(img, (hei, wei)) / 255."
      ],
      "execution_count": 28,
      "outputs": [
        {
          "output_type": "display_data",
          "data": {
            "image/png": "[encoded data removed]",
            "text/plain": [
              "<Figure size 432x288 with 1 Axes>"
            ]
          },
          "metadata": {
            "tags": []
          }
        }
      ]
    },
    {
      "cell_type": "code",
      "metadata": {
        "id": "ugINen2bvV0s",
        "colab_type": "code",
        "colab": {}
      },
      "source": [
        "'''def binarize_array(numpy_array):\n",
        "    \"\"\"Binarize a numpy array.\"\"\"\n",
        "    for i in range(len(numpy_array)):\n",
        "        for j in range(len(numpy_array[0])):\n",
        "            if (numpy_array[i][j][0] > 150 and numpy_array[i][j][1] > 150 and numpy_array[i][j][2] > 150\n",
        "                or numpy_array[i][j][0] > 180 or numpy_array[i][j][1] > 180 or numpy_array[i][j][2] > 180):\n",
        "                numpy_array[i][j] = 255\n",
        "            else:\n",
        "                numpy_array[i][j] = 0\n",
        "    return numpy_array\n",
        "img = binarize_array(img)\n",
        "img = cv2.resize(img, (hei, wei))\n",
        "plt.imshow(img)'''"
      ],
      "execution_count": 0,
      "outputs": []
    },
    {
      "cell_type": "code",
      "metadata": {
        "id": "OlKzeKeB4a2q",
        "colab_type": "code",
        "colab": {}
      },
      "source": [
        "pred_img = model.predict(img.reshape(1,wei,hei,3))"
      ],
      "execution_count": 0,
      "outputs": []
    },
    {
      "cell_type": "code",
      "metadata": {
        "id": "M6T35ylI4a5_",
        "colab_type": "code",
        "outputId": "f541048c-873b-4300-f99c-f7b43589ae86",
        "colab": {
          "base_uri": "https://localhost:8080/",
          "height": 35
        }
      },
      "source": [
        "print('Pred_img: ',np.argmax(pred_img))"
      ],
      "execution_count": 30,
      "outputs": [
        {
          "output_type": "stream",
          "text": [
            "Pred_img:  2\n"
          ],
          "name": "stdout"
        }
      ]
    },
    {
      "cell_type": "code",
      "metadata": {
        "id": "NRgDQ1lI5a4U",
        "colab_type": "code",
        "colab": {}
      },
      "source": [
        ""
      ],
      "execution_count": 0,
      "outputs": []
    }
  ]
}