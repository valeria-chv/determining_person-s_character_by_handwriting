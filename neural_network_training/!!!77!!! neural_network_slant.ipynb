{
  "nbformat": 4,
  "nbformat_minor": 0,
  "metadata": {
    "colab": {
      "name": "!!!77!!! neural_network_slant.ipynb",
      "provenance": [],
      "collapsed_sections": []
    },
    "kernelspec": {
      "name": "python3",
      "display_name": "Python 3"
    },
    "accelerator": "GPU"
  },
  "cells": [
    {
      "cell_type": "code",
      "metadata": {
        "id": "ut9la1_umJnt",
        "colab_type": "code",
        "outputId": "20a5339c-920e-477c-ded9-af6059faadb9",
        "colab": {
          "base_uri": "https://localhost:8080/",
          "height": 100
        }
      },
      "source": [
        "from __future__ import absolute_import, division, print_function, unicode_literals\n",
        "\n",
        "# TensorFlow и tf.keras\n",
        "import tensorflow as tf\n",
        "import torch\n",
        "from tensorflow import keras\n",
        "#import keras\n",
        "# Вспомогательные библиотеки\n",
        "import numpy as np\n",
        "import matplotlib.pyplot as plt\n",
        "import pandas as pd\n",
        "import cv2\n",
        "\n",
        "from keras.models import Model\n",
        "from keras.layers import Input, Dense, Concatenate, Flatten, BatchNormalization\n",
        "from keras.layers import Dense, GlobalAveragePooling2D, Dropout, UpSampling2D, Conv2D, MaxPooling2D, Activation\n",
        "\n",
        "print(tf.__version__)"
      ],
      "execution_count": 1,
      "outputs": [
        {
          "output_type": "display_data",
          "data": {
            "text/html": [
              "<p style=\"color: red;\">\n",
              "The default version of TensorFlow in Colab will soon switch to TensorFlow 2.x.<br>\n",
              "We recommend you <a href=\"https://www.tensorflow.org/guide/migrate\" target=\"_blank\">upgrade</a> now \n",
              "or ensure your notebook will continue to use TensorFlow 1.x via the <code>%tensorflow_version 1.x</code> magic:\n",
              "<a href=\"https://colab.research.google.com/notebooks/tensorflow_version.ipynb\" target=\"_blank\">more info</a>.</p>\n"
            ],
            "text/plain": [
              "<IPython.core.display.HTML object>"
            ]
          },
          "metadata": {
            "tags": []
          }
        },
        {
          "output_type": "stream",
          "text": [
            "1.15.0\n"
          ],
          "name": "stdout"
        },
        {
          "output_type": "stream",
          "text": [
            "Using TensorFlow backend.\n"
          ],
          "name": "stderr"
        }
      ]
    },
    {
      "cell_type": "code",
      "metadata": {
        "id": "8a_eg6H5qI5M",
        "colab_type": "code",
        "outputId": "f09f9f85-b78d-46bd-fda9-5d2605896da0",
        "colab": {
          "base_uri": "https://localhost:8080/",
          "height": 1000
        }
      },
      "source": [
        "!unzip train_slant.zip #images"
      ],
      "execution_count": 2,
      "outputs": [
        {
          "output_type": "stream",
          "text": [
            "Archive:  train_slant.zip\n",
            "  inflating: train_slant/1.jpg       \n",
            "  inflating: train_slant/10.jpg      \n",
            "  inflating: train_slant/100.jpg     \n",
            "  inflating: train_slant/1000.jpg    \n",
            "  inflating: train_slant/101.jpg     \n",
            "  inflating: train_slant/102.jpg     \n",
            "  inflating: train_slant/103.jpg     \n",
            "  inflating: train_slant/104.jpg     \n",
            "  inflating: train_slant/105.jpg     \n",
            "  inflating: train_slant/106.jpg     \n",
            "  inflating: train_slant/107.jpg     \n",
            "  inflating: train_slant/108.jpg     \n",
            "  inflating: train_slant/109.jpg     \n",
            "  inflating: train_slant/11.jpg      \n",
            "  inflating: train_slant/110.jpg     \n",
            "  inflating: train_slant/111.jpg     \n",
            "  inflating: train_slant/112.jpg     \n",
            "  inflating: train_slant/113.jpg     \n",
            "  inflating: train_slant/114.jpg     \n",
            "  inflating: train_slant/115.jpg     \n",
            "  inflating: train_slant/116.jpg     \n",
            "  inflating: train_slant/117.jpg     \n",
            "  inflating: train_slant/118.jpg     \n",
            "  inflating: train_slant/119.jpg     \n",
            "  inflating: train_slant/12.jpg      \n",
            "  inflating: train_slant/120.jpg     \n",
            "  inflating: train_slant/121.jpg     \n",
            "  inflating: train_slant/122.jpg     \n",
            "  inflating: train_slant/123.jpg     \n",
            "  inflating: train_slant/124.jpg     \n",
            "  inflating: train_slant/125.jpg     \n",
            "  inflating: train_slant/126.jpg     \n",
            "  inflating: train_slant/127.jpg     \n",
            "  inflating: train_slant/128.jpg     \n",
            "  inflating: train_slant/129.jpg     \n",
            "  inflating: train_slant/13.jpg      \n",
            "  inflating: train_slant/130.jpg     \n",
            "  inflating: train_slant/131.jpg     \n",
            "  inflating: train_slant/132.jpg     \n",
            "  inflating: train_slant/133.jpg     \n",
            "  inflating: train_slant/134.jpg     \n",
            "  inflating: train_slant/135.jpg     \n",
            "  inflating: train_slant/136.jpg     \n",
            "  inflating: train_slant/137.jpg     \n",
            "  inflating: train_slant/138.jpg     \n",
            "  inflating: train_slant/139.jpg     \n",
            "  inflating: train_slant/14.jpg      \n",
            "  inflating: train_slant/140.jpg     \n",
            "  inflating: train_slant/141.jpg     \n",
            "  inflating: train_slant/142.jpg     \n",
            "  inflating: train_slant/143.jpg     \n",
            "  inflating: train_slant/144.jpg     \n",
            "  inflating: train_slant/145.jpg     \n",
            "  inflating: train_slant/146.jpg     \n",
            "  inflating: train_slant/147.jpg     \n",
            "  inflating: train_slant/148.jpg     \n",
            "  inflating: train_slant/149.jpg     \n",
            "  inflating: train_slant/15.jpg      \n",
            "  inflating: train_slant/150.jpg     \n",
            "  inflating: train_slant/151.jpg     \n",
            "  inflating: train_slant/152.jpg     \n",
            "  inflating: train_slant/153.jpg     \n",
            "  inflating: train_slant/154.jpg     \n",
            "  inflating: train_slant/155.jpg     \n",
            "  inflating: train_slant/156.jpg     \n",
            "  inflating: train_slant/157.jpg     \n",
            "  inflating: train_slant/158.jpg     \n",
            "  inflating: train_slant/159.jpg     \n",
            "  inflating: train_slant/16.jpg      \n",
            "  inflating: train_slant/160.jpg     \n",
            "  inflating: train_slant/161.jpg     \n",
            "  inflating: train_slant/162.jpg     \n",
            "  inflating: train_slant/163.jpg     \n",
            "  inflating: train_slant/164.jpg     \n",
            "  inflating: train_slant/165.jpg     \n",
            "  inflating: train_slant/166.jpg     \n",
            "  inflating: train_slant/167.jpg     \n",
            "  inflating: train_slant/168.jpg     \n",
            "  inflating: train_slant/169.jpg     \n",
            "  inflating: train_slant/17.jpg      \n",
            "  inflating: train_slant/170.jpg     \n",
            "  inflating: train_slant/171.jpg     \n",
            "  inflating: train_slant/172.jpg     \n",
            "  inflating: train_slant/173.jpg     \n",
            "  inflating: train_slant/174.jpg     \n",
            "  inflating: train_slant/175.jpg     \n",
            "  inflating: train_slant/176.jpg     \n",
            "  inflating: train_slant/177.jpg     \n",
            "  inflating: train_slant/178.jpg     \n",
            "  inflating: train_slant/179.jpg     \n",
            "  inflating: train_slant/18.jpg      \n",
            "  inflating: train_slant/180.jpg     \n",
            "  inflating: train_slant/181.jpg     \n",
            "  inflating: train_slant/182.jpg     \n",
            "  inflating: train_slant/183.jpg     \n",
            "  inflating: train_slant/184.jpg     \n",
            "  inflating: train_slant/185.jpg     \n",
            "  inflating: train_slant/186.jpg     \n",
            "  inflating: train_slant/187.jpg     \n",
            "  inflating: train_slant/188.jpg     \n",
            "  inflating: train_slant/189.jpg     \n",
            "  inflating: train_slant/19.jpg      \n",
            "  inflating: train_slant/190.jpg     \n",
            "  inflating: train_slant/191.jpg     \n",
            "  inflating: train_slant/192.jpg     \n",
            "  inflating: train_slant/193.jpg     \n",
            "  inflating: train_slant/194.jpg     \n",
            "  inflating: train_slant/195.jpg     \n",
            "  inflating: train_slant/196.jpg     \n",
            "  inflating: train_slant/197.jpg     \n",
            "  inflating: train_slant/198.jpg     \n",
            "  inflating: train_slant/199.jpg     \n",
            "  inflating: train_slant/2.jpg       \n",
            "  inflating: train_slant/20.jpg      \n",
            "  inflating: train_slant/200.jpg     \n",
            "  inflating: train_slant/201.jpg     \n",
            "  inflating: train_slant/202.jpg     \n",
            "  inflating: train_slant/203.jpg     \n",
            "  inflating: train_slant/204.jpg     \n",
            "  inflating: train_slant/205.jpg     \n",
            "  inflating: train_slant/206.jpg     \n",
            "  inflating: train_slant/207.jpg     \n",
            "  inflating: train_slant/208.jpg     \n",
            "  inflating: train_slant/209.jpg     \n",
            "  inflating: train_slant/21.jpg      \n",
            "  inflating: train_slant/210.jpg     \n",
            "  inflating: train_slant/211.jpg     \n",
            "  inflating: train_slant/212.jpg     \n",
            "  inflating: train_slant/213.jpg     \n",
            "  inflating: train_slant/214.jpg     \n",
            "  inflating: train_slant/215.jpg     \n",
            "  inflating: train_slant/216.jpg     \n",
            "  inflating: train_slant/217.jpg     \n",
            "  inflating: train_slant/218.jpg     \n",
            "  inflating: train_slant/219.jpg     \n",
            "  inflating: train_slant/22.jpg      \n",
            "  inflating: train_slant/220.jpg     \n",
            "  inflating: train_slant/221.jpg     \n",
            "  inflating: train_slant/222.jpg     \n",
            "  inflating: train_slant/223.jpg     \n",
            "  inflating: train_slant/224.jpg     \n",
            "  inflating: train_slant/225.jpg     \n",
            "  inflating: train_slant/226.jpg     \n",
            "  inflating: train_slant/227.jpg     \n",
            "  inflating: train_slant/228.jpg     \n",
            "  inflating: train_slant/229.jpg     \n",
            "  inflating: train_slant/23.jpg      \n",
            "  inflating: train_slant/230.jpg     \n",
            "  inflating: train_slant/231.jpg     \n",
            "  inflating: train_slant/232.jpg     \n",
            "  inflating: train_slant/233.jpg     \n",
            "  inflating: train_slant/234.jpg     \n",
            "  inflating: train_slant/235.jpg     \n",
            "  inflating: train_slant/236.jpg     \n",
            "  inflating: train_slant/237.jpg     \n",
            "  inflating: train_slant/238.jpg     \n",
            "  inflating: train_slant/239.jpg     \n",
            "  inflating: train_slant/24.jpg      \n",
            "  inflating: train_slant/240.jpg     \n",
            "  inflating: train_slant/241.jpg     \n",
            "  inflating: train_slant/242.jpg     \n",
            "  inflating: train_slant/243.jpg     \n",
            "  inflating: train_slant/244.jpg     \n",
            "  inflating: train_slant/245.jpg     \n",
            "  inflating: train_slant/246.jpg     \n",
            "  inflating: train_slant/247.jpg     \n",
            "  inflating: train_slant/248.jpg     \n",
            "  inflating: train_slant/249.jpg     \n",
            "  inflating: train_slant/25.jpg      \n",
            "  inflating: train_slant/250.jpg     \n",
            "  inflating: train_slant/251.jpg     \n",
            "  inflating: train_slant/252.jpg     \n",
            "  inflating: train_slant/253.jpg     \n",
            "  inflating: train_slant/254.jpg     \n",
            "  inflating: train_slant/255.jpg     \n",
            "  inflating: train_slant/256.jpg     \n",
            "  inflating: train_slant/257.jpg     \n",
            "  inflating: train_slant/258.jpg     \n",
            "  inflating: train_slant/259.jpg     \n",
            "  inflating: train_slant/26.jpg      \n",
            "  inflating: train_slant/260.jpg     \n",
            "  inflating: train_slant/261.jpg     \n",
            "  inflating: train_slant/262.jpg     \n",
            "  inflating: train_slant/263.jpg     \n",
            "  inflating: train_slant/264.jpg     \n",
            "  inflating: train_slant/265.jpg     \n",
            "  inflating: train_slant/266.jpg     \n",
            "  inflating: train_slant/267.jpg     \n",
            "  inflating: train_slant/268.jpg     \n",
            "  inflating: train_slant/269.jpg     \n",
            "  inflating: train_slant/27.jpg      \n",
            "  inflating: train_slant/270.jpg     \n",
            "  inflating: train_slant/271.jpg     \n",
            "  inflating: train_slant/272.jpg     \n",
            "  inflating: train_slant/273.jpg     \n",
            "  inflating: train_slant/274.jpg     \n",
            "  inflating: train_slant/275.jpg     \n",
            "  inflating: train_slant/276.jpg     \n",
            "  inflating: train_slant/277.jpg     \n",
            "  inflating: train_slant/278.jpg     \n",
            "  inflating: train_slant/279.jpg     \n",
            "  inflating: train_slant/28.jpg      \n",
            "  inflating: train_slant/280.jpg     \n",
            "  inflating: train_slant/281.jpg     \n",
            "  inflating: train_slant/282.jpg     \n",
            "  inflating: train_slant/283.jpg     \n",
            "  inflating: train_slant/284.jpg     \n",
            "  inflating: train_slant/285.jpg     \n",
            "  inflating: train_slant/286.jpg     \n",
            "  inflating: train_slant/287.jpg     \n",
            "  inflating: train_slant/288.jpg     \n",
            "  inflating: train_slant/289.jpg     \n",
            "  inflating: train_slant/29.jpg      \n",
            "  inflating: train_slant/290.jpg     \n",
            "  inflating: train_slant/291.jpg     \n",
            "  inflating: train_slant/292.jpg     \n",
            "  inflating: train_slant/293.jpg     \n",
            "  inflating: train_slant/294.jpg     \n",
            "  inflating: train_slant/295.jpg     \n",
            "  inflating: train_slant/296.jpg     \n",
            "  inflating: train_slant/297.jpg     \n",
            "  inflating: train_slant/298.jpg     \n",
            "  inflating: train_slant/299.jpg     \n",
            "  inflating: train_slant/3.jpg       \n",
            "  inflating: train_slant/30.jpg      \n",
            "  inflating: train_slant/300.jpg     \n",
            "  inflating: train_slant/301.jpg     \n",
            "  inflating: train_slant/302.jpg     \n",
            "  inflating: train_slant/303.jpg     \n",
            "  inflating: train_slant/304.jpg     \n",
            "  inflating: train_slant/305.jpg     \n",
            "  inflating: train_slant/306.jpg     \n",
            "  inflating: train_slant/307.jpg     \n",
            "  inflating: train_slant/308.jpg     \n",
            "  inflating: train_slant/309.jpg     \n",
            "  inflating: train_slant/31.jpg      \n",
            "  inflating: train_slant/310.jpg     \n",
            "  inflating: train_slant/311.jpg     \n",
            "  inflating: train_slant/312.jpg     \n",
            "  inflating: train_slant/313.jpg     \n",
            "  inflating: train_slant/314.jpg     \n",
            "  inflating: train_slant/315.jpg     \n",
            "  inflating: train_slant/316.jpg     \n",
            "  inflating: train_slant/317.jpg     \n",
            "  inflating: train_slant/318.jpg     \n",
            "  inflating: train_slant/319.jpg     \n",
            "  inflating: train_slant/32.jpg      \n",
            "  inflating: train_slant/320.jpg     \n",
            "  inflating: train_slant/321.jpg     \n",
            "  inflating: train_slant/322.jpg     \n",
            "  inflating: train_slant/323.jpg     \n",
            "  inflating: train_slant/324.jpg     \n",
            "  inflating: train_slant/325.jpg     \n",
            "  inflating: train_slant/326.jpg     \n",
            "  inflating: train_slant/327.jpg     \n",
            "  inflating: train_slant/328.jpg     \n",
            "  inflating: train_slant/329.jpg     \n",
            "  inflating: train_slant/33.jpg      \n",
            "  inflating: train_slant/330.jpg     \n",
            "  inflating: train_slant/331.jpg     \n",
            "  inflating: train_slant/332.jpg     \n",
            "  inflating: train_slant/333.jpg     \n",
            "  inflating: train_slant/334.jpg     \n",
            "  inflating: train_slant/335.jpg     \n",
            "  inflating: train_slant/336.jpg     \n",
            "  inflating: train_slant/337.jpg     \n",
            "  inflating: train_slant/338.jpg     \n",
            "  inflating: train_slant/339.jpg     \n",
            "  inflating: train_slant/34.jpg      \n",
            "  inflating: train_slant/340.jpg     \n",
            "  inflating: train_slant/341.jpg     \n",
            "  inflating: train_slant/342.jpg     \n",
            "  inflating: train_slant/343.jpg     \n",
            "  inflating: train_slant/344.jpg     \n",
            "  inflating: train_slant/345.jpg     \n",
            "  inflating: train_slant/346.jpg     \n",
            "  inflating: train_slant/347.jpg     \n",
            "  inflating: train_slant/348.jpg     \n",
            "  inflating: train_slant/349.jpg     \n",
            "  inflating: train_slant/35.jpg      \n",
            "  inflating: train_slant/350.jpg     \n",
            "  inflating: train_slant/351.jpg     \n",
            "  inflating: train_slant/352.jpg     \n",
            "  inflating: train_slant/353.jpg     \n",
            "  inflating: train_slant/354.jpg     \n",
            "  inflating: train_slant/355.jpg     \n",
            "  inflating: train_slant/356.jpg     \n",
            "  inflating: train_slant/357.jpg     \n",
            "  inflating: train_slant/358.jpg     \n",
            "  inflating: train_slant/359.jpg     \n",
            "  inflating: train_slant/36.jpg      \n",
            "  inflating: train_slant/360.jpg     \n",
            "  inflating: train_slant/361.jpg     \n",
            "  inflating: train_slant/362.jpg     \n",
            "  inflating: train_slant/363.jpg     \n",
            "  inflating: train_slant/364.jpg     \n",
            "  inflating: train_slant/365.jpg     \n",
            "  inflating: train_slant/366.jpg     \n",
            "  inflating: train_slant/367.jpg     \n",
            "  inflating: train_slant/368.jpg     \n",
            "  inflating: train_slant/369.jpg     \n",
            "  inflating: train_slant/37.jpg      \n",
            "  inflating: train_slant/370.jpg     \n",
            "  inflating: train_slant/371.jpg     \n",
            "  inflating: train_slant/372.jpg     \n",
            "  inflating: train_slant/373.jpg     \n",
            "  inflating: train_slant/374.jpg     \n",
            "  inflating: train_slant/375.jpg     \n",
            "  inflating: train_slant/376.jpg     \n",
            "  inflating: train_slant/377.jpg     \n",
            "  inflating: train_slant/378.jpg     \n",
            "  inflating: train_slant/379.jpg     \n",
            "  inflating: train_slant/38.jpg      \n",
            "  inflating: train_slant/380.jpg     \n",
            "  inflating: train_slant/381.jpg     \n",
            "  inflating: train_slant/382.jpg     \n",
            "  inflating: train_slant/383.jpg     \n",
            "  inflating: train_slant/384.jpg     \n",
            "  inflating: train_slant/385.jpg     \n",
            "  inflating: train_slant/386.jpg     \n",
            "  inflating: train_slant/387.jpg     \n",
            "  inflating: train_slant/388.jpg     \n",
            "  inflating: train_slant/389.jpg     \n",
            "  inflating: train_slant/39.jpg      \n",
            "  inflating: train_slant/390.jpg     \n",
            "  inflating: train_slant/391.jpg     \n",
            "  inflating: train_slant/392.jpg     \n",
            "  inflating: train_slant/393.jpg     \n",
            "  inflating: train_slant/394.jpg     \n",
            "  inflating: train_slant/395.jpg     \n",
            "  inflating: train_slant/396.jpg     \n",
            "  inflating: train_slant/397.jpg     \n",
            "  inflating: train_slant/398.jpg     \n",
            "  inflating: train_slant/399.jpg     \n",
            "  inflating: train_slant/4.jpg       \n",
            "  inflating: train_slant/40.jpg      \n",
            "  inflating: train_slant/400.jpg     \n",
            "  inflating: train_slant/401.jpg     \n",
            "  inflating: train_slant/402.jpg     \n",
            "  inflating: train_slant/403.jpg     \n",
            "  inflating: train_slant/404.jpg     \n",
            "  inflating: train_slant/405.jpg     \n",
            "  inflating: train_slant/406.jpg     \n",
            "  inflating: train_slant/407.jpg     \n",
            "  inflating: train_slant/408.jpg     \n",
            "  inflating: train_slant/409.jpg     \n",
            "  inflating: train_slant/41.jpg      \n",
            "  inflating: train_slant/410.jpg     \n",
            "  inflating: train_slant/411.jpg     \n",
            "  inflating: train_slant/412.jpg     \n",
            "  inflating: train_slant/413.jpg     \n",
            "  inflating: train_slant/414.jpg     \n",
            "  inflating: train_slant/415.jpg     \n",
            "  inflating: train_slant/416.jpg     \n",
            "  inflating: train_slant/417.jpg     \n",
            "  inflating: train_slant/418.jpg     \n",
            "  inflating: train_slant/419.jpg     \n",
            "  inflating: train_slant/42.jpg      \n",
            "  inflating: train_slant/420.jpg     \n",
            "  inflating: train_slant/421.jpg     \n",
            "  inflating: train_slant/422.jpg     \n",
            "  inflating: train_slant/423.jpg     \n",
            "  inflating: train_slant/424.jpg     \n",
            "  inflating: train_slant/425.jpg     \n",
            "  inflating: train_slant/426.jpg     \n",
            "  inflating: train_slant/427.jpg     \n",
            "  inflating: train_slant/428.jpg     \n",
            "  inflating: train_slant/429.jpg     \n",
            "  inflating: train_slant/43.jpg      \n",
            "  inflating: train_slant/430.jpg     \n",
            "  inflating: train_slant/431.jpg     \n",
            "  inflating: train_slant/432.jpg     \n",
            "  inflating: train_slant/433.jpg     \n",
            "  inflating: train_slant/434.jpg     \n",
            "  inflating: train_slant/435.jpg     \n",
            "  inflating: train_slant/436.jpg     \n",
            "  inflating: train_slant/437.jpg     \n",
            "  inflating: train_slant/438.jpg     \n",
            "  inflating: train_slant/439.jpg     \n",
            "  inflating: train_slant/44.jpg      \n",
            "  inflating: train_slant/440.jpg     \n",
            "  inflating: train_slant/441.jpg     \n",
            "  inflating: train_slant/442.jpg     \n",
            "  inflating: train_slant/443.jpg     \n",
            "  inflating: train_slant/444.jpg     \n",
            "  inflating: train_slant/445.jpg     \n",
            "  inflating: train_slant/446.jpg     \n",
            "  inflating: train_slant/447.jpg     \n",
            "  inflating: train_slant/448.jpg     \n",
            "  inflating: train_slant/449.jpg     \n",
            "  inflating: train_slant/45.jpg      \n",
            "  inflating: train_slant/450.jpg     \n",
            "  inflating: train_slant/451.jpg     \n",
            "  inflating: train_slant/452.jpg     \n",
            "  inflating: train_slant/453.jpg     \n",
            "  inflating: train_slant/454.jpg     \n",
            "  inflating: train_slant/455.jpg     \n",
            "  inflating: train_slant/456.jpg     \n",
            "  inflating: train_slant/457.jpg     \n",
            "  inflating: train_slant/458.jpg     \n",
            "  inflating: train_slant/459.jpg     \n",
            "  inflating: train_slant/46.jpg      \n",
            "  inflating: train_slant/460.jpg     \n",
            "  inflating: train_slant/461.jpg     \n",
            "  inflating: train_slant/462.jpg     \n",
            "  inflating: train_slant/463.jpg     \n",
            "  inflating: train_slant/464.jpg     \n",
            "  inflating: train_slant/465.jpg     \n",
            "  inflating: train_slant/466.jpg     \n",
            "  inflating: train_slant/467.jpg     \n",
            "  inflating: train_slant/468.jpg     \n",
            "  inflating: train_slant/469.jpg     \n",
            "  inflating: train_slant/47.jpg      \n",
            "  inflating: train_slant/470.jpg     \n",
            "  inflating: train_slant/471.jpg     \n",
            "  inflating: train_slant/472.jpg     \n",
            "  inflating: train_slant/473.jpg     \n",
            "  inflating: train_slant/474.jpg     \n",
            "  inflating: train_slant/475.jpg     \n",
            "  inflating: train_slant/476.jpg     \n",
            "  inflating: train_slant/477.jpg     \n",
            "  inflating: train_slant/478.jpg     \n",
            "  inflating: train_slant/479.jpg     \n",
            "  inflating: train_slant/48.jpg      \n",
            "  inflating: train_slant/480.jpg     \n",
            "  inflating: train_slant/481.jpg     \n",
            "  inflating: train_slant/482.jpg     \n",
            "  inflating: train_slant/483.jpg     \n",
            "  inflating: train_slant/484.jpg     \n",
            "  inflating: train_slant/485.jpg     \n",
            "  inflating: train_slant/486.jpg     \n",
            "  inflating: train_slant/487.jpg     \n",
            "  inflating: train_slant/488.jpg     \n",
            "  inflating: train_slant/489.jpg     \n",
            "  inflating: train_slant/49.jpg      \n",
            "  inflating: train_slant/490.jpg     \n",
            "  inflating: train_slant/491.jpg     \n",
            "  inflating: train_slant/492.jpg     \n",
            "  inflating: train_slant/493.jpg     \n",
            "  inflating: train_slant/494.jpg     \n",
            "  inflating: train_slant/495.jpg     \n",
            "  inflating: train_slant/496.jpg     \n",
            "  inflating: train_slant/497.jpg     \n",
            "  inflating: train_slant/498.jpg     \n",
            "  inflating: train_slant/499.jpg     \n",
            "  inflating: train_slant/5.jpg       \n",
            "  inflating: train_slant/50.jpg      \n",
            "  inflating: train_slant/500.jpg     \n",
            "  inflating: train_slant/501.jpg     \n",
            "  inflating: train_slant/502.jpg     \n",
            "  inflating: train_slant/503.jpg     \n",
            "  inflating: train_slant/504.jpg     \n",
            "  inflating: train_slant/505.jpg     \n",
            "  inflating: train_slant/506.jpg     \n",
            "  inflating: train_slant/507.jpg     \n",
            "  inflating: train_slant/508.jpg     \n",
            "  inflating: train_slant/509.jpg     \n",
            "  inflating: train_slant/51.jpg      \n",
            "  inflating: train_slant/510.jpg     \n",
            "  inflating: train_slant/511.jpg     \n",
            "  inflating: train_slant/512.jpg     \n",
            "  inflating: train_slant/513.jpg     \n",
            "  inflating: train_slant/514.jpg     \n",
            "  inflating: train_slant/515.jpg     \n",
            "  inflating: train_slant/516.jpg     \n",
            "  inflating: train_slant/517.jpg     \n",
            "  inflating: train_slant/518.jpg     \n",
            "  inflating: train_slant/519.jpg     \n",
            "  inflating: train_slant/52.jpg      \n",
            "  inflating: train_slant/520.jpg     \n",
            "  inflating: train_slant/521.jpg     \n",
            "  inflating: train_slant/522.jpg     \n",
            "  inflating: train_slant/523.jpg     \n",
            "  inflating: train_slant/524.jpg     \n",
            "  inflating: train_slant/525.jpg     \n",
            "  inflating: train_slant/526.jpg     \n",
            "  inflating: train_slant/527.jpg     \n",
            "  inflating: train_slant/528.jpg     \n",
            "  inflating: train_slant/529.jpg     \n",
            "  inflating: train_slant/53.jpg      \n",
            "  inflating: train_slant/530.jpg     \n",
            "  inflating: train_slant/531.jpg     \n",
            "  inflating: train_slant/532.jpg     \n",
            "  inflating: train_slant/533.jpg     \n",
            "  inflating: train_slant/534.jpg     \n",
            "  inflating: train_slant/535.jpg     \n",
            "  inflating: train_slant/536.jpg     \n",
            "  inflating: train_slant/537.jpg     \n",
            "  inflating: train_slant/538.jpg     \n",
            "  inflating: train_slant/539.jpg     \n",
            "  inflating: train_slant/54.jpg      \n",
            "  inflating: train_slant/540.jpg     \n",
            "  inflating: train_slant/541.jpg     \n",
            "  inflating: train_slant/542.jpg     \n",
            "  inflating: train_slant/543.jpg     \n",
            "  inflating: train_slant/544.jpg     \n",
            "  inflating: train_slant/545.jpg     \n",
            "  inflating: train_slant/546.jpg     \n",
            "  inflating: train_slant/547.jpg     \n",
            "  inflating: train_slant/548.jpg     \n",
            "  inflating: train_slant/549.jpg     \n",
            "  inflating: train_slant/55.jpg      \n",
            "  inflating: train_slant/550.jpg     \n",
            "  inflating: train_slant/551.jpg     \n",
            "  inflating: train_slant/552.jpg     \n",
            "  inflating: train_slant/553.jpg     \n",
            "  inflating: train_slant/554.jpg     \n",
            "  inflating: train_slant/555.jpg     \n",
            "  inflating: train_slant/556.jpg     \n",
            "  inflating: train_slant/557.jpg     \n",
            "  inflating: train_slant/558.jpg     \n",
            "  inflating: train_slant/559.jpg     \n",
            "  inflating: train_slant/56.jpg      \n",
            "  inflating: train_slant/560.jpg     \n",
            "  inflating: train_slant/561.jpg     \n",
            "  inflating: train_slant/562.jpg     \n",
            "  inflating: train_slant/563.jpg     \n",
            "  inflating: train_slant/564.jpg     \n",
            "  inflating: train_slant/565.jpg     \n",
            "  inflating: train_slant/566.jpg     \n",
            "  inflating: train_slant/567.jpg     \n",
            "  inflating: train_slant/568.jpg     \n",
            "  inflating: train_slant/569.jpg     \n",
            "  inflating: train_slant/57.jpg      \n",
            "  inflating: train_slant/570.jpg     \n",
            "  inflating: train_slant/571.jpg     \n",
            "  inflating: train_slant/572.jpg     \n",
            "  inflating: train_slant/573.jpg     \n",
            "  inflating: train_slant/574.jpg     \n",
            "  inflating: train_slant/575.jpg     \n",
            "  inflating: train_slant/576.jpg     \n",
            "  inflating: train_slant/577.jpg     \n",
            "  inflating: train_slant/578.jpg     \n",
            "  inflating: train_slant/579.jpg     \n",
            "  inflating: train_slant/58.jpg      \n",
            "  inflating: train_slant/580.jpg     \n",
            "  inflating: train_slant/581.jpg     \n",
            "  inflating: train_slant/582.jpg     \n",
            "  inflating: train_slant/583.jpg     \n",
            "  inflating: train_slant/584.jpg     \n",
            "  inflating: train_slant/585.jpg     \n",
            "  inflating: train_slant/586.jpg     \n",
            "  inflating: train_slant/587.jpg     \n",
            "  inflating: train_slant/588.jpg     \n",
            "  inflating: train_slant/589.jpg     \n",
            "  inflating: train_slant/59.jpg      \n",
            "  inflating: train_slant/590.jpg     \n",
            "  inflating: train_slant/591.jpg     \n",
            "  inflating: train_slant/592.jpg     \n",
            "  inflating: train_slant/593.jpg     \n",
            "  inflating: train_slant/594.jpg     \n",
            "  inflating: train_slant/595.jpg     \n",
            "  inflating: train_slant/596.jpg     \n",
            "  inflating: train_slant/597.jpg     \n",
            "  inflating: train_slant/598.jpg     \n",
            "  inflating: train_slant/599.jpg     \n",
            "  inflating: train_slant/6.jpg       \n",
            "  inflating: train_slant/60.jpg      \n",
            "  inflating: train_slant/600.jpg     \n",
            "  inflating: train_slant/601.jpg     \n",
            "  inflating: train_slant/602.jpg     \n",
            "  inflating: train_slant/603.jpg     \n",
            "  inflating: train_slant/604.jpg     \n",
            "  inflating: train_slant/605.jpg     \n",
            "  inflating: train_slant/606.jpg     \n",
            "  inflating: train_slant/607.jpg     \n",
            "  inflating: train_slant/608.jpg     \n",
            "  inflating: train_slant/609.jpg     \n",
            "  inflating: train_slant/61.jpg      \n",
            "  inflating: train_slant/610.jpg     \n",
            "  inflating: train_slant/611.jpg     \n",
            "  inflating: train_slant/612.jpg     \n",
            "  inflating: train_slant/613.jpg     \n",
            "  inflating: train_slant/614.jpg     \n",
            "  inflating: train_slant/615.jpg     \n",
            "  inflating: train_slant/616.jpg     \n",
            "  inflating: train_slant/617.jpg     \n",
            "  inflating: train_slant/618.jpg     \n",
            "  inflating: train_slant/619.jpg     \n",
            "  inflating: train_slant/62.jpg      \n",
            "  inflating: train_slant/620.jpg     \n",
            "  inflating: train_slant/621.jpg     \n",
            "  inflating: train_slant/622.jpg     \n",
            "  inflating: train_slant/623.jpg     \n",
            "  inflating: train_slant/624.jpg     \n",
            "  inflating: train_slant/625.jpg     \n",
            "  inflating: train_slant/626.jpg     \n",
            "  inflating: train_slant/627.jpg     \n",
            "  inflating: train_slant/628.jpg     \n",
            "  inflating: train_slant/629.jpg     \n",
            "  inflating: train_slant/63.jpg      \n",
            "  inflating: train_slant/630.jpg     \n",
            "  inflating: train_slant/631.jpg     \n",
            "  inflating: train_slant/632.jpg     \n",
            "  inflating: train_slant/633.jpg     \n",
            "  inflating: train_slant/634.jpg     \n",
            "  inflating: train_slant/635.jpg     \n",
            "  inflating: train_slant/636.jpg     \n",
            "  inflating: train_slant/637.jpg     \n",
            "  inflating: train_slant/638.jpg     \n",
            "  inflating: train_slant/639.jpg     \n",
            "  inflating: train_slant/64.jpg      \n",
            "  inflating: train_slant/640.jpg     \n",
            "  inflating: train_slant/641.jpg     \n",
            "  inflating: train_slant/642.jpg     \n",
            "  inflating: train_slant/643.jpg     \n",
            "  inflating: train_slant/644.jpg     \n",
            "  inflating: train_slant/645.jpg     \n",
            "  inflating: train_slant/646.jpg     \n",
            "  inflating: train_slant/647.jpg     \n",
            "  inflating: train_slant/648.jpg     \n",
            "  inflating: train_slant/649.jpg     \n",
            "  inflating: train_slant/65.jpg      \n",
            "  inflating: train_slant/650.jpg     \n",
            "  inflating: train_slant/651.jpg     \n",
            "  inflating: train_slant/652.jpg     \n",
            "  inflating: train_slant/653.jpg     \n",
            "  inflating: train_slant/654.jpg     \n",
            "  inflating: train_slant/655.jpg     \n",
            "  inflating: train_slant/656.jpg     \n",
            "  inflating: train_slant/657.jpg     \n",
            "  inflating: train_slant/658.jpg     \n",
            "  inflating: train_slant/659.jpg     \n",
            "  inflating: train_slant/66.jpg      \n",
            "  inflating: train_slant/660.jpg     \n",
            "  inflating: train_slant/661.jpg     \n",
            "  inflating: train_slant/662.jpg     \n",
            "  inflating: train_slant/663.jpg     \n",
            "  inflating: train_slant/664.jpg     \n",
            "  inflating: train_slant/665.jpg     \n",
            "  inflating: train_slant/666.jpg     \n",
            "  inflating: train_slant/667.jpg     \n",
            "  inflating: train_slant/668.jpg     \n",
            "  inflating: train_slant/669.jpg     \n",
            "  inflating: train_slant/67.jpg      \n",
            "  inflating: train_slant/670.jpg     \n",
            "  inflating: train_slant/671.jpg     \n",
            "  inflating: train_slant/672.jpg     \n",
            "  inflating: train_slant/673.jpg     \n",
            "  inflating: train_slant/674.jpg     \n",
            "  inflating: train_slant/675.jpg     \n",
            "  inflating: train_slant/676.jpg     \n",
            "  inflating: train_slant/677.jpg     \n",
            "  inflating: train_slant/678.jpg     \n",
            "  inflating: train_slant/679.jpg     \n",
            "  inflating: train_slant/68.jpg      \n",
            "  inflating: train_slant/680.jpg     \n",
            "  inflating: train_slant/681.jpg     \n",
            "  inflating: train_slant/682.jpg     \n",
            "  inflating: train_slant/683.jpg     \n",
            "  inflating: train_slant/684.jpg     \n",
            "  inflating: train_slant/685.jpg     \n",
            "  inflating: train_slant/686.jpg     \n",
            "  inflating: train_slant/687.jpg     \n",
            "  inflating: train_slant/688.jpg     \n",
            "  inflating: train_slant/689.jpg     \n",
            "  inflating: train_slant/69.jpg      \n",
            "  inflating: train_slant/690.jpg     \n",
            "  inflating: train_slant/691.jpg     \n",
            "  inflating: train_slant/692.jpg     \n",
            "  inflating: train_slant/693.jpg     \n",
            "  inflating: train_slant/694.jpg     \n",
            "  inflating: train_slant/695.jpg     \n",
            "  inflating: train_slant/696.jpg     \n",
            "  inflating: train_slant/697.jpg     \n",
            "  inflating: train_slant/698.jpg     \n",
            "  inflating: train_slant/699.jpg     \n",
            "  inflating: train_slant/7.jpg       \n",
            "  inflating: train_slant/70.jpg      \n",
            "  inflating: train_slant/700.jpg     \n",
            "  inflating: train_slant/701.jpg     \n",
            "  inflating: train_slant/702.jpg     \n",
            "  inflating: train_slant/703.jpg     \n",
            "  inflating: train_slant/704.jpg     \n",
            "  inflating: train_slant/705.jpg     \n",
            "  inflating: train_slant/706.jpg     \n",
            "  inflating: train_slant/707.jpg     \n",
            "  inflating: train_slant/708.jpg     \n",
            "  inflating: train_slant/709.jpg     \n",
            "  inflating: train_slant/71.jpg      \n",
            "  inflating: train_slant/710.jpg     \n",
            "  inflating: train_slant/711.jpg     \n",
            "  inflating: train_slant/712.jpg     \n",
            "  inflating: train_slant/713.jpg     \n",
            "  inflating: train_slant/714.jpg     \n",
            "  inflating: train_slant/715.jpg     \n",
            "  inflating: train_slant/716.jpg     \n",
            "  inflating: train_slant/717.jpg     \n",
            "  inflating: train_slant/718.jpg     \n",
            "  inflating: train_slant/719.jpg     \n",
            "  inflating: train_slant/72.jpg      \n",
            "  inflating: train_slant/720.jpg     \n",
            "  inflating: train_slant/721.jpg     \n",
            "  inflating: train_slant/722.jpg     \n",
            "  inflating: train_slant/723.jpg     \n",
            "  inflating: train_slant/724.jpg     \n",
            "  inflating: train_slant/725.jpg     \n",
            "  inflating: train_slant/726.jpg     \n",
            "  inflating: train_slant/727.jpg     \n",
            "  inflating: train_slant/728.jpg     \n",
            "  inflating: train_slant/729.jpg     \n",
            "  inflating: train_slant/73.jpg      \n",
            "  inflating: train_slant/730.jpg     \n",
            "  inflating: train_slant/731.jpg     \n",
            "  inflating: train_slant/732.jpg     \n",
            "  inflating: train_slant/733.jpg     \n",
            "  inflating: train_slant/734.jpg     \n",
            "  inflating: train_slant/735.jpg     \n",
            "  inflating: train_slant/736.jpg     \n",
            "  inflating: train_slant/737.jpg     \n",
            "  inflating: train_slant/738.jpg     \n",
            "  inflating: train_slant/739.jpg     \n",
            "  inflating: train_slant/74.jpg      \n",
            "  inflating: train_slant/740.jpg     \n",
            "  inflating: train_slant/741.jpg     \n",
            "  inflating: train_slant/742.jpg     \n",
            "  inflating: train_slant/743.jpg     \n",
            "  inflating: train_slant/744.jpg     \n",
            "  inflating: train_slant/745.jpg     \n",
            "  inflating: train_slant/746.jpg     \n",
            "  inflating: train_slant/747.jpg     \n",
            "  inflating: train_slant/748.jpg     \n",
            "  inflating: train_slant/749.jpg     \n",
            "  inflating: train_slant/75.jpg      \n",
            "  inflating: train_slant/750.jpg     \n",
            "  inflating: train_slant/751.jpg     \n",
            "  inflating: train_slant/752.jpg     \n",
            "  inflating: train_slant/753.jpg     \n",
            "  inflating: train_slant/754.jpg     \n",
            "  inflating: train_slant/755.jpg     \n",
            "  inflating: train_slant/756.jpg     \n",
            "  inflating: train_slant/757.jpg     \n",
            "  inflating: train_slant/758.jpg     \n",
            "  inflating: train_slant/759.jpg     \n",
            "  inflating: train_slant/76.jpg      \n",
            "  inflating: train_slant/760.jpg     \n",
            "  inflating: train_slant/761.jpg     \n",
            "  inflating: train_slant/762.jpg     \n",
            "  inflating: train_slant/763.jpg     \n",
            "  inflating: train_slant/764.jpg     \n",
            "  inflating: train_slant/765.jpg     \n",
            "  inflating: train_slant/766.jpg     \n",
            "  inflating: train_slant/767.jpg     \n",
            "  inflating: train_slant/768.jpg     \n",
            "  inflating: train_slant/769.jpg     \n",
            "  inflating: train_slant/77.jpg      \n",
            "  inflating: train_slant/770.jpg     \n",
            "  inflating: train_slant/771.jpg     \n",
            "  inflating: train_slant/772.jpg     \n",
            "  inflating: train_slant/773.jpg     \n",
            "  inflating: train_slant/774.jpg     \n",
            "  inflating: train_slant/775.jpg     \n",
            "  inflating: train_slant/776.jpg     \n",
            "  inflating: train_slant/777.jpg     \n",
            "  inflating: train_slant/778.jpg     \n",
            "  inflating: train_slant/779.jpg     \n",
            "  inflating: train_slant/78.jpg      \n",
            "  inflating: train_slant/780.jpg     \n",
            "  inflating: train_slant/781.jpg     \n",
            "  inflating: train_slant/782.jpg     \n",
            "  inflating: train_slant/783.jpg     \n",
            "  inflating: train_slant/784.jpg     \n",
            "  inflating: train_slant/785.jpg     \n",
            "  inflating: train_slant/786.jpg     \n",
            "  inflating: train_slant/787.jpg     \n",
            "  inflating: train_slant/788.jpg     \n",
            "  inflating: train_slant/789.jpg     \n",
            "  inflating: train_slant/79.jpg      \n",
            "  inflating: train_slant/790.jpg     \n",
            "  inflating: train_slant/791.jpg     \n",
            "  inflating: train_slant/792.jpg     \n",
            "  inflating: train_slant/793.jpg     \n",
            "  inflating: train_slant/794.jpg     \n",
            "  inflating: train_slant/795.jpg     \n",
            "  inflating: train_slant/796.jpg     \n",
            "  inflating: train_slant/797.jpg     \n",
            "  inflating: train_slant/798.jpg     \n",
            "  inflating: train_slant/799.jpg     \n",
            "  inflating: train_slant/8.jpg       \n",
            "  inflating: train_slant/80.jpg      \n",
            "  inflating: train_slant/800.jpg     \n",
            "  inflating: train_slant/801.jpg     \n",
            "  inflating: train_slant/802.jpg     \n",
            "  inflating: train_slant/803.jpg     \n",
            "  inflating: train_slant/804.jpg     \n",
            "  inflating: train_slant/805.jpg     \n",
            "  inflating: train_slant/806.jpg     \n",
            "  inflating: train_slant/807.jpg     \n",
            "  inflating: train_slant/808.jpg     \n",
            "  inflating: train_slant/809.jpg     \n",
            "  inflating: train_slant/81.jpg      \n",
            "  inflating: train_slant/810.jpg     \n",
            "  inflating: train_slant/811.jpg     \n",
            "  inflating: train_slant/812.jpg     \n",
            "  inflating: train_slant/813.jpg     \n",
            "  inflating: train_slant/814.jpg     \n",
            "  inflating: train_slant/815.jpg     \n",
            "  inflating: train_slant/816.jpg     \n",
            "  inflating: train_slant/817.jpg     \n",
            "  inflating: train_slant/818.jpg     \n",
            "  inflating: train_slant/819.jpg     \n",
            "  inflating: train_slant/82.jpg      \n",
            "  inflating: train_slant/820.jpg     \n",
            "  inflating: train_slant/821.jpg     \n",
            "  inflating: train_slant/822.jpg     \n",
            "  inflating: train_slant/823.jpg     \n",
            "  inflating: train_slant/824.jpg     \n",
            "  inflating: train_slant/825.jpg     \n",
            "  inflating: train_slant/826.jpg     \n",
            "  inflating: train_slant/827.jpg     \n",
            "  inflating: train_slant/828.jpg     \n",
            "  inflating: train_slant/829.jpg     \n",
            "  inflating: train_slant/83.jpg      \n",
            "  inflating: train_slant/830.jpg     \n",
            "  inflating: train_slant/831.jpg     \n",
            "  inflating: train_slant/832.jpg     \n",
            "  inflating: train_slant/833.jpg     \n",
            "  inflating: train_slant/834.jpg     \n",
            "  inflating: train_slant/835.jpg     \n",
            "  inflating: train_slant/836.jpg     \n",
            "  inflating: train_slant/837.jpg     \n",
            "  inflating: train_slant/838.jpg     \n",
            "  inflating: train_slant/839.jpg     \n",
            "  inflating: train_slant/84.jpg      \n",
            "  inflating: train_slant/840.jpg     \n",
            "  inflating: train_slant/841.jpg     \n",
            "  inflating: train_slant/842.jpg     \n",
            "  inflating: train_slant/843.jpg     \n",
            "  inflating: train_slant/844.jpg     \n",
            "  inflating: train_slant/845.jpg     \n",
            "  inflating: train_slant/846.jpg     \n",
            "  inflating: train_slant/847.jpg     \n",
            "  inflating: train_slant/848.jpg     \n",
            "  inflating: train_slant/849.jpg     \n",
            "  inflating: train_slant/85.jpg      \n",
            "  inflating: train_slant/850.jpg     \n",
            "  inflating: train_slant/851.jpg     \n",
            "  inflating: train_slant/852.jpg     \n",
            "  inflating: train_slant/853.jpg     \n",
            "  inflating: train_slant/854.jpg     \n",
            "  inflating: train_slant/855.jpg     \n",
            "  inflating: train_slant/856.jpg     \n",
            "  inflating: train_slant/857.jpg     \n",
            "  inflating: train_slant/858.jpg     \n",
            "  inflating: train_slant/859.jpg     \n",
            "  inflating: train_slant/86.jpg      \n",
            "  inflating: train_slant/860.jpg     \n",
            "  inflating: train_slant/861.jpg     \n",
            "  inflating: train_slant/862.jpg     \n",
            "  inflating: train_slant/863.jpg     \n",
            "  inflating: train_slant/864.jpg     \n",
            "  inflating: train_slant/865.jpg     \n",
            "  inflating: train_slant/866.jpg     \n",
            "  inflating: train_slant/867.jpg     \n",
            "  inflating: train_slant/868.jpg     \n",
            "  inflating: train_slant/869.jpg     \n",
            "  inflating: train_slant/87.jpg      \n",
            "  inflating: train_slant/870.jpg     \n",
            "  inflating: train_slant/871.jpg     \n",
            "  inflating: train_slant/872.jpg     \n",
            "  inflating: train_slant/873.jpg     \n",
            "  inflating: train_slant/874.jpg     \n",
            "  inflating: train_slant/875.jpg     \n",
            "  inflating: train_slant/876.jpg     \n",
            "  inflating: train_slant/877.jpg     \n",
            "  inflating: train_slant/878.jpg     \n",
            "  inflating: train_slant/879.jpg     \n",
            "  inflating: train_slant/88.jpg      \n",
            "  inflating: train_slant/880.jpg     \n",
            "  inflating: train_slant/881.jpg     \n",
            "  inflating: train_slant/882.jpg     \n",
            "  inflating: train_slant/883.jpg     \n",
            "  inflating: train_slant/884.jpg     \n",
            "  inflating: train_slant/885.jpg     \n",
            "  inflating: train_slant/886.jpg     \n",
            "  inflating: train_slant/887.jpg     \n",
            "  inflating: train_slant/888.jpg     \n",
            "  inflating: train_slant/889.jpg     \n",
            "  inflating: train_slant/89.jpg      \n",
            "  inflating: train_slant/890.jpg     \n",
            "  inflating: train_slant/891.jpg     \n",
            "  inflating: train_slant/892.jpg     \n",
            "  inflating: train_slant/893.jpg     \n",
            "  inflating: train_slant/894.jpg     \n",
            "  inflating: train_slant/895.jpg     \n",
            "  inflating: train_slant/896.jpg     \n",
            "  inflating: train_slant/897.jpg     \n",
            "  inflating: train_slant/898.jpg     \n",
            "  inflating: train_slant/899.jpg     \n",
            "  inflating: train_slant/9.jpg       \n",
            "  inflating: train_slant/90.jpg      \n",
            "  inflating: train_slant/900.jpg     \n",
            "  inflating: train_slant/901.jpg     \n",
            "  inflating: train_slant/902.jpg     \n",
            "  inflating: train_slant/903.jpg     \n",
            "  inflating: train_slant/904.jpg     \n",
            "  inflating: train_slant/905.jpg     \n",
            "  inflating: train_slant/906.jpg     \n",
            "  inflating: train_slant/907.jpg     \n",
            "  inflating: train_slant/908.jpg     \n",
            "  inflating: train_slant/909.jpg     \n",
            "  inflating: train_slant/91.jpg      \n",
            "  inflating: train_slant/910.jpg     \n",
            "  inflating: train_slant/911.jpg     \n",
            "  inflating: train_slant/912.jpg     \n",
            "  inflating: train_slant/913.jpg     \n",
            "  inflating: train_slant/914.jpg     \n",
            "  inflating: train_slant/915.jpg     \n",
            "  inflating: train_slant/916.jpg     \n",
            "  inflating: train_slant/917.jpg     \n",
            "  inflating: train_slant/918.jpg     \n",
            "  inflating: train_slant/919.jpg     \n",
            "  inflating: train_slant/92.jpg      \n",
            "  inflating: train_slant/920.jpg     \n",
            "  inflating: train_slant/921.jpg     \n",
            "  inflating: train_slant/922.jpg     \n",
            "  inflating: train_slant/923.jpg     \n",
            "  inflating: train_slant/924.jpg     \n",
            "  inflating: train_slant/925.jpg     \n",
            "  inflating: train_slant/926.jpg     \n",
            "  inflating: train_slant/927.jpg     \n",
            "  inflating: train_slant/928.jpg     \n",
            "  inflating: train_slant/929.jpg     \n",
            "  inflating: train_slant/93.jpg      \n",
            "  inflating: train_slant/930.jpg     \n",
            "  inflating: train_slant/931.jpg     \n",
            "  inflating: train_slant/932.jpg     \n",
            "  inflating: train_slant/933.jpg     \n",
            "  inflating: train_slant/934.jpg     \n",
            "  inflating: train_slant/935.jpg     \n",
            "  inflating: train_slant/936.jpg     \n",
            "  inflating: train_slant/937.jpg     \n",
            "  inflating: train_slant/938.jpg     \n",
            "  inflating: train_slant/939.jpg     \n",
            "  inflating: train_slant/94.jpg      \n",
            "  inflating: train_slant/940.jpg     \n",
            "  inflating: train_slant/941.jpg     \n",
            "  inflating: train_slant/942.jpg     \n",
            "  inflating: train_slant/943.jpg     \n",
            "  inflating: train_slant/944.jpg     \n",
            "  inflating: train_slant/945.jpg     \n",
            "  inflating: train_slant/946.jpg     \n",
            "  inflating: train_slant/947.jpg     \n",
            "  inflating: train_slant/948.jpg     \n",
            "  inflating: train_slant/949.jpg     \n",
            "  inflating: train_slant/95.jpg      \n",
            "  inflating: train_slant/950.jpg     \n",
            "  inflating: train_slant/951.jpg     \n",
            "  inflating: train_slant/952.jpg     \n",
            "  inflating: train_slant/953.jpg     \n",
            "  inflating: train_slant/954.jpg     \n",
            "  inflating: train_slant/955.jpg     \n",
            "  inflating: train_slant/956.jpg     \n",
            "  inflating: train_slant/957.jpg     \n",
            "  inflating: train_slant/958.jpg     \n",
            "  inflating: train_slant/959.jpg     \n",
            "  inflating: train_slant/96.jpg      \n",
            "  inflating: train_slant/960.jpg     \n",
            "  inflating: train_slant/961.jpg     \n",
            "  inflating: train_slant/962.jpg     \n",
            "  inflating: train_slant/963.jpg     \n",
            "  inflating: train_slant/964.jpg     \n",
            "  inflating: train_slant/965.jpg     \n",
            "  inflating: train_slant/966.jpg     \n",
            "  inflating: train_slant/967.jpg     \n",
            "  inflating: train_slant/968.jpg     \n",
            "  inflating: train_slant/969.jpg     \n",
            "  inflating: train_slant/97.jpg      \n",
            "  inflating: train_slant/970.jpg     \n",
            "  inflating: train_slant/971.jpg     \n",
            "  inflating: train_slant/972.jpg     \n",
            "  inflating: train_slant/973.jpg     \n",
            "  inflating: train_slant/974.jpg     \n",
            "  inflating: train_slant/975.jpg     \n",
            "  inflating: train_slant/976.jpg     \n",
            "  inflating: train_slant/977.jpg     \n",
            "  inflating: train_slant/978.jpg     \n",
            "  inflating: train_slant/979.jpg     \n",
            "  inflating: train_slant/98.jpg      \n",
            "  inflating: train_slant/980.jpg     \n",
            "  inflating: train_slant/981.jpg     \n",
            "  inflating: train_slant/982.jpg     \n",
            "  inflating: train_slant/983.jpg     \n",
            "  inflating: train_slant/984.jpg     \n",
            "  inflating: train_slant/985.jpg     \n",
            "  inflating: train_slant/986.jpg     \n",
            "  inflating: train_slant/987.jpg     \n",
            "  inflating: train_slant/988.jpg     \n",
            "  inflating: train_slant/989.jpg     \n",
            "  inflating: train_slant/99.jpg      \n",
            "  inflating: train_slant/990.jpg     \n",
            "  inflating: train_slant/991.jpg     \n",
            "  inflating: train_slant/992.jpg     \n",
            "  inflating: train_slant/993.jpg     \n",
            "  inflating: train_slant/994.jpg     \n",
            "  inflating: train_slant/995.jpg     \n",
            "  inflating: train_slant/996.jpg     \n",
            "  inflating: train_slant/997.jpg     \n",
            "  inflating: train_slant/998.jpg     \n",
            "  inflating: train_slant/999.jpg     \n"
          ],
          "name": "stdout"
        }
      ]
    },
    {
      "cell_type": "code",
      "metadata": {
        "id": "jFq3PL7cqZXw",
        "colab_type": "code",
        "colab": {}
      },
      "source": [
        "train = pd.read_csv('train_slant.csv')"
      ],
      "execution_count": 0,
      "outputs": []
    },
    {
      "cell_type": "code",
      "metadata": {
        "id": "0XDDL185y5Ar",
        "colab_type": "code",
        "outputId": "923fd753-c040-47e3-9cb1-b2d1f3002196",
        "colab": {
          "base_uri": "https://localhost:8080/",
          "height": 194
        }
      },
      "source": [
        "train.head()"
      ],
      "execution_count": 4,
      "outputs": [
        {
          "output_type": "execute_result",
          "data": {
            "text/html": [
              "<div>\n",
              "<style scoped>\n",
              "    .dataframe tbody tr th:only-of-type {\n",
              "        vertical-align: middle;\n",
              "    }\n",
              "\n",
              "    .dataframe tbody tr th {\n",
              "        vertical-align: top;\n",
              "    }\n",
              "\n",
              "    .dataframe thead th {\n",
              "        text-align: right;\n",
              "    }\n",
              "</style>\n",
              "<table border=\"1\" class=\"dataframe\">\n",
              "  <thead>\n",
              "    <tr style=\"text-align: right;\">\n",
              "      <th></th>\n",
              "      <th>img</th>\n",
              "      <th>slant</th>\n",
              "    </tr>\n",
              "  </thead>\n",
              "  <tbody>\n",
              "    <tr>\n",
              "      <th>0</th>\n",
              "      <td>1.jpg</td>\n",
              "      <td>0</td>\n",
              "    </tr>\n",
              "    <tr>\n",
              "      <th>1</th>\n",
              "      <td>2.jpg</td>\n",
              "      <td>2</td>\n",
              "    </tr>\n",
              "    <tr>\n",
              "      <th>2</th>\n",
              "      <td>3.jpg</td>\n",
              "      <td>2</td>\n",
              "    </tr>\n",
              "    <tr>\n",
              "      <th>3</th>\n",
              "      <td>4.jpg</td>\n",
              "      <td>2</td>\n",
              "    </tr>\n",
              "    <tr>\n",
              "      <th>4</th>\n",
              "      <td>5.jpg</td>\n",
              "      <td>2</td>\n",
              "    </tr>\n",
              "  </tbody>\n",
              "</table>\n",
              "</div>"
            ],
            "text/plain": [
              "     img  slant\n",
              "0  1.jpg      0\n",
              "1  2.jpg      2\n",
              "2  3.jpg      2\n",
              "3  4.jpg      2\n",
              "4  5.jpg      2"
            ]
          },
          "metadata": {
            "tags": []
          },
          "execution_count": 4
        }
      ]
    },
    {
      "cell_type": "code",
      "metadata": {
        "id": "md76XWSInS3S",
        "colab_type": "code",
        "outputId": "3ea2ea67-2701-40f1-a2d5-83303d250324",
        "colab": {
          "base_uri": "https://localhost:8080/",
          "height": 35
        }
      },
      "source": [
        "train.shape"
      ],
      "execution_count": 5,
      "outputs": [
        {
          "output_type": "execute_result",
          "data": {
            "text/plain": [
              "(1000, 2)"
            ]
          },
          "metadata": {
            "tags": []
          },
          "execution_count": 5
        }
      ]
    },
    {
      "cell_type": "code",
      "metadata": {
        "id": "OYFXUjcmhbAV",
        "colab_type": "code",
        "outputId": "c3145435-1fca-4146-f715-973dca67a13e",
        "colab": {
          "base_uri": "https://localhost:8080/",
          "height": 35
        }
      },
      "source": [
        "train[train.slant == 0].shape, train[train.slant == 1].shape, train[train.slant == 2].shape #кол-во классов"
      ],
      "execution_count": 6,
      "outputs": [
        {
          "output_type": "execute_result",
          "data": {
            "text/plain": [
              "((303, 2), (393, 2), (304, 2))"
            ]
          },
          "metadata": {
            "tags": []
          },
          "execution_count": 6
        }
      ]
    },
    {
      "cell_type": "code",
      "metadata": {
        "id": "qnra_NGnmeLJ",
        "colab_type": "code",
        "outputId": "c9fab015-9796-43c0-ac6e-de287efaed56",
        "colab": {
          "base_uri": "https://localhost:8080/",
          "height": 1000
        }
      },
      "source": [
        "!unzip test_slant.zip #images"
      ],
      "execution_count": 7,
      "outputs": [
        {
          "output_type": "stream",
          "text": [
            "Archive:  test_slant.zip\n",
            "  inflating: test_slant/100.jpg      \n",
            "  inflating: test_slant/101.jpg      \n",
            "  inflating: test_slant/102.jpg      \n",
            "  inflating: test_slant/103.jpg      \n",
            "  inflating: test_slant/104.jpg      \n",
            "  inflating: test_slant/105.jpg      \n",
            "  inflating: test_slant/107.jpg      \n",
            "  inflating: test_slant/108.jpg      \n",
            "  inflating: test_slant/109.jpg      \n",
            "  inflating: test_slant/118.jpg      \n",
            "  inflating: test_slant/119.jpg      \n",
            "  inflating: test_slant/120.jpg      \n",
            "  inflating: test_slant/121.jpg      \n",
            "  inflating: test_slant/124.jpg      \n",
            "  inflating: test_slant/125.jpg      \n",
            "  inflating: test_slant/126.jpg      \n",
            "  inflating: test_slant/127.jpg      \n",
            "  inflating: test_slant/129.jpg      \n",
            "  inflating: test_slant/131.jpg      \n",
            "  inflating: test_slant/132.jpg      \n",
            "  inflating: test_slant/133.jpg      \n",
            "  inflating: test_slant/134.jpg      \n",
            "  inflating: test_slant/135.jpg      \n",
            "  inflating: test_slant/136.jpg      \n",
            "  inflating: test_slant/137.jpg      \n",
            "  inflating: test_slant/138.jpg      \n",
            "  inflating: test_slant/139.jpg      \n",
            "  inflating: test_slant/140.jpg      \n",
            "  inflating: test_slant/141.jpg      \n",
            "  inflating: test_slant/142.jpg      \n",
            "  inflating: test_slant/143.jpg      \n",
            "  inflating: test_slant/144.jpg      \n",
            "  inflating: test_slant/145.jpg      \n",
            "  inflating: test_slant/146.jpg      \n",
            "  inflating: test_slant/147.jpg      \n",
            "  inflating: test_slant/150.jpg      \n",
            "  inflating: test_slant/151.jpg      \n",
            "  inflating: test_slant/152.jpg      \n",
            "  inflating: test_slant/153.jpg      \n",
            "  inflating: test_slant/154.jpg      \n",
            "  inflating: test_slant/155.jpg      \n",
            "  inflating: test_slant/156.jpg      \n",
            "  inflating: test_slant/157.jpg      \n",
            "  inflating: test_slant/158.jpg      \n",
            "  inflating: test_slant/159.jpg      \n",
            "  inflating: test_slant/160.jpg      \n",
            "  inflating: test_slant/161.jpg      \n",
            "  inflating: test_slant/162.jpg      \n",
            "  inflating: test_slant/163.jpg      \n",
            "  inflating: test_slant/164.jpg      \n",
            "  inflating: test_slant/165.jpg      \n",
            "  inflating: test_slant/166.jpg      \n",
            "  inflating: test_slant/167.jpg      \n",
            "  inflating: test_slant/168.jpg      \n",
            "  inflating: test_slant/169.jpg      \n",
            "  inflating: test_slant/170.jpg      \n",
            "  inflating: test_slant/171.jpg      \n",
            "  inflating: test_slant/172.jpg      \n",
            "  inflating: test_slant/173.jpg      \n",
            "  inflating: test_slant/174.jpg      \n",
            "  inflating: test_slant/175.jpg      \n",
            "  inflating: test_slant/176.jpg      \n",
            "  inflating: test_slant/177.jpg      \n",
            "  inflating: test_slant/178.jpg      \n",
            "  inflating: test_slant/179.jpg      \n",
            "  inflating: test_slant/180.jpg      \n",
            "  inflating: test_slant/181.jpg      \n",
            "  inflating: test_slant/182.jpg      \n",
            "  inflating: test_slant/183.jpg      \n",
            "  inflating: test_slant/184.jpg      \n",
            "  inflating: test_slant/185.jpg      \n",
            "  inflating: test_slant/186.jpg      \n",
            "  inflating: test_slant/187.jpg      \n",
            "  inflating: test_slant/188.jpg      \n",
            "  inflating: test_slant/189.jpg      \n",
            "  inflating: test_slant/190.jpg      \n",
            "  inflating: test_slant/191.jpg      \n",
            "  inflating: test_slant/192.jpg      \n",
            "  inflating: test_slant/193.jpg      \n",
            "  inflating: test_slant/194.jpg      \n",
            "  inflating: test_slant/195.jpg      \n",
            "  inflating: test_slant/196.jpg      \n",
            "  inflating: test_slant/197.jpg      \n",
            "  inflating: test_slant/198.jpg      \n",
            "  inflating: test_slant/199.jpg      \n",
            "  inflating: test_slant/200.jpg      \n",
            "  inflating: test_slant/201.jpg      \n",
            "  inflating: test_slant/202.jpg      \n",
            "  inflating: test_slant/203.jpg      \n",
            "  inflating: test_slant/204.jpg      \n",
            "  inflating: test_slant/205.jpg      \n",
            "  inflating: test_slant/209.jpg      \n",
            "  inflating: test_slant/210.jpg      \n",
            "  inflating: test_slant/211.jpg      \n",
            "  inflating: test_slant/212.jpg      \n",
            "  inflating: test_slant/213.jpg      \n",
            "  inflating: test_slant/214.jpg      \n",
            "  inflating: test_slant/215.jpg      \n",
            "  inflating: test_slant/216.jpg      \n",
            "  inflating: test_slant/217.jpg      \n",
            "  inflating: test_slant/218.jpg      \n",
            "  inflating: test_slant/219.jpg      \n",
            "  inflating: test_slant/229.jpg      \n",
            "  inflating: test_slant/230.jpg      \n",
            "  inflating: test_slant/231.jpg      \n",
            "  inflating: test_slant/232.jpg      \n",
            "  inflating: test_slant/233.jpg      \n",
            "  inflating: test_slant/234.jpg      \n",
            "  inflating: test_slant/240.jpg      \n",
            "  inflating: test_slant/241.jpg      \n",
            "  inflating: test_slant/242.jpg      \n",
            "  inflating: test_slant/243.jpg      \n",
            "  inflating: test_slant/244.jpg      \n",
            "  inflating: test_slant/245.jpg      \n",
            "  inflating: test_slant/246.jpg      \n",
            "  inflating: test_slant/247.jpg      \n",
            "  inflating: test_slant/248.jpg      \n",
            "  inflating: test_slant/249.jpg      \n",
            "  inflating: test_slant/250.jpg      \n",
            "  inflating: test_slant/251.jpg      \n",
            "  inflating: test_slant/252.jpg      \n",
            "  inflating: test_slant/253.jpg      \n",
            "  inflating: test_slant/254.jpg      \n",
            "  inflating: test_slant/255.jpg      \n",
            "  inflating: test_slant/256.jpg      \n",
            "  inflating: test_slant/258.jpg      \n",
            "  inflating: test_slant/259.jpg      \n",
            "  inflating: test_slant/260.jpg      \n",
            "  inflating: test_slant/261.jpg      \n",
            "  inflating: test_slant/262.jpg      \n",
            "  inflating: test_slant/263.jpg      \n",
            "  inflating: test_slant/264.jpg      \n",
            "  inflating: test_slant/265.jpg      \n",
            "  inflating: test_slant/266.jpg      \n",
            "  inflating: test_slant/267.jpg      \n",
            "  inflating: test_slant/268.jpg      \n",
            "  inflating: test_slant/269.jpg      \n",
            "  inflating: test_slant/270.jpg      \n",
            "  inflating: test_slant/271.jpg      \n",
            "  inflating: test_slant/272.jpg      \n",
            "  inflating: test_slant/273.jpg      \n",
            "  inflating: test_slant/274.jpg      \n",
            "  inflating: test_slant/275.jpg      \n",
            "  inflating: test_slant/276.jpg      \n",
            "  inflating: test_slant/277.jpg      \n",
            "  inflating: test_slant/278.jpg      \n",
            "  inflating: test_slant/279.jpg      \n",
            "  inflating: test_slant/280.jpg      \n",
            "  inflating: test_slant/281.jpg      \n",
            "  inflating: test_slant/282.jpg      \n",
            "  inflating: test_slant/283.jpg      \n",
            "  inflating: test_slant/284.jpg      \n",
            "  inflating: test_slant/285.jpg      \n",
            "  inflating: test_slant/287.jpg      \n",
            "  inflating: test_slant/288.jpg      \n",
            "  inflating: test_slant/289.jpg      \n",
            "  inflating: test_slant/290.jpg      \n",
            "  inflating: test_slant/291.jpg      \n",
            "  inflating: test_slant/292.jpg      \n",
            "  inflating: test_slant/293.jpg      \n",
            "  inflating: test_slant/294.jpg      \n",
            "  inflating: test_slant/295.jpg      \n",
            "  inflating: test_slant/296.jpg      \n",
            "  inflating: test_slant/297.jpg      \n",
            "  inflating: test_slant/298.jpg      \n",
            "  inflating: test_slant/299.jpg      \n",
            "  inflating: test_slant/300.jpg      \n",
            "  inflating: test_slant/301.jpg      \n",
            "  inflating: test_slant/302.jpg      \n",
            "  inflating: test_slant/305.jpg      \n",
            "  inflating: test_slant/306.jpg      \n",
            "  inflating: test_slant/307.jpg      \n",
            "  inflating: test_slant/308.jpg      \n",
            "  inflating: test_slant/309.jpg      \n",
            "  inflating: test_slant/310.jpg      \n",
            "  inflating: test_slant/311.jpg      \n",
            "  inflating: test_slant/312.jpg      \n",
            "  inflating: test_slant/313.jpg      \n",
            "  inflating: test_slant/314.jpg      \n",
            "  inflating: test_slant/315.jpg      \n",
            "  inflating: test_slant/316.jpg      \n",
            "  inflating: test_slant/317.jpg      \n"
          ],
          "name": "stdout"
        }
      ]
    },
    {
      "cell_type": "code",
      "metadata": {
        "id": "P5mAWDfemeHT",
        "colab_type": "code",
        "colab": {}
      },
      "source": [
        "test = pd.read_csv('test_slant.csv')"
      ],
      "execution_count": 0,
      "outputs": []
    },
    {
      "cell_type": "code",
      "metadata": {
        "id": "P36YGoDimpHC",
        "colab_type": "code",
        "outputId": "1a9fc89c-413c-45a0-e425-0408f598b447",
        "colab": {
          "base_uri": "https://localhost:8080/",
          "height": 194
        }
      },
      "source": [
        "test.head()"
      ],
      "execution_count": 9,
      "outputs": [
        {
          "output_type": "execute_result",
          "data": {
            "text/html": [
              "<div>\n",
              "<style scoped>\n",
              "    .dataframe tbody tr th:only-of-type {\n",
              "        vertical-align: middle;\n",
              "    }\n",
              "\n",
              "    .dataframe tbody tr th {\n",
              "        vertical-align: top;\n",
              "    }\n",
              "\n",
              "    .dataframe thead th {\n",
              "        text-align: right;\n",
              "    }\n",
              "</style>\n",
              "<table border=\"1\" class=\"dataframe\">\n",
              "  <thead>\n",
              "    <tr style=\"text-align: right;\">\n",
              "      <th></th>\n",
              "      <th>img</th>\n",
              "      <th>slant</th>\n",
              "    </tr>\n",
              "  </thead>\n",
              "  <tbody>\n",
              "    <tr>\n",
              "      <th>0</th>\n",
              "      <td>100.jpg</td>\n",
              "      <td>1</td>\n",
              "    </tr>\n",
              "    <tr>\n",
              "      <th>1</th>\n",
              "      <td>101.jpg</td>\n",
              "      <td>1</td>\n",
              "    </tr>\n",
              "    <tr>\n",
              "      <th>2</th>\n",
              "      <td>102.jpg</td>\n",
              "      <td>1</td>\n",
              "    </tr>\n",
              "    <tr>\n",
              "      <th>3</th>\n",
              "      <td>103.jpg</td>\n",
              "      <td>2</td>\n",
              "    </tr>\n",
              "    <tr>\n",
              "      <th>4</th>\n",
              "      <td>104.jpg</td>\n",
              "      <td>1</td>\n",
              "    </tr>\n",
              "  </tbody>\n",
              "</table>\n",
              "</div>"
            ],
            "text/plain": [
              "       img  slant\n",
              "0  100.jpg      1\n",
              "1  101.jpg      1\n",
              "2  102.jpg      1\n",
              "3  103.jpg      2\n",
              "4  104.jpg      1"
            ]
          },
          "metadata": {
            "tags": []
          },
          "execution_count": 9
        }
      ]
    },
    {
      "cell_type": "code",
      "metadata": {
        "id": "IdeiOtc5mo5s",
        "colab_type": "code",
        "outputId": "7d69eb2d-1f31-4e3b-ac45-e83f5a025ab3",
        "colab": {
          "base_uri": "https://localhost:8080/",
          "height": 35
        }
      },
      "source": [
        "test.shape"
      ],
      "execution_count": 10,
      "outputs": [
        {
          "output_type": "execute_result",
          "data": {
            "text/plain": [
              "(182, 2)"
            ]
          },
          "metadata": {
            "tags": []
          },
          "execution_count": 10
        }
      ]
    },
    {
      "cell_type": "code",
      "metadata": {
        "id": "p68bMCRSmrtp",
        "colab_type": "code",
        "outputId": "2ac515db-e86b-4fbb-d48d-556d8a2f6643",
        "colab": {
          "base_uri": "https://localhost:8080/",
          "height": 35
        }
      },
      "source": [
        "test[test.slant == 0].shape, test[test.slant == 1].shape, test[test.slant == 2].shape #кол-во классов"
      ],
      "execution_count": 11,
      "outputs": [
        {
          "output_type": "execute_result",
          "data": {
            "text/plain": [
              "((53, 2), (73, 2), (56, 2))"
            ]
          },
          "metadata": {
            "tags": []
          },
          "execution_count": 11
        }
      ]
    },
    {
      "cell_type": "code",
      "metadata": {
        "id": "WK603LpIeQpi",
        "colab_type": "code",
        "colab": {}
      },
      "source": [
        ""
      ],
      "execution_count": 0,
      "outputs": []
    },
    {
      "cell_type": "code",
      "metadata": {
        "id": "on0MH7iU0C66",
        "colab_type": "code",
        "colab": {}
      },
      "source": [
        "hei = 128\n",
        "wei = 64"
      ],
      "execution_count": 0,
      "outputs": []
    },
    {
      "cell_type": "code",
      "metadata": {
        "id": "EdkWZhfRzWns",
        "colab_type": "code",
        "colab": {}
      },
      "source": [
        ""
      ],
      "execution_count": 0,
      "outputs": []
    },
    {
      "cell_type": "markdown",
      "metadata": {
        "id": "pRefGocmuySq",
        "colab_type": "text"
      },
      "source": [
        "**Добавление данных в x_test, y_test**"
      ]
    },
    {
      "cell_type": "code",
      "metadata": {
        "id": "GHggScLDnMbT",
        "colab_type": "code",
        "outputId": "a8c0cfbe-9469-4b78-935d-d0ff0eaf1b8e",
        "colab": {
          "base_uri": "https://localhost:8080/",
          "height": 35
        }
      },
      "source": [
        "x_test = []\n",
        "y_test = []\n",
        "\n",
        "for i in range (test.shape[0]):\n",
        "    x,y = test.values[i]\n",
        "    x = cv2.imread('test_slant/{}'.format(x))\n",
        "    #x = strong_aug(p=0.2)\n",
        "    x = cv2.resize(x, (hei, wei))\n",
        "    x_test += [x]\n",
        "    y_test += [y]\n",
        "    \n",
        "x_test = np.array(x_test) / 255.\n",
        "y_test = np.array(y_test)\n",
        "\n",
        "x_test.shape"
      ],
      "execution_count": 13,
      "outputs": [
        {
          "output_type": "execute_result",
          "data": {
            "text/plain": [
              "(182, 64, 128, 3)"
            ]
          },
          "metadata": {
            "tags": []
          },
          "execution_count": 13
        }
      ]
    },
    {
      "cell_type": "markdown",
      "metadata": {
        "id": "HBW8S56avHPF",
        "colab_type": "text"
      },
      "source": [
        "**Генератор батчей для train**"
      ]
    },
    {
      "cell_type": "code",
      "metadata": {
        "id": "AkGL7tCIqv1R",
        "colab_type": "code",
        "colab": {}
      },
      "source": [
        "#Объявим генератор\n",
        "def keras_generator(gen_df, batch_size):#генератор картинок в батч (создание батча)\n",
        "    while True:\n",
        "        x_train = []\n",
        "        y_train = []\n",
        "        \n",
        "\n",
        "        for i in range (batch_size):\n",
        "\n",
        "            x,y = train.sample(1).values[0]\n",
        "            x = cv2.imread('train_slant/{}'.format(x))\n",
        "            #x = strong_aug(p=0.2)\n",
        "            x = cv2.resize(x, (hei, wei))\n",
        "            x_train += [x]\n",
        "            y_train += [y]\n",
        "\n",
        "        #y_train = keras.utils.to_categorical(y_train,10)\n",
        "        x_train = np.array(x_train) / 255.\n",
        "        y_train = np.array(y_train)\n",
        "\n",
        "        yield x_train, y_train"
      ],
      "execution_count": 0,
      "outputs": []
    },
    {
      "cell_type": "code",
      "metadata": {
        "id": "9qrzbnwbodeP",
        "colab_type": "code",
        "colab": {}
      },
      "source": [
        ""
      ],
      "execution_count": 0,
      "outputs": []
    },
    {
      "cell_type": "markdown",
      "metadata": {
        "id": "XfGtWHD3vRdz",
        "colab_type": "text"
      },
      "source": [
        "**Архитектура сети**"
      ]
    },
    {
      "cell_type": "code",
      "metadata": {
        "id": "Mlpy7HN-8ytm",
        "colab_type": "code",
        "outputId": "c9573a70-8f56-4da4-cf91-b1e1bf1da979",
        "colab": {
          "base_uri": "https://localhost:8080/",
          "height": 517
        }
      },
      "source": [
        "inp = Input(shape=(wei, hei, 3))\n",
        "\n",
        "conv_1_1 = Conv2D(32, (3, 3), padding='same')(inp)\n",
        "conv_1_1 = Activation('relu')(conv_1_1)\n",
        "\n",
        "conv_1_2 = Conv2D(32, (3, 3), padding='same')(conv_1_1)\n",
        "conv_1_2 = Activation('relu')(conv_1_2)\n",
        "\n",
        "pool_1 = MaxPooling2D(2)(conv_1_2)\n",
        "pool_1 = Dropout(0.2)(pool_1)\n",
        "pool_1 = BatchNormalization()(pool_1)\n",
        "\n",
        "conv_2_1 = Conv2D(64, (3, 3), padding='same')(pool_1)\n",
        "conv_2_1 = Activation('relu')(conv_2_1)\n",
        "\n",
        "conv_2_2 = Conv2D(64, (3, 3), padding='same')(conv_2_1)\n",
        "conv_2_2 = Activation('relu')(conv_2_2)\n",
        "\n",
        "pool_2 = MaxPooling2D(2)(conv_2_2)\n",
        "pool_2 = Dropout(0.2)(pool_2)\n",
        "pool_2 = BatchNormalization()(pool_2)\n",
        "\n",
        "\n",
        "conv_3_1 = Conv2D(128, (3, 3), padding='same')(pool_2)\n",
        "conv_3_1 = Activation('relu')(conv_3_1)\n",
        "\n",
        "conv_3_2 = Conv2D(128, (3, 3), padding='same')(conv_3_1)\n",
        "conv_3_2 = Activation('relu')(conv_3_2) #conv_3_2.shape = (64,64,128)\n",
        "\n",
        "pool_3 = MaxPooling2D(2)(conv_3_2) #pool_3.shape = (32,32,128)\n",
        "pool_3 = Dropout(0.2)(pool_3)\n",
        "pool_3 = BatchNormalization()(pool_3)\n",
        "\n",
        "\n",
        "conv_4_1 = Conv2D(256, (3, 3), padding='same')(pool_3)\n",
        "conv_4_1 = Activation('relu')(conv_4_1)\n",
        "\n",
        "conv_4_2 = Conv2D(256, (3, 3), padding='same')(conv_4_1)\n",
        "conv_4_2 = Activation('relu')(conv_4_2) #conv_4_2.shape = (32,32,256)\n",
        "\n",
        "pool_4 = MaxPooling2D(2)(conv_4_2) #pool_4.shape = (16,16,256)\n",
        "pool_4 = Dropout(0.2)(pool_4)\n",
        "pool_4 = BatchNormalization()(pool_4)\n",
        "\n",
        "\n",
        "\n",
        "flat = Flatten()(pool_4)\n",
        "layer1 = Dense(128, activation='relu')(flat)\n",
        "layer1 = Dropout(0.2)(layer1)\n",
        "layer1 = BatchNormalization()(layer1)\n",
        "\n",
        "layer2 = Dense(256, activation='relu')(layer1)\n",
        "layer2 = Dropout(0.2)(layer2)\n",
        "layer2 = BatchNormalization()(layer2)\n",
        "\n",
        "layer3 = Dense(512, activation='relu')(layer2)\n",
        "layer3 = Dropout(0.2)(layer3)\n",
        "layer3 = BatchNormalization()(layer3)\n",
        "\n",
        "layer4 = Dense(64, activation='relu')(layer3)\n",
        "layer4 = Dropout(0.25)(layer4)\n",
        "layer4 = BatchNormalization()(layer4)\n",
        "\n",
        "layer_out = Dense(3, activation='softmax')(layer4)\n",
        "\n",
        "model = Model(inputs=inp, outputs=layer_out)"
      ],
      "execution_count": 0,
      "outputs": [
        {
          "output_type": "stream",
          "text": [
            "WARNING:tensorflow:From /usr/local/lib/python3.6/dist-packages/keras/backend/tensorflow_backend.py:66: The name tf.get_default_graph is deprecated. Please use tf.compat.v1.get_default_graph instead.\n",
            "\n",
            "WARNING:tensorflow:From /usr/local/lib/python3.6/dist-packages/keras/backend/tensorflow_backend.py:541: The name tf.placeholder is deprecated. Please use tf.compat.v1.placeholder instead.\n",
            "\n",
            "WARNING:tensorflow:From /usr/local/lib/python3.6/dist-packages/keras/backend/tensorflow_backend.py:4432: The name tf.random_uniform is deprecated. Please use tf.random.uniform instead.\n",
            "\n",
            "WARNING:tensorflow:From /usr/local/lib/python3.6/dist-packages/keras/backend/tensorflow_backend.py:4267: The name tf.nn.max_pool is deprecated. Please use tf.nn.max_pool2d instead.\n",
            "\n",
            "WARNING:tensorflow:From /usr/local/lib/python3.6/dist-packages/keras/backend/tensorflow_backend.py:148: The name tf.placeholder_with_default is deprecated. Please use tf.compat.v1.placeholder_with_default instead.\n",
            "\n",
            "WARNING:tensorflow:From /usr/local/lib/python3.6/dist-packages/keras/backend/tensorflow_backend.py:3733: calling dropout (from tensorflow.python.ops.nn_ops) with keep_prob is deprecated and will be removed in a future version.\n",
            "Instructions for updating:\n",
            "Please use `rate` instead of `keep_prob`. Rate should be set to `rate = 1 - keep_prob`.\n",
            "WARNING:tensorflow:From /usr/local/lib/python3.6/dist-packages/keras/backend/tensorflow_backend.py:190: The name tf.get_default_session is deprecated. Please use tf.compat.v1.get_default_session instead.\n",
            "\n",
            "WARNING:tensorflow:From /usr/local/lib/python3.6/dist-packages/keras/backend/tensorflow_backend.py:197: The name tf.ConfigProto is deprecated. Please use tf.compat.v1.ConfigProto instead.\n",
            "\n",
            "WARNING:tensorflow:From /usr/local/lib/python3.6/dist-packages/keras/backend/tensorflow_backend.py:203: The name tf.Session is deprecated. Please use tf.compat.v1.Session instead.\n",
            "\n",
            "WARNING:tensorflow:From /usr/local/lib/python3.6/dist-packages/keras/backend/tensorflow_backend.py:207: The name tf.global_variables is deprecated. Please use tf.compat.v1.global_variables instead.\n",
            "\n",
            "WARNING:tensorflow:From /usr/local/lib/python3.6/dist-packages/keras/backend/tensorflow_backend.py:216: The name tf.is_variable_initialized is deprecated. Please use tf.compat.v1.is_variable_initialized instead.\n",
            "\n",
            "WARNING:tensorflow:From /usr/local/lib/python3.6/dist-packages/keras/backend/tensorflow_backend.py:223: The name tf.variables_initializer is deprecated. Please use tf.compat.v1.variables_initializer instead.\n",
            "\n",
            "WARNING:tensorflow:From /usr/local/lib/python3.6/dist-packages/keras/backend/tensorflow_backend.py:2041: The name tf.nn.fused_batch_norm is deprecated. Please use tf.compat.v1.nn.fused_batch_norm instead.\n",
            "\n"
          ],
          "name": "stdout"
        }
      ]
    },
    {
      "cell_type": "code",
      "metadata": {
        "id": "C1mKBwgOUBC2",
        "colab_type": "code",
        "colab": {}
      },
      "source": [
        "#model.summary()"
      ],
      "execution_count": 0,
      "outputs": []
    },
    {
      "cell_type": "code",
      "metadata": {
        "id": "fllYpZYVnkUt",
        "colab_type": "code",
        "outputId": "753e1f6e-a373-43ef-c4fa-aadedab3a610",
        "colab": {
          "base_uri": "https://localhost:8080/",
          "height": 108
        }
      },
      "source": [
        "model.compile(optimizer='adam',\n",
        "              loss='sparse_categorical_crossentropy',\n",
        "              metrics=['accuracy'])"
      ],
      "execution_count": 0,
      "outputs": [
        {
          "output_type": "stream",
          "text": [
            "WARNING:tensorflow:From /usr/local/lib/python3.6/dist-packages/keras/optimizers.py:793: The name tf.train.Optimizer is deprecated. Please use tf.compat.v1.train.Optimizer instead.\n",
            "\n",
            "WARNING:tensorflow:From /usr/local/lib/python3.6/dist-packages/keras/backend/tensorflow_backend.py:3622: The name tf.log is deprecated. Please use tf.math.log instead.\n",
            "\n"
          ],
          "name": "stdout"
        }
      ]
    },
    {
      "cell_type": "markdown",
      "metadata": {
        "id": "tlVmiW6kvtL7",
        "colab_type": "text"
      },
      "source": [
        "**Обучение через генератор, т.е. с батчами**"
      ]
    },
    {
      "cell_type": "code",
      "metadata": {
        "id": "BA783o_s_W7V",
        "colab_type": "code",
        "outputId": "0263a384-f6fb-452c-dd3b-b4de805de82c",
        "colab": {
          "base_uri": "https://localhost:8080/",
          "height": 1000
        }
      },
      "source": [
        "batch_size = 64\n",
        "model.fit_generator(keras_generator(train, batch_size),\n",
        "              steps_per_epoch=100,#каждую эпоху - 100 батчей\n",
        "              epochs=30,\n",
        "              verbose=1,#будем выводить результат\n",
        "              shuffle=True)"
      ],
      "execution_count": 0,
      "outputs": [
        {
          "output_type": "stream",
          "text": [
            "Epoch 1/30\n",
            "100/100 [==============================] - 28s 279ms/step - loss: 1.0916 - acc: 0.5253\n",
            "Epoch 2/30\n",
            "100/100 [==============================] - 24s 240ms/step - loss: 0.7109 - acc: 0.6655\n",
            "Epoch 3/30\n",
            "100/100 [==============================] - 24s 240ms/step - loss: 0.5159 - acc: 0.7633\n",
            "Epoch 4/30\n",
            "100/100 [==============================] - 24s 238ms/step - loss: 0.3729 - acc: 0.8459\n",
            "Epoch 5/30\n",
            "100/100 [==============================] - 24s 243ms/step - loss: 0.2751 - acc: 0.8959\n",
            "Epoch 6/30\n",
            "100/100 [==============================] - 25s 249ms/step - loss: 0.2150 - acc: 0.9163\n",
            "Epoch 7/30\n",
            "100/100 [==============================] - 25s 250ms/step - loss: 0.1349 - acc: 0.9498\n",
            "Epoch 8/30\n",
            "100/100 [==============================] - 25s 247ms/step - loss: 0.1332 - acc: 0.9516\n",
            "Epoch 9/30\n",
            "100/100 [==============================] - 25s 249ms/step - loss: 0.0854 - acc: 0.9711\n",
            "Epoch 10/30\n",
            "100/100 [==============================] - 25s 245ms/step - loss: 0.0870 - acc: 0.9673\n",
            "Epoch 11/30\n",
            "100/100 [==============================] - 24s 238ms/step - loss: 0.0752 - acc: 0.9734\n",
            "Epoch 12/30\n",
            "100/100 [==============================] - 24s 236ms/step - loss: 0.0635 - acc: 0.9738\n",
            "Epoch 13/30\n",
            "100/100 [==============================] - 24s 237ms/step - loss: 0.0551 - acc: 0.9792\n",
            "Epoch 14/30\n",
            "100/100 [==============================] - 23s 235ms/step - loss: 0.0664 - acc: 0.9738\n",
            "Epoch 15/30\n",
            "100/100 [==============================] - 24s 238ms/step - loss: 0.0422 - acc: 0.9825\n",
            "Epoch 16/30\n",
            "100/100 [==============================] - 24s 239ms/step - loss: 0.0518 - acc: 0.9767\n",
            "Epoch 17/30\n",
            "100/100 [==============================] - 24s 240ms/step - loss: 0.0609 - acc: 0.9762\n",
            "Epoch 18/30\n",
            "100/100 [==============================] - 24s 243ms/step - loss: 0.0502 - acc: 0.9788\n",
            "Epoch 19/30\n",
            "100/100 [==============================] - 24s 241ms/step - loss: 0.0294 - acc: 0.9848\n",
            "Epoch 20/30\n",
            "100/100 [==============================] - 24s 240ms/step - loss: 0.0464 - acc: 0.9794\n",
            "Epoch 21/30\n",
            "100/100 [==============================] - 24s 240ms/step - loss: 0.0625 - acc: 0.9744\n",
            "Epoch 22/30\n",
            "100/100 [==============================] - 24s 238ms/step - loss: 0.0519 - acc: 0.9758\n",
            "Epoch 23/30\n",
            "100/100 [==============================] - 25s 251ms/step - loss: 0.0341 - acc: 0.9819\n",
            "Epoch 24/30\n",
            "100/100 [==============================] - 25s 250ms/step - loss: 0.0355 - acc: 0.9836\n",
            "Epoch 25/30\n",
            "100/100 [==============================] - 25s 247ms/step - loss: 0.0430 - acc: 0.9795\n",
            "Epoch 26/30\n",
            "100/100 [==============================] - 25s 245ms/step - loss: 0.0468 - acc: 0.9788\n",
            "Epoch 27/30\n",
            "100/100 [==============================] - 25s 251ms/step - loss: 0.0441 - acc: 0.9819\n",
            "Epoch 28/30\n",
            "100/100 [==============================] - 25s 248ms/step - loss: 0.0367 - acc: 0.9817\n",
            "Epoch 29/30\n",
            "100/100 [==============================] - 24s 239ms/step - loss: 0.0249 - acc: 0.9875\n",
            "Epoch 30/30\n",
            "100/100 [==============================] - 24s 238ms/step - loss: 0.0354 - acc: 0.9814\n"
          ],
          "name": "stdout"
        },
        {
          "output_type": "execute_result",
          "data": {
            "text/plain": [
              "<keras.callbacks.History at 0x7f8770764550>"
            ]
          },
          "metadata": {
            "tags": []
          },
          "execution_count": 36
        }
      ]
    },
    {
      "cell_type": "code",
      "metadata": {
        "id": "Ur2KIMkkey8h",
        "colab_type": "code",
        "colab": {}
      },
      "source": [
        ""
      ],
      "execution_count": 0,
      "outputs": []
    },
    {
      "cell_type": "code",
      "metadata": {
        "id": "n3FtrIUQws-i",
        "colab_type": "code",
        "colab": {}
      },
      "source": [
        "for x_train,y_train in keras_generator(train,train.shape[0]):\n",
        "    break"
      ],
      "execution_count": 0,
      "outputs": []
    },
    {
      "cell_type": "code",
      "metadata": {
        "id": "SJ76crcIADOh",
        "colab_type": "code",
        "outputId": "f7e5d2c5-b631-40a4-d31f-09db91e1cfbd",
        "colab": {
          "base_uri": "https://localhost:8080/",
          "height": 106
        }
      },
      "source": [
        "train_loss, train_acc = model.evaluate(x_train, y_train)\n",
        "\n",
        "print('\\nТочность на обучающих данных:', train_acc)\n",
        "print('\\nОшибка на обучающих данных:', train_loss)"
      ],
      "execution_count": 17,
      "outputs": [
        {
          "output_type": "stream",
          "text": [
            "1000/1000 [==============================] - 8s 8ms/sample - loss: 0.0340 - acc: 0.9840\n",
            "\n",
            "Точность на обучающих данных: 0.984\n",
            "\n",
            "Ошибка на обучающих данных: 0.03402905289037153\n"
          ],
          "name": "stdout"
        }
      ]
    },
    {
      "cell_type": "code",
      "metadata": {
        "id": "ibGWZlnxoYgc",
        "colab_type": "code",
        "outputId": "87456f47-e3f0-45c0-ab23-10e04181b7b3",
        "colab": {
          "base_uri": "https://localhost:8080/",
          "height": 106
        }
      },
      "source": [
        "test_loss, test_acc = model.evaluate(x_test, y_test)\n",
        "\n",
        "print('\\nТочность на проверочных данных:', test_acc)\n",
        "print('\\nОшибка на проверочных данных:', test_loss)"
      ],
      "execution_count": 18,
      "outputs": [
        {
          "output_type": "stream",
          "text": [
            "182/182 [==============================] - 0s 3ms/sample - loss: 1.0072 - acc: 0.7747\n",
            "\n",
            "Точность на проверочных данных: 0.77472526\n",
            "\n",
            "Ошибка на проверочных данных: 1.0072324185908497\n"
          ],
          "name": "stdout"
        }
      ]
    },
    {
      "cell_type": "code",
      "metadata": {
        "id": "E4YL9SadtjIT",
        "colab_type": "code",
        "colab": {}
      },
      "source": [
        ""
      ],
      "execution_count": 0,
      "outputs": []
    },
    {
      "cell_type": "code",
      "metadata": {
        "id": "hltUMr63tjDH",
        "colab_type": "code",
        "colab": {
          "base_uri": "https://localhost:8080/",
          "height": 90
        },
        "outputId": "f5be2223-b57c-4948-cd2c-543ec4981efa"
      },
      "source": [
        "#model.save('neural_network_slant.h5') #сохранение нейросети в файл\n",
        "\n",
        "from tensorflow.keras.models import load_model\n",
        "model = load_model('!!!77!!! neural_network_slant.h5') #загрузка нейросети из файла\n",
        "\n",
        "#pred = model.predict(x_test) #предсказание"
      ],
      "execution_count": 16,
      "outputs": [
        {
          "output_type": "stream",
          "text": [
            "WARNING:tensorflow:From /usr/local/lib/python3.6/dist-packages/tensorflow_core/python/ops/resource_variable_ops.py:1630: calling BaseResourceVariable.__init__ (from tensorflow.python.ops.resource_variable_ops) with constraint is deprecated and will be removed in a future version.\n",
            "Instructions for updating:\n",
            "If using Keras pass *_constraint arguments to layers.\n"
          ],
          "name": "stdout"
        }
      ]
    },
    {
      "cell_type": "code",
      "metadata": {
        "id": "voihD00Oti9S",
        "colab_type": "code",
        "colab": {}
      },
      "source": [
        ""
      ],
      "execution_count": 0,
      "outputs": []
    },
    {
      "cell_type": "code",
      "metadata": {
        "id": "NUKgtFrqnlDG",
        "colab_type": "code",
        "colab": {}
      },
      "source": [
        "pred = model.predict(x_test)"
      ],
      "execution_count": 0,
      "outputs": []
    },
    {
      "cell_type": "code",
      "metadata": {
        "id": "2qkiZMTZAiz7",
        "colab_type": "code",
        "outputId": "f5abcf14-95c9-4181-e4a1-d1785015b62c",
        "colab": {
          "base_uri": "https://localhost:8080/",
          "height": 35
        }
      },
      "source": [
        "pred.shape"
      ],
      "execution_count": 20,
      "outputs": [
        {
          "output_type": "execute_result",
          "data": {
            "text/plain": [
              "(182, 3)"
            ]
          },
          "metadata": {
            "tags": []
          },
          "execution_count": 20
        }
      ]
    },
    {
      "cell_type": "code",
      "metadata": {
        "id": "Ra6yiEQBAe_i",
        "colab_type": "code",
        "outputId": "487d984c-8e50-4bc9-bdad-7eed7775dbef",
        "colab": {
          "base_uri": "https://localhost:8080/",
          "height": 35
        }
      },
      "source": [
        "np.argmax(pred[15]),y_test[15]"
      ],
      "execution_count": 21,
      "outputs": [
        {
          "output_type": "execute_result",
          "data": {
            "text/plain": [
              "(1, 1)"
            ]
          },
          "metadata": {
            "tags": []
          },
          "execution_count": 21
        }
      ]
    },
    {
      "cell_type": "code",
      "metadata": {
        "id": "4ajhUlfYnlLO",
        "colab_type": "code",
        "outputId": "20d1a7f5-8aba-4f93-ef62-6e7562d50448",
        "colab": {
          "base_uri": "https://localhost:8080/",
          "height": 258
        }
      },
      "source": [
        "plt.figure()\n",
        "plt.imshow(x_test[15])\n",
        "plt.colorbar()\n",
        "plt.grid(False)\n",
        "plt.show()"
      ],
      "execution_count": 22,
      "outputs": [
        {
          "output_type": "display_data",
          "data": {
            "image/png": "[encoded data removed]",
            "text/plain": [
              "<Figure size 432x288 with 2 Axes>"
            ]
          },
          "metadata": {
            "tags": []
          }
        }
      ]
    },
    {
      "cell_type": "code",
      "metadata": {
        "id": "8RMwn1xL5i9t",
        "colab_type": "code",
        "outputId": "791c6bbe-a129-471a-bd46-3683f3eb2bcf",
        "colab": {
          "base_uri": "https://localhost:8080/",
          "height": 543
        }
      },
      "source": [
        "plt.figure(figsize=(10,10))\n",
        "for i in range(25):\n",
        "    plt.subplot(5,5,i+1)\n",
        "    plt.xticks([])\n",
        "    plt.yticks([])\n",
        "    plt.grid(False)\n",
        "    plt.imshow(x_test[i+25], cmap=plt.cm.binary)\n",
        "    plt.xlabel((y_test[i+25],np.argmax(pred[i+25])))\n",
        "plt.show()"
      ],
      "execution_count": 24,
      "outputs": [
        {
          "output_type": "display_data",
          "data": {
            "image/png": "[encoded data removed]",
            "text/plain": [
              "<Figure size 720x720 with 25 Axes>"
            ]
          },
          "metadata": {
            "tags": []
          }
        }
      ]
    },
    {
      "cell_type": "code",
      "metadata": {
        "id": "tdmjIGRt5jCN",
        "colab_type": "code",
        "colab": {}
      },
      "source": [
        ""
      ],
      "execution_count": 0,
      "outputs": []
    },
    {
      "cell_type": "code",
      "metadata": {
        "id": "k2y7AITSnlOk",
        "colab_type": "code",
        "outputId": "fd7b9379-c8ad-45c3-9acf-7822d256a623",
        "colab": {
          "base_uri": "https://localhost:8080/",
          "height": 220
        }
      },
      "source": [
        "way='106.jpg'\n",
        "#img = Image.open(way)\n",
        "img = cv2.imread(way)\n",
        "plt.imshow(img)\n",
        "img = cv2.resize(img, (hei, wei)) / 255."
      ],
      "execution_count": 32,
      "outputs": [
        {
          "output_type": "display_data",
          "data": {
            "image/png": "[encoded data removed]",
            "text/plain": [
              "<Figure size 432x288 with 1 Axes>"
            ]
          },
          "metadata": {
            "tags": []
          }
        }
      ]
    },
    {
      "cell_type": "code",
      "metadata": {
        "id": "ugINen2bvV0s",
        "colab_type": "code",
        "colab": {}
      },
      "source": [
        "'''def binarize_array(numpy_array):\n",
        "    \"\"\"Binarize a numpy array.\"\"\"\n",
        "    for i in range(len(numpy_array)):\n",
        "        for j in range(len(numpy_array[0])):\n",
        "            if (numpy_array[i][j][0] > 150 and numpy_array[i][j][1] > 150 and numpy_array[i][j][2] > 150\n",
        "                or numpy_array[i][j][0] > 180 or numpy_array[i][j][1] > 180 or numpy_array[i][j][2] > 180):\n",
        "                numpy_array[i][j] = 255\n",
        "            else:\n",
        "                numpy_array[i][j] = 0\n",
        "    return numpy_array\n",
        "img = binarize_array(img)\n",
        "img = cv2.resize(img, (hei, wei))\n",
        "plt.imshow(img)'''"
      ],
      "execution_count": 0,
      "outputs": []
    },
    {
      "cell_type": "code",
      "metadata": {
        "id": "OlKzeKeB4a2q",
        "colab_type": "code",
        "colab": {}
      },
      "source": [
        "pred_img = model.predict(img.reshape(1,wei,hei,3))"
      ],
      "execution_count": 0,
      "outputs": []
    },
    {
      "cell_type": "code",
      "metadata": {
        "id": "M6T35ylI4a5_",
        "colab_type": "code",
        "outputId": "374f5262-6efa-4230-ef97-0674d6570bc4",
        "colab": {
          "base_uri": "https://localhost:8080/",
          "height": 35
        }
      },
      "source": [
        "print('Pred_img: ',np.argmax(pred_img))"
      ],
      "execution_count": 34,
      "outputs": [
        {
          "output_type": "stream",
          "text": [
            "Pred_img:  2\n"
          ],
          "name": "stdout"
        }
      ]
    },
    {
      "cell_type": "code",
      "metadata": {
        "id": "NRgDQ1lI5a4U",
        "colab_type": "code",
        "colab": {}
      },
      "source": [
        ""
      ],
      "execution_count": 0,
      "outputs": []
    }
  ]
}